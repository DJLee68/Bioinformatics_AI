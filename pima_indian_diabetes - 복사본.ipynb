{
 "cells": [
  {
   "cell_type": "code",
   "execution_count": 1,
   "metadata": {
    "colab": {},
    "colab_type": "code",
    "id": "mL7zvImn9Fbf"
   },
   "outputs": [],
   "source": [
    "import numpy as np\n",
    "import pandas as pd\n",
    "from sklearn.preprocessing import MinMaxScaler\n",
    "from sklearn.preprocessing import StandardScaler"
   ]
  },
  {
   "cell_type": "code",
   "execution_count": 2,
   "metadata": {
    "colab": {
     "base_uri": "https://localhost:8080/",
     "height": 34
    },
    "colab_type": "code",
    "executionInfo": {
     "elapsed": 877,
     "status": "ok",
     "timestamp": 1562058530713,
     "user": {
      "displayName": "이동재",
      "photoUrl": "",
      "userId": "12052501428717228434"
     },
     "user_tz": -540
    },
    "id": "xqpvhmwe3Y5G",
    "outputId": "d82b6fab-132a-484f-e274-7f805be83209"
   },
   "outputs": [],
   "source": [
    "df_train = pd.read_excel('pima-indians-diabetes.train.xlsx')\n",
    "df_test = pd.read_excel(\"pima-indians-diabetes.test.xlsx\")"
   ]
  },
  {
   "cell_type": "code",
   "execution_count": 3,
   "metadata": {},
   "outputs": [],
   "source": [
    "train = df_train\n",
    "test = df_test"
   ]
  },
  {
   "cell_type": "code",
   "execution_count": 4,
   "metadata": {},
   "outputs": [
    {
     "data": {
      "text/plain": [
       "(461, 9)"
      ]
     },
     "execution_count": 4,
     "metadata": {},
     "output_type": "execute_result"
    }
   ],
   "source": [
    "train.shape"
   ]
  },
  {
   "cell_type": "code",
   "execution_count": 5,
   "metadata": {
    "colab": {
     "base_uri": "https://localhost:8080/",
     "height": 34
    },
    "colab_type": "code",
    "executionInfo": {
     "elapsed": 516,
     "status": "ok",
     "timestamp": 1562058530714,
     "user": {
      "displayName": "이동재",
      "photoUrl": "",
      "userId": "12052501428717228434"
     },
     "user_tz": -540
    },
    "id": "t8pTzpUVcq9z",
    "outputId": "f6d4f95b-36f9-4a7f-eddf-ef67301f6e4c"
   },
   "outputs": [
    {
     "data": {
      "text/plain": [
       "(307, 9)"
      ]
     },
     "execution_count": 5,
     "metadata": {},
     "output_type": "execute_result"
    }
   ],
   "source": [
    "test.shape"
   ]
  },
  {
   "cell_type": "code",
   "execution_count": 6,
   "metadata": {},
   "outputs": [
    {
     "data": {
      "text/html": [
       "<div>\n",
       "<style scoped>\n",
       "    .dataframe tbody tr th:only-of-type {\n",
       "        vertical-align: middle;\n",
       "    }\n",
       "\n",
       "    .dataframe tbody tr th {\n",
       "        vertical-align: top;\n",
       "    }\n",
       "\n",
       "    .dataframe thead th {\n",
       "        text-align: right;\n",
       "    }\n",
       "</style>\n",
       "<table border=\"1\" class=\"dataframe\">\n",
       "  <thead>\n",
       "    <tr style=\"text-align: right;\">\n",
       "      <th></th>\n",
       "      <th>Number of times pregnant</th>\n",
       "      <th>Plasma glucose concentration a 2 hours in an oral glucose tolerance test</th>\n",
       "      <th>Diastolic blood pressure (mm Hg)</th>\n",
       "      <th>Triceps skin fold thickness (mm)</th>\n",
       "      <th>2-Hour serum insulin (mu U/ml)</th>\n",
       "      <th>Body mass index (weight in kg/(height in m)^2)</th>\n",
       "      <th>Diabetes pedigree function</th>\n",
       "      <th>Age (years)</th>\n",
       "      <th>Class variable (0 or 1)</th>\n",
       "    </tr>\n",
       "  </thead>\n",
       "  <tbody>\n",
       "    <tr>\n",
       "      <th>count</th>\n",
       "      <td>461.000000</td>\n",
       "      <td>461.000000</td>\n",
       "      <td>461.000000</td>\n",
       "      <td>461.000000</td>\n",
       "      <td>461.000000</td>\n",
       "      <td>461.000000</td>\n",
       "      <td>461.000000</td>\n",
       "      <td>461.000000</td>\n",
       "      <td>461.000000</td>\n",
       "    </tr>\n",
       "    <tr>\n",
       "      <th>mean</th>\n",
       "      <td>3.934924</td>\n",
       "      <td>120.609544</td>\n",
       "      <td>68.546638</td>\n",
       "      <td>21.104121</td>\n",
       "      <td>82.295011</td>\n",
       "      <td>32.077007</td>\n",
       "      <td>0.513354</td>\n",
       "      <td>33.607375</td>\n",
       "      <td>0.370933</td>\n",
       "    </tr>\n",
       "    <tr>\n",
       "      <th>std</th>\n",
       "      <td>3.416726</td>\n",
       "      <td>31.906580</td>\n",
       "      <td>19.953002</td>\n",
       "      <td>15.739110</td>\n",
       "      <td>117.498047</td>\n",
       "      <td>7.959907</td>\n",
       "      <td>0.364873</td>\n",
       "      <td>11.355322</td>\n",
       "      <td>0.483579</td>\n",
       "    </tr>\n",
       "    <tr>\n",
       "      <th>min</th>\n",
       "      <td>0.000000</td>\n",
       "      <td>0.000000</td>\n",
       "      <td>0.000000</td>\n",
       "      <td>0.000000</td>\n",
       "      <td>0.000000</td>\n",
       "      <td>0.000000</td>\n",
       "      <td>0.078000</td>\n",
       "      <td>21.000000</td>\n",
       "      <td>0.000000</td>\n",
       "    </tr>\n",
       "    <tr>\n",
       "      <th>25%</th>\n",
       "      <td>1.000000</td>\n",
       "      <td>97.000000</td>\n",
       "      <td>62.000000</td>\n",
       "      <td>0.000000</td>\n",
       "      <td>0.000000</td>\n",
       "      <td>27.300000</td>\n",
       "      <td>0.258000</td>\n",
       "      <td>24.000000</td>\n",
       "      <td>0.000000</td>\n",
       "    </tr>\n",
       "    <tr>\n",
       "      <th>50%</th>\n",
       "      <td>3.000000</td>\n",
       "      <td>117.000000</td>\n",
       "      <td>72.000000</td>\n",
       "      <td>23.000000</td>\n",
       "      <td>37.000000</td>\n",
       "      <td>32.000000</td>\n",
       "      <td>0.407000</td>\n",
       "      <td>31.000000</td>\n",
       "      <td>0.000000</td>\n",
       "    </tr>\n",
       "    <tr>\n",
       "      <th>75%</th>\n",
       "      <td>6.000000</td>\n",
       "      <td>142.000000</td>\n",
       "      <td>80.000000</td>\n",
       "      <td>33.000000</td>\n",
       "      <td>130.000000</td>\n",
       "      <td>36.800000</td>\n",
       "      <td>0.674000</td>\n",
       "      <td>41.000000</td>\n",
       "      <td>1.000000</td>\n",
       "    </tr>\n",
       "    <tr>\n",
       "      <th>max</th>\n",
       "      <td>17.000000</td>\n",
       "      <td>197.000000</td>\n",
       "      <td>110.000000</td>\n",
       "      <td>63.000000</td>\n",
       "      <td>744.000000</td>\n",
       "      <td>67.100000</td>\n",
       "      <td>2.420000</td>\n",
       "      <td>69.000000</td>\n",
       "      <td>1.000000</td>\n",
       "    </tr>\n",
       "  </tbody>\n",
       "</table>\n",
       "</div>"
      ],
      "text/plain": [
       "       Number of times pregnant  \\\n",
       "count                461.000000   \n",
       "mean                   3.934924   \n",
       "std                    3.416726   \n",
       "min                    0.000000   \n",
       "25%                    1.000000   \n",
       "50%                    3.000000   \n",
       "75%                    6.000000   \n",
       "max                   17.000000   \n",
       "\n",
       "       Plasma glucose concentration a 2 hours in an oral glucose tolerance test  \\\n",
       "count                                         461.000000                          \n",
       "mean                                          120.609544                          \n",
       "std                                            31.906580                          \n",
       "min                                             0.000000                          \n",
       "25%                                            97.000000                          \n",
       "50%                                           117.000000                          \n",
       "75%                                           142.000000                          \n",
       "max                                           197.000000                          \n",
       "\n",
       "       Diastolic blood pressure (mm Hg)  Triceps skin fold thickness (mm)  \\\n",
       "count                        461.000000                        461.000000   \n",
       "mean                          68.546638                         21.104121   \n",
       "std                           19.953002                         15.739110   \n",
       "min                            0.000000                          0.000000   \n",
       "25%                           62.000000                          0.000000   \n",
       "50%                           72.000000                         23.000000   \n",
       "75%                           80.000000                         33.000000   \n",
       "max                          110.000000                         63.000000   \n",
       "\n",
       "       2-Hour serum insulin (mu U/ml)  \\\n",
       "count                      461.000000   \n",
       "mean                        82.295011   \n",
       "std                        117.498047   \n",
       "min                          0.000000   \n",
       "25%                          0.000000   \n",
       "50%                         37.000000   \n",
       "75%                        130.000000   \n",
       "max                        744.000000   \n",
       "\n",
       "       Body mass index (weight in kg/(height in m)^2)  \\\n",
       "count                                      461.000000   \n",
       "mean                                        32.077007   \n",
       "std                                          7.959907   \n",
       "min                                          0.000000   \n",
       "25%                                         27.300000   \n",
       "50%                                         32.000000   \n",
       "75%                                         36.800000   \n",
       "max                                         67.100000   \n",
       "\n",
       "       Diabetes pedigree function  Age (years)  Class variable (0 or 1)  \n",
       "count                  461.000000   461.000000               461.000000  \n",
       "mean                     0.513354    33.607375                 0.370933  \n",
       "std                      0.364873    11.355322                 0.483579  \n",
       "min                      0.078000    21.000000                 0.000000  \n",
       "25%                      0.258000    24.000000                 0.000000  \n",
       "50%                      0.407000    31.000000                 0.000000  \n",
       "75%                      0.674000    41.000000                 1.000000  \n",
       "max                      2.420000    69.000000                 1.000000  "
      ]
     },
     "execution_count": 6,
     "metadata": {},
     "output_type": "execute_result"
    }
   ],
   "source": [
    "train.describe()"
   ]
  },
  {
   "cell_type": "code",
   "execution_count": 7,
   "metadata": {},
   "outputs": [],
   "source": [
    "import seaborn\n",
    "import matplotlib.pyplot as plt\n",
    "\n",
    "def plot_df(df, name):\n",
    "  corr = df[df.columns].corr()\n",
    "  mask = np.zeros_like(corr, dtype=np.bool)\n",
    "  mask[np.triu_indices_from(mask)] = True\n",
    "  plt.figure(figsize=(20, 15))\n",
    "  seaborn.set(font_scale=1.2)\n",
    "  seaborn.heatmap(corr, mask=mask, center=0, annot=True,\n",
    "    square=True, linewidths=3, alpha=0.7)\n",
    "  plt.title(name)"
   ]
  },
  {
   "cell_type": "code",
   "execution_count": 8,
   "metadata": {},
   "outputs": [
    {
     "data": {
      "image/png": "[encoded data removed]",
      "text/plain": [
       "<Figure size 1440x1080 with 2 Axes>"
      ]
     },
     "metadata": {
      "needs_background": "light"
     },
     "output_type": "display_data"
    }
   ],
   "source": [
    "plot_df(train, 'Train')"
   ]
  },
  {
   "cell_type": "code",
   "execution_count": 9,
   "metadata": {
    "colab": {
     "base_uri": "https://localhost:8080/",
     "height": 140
    },
    "colab_type": "code",
    "executionInfo": {
     "elapsed": 569,
     "status": "ok",
     "timestamp": 1562058531066,
     "user": {
      "displayName": "이동재",
      "photoUrl": "",
      "userId": "12052501428717228434"
     },
     "user_tz": -540
    },
    "id": "NSjRKJko-Dcv",
    "outputId": "0e325a9e-d3d5-47a6-9df5-82990cb06120"
   },
   "outputs": [
    {
     "name": "stdout",
     "output_type": "stream",
     "text": [
      "Index(['Number of times pregnant',\n",
      "       'Plasma glucose concentration a 2 hours in an oral glucose tolerance test',\n",
      "       'Diastolic blood pressure (mm Hg)', 'Triceps skin fold thickness (mm)',\n",
      "       '2-Hour serum insulin (mu U/ml)',\n",
      "       'Body mass index (weight in kg/(height in m)^2)',\n",
      "       'Diabetes pedigree function', 'Age (years)', 'Class variable (0 or 1)'],\n",
      "      dtype='object')\n"
     ]
    }
   ],
   "source": [
    "print(train.columns)"
   ]
  },
  {
   "cell_type": "code",
   "execution_count": 10,
   "metadata": {
    "colab": {
     "base_uri": "https://localhost:8080/",
     "height": 34
    },
    "colab_type": "code",
    "executionInfo": {
     "elapsed": 5744,
     "status": "ok",
     "timestamp": 1562058536952,
     "user": {
      "displayName": "이동재",
      "photoUrl": "",
      "userId": "12052501428717228434"
     },
     "user_tz": -540
    },
    "id": "7VLAjJXm-xpB",
    "outputId": "ec729c6a-a9cb-42d4-f774-0e1567be953f"
   },
   "outputs": [
    {
     "name": "stdout",
     "output_type": "stream",
     "text": [
      "Chooese the class: Class variable (0 or 1)\n"
     ]
    }
   ],
   "source": [
    "class_name = input(\"Chooese the class: \")"
   ]
  },
  {
   "cell_type": "code",
   "execution_count": 11,
   "metadata": {
    "colab": {},
    "colab_type": "code",
    "id": "DgUHg4ED3uWO"
   },
   "outputs": [],
   "source": [
    "minmax_scaler = MinMaxScaler()\n",
    "standard_scaler = StandardScaler()"
   ]
  },
  {
   "cell_type": "code",
   "execution_count": 12,
   "metadata": {
    "colab": {
     "base_uri": "https://localhost:8080/",
     "height": 34
    },
    "colab_type": "code",
    "executionInfo": {
     "elapsed": 1164,
     "status": "ok",
     "timestamp": 1562058540201,
     "user": {
      "displayName": "이동재",
      "photoUrl": "",
      "userId": "12052501428717228434"
     },
     "user_tz": -540
    },
    "id": "6x0W2mAC-wgw",
    "outputId": "a933e1c2-64cc-449e-cc01-a66b8b1b4a92"
   },
   "outputs": [
    {
     "name": "stdout",
     "output_type": "stream",
     "text": [
      "2\n"
     ]
    }
   ],
   "source": [
    "tr_ans = train[class_name]\n",
    "ts_ans = test[class_name]\n",
    "class_count = len(tr_ans.unique())\n",
    "print(class_count)"
   ]
  },
  {
   "cell_type": "code",
   "execution_count": 13,
   "metadata": {
    "colab": {},
    "colab_type": "code",
    "id": "WnKjCuCfAguo"
   },
   "outputs": [],
   "source": [
    "tr_data = train.drop([class_name], axis=1)\n",
    "ts_data = test.drop([class_name], axis=1)"
   ]
  },
  {
   "cell_type": "code",
   "execution_count": 14,
   "metadata": {
    "colab": {
     "base_uri": "https://localhost:8080/",
     "height": 72
    },
    "colab_type": "code",
    "executionInfo": {
     "elapsed": 723,
     "status": "ok",
     "timestamp": 1562058547225,
     "user": {
      "displayName": "이동재",
      "photoUrl": "",
      "userId": "12052501428717228434"
     },
     "user_tz": -540
    },
    "id": "lmjXkka1Lucy",
    "outputId": "7edc3aec-a0fa-4a33-d09b-1931e2d1fb27"
   },
   "outputs": [],
   "source": [
    "#결측치 채우기 if 결측치가 0일 경우\n",
    "\n",
    "from sklearn.impute import SimpleImputer\n",
    "\n",
    "rep_0 = SimpleImputer(missing_values=0, strategy=\"mean\")\n",
    "\n",
    "tr_data = rep_0.fit_transform(tr_data)\n",
    "ts_data = rep_0.fit_transform(ts_data)"
   ]
  },
  {
   "cell_type": "code",
   "execution_count": 15,
   "metadata": {},
   "outputs": [
    {
     "name": "stdout",
     "output_type": "stream",
     "text": [
      "Choose the Scaler: standard\n"
     ]
    }
   ],
   "source": [
    "scaler_name = input(\"Choose the Scaler: \")"
   ]
  },
  {
   "cell_type": "code",
   "execution_count": 16,
   "metadata": {
    "colab": {},
    "colab_type": "code",
    "id": "Z_Yw0W7eAmgw"
   },
   "outputs": [],
   "source": [
    "if scaler_name == 'minmax':\n",
    "    scaler = minmax_scaler\n",
    "elif scaler_name == 'standard':\n",
    "    scaler = standard_scaler\n",
    "\n",
    "tr_data = scaler.fit_transform(tr_data)\n",
    "ts_data = scaler.transform(ts_data)\n",
    "tr_ans = np.array(tr_ans)\n",
    "ts_ans = np.array(ts_ans)"
   ]
  },
  {
   "cell_type": "code",
   "execution_count": 17,
   "metadata": {
    "colab": {
     "base_uri": "https://localhost:8080/",
     "height": 386
    },
    "colab_type": "code",
    "executionInfo": {
     "elapsed": 712,
     "status": "ok",
     "timestamp": 1562058552746,
     "user": {
      "displayName": "이동재",
      "photoUrl": "",
      "userId": "12052501428717228434"
     },
     "user_tz": -540
    },
    "id": "Rz4XG4MMOHGu",
    "outputId": "70f5c169-28bc-4010-ae83-14209e83d278"
   },
   "outputs": [
    {
     "data": {
      "text/plain": [
       "array([1, 0, 1, 1, 1, 1, 1, 0, 1, 0, 1, 0, 0, 0, 1, 1, 1, 0, 0, 0, 0, 1,\n",
       "       0, 0, 0, 1, 1, 0, 0, 1, 0, 1, 0, 0, 0, 0, 1, 0, 0, 1, 0, 0, 0, 1,\n",
       "       0, 0, 0, 0, 1, 0, 0, 0, 0, 0, 0, 0, 0, 0, 0, 0, 1, 1, 0, 0, 1, 0,\n",
       "       0, 0, 0, 0, 1, 1, 0, 0, 1, 1, 1, 1, 1, 0, 0, 0, 0, 0, 1, 0, 0, 0,\n",
       "       1, 1, 0, 0, 1, 0, 0, 1, 1, 1, 0, 0, 0, 1, 0, 1, 0, 0, 1, 1, 1, 0,\n",
       "       1, 1, 0, 0, 0, 0, 0, 0, 1, 0, 0, 1, 1, 1, 0, 1, 1, 1, 0, 0, 0, 1,\n",
       "       0, 1, 1, 0, 0, 1, 1, 1, 0, 0, 1, 1, 1, 0, 0, 0, 0, 0, 1, 0, 1, 1,\n",
       "       0, 1, 1, 0, 0, 1, 1, 0, 0, 0, 0, 0, 0, 1, 0, 0, 0, 0, 1, 0, 0, 1,\n",
       "       0, 0, 1, 1, 0, 0, 1, 0, 1, 0, 1, 1, 1, 0, 0, 0, 0, 0, 1, 0, 0, 1,\n",
       "       1, 0, 0, 0, 0, 0, 0, 1, 0, 0, 0, 1, 0, 1, 0, 1, 1, 0, 1, 1, 0, 0,\n",
       "       1, 0, 0, 0, 0, 1, 1, 0, 0, 0, 0, 1, 0, 1, 1, 0, 0, 1, 0, 1, 0, 0,\n",
       "       0, 1, 1, 0, 0, 1, 0, 0, 0, 1, 0, 1, 0, 0, 0, 0, 0, 0, 0, 1, 1, 1,\n",
       "       1, 0, 0, 1, 1, 1, 0, 1, 0, 0, 0, 0, 0, 0, 1, 0, 0, 0, 1, 0, 0, 1,\n",
       "       1, 0, 0, 0, 0, 1, 0, 0, 1, 0, 0, 0, 0, 0, 0, 0, 1, 0, 0, 0, 1, 0,\n",
       "       0, 0, 0, 0, 0, 0, 0, 0, 0, 1, 1, 1, 1, 1, 1, 0, 0, 0, 0, 0, 0, 0,\n",
       "       0, 0, 1, 0, 0, 0, 0, 0, 1, 0, 0, 0, 0, 1, 0, 1, 0, 0, 1, 0, 1, 0,\n",
       "       1, 0, 1, 1, 0, 0, 1, 0, 0, 0, 0, 0, 1, 1, 0, 0, 1, 0, 0, 1, 1, 0,\n",
       "       0, 0, 0, 0, 0, 0, 1, 0, 0, 1, 0, 0, 0, 0, 1, 1, 1, 0, 0, 0, 0, 0,\n",
       "       1, 0, 1, 1, 0, 0, 0, 0, 0, 1, 0, 0, 0, 0, 0, 1, 1, 1, 1, 0, 1, 0,\n",
       "       1, 0, 1, 0, 0, 1, 0, 1, 1, 0, 0, 0, 1, 0, 0, 0, 0, 0, 1, 1, 1, 0,\n",
       "       0, 0, 0, 0, 1, 1, 1, 1, 0, 1, 1, 1, 1, 0, 1, 0, 0, 1, 0, 0, 1],\n",
       "      dtype=int64)"
      ]
     },
     "execution_count": 17,
     "metadata": {},
     "output_type": "execute_result"
    }
   ],
   "source": [
    "tr_ans"
   ]
  },
  {
   "cell_type": "code",
   "execution_count": 18,
   "metadata": {
    "colab": {},
    "colab_type": "code",
    "id": "F0_cae6XOksE"
   },
   "outputs": [],
   "source": [
    "import tensorflow as tf\n",
    "from sklearn.model_selection import GridSearchCV\n",
    "from sklearn.model_selection import RandomizedSearchCV\n",
    "from sklearn.model_selection import ParameterGrid\n",
    "from sklearn.metrics import precision_score, recall_score, f1_score, accuracy_score\n",
    "from tensorflow.keras.wrappers.scikit_learn import KerasClassifier\n",
    "from tensorflow.keras.models import Sequential\n",
    "from tensorflow.keras.layers import Dense\n",
    "from tensorflow.keras.layers import Activation\n",
    "from tensorflow.keras.layers import BatchNormalization\n",
    "from tensorflow.keras.layers import Dropout\n",
    "from sklearn import metrics\n",
    "from tensorflow.keras.regularizers import l2\n"
   ]
  },
  {
   "cell_type": "code",
   "execution_count": 19,
   "metadata": {
    "colab": {},
    "colab_type": "code",
    "id": "K8FW6kBo7uPs"
   },
   "outputs": [],
   "source": [
    "from sklearn.metrics import precision_recall_fscore_support\n",
    "from sklearn.metrics import confusion_matrix"
   ]
  },
  {
   "cell_type": "code",
   "execution_count": 20,
   "metadata": {
    "colab": {},
    "colab_type": "code",
    "id": "CHrsnp0Tq8CA"
   },
   "outputs": [],
   "source": [
    "# real Version\n",
    "\n",
    "\n",
    "def create_model(hidden_layers = 1, neurons =1, init_mode = 'uniform', \n",
    "                 activation = 'elu', kernel_regularizer=l2(0.001)):\n",
    "  model = Sequential()\n",
    "  model.add(Dense(neurons, input_dim=len(tr_data.T), kernel_initializer=init_mode, activation=activation))\n",
    "  for i in range(hidden_layers):\n",
    "    \n",
    "    model.add(Dense(neurons, kernel_initializer=init_mode, kernel_regularizer=kernel_regularizer))\n",
    "    model.add(BatchNormalization())\n",
    "    model.add(Activation(activation))\n",
    "    model.add(Dropout(0.2))\n",
    "  \n",
    "  if class_count == 2:  \n",
    "    model.add(Dense(1,activation='sigmoid'))\n",
    "    model.compile(loss='binary_crossentropy', optimizer='adam', metrics=['accuracy'])\n",
    "  elif class_count != 2:\n",
    "    model.add(Dense(class_count, activation='softmax'))\n",
    "    model.compile(loss='sparse_categorical_crossentropy', optimizer='adam', metrics=['sparse_categorical_accuracy'])\n",
    "  return model"
   ]
  },
  {
   "cell_type": "code",
   "execution_count": 21,
   "metadata": {},
   "outputs": [],
   "source": [
    "keras_model = KerasClassifier(build_fn=create_model, epochs=64, batch_size=16)"
   ]
  },
  {
   "cell_type": "code",
   "execution_count": 22,
   "metadata": {},
   "outputs": [],
   "source": [
    "leaky_relu = tf.nn.leaky_relu\n",
    "hidden_layers = [4,8,12]\n",
    "neurons = [32, 64, 128]\n",
    "activation = ['elu', leaky_relu]\n",
    "init_mode = ['glorot_uniform', 'he_normal']"
   ]
  },
  {
   "cell_type": "code",
   "execution_count": 23,
   "metadata": {},
   "outputs": [],
   "source": [
    "param_grid = dict(hidden_layers = hidden_layers, neurons = neurons, init_mode = init_mode, activation = activation)\n",
    "grid = GridSearchCV(estimator=keras_model, param_grid=param_grid, n_jobs= -1, cv=3)"
   ]
  },
  {
   "cell_type": "code",
   "execution_count": 25,
   "metadata": {},
   "outputs": [],
   "source": [
    "import warnings\n",
    "warnings.filterwarnings(\"ignore\")"
   ]
  },
  {
   "cell_type": "code",
   "execution_count": 26,
   "metadata": {},
   "outputs": [
    {
     "name": "stdout",
     "output_type": "stream",
     "text": [
      "WARNING:tensorflow:From C:\\Users\\CAU\\Anaconda3\\envs\\tensorflow\\lib\\site-packages\\tensorflow\\python\\ops\\resource_variable_ops.py:435: colocate_with (from tensorflow.python.framework.ops) is deprecated and will be removed in a future version.\n",
      "Instructions for updating:\n",
      "Colocations handled automatically by placer.\n",
      "WARNING:tensorflow:From C:\\Users\\CAU\\Anaconda3\\envs\\tensorflow\\lib\\site-packages\\tensorflow\\python\\keras\\layers\\core.py:143: calling dropout (from tensorflow.python.ops.nn_ops) with keep_prob is deprecated and will be removed in a future version.\n",
      "Instructions for updating:\n",
      "Please use `rate` instead of `keep_prob`. Rate should be set to `rate = 1 - keep_prob`.\n",
      "WARNING:tensorflow:From C:\\Users\\CAU\\Anaconda3\\envs\\tensorflow\\lib\\site-packages\\tensorflow\\python\\ops\\math_ops.py:3066: to_int32 (from tensorflow.python.ops.math_ops) is deprecated and will be removed in a future version.\n",
      "Instructions for updating:\n",
      "Use tf.cast instead.\n",
      "Epoch 1/64\n",
      "461/461 [==============================] - 1s 3ms/sample - loss: 0.8274 - acc: 0.5770\n",
      "Epoch 2/64\n",
      "461/461 [==============================] - 0s 146us/sample - loss: 0.7761 - acc: 0.6312\n",
      "Epoch 3/64\n",
      "461/461 [==============================] - 0s 148us/sample - loss: 0.7140 - acc: 0.7007\n",
      "Epoch 4/64\n",
      "461/461 [==============================] - 0s 144us/sample - loss: 0.7211 - acc: 0.7028\n",
      "Epoch 5/64\n",
      "461/461 [==============================] - 0s 141us/sample - loss: 0.6792 - acc: 0.7093\n",
      "Epoch 6/64\n",
      "461/461 [==============================] - 0s 139us/sample - loss: 0.6884 - acc: 0.6963\n",
      "Epoch 7/64\n",
      "461/461 [==============================] - 0s 137us/sample - loss: 0.6443 - acc: 0.7419\n",
      "Epoch 8/64\n",
      "461/461 [==============================] - 0s 141us/sample - loss: 0.6948 - acc: 0.7115\n",
      "Epoch 9/64\n",
      "461/461 [==============================] - 0s 139us/sample - loss: 0.6410 - acc: 0.7332\n",
      "Epoch 10/64\n",
      "461/461 [==============================] - 0s 137us/sample - loss: 0.6421 - acc: 0.7310\n",
      "Epoch 11/64\n",
      "461/461 [==============================] - 0s 141us/sample - loss: 0.6329 - acc: 0.7397\n",
      "Epoch 12/64\n",
      "461/461 [==============================] - 0s 130us/sample - loss: 0.6370 - acc: 0.7549\n",
      "Epoch 13/64\n",
      "461/461 [==============================] - 0s 130us/sample - loss: 0.6249 - acc: 0.7570\n",
      "Epoch 14/64\n",
      "461/461 [==============================] - 0s 128us/sample - loss: 0.6026 - acc: 0.7592\n",
      "Epoch 15/64\n",
      "461/461 [==============================] - 0s 133us/sample - loss: 0.6131 - acc: 0.7570\n",
      "Epoch 16/64\n",
      "461/461 [==============================] - 0s 130us/sample - loss: 0.6437 - acc: 0.7527\n",
      "Epoch 17/64\n",
      "461/461 [==============================] - 0s 133us/sample - loss: 0.6146 - acc: 0.7657\n",
      "Epoch 18/64\n",
      "461/461 [==============================] - 0s 133us/sample - loss: 0.6241 - acc: 0.7462\n",
      "Epoch 19/64\n",
      "461/461 [==============================] - 0s 133us/sample - loss: 0.6169 - acc: 0.7614\n",
      "Epoch 20/64\n",
      "461/461 [==============================] - 0s 133us/sample - loss: 0.5895 - acc: 0.7744\n",
      "Epoch 21/64\n",
      "461/461 [==============================] - 0s 135us/sample - loss: 0.6108 - acc: 0.7549\n",
      "Epoch 22/64\n",
      "461/461 [==============================] - 0s 133us/sample - loss: 0.6151 - acc: 0.7592\n",
      "Epoch 23/64\n",
      "461/461 [==============================] - 0s 144us/sample - loss: 0.5947 - acc: 0.7657\n",
      "Epoch 24/64\n",
      "461/461 [==============================] - 0s 148us/sample - loss: 0.5919 - acc: 0.7549\n",
      "Epoch 25/64\n",
      "461/461 [==============================] - 0s 148us/sample - loss: 0.5904 - acc: 0.7614\n",
      "Epoch 26/64\n",
      "461/461 [==============================] - 0s 137us/sample - loss: 0.5840 - acc: 0.7809\n",
      "Epoch 27/64\n",
      "461/461 [==============================] - 0s 130us/sample - loss: 0.5849 - acc: 0.7636\n",
      "Epoch 28/64\n",
      "461/461 [==============================] - 0s 130us/sample - loss: 0.5789 - acc: 0.7766\n",
      "Epoch 29/64\n",
      "461/461 [==============================] - 0s 133us/sample - loss: 0.5685 - acc: 0.7831\n",
      "Epoch 30/64\n",
      "461/461 [==============================] - 0s 137us/sample - loss: 0.5778 - acc: 0.7744\n",
      "Epoch 31/64\n",
      "461/461 [==============================] - 0s 133us/sample - loss: 0.5676 - acc: 0.7831\n",
      "Epoch 32/64\n",
      "461/461 [==============================] - 0s 148us/sample - loss: 0.5900 - acc: 0.7614\n",
      "Epoch 33/64\n",
      "461/461 [==============================] - 0s 139us/sample - loss: 0.5365 - acc: 0.8048\n",
      "Epoch 34/64\n",
      "461/461 [==============================] - 0s 130us/sample - loss: 0.5688 - acc: 0.7679\n",
      "Epoch 35/64\n",
      "461/461 [==============================] - 0s 130us/sample - loss: 0.5708 - acc: 0.7831\n",
      "Epoch 36/64\n",
      "461/461 [==============================] - 0s 130us/sample - loss: 0.5491 - acc: 0.7766\n",
      "Epoch 37/64\n",
      "461/461 [==============================] - 0s 128us/sample - loss: 0.5477 - acc: 0.8048\n",
      "Epoch 38/64\n",
      "461/461 [==============================] - 0s 135us/sample - loss: 0.5577 - acc: 0.7961\n",
      "Epoch 39/64\n",
      "461/461 [==============================] - 0s 130us/sample - loss: 0.5527 - acc: 0.7918\n",
      "Epoch 40/64\n",
      "461/461 [==============================] - 0s 130us/sample - loss: 0.5302 - acc: 0.7896\n",
      "Epoch 41/64\n",
      "461/461 [==============================] - 0s 131us/sample - loss: 0.5803 - acc: 0.7852\n",
      "Epoch 42/64\n",
      "461/461 [==============================] - 0s 130us/sample - loss: 0.5433 - acc: 0.7787\n",
      "Epoch 43/64\n",
      "461/461 [==============================] - 0s 128us/sample - loss: 0.5609 - acc: 0.7679\n",
      "Epoch 44/64\n",
      "461/461 [==============================] - 0s 130us/sample - loss: 0.5651 - acc: 0.7701\n",
      "Epoch 45/64\n",
      "461/461 [==============================] - 0s 133us/sample - loss: 0.5393 - acc: 0.8026\n",
      "Epoch 46/64\n",
      "461/461 [==============================] - 0s 135us/sample - loss: 0.5632 - acc: 0.7701\n",
      "Epoch 47/64\n",
      "461/461 [==============================] - 0s 148us/sample - loss: 0.5503 - acc: 0.7918\n",
      "Epoch 48/64\n",
      "461/461 [==============================] - 0s 154us/sample - loss: 0.5567 - acc: 0.7787\n",
      "Epoch 49/64\n",
      "461/461 [==============================] - 0s 148us/sample - loss: 0.5516 - acc: 0.7744\n",
      "Epoch 50/64\n",
      "461/461 [==============================] - 0s 141us/sample - loss: 0.5238 - acc: 0.7896\n",
      "Epoch 51/64\n",
      "461/461 [==============================] - 0s 144us/sample - loss: 0.5272 - acc: 0.7722\n",
      "Epoch 52/64\n",
      "461/461 [==============================] - 0s 141us/sample - loss: 0.5211 - acc: 0.8004\n",
      "Epoch 53/64\n",
      "461/461 [==============================] - 0s 144us/sample - loss: 0.5335 - acc: 0.8004\n",
      "Epoch 54/64\n",
      "461/461 [==============================] - 0s 144us/sample - loss: 0.5468 - acc: 0.7918\n",
      "Epoch 55/64\n",
      "461/461 [==============================] - 0s 135us/sample - loss: 0.5364 - acc: 0.7852\n",
      "Epoch 56/64\n",
      "461/461 [==============================] - 0s 130us/sample - loss: 0.5572 - acc: 0.7809\n",
      "Epoch 57/64\n",
      "461/461 [==============================] - 0s 135us/sample - loss: 0.5189 - acc: 0.8113\n",
      "Epoch 58/64\n",
      "461/461 [==============================] - 0s 131us/sample - loss: 0.5362 - acc: 0.8026\n",
      "Epoch 59/64\n",
      "461/461 [==============================] - 0s 130us/sample - loss: 0.5494 - acc: 0.7549\n",
      "Epoch 60/64\n",
      "461/461 [==============================] - 0s 130us/sample - loss: 0.5117 - acc: 0.8069\n",
      "Epoch 61/64\n",
      "461/461 [==============================] - 0s 128us/sample - loss: 0.5328 - acc: 0.8004\n",
      "Epoch 62/64\n",
      "461/461 [==============================] - 0s 133us/sample - loss: 0.5113 - acc: 0.8091\n",
      "Epoch 63/64\n",
      "461/461 [==============================] - 0s 137us/sample - loss: 0.5162 - acc: 0.7983\n",
      "Epoch 64/64\n",
      "461/461 [==============================] - 0s 139us/sample - loss: 0.5018 - acc: 0.8069\n"
     ]
    }
   ],
   "source": [
    "grid_result = grid.fit(tr_data, tr_ans)"
   ]
  },
  {
   "cell_type": "code",
   "execution_count": 27,
   "metadata": {},
   "outputs": [
    {
     "name": "stdout",
     "output_type": "stream",
     "text": [
      "Best: 0.757050 using {'activation': <function leaky_relu at 0x00000289185647B8>, 'hidden_layers': 4, 'init_mode': 'glorot_uniform', 'neurons': 32}\n",
      "0.728850 (0.025410) with: {'activation': 'elu', 'hidden_layers': 4, 'init_mode': 'glorot_uniform', 'neurons': 32}\n",
      "0.739696 (0.008825) with: {'activation': 'elu', 'hidden_layers': 4, 'init_mode': 'glorot_uniform', 'neurons': 64}\n",
      "0.731020 (0.021061) with: {'activation': 'elu', 'hidden_layers': 4, 'init_mode': 'glorot_uniform', 'neurons': 128}\n",
      "0.746204 (0.031578) with: {'activation': 'elu', 'hidden_layers': 4, 'init_mode': 'he_normal', 'neurons': 32}\n",
      "0.733189 (0.020559) with: {'activation': 'elu', 'hidden_layers': 4, 'init_mode': 'he_normal', 'neurons': 64}\n",
      "0.744035 (0.011890) with: {'activation': 'elu', 'hidden_layers': 4, 'init_mode': 'he_normal', 'neurons': 128}\n",
      "0.746204 (0.018428) with: {'activation': 'elu', 'hidden_layers': 8, 'init_mode': 'glorot_uniform', 'neurons': 32}\n",
      "0.737527 (0.010291) with: {'activation': 'elu', 'hidden_layers': 8, 'init_mode': 'glorot_uniform', 'neurons': 64}\n",
      "0.728850 (0.026496) with: {'activation': 'elu', 'hidden_layers': 8, 'init_mode': 'glorot_uniform', 'neurons': 128}\n",
      "0.731020 (0.020726) with: {'activation': 'elu', 'hidden_layers': 8, 'init_mode': 'he_normal', 'neurons': 32}\n",
      "0.724512 (0.020707) with: {'activation': 'elu', 'hidden_layers': 8, 'init_mode': 'he_normal', 'neurons': 64}\n",
      "0.746204 (0.009965) with: {'activation': 'elu', 'hidden_layers': 8, 'init_mode': 'he_normal', 'neurons': 128}\n",
      "0.709328 (0.005737) with: {'activation': 'elu', 'hidden_layers': 12, 'init_mode': 'glorot_uniform', 'neurons': 32}\n",
      "0.700651 (0.028881) with: {'activation': 'elu', 'hidden_layers': 12, 'init_mode': 'glorot_uniform', 'neurons': 64}\n",
      "0.726681 (0.042732) with: {'activation': 'elu', 'hidden_layers': 12, 'init_mode': 'glorot_uniform', 'neurons': 128}\n",
      "0.707158 (0.022292) with: {'activation': 'elu', 'hidden_layers': 12, 'init_mode': 'he_normal', 'neurons': 32}\n",
      "0.731020 (0.040692) with: {'activation': 'elu', 'hidden_layers': 12, 'init_mode': 'he_normal', 'neurons': 64}\n",
      "0.739696 (0.018009) with: {'activation': 'elu', 'hidden_layers': 12, 'init_mode': 'he_normal', 'neurons': 128}\n",
      "0.757050 (0.014609) with: {'activation': <function leaky_relu at 0x00000289185647B8>, 'hidden_layers': 4, 'init_mode': 'glorot_uniform', 'neurons': 32}\n",
      "0.731020 (0.019423) with: {'activation': <function leaky_relu at 0x00000289185647B8>, 'hidden_layers': 4, 'init_mode': 'glorot_uniform', 'neurons': 64}\n",
      "0.757050 (0.021609) with: {'activation': <function leaky_relu at 0x00000289185647B8>, 'hidden_layers': 4, 'init_mode': 'glorot_uniform', 'neurons': 128}\n",
      "0.735358 (0.014940) with: {'activation': <function leaky_relu at 0x00000289185647B8>, 'hidden_layers': 4, 'init_mode': 'he_normal', 'neurons': 32}\n",
      "0.748373 (0.002298) with: {'activation': <function leaky_relu at 0x00000289185647B8>, 'hidden_layers': 4, 'init_mode': 'he_normal', 'neurons': 64}\n",
      "0.728850 (0.021891) with: {'activation': <function leaky_relu at 0x00000289185647B8>, 'hidden_layers': 4, 'init_mode': 'he_normal', 'neurons': 128}\n",
      "0.726681 (0.031174) with: {'activation': <function leaky_relu at 0x00000289185647B8>, 'hidden_layers': 8, 'init_mode': 'glorot_uniform', 'neurons': 32}\n",
      "0.744035 (0.016593) with: {'activation': <function leaky_relu at 0x00000289185647B8>, 'hidden_layers': 8, 'init_mode': 'glorot_uniform', 'neurons': 64}\n",
      "0.733189 (0.008394) with: {'activation': <function leaky_relu at 0x00000289185647B8>, 'hidden_layers': 8, 'init_mode': 'glorot_uniform', 'neurons': 128}\n",
      "0.704989 (0.041006) with: {'activation': <function leaky_relu at 0x00000289185647B8>, 'hidden_layers': 8, 'init_mode': 'he_normal', 'neurons': 32}\n",
      "0.720174 (0.041373) with: {'activation': <function leaky_relu at 0x00000289185647B8>, 'hidden_layers': 8, 'init_mode': 'he_normal', 'neurons': 64}\n",
      "0.731020 (0.016787) with: {'activation': <function leaky_relu at 0x00000289185647B8>, 'hidden_layers': 8, 'init_mode': 'he_normal', 'neurons': 128}\n",
      "0.661605 (0.060384) with: {'activation': <function leaky_relu at 0x00000289185647B8>, 'hidden_layers': 12, 'init_mode': 'glorot_uniform', 'neurons': 32}\n",
      "0.670282 (0.039889) with: {'activation': <function leaky_relu at 0x00000289185647B8>, 'hidden_layers': 12, 'init_mode': 'glorot_uniform', 'neurons': 64}\n",
      "0.733189 (0.013268) with: {'activation': <function leaky_relu at 0x00000289185647B8>, 'hidden_layers': 12, 'init_mode': 'glorot_uniform', 'neurons': 128}\n",
      "0.646421 (0.031657) with: {'activation': <function leaky_relu at 0x00000289185647B8>, 'hidden_layers': 12, 'init_mode': 'he_normal', 'neurons': 32}\n",
      "0.696312 (0.036856) with: {'activation': <function leaky_relu at 0x00000289185647B8>, 'hidden_layers': 12, 'init_mode': 'he_normal', 'neurons': 64}\n",
      "0.741866 (0.026534) with: {'activation': <function leaky_relu at 0x00000289185647B8>, 'hidden_layers': 12, 'init_mode': 'he_normal', 'neurons': 128}\n"
     ]
    }
   ],
   "source": [
    "print(\"Best: %f using %s\" % (grid_result.best_score_, grid_result.best_params_))\n",
    "means = grid_result.cv_results_['mean_test_score']\n",
    "stds = grid_result.cv_results_['std_test_score']\n",
    "params = grid_result.cv_results_['params']\n",
    "\n",
    "for mean, stdev, param in zip(means, stds, params):\n",
    "    print(\"%f (%f) with: %r\" % (mean, stdev, param))"
   ]
  },
  {
   "cell_type": "code",
   "execution_count": 28,
   "metadata": {},
   "outputs": [
    {
     "name": "stdout",
     "output_type": "stream",
     "text": [
      "Scaler =  standard\n",
      "Accuracy =  0.7915309446254072\n",
      "Confusion Matrix\n",
      "[[176  34]\n",
      " [ 30  67]]\n",
      "\n",
      "Classification Report\n",
      "              precision    recall  f1-score   support\n",
      "\n",
      "         0.0       0.85      0.84      0.85       210\n",
      "         1.0       0.66      0.69      0.68        97\n",
      "\n",
      "    accuracy                           0.79       307\n",
      "   macro avg       0.76      0.76      0.76       307\n",
      "weighted avg       0.79      0.79      0.79       307\n",
      "\n"
     ]
    }
   ],
   "source": [
    "pred = grid.predict(ts_data)\n",
    "\n",
    "accuracy = accuracy_score(pred, ts_ans)\n",
    "ts_ans = ts_ans.astype(float)\n",
    "precision, recall, fbeta_score, support = precision_recall_fscore_support(ts_ans, pred)\n",
    "conf_mat = confusion_matrix(ts_ans, pred)\n",
    "print(\"Scaler = \", scaler_name)\n",
    "print(\"Accuracy = \", accuracy)\n",
    "print(\"Confusion Matrix\")\n",
    "print(\"{0}\".format(metrics.confusion_matrix(ts_ans, pred)))\n",
    "print(\"\")\n",
    "print(\"Classification Report\")\n",
    "print(metrics.classification_report(ts_ans, pred))"
   ]
  },
  {
   "cell_type": "code",
   "execution_count": null,
   "metadata": {
    "colab": {},
    "colab_type": "code",
    "id": "MKmXpPoXdidO"
   },
   "outputs": [],
   "source": [
    "# # testbed Version\n",
    "\n",
    "\n",
    "# def create_model(hidden_layers = 1, neurons =1, init_mode = 'uniform', activation = 'elu'):\n",
    "#     model = Sequential()\n",
    "#     model.add(Dense(neurons, input_dim=len(tr_data.T), kernel_initializer=init_mode, activation=activation))\n",
    "\n",
    "#     for i in range(hidden_layers):\n",
    "        \n",
    "#         model.add(Dense(neurons, kernel_initializer=init_mode))\n",
    "#         model.add(BatchNormalization())\n",
    "#         model.add(Activation(activation))\n",
    "#         model.add(Dropout(0.2))\n",
    "  \n",
    "#     if class_count == 2:  \n",
    "#         model.add(Dense(1,activation='sigmoid'))\n",
    "#         model.compile(loss='binary_crossentropy', optimizer='adam', metrics=['accuracy'])\n",
    "#     elif class_count != 2:\n",
    "#         model.add(Dense(class_count-1, activation='softmax'))\n",
    "#         model.compile(loss='sparse_categorical_crossentropy', optimizer='adam', metrics=['accuracy'])\n",
    "\n",
    "#     return model\n",
    "\n",
    "\n",
    "# hidden_layers = [5, 10]\n",
    "# neurons = [32, 64]\n",
    "# activation = ['elu']\n",
    "# init_mode = ['he_uniform']\n",
    "\n",
    "# keras_model = KerasClassifier(build_fn=create_model, epochs=4, batch_size=4)\n",
    "\n",
    "# param_grid = dict(hidden_layers = hidden_layers, neurons = neurons, init_mode = init_mode, activation = activation)\n",
    "# grid = GridSearchCV(estimator=keras_model, param_grid=param_grid, n_jobs= -1, cv=2)"
   ]
  },
  {
   "cell_type": "code",
   "execution_count": null,
   "metadata": {
    "colab": {},
    "colab_type": "code",
    "id": "1pNmP5gQVTsZ"
   },
   "outputs": [],
   "source": []
  }
 ],
 "metadata": {
  "accelerator": "GPU",
  "colab": {
   "collapsed_sections": [],
   "name": "pima_indian_diabetes.ipynb",
   "provenance": [],
   "version": "0.3.2"
  },
  "kernelspec": {
   "display_name": "Python 3",
   "language": "python",
   "name": "python3"
  },
  "language_info": {
   "codemirror_mode": {
    "name": "ipython",
    "version": 3
   },
   "file_extension": ".py",
   "mimetype": "text/x-python",
   "name": "python",
   "nbconvert_exporter": "python",
   "pygments_lexer": "ipython3",
   "version": "3.6.8"
  }
 },
 "nbformat": 4,
 "nbformat_minor": 1
}
