{
 "cells": [
  {
   "cell_type": "code",
   "execution_count": 1,
   "metadata": {
    "colab": {},
    "colab_type": "code",
    "id": "mL7zvImn9Fbf"
   },
   "outputs": [],
   "source": [
    "import numpy as np\n",
    "import pandas as pd\n",
    "from sklearn.preprocessing import MinMaxScaler\n",
    "from sklearn.preprocessing import StandardScaler"
   ]
  },
  {
   "cell_type": "code",
   "execution_count": 2,
   "metadata": {
    "colab": {
     "base_uri": "https://localhost:8080/",
     "height": 34
    },
    "colab_type": "code",
    "executionInfo": {
     "elapsed": 877,
     "status": "ok",
     "timestamp": 1562058530713,
     "user": {
      "displayName": "이동재",
      "photoUrl": "",
      "userId": "12052501428717228434"
     },
     "user_tz": -540
    },
    "id": "xqpvhmwe3Y5G",
    "outputId": "d82b6fab-132a-484f-e274-7f805be83209"
   },
   "outputs": [],
   "source": [
    "df_train = pd.read_excel('pima-indians-diabetes.train.xlsx')\n",
    "df_test = pd.read_excel(\"pima-indians-diabetes.test.xlsx\")"
   ]
  },
  {
   "cell_type": "code",
   "execution_count": 3,
   "metadata": {},
   "outputs": [],
   "source": [
    "train = df_train\n",
    "test = df_test"
   ]
  },
  {
   "cell_type": "code",
   "execution_count": 4,
   "metadata": {
    "colab": {
     "base_uri": "https://localhost:8080/",
     "height": 34
    },
    "colab_type": "code",
    "executionInfo": {
     "elapsed": 516,
     "status": "ok",
     "timestamp": 1562058530714,
     "user": {
      "displayName": "이동재",
      "photoUrl": "",
      "userId": "12052501428717228434"
     },
     "user_tz": -540
    },
    "id": "t8pTzpUVcq9z",
    "outputId": "f6d4f95b-36f9-4a7f-eddf-ef67301f6e4c"
   },
   "outputs": [
    {
     "data": {
      "text/plain": [
       "(307, 9)"
      ]
     },
     "execution_count": 4,
     "metadata": {},
     "output_type": "execute_result"
    }
   ],
   "source": [
    "test.shape"
   ]
  },
  {
   "cell_type": "code",
   "execution_count": 5,
   "metadata": {
    "colab": {
     "base_uri": "https://localhost:8080/",
     "height": 140
    },
    "colab_type": "code",
    "executionInfo": {
     "elapsed": 569,
     "status": "ok",
     "timestamp": 1562058531066,
     "user": {
      "displayName": "이동재",
      "photoUrl": "",
      "userId": "12052501428717228434"
     },
     "user_tz": -540
    },
    "id": "NSjRKJko-Dcv",
    "outputId": "0e325a9e-d3d5-47a6-9df5-82990cb06120"
   },
   "outputs": [
    {
     "name": "stdout",
     "output_type": "stream",
     "text": [
      "Index(['Number of times pregnant',\n",
      "       'Plasma glucose concentration a 2 hours in an oral glucose tolerance test',\n",
      "       'Diastolic blood pressure (mm Hg)', 'Triceps skin fold thickness (mm)',\n",
      "       '2-Hour serum insulin (mu U/ml)',\n",
      "       'Body mass index (weight in kg/(height in m)^2)',\n",
      "       'Diabetes pedigree function', 'Age (years)', 'Class variable (0 or 1)'],\n",
      "      dtype='object')\n"
     ]
    }
   ],
   "source": [
    "print(train.columns)"
   ]
  },
  {
   "cell_type": "code",
   "execution_count": 6,
   "metadata": {
    "colab": {
     "base_uri": "https://localhost:8080/",
     "height": 34
    },
    "colab_type": "code",
    "executionInfo": {
     "elapsed": 5744,
     "status": "ok",
     "timestamp": 1562058536952,
     "user": {
      "displayName": "이동재",
      "photoUrl": "",
      "userId": "12052501428717228434"
     },
     "user_tz": -540
    },
    "id": "7VLAjJXm-xpB",
    "outputId": "ec729c6a-a9cb-42d4-f774-0e1567be953f"
   },
   "outputs": [
    {
     "name": "stdout",
     "output_type": "stream",
     "text": [
      "Chooese the classClass variable (0 or 1)\n"
     ]
    }
   ],
   "source": [
    "class_name = input(\"Chooese the class\")"
   ]
  },
  {
   "cell_type": "code",
   "execution_count": 7,
   "metadata": {
    "colab": {},
    "colab_type": "code",
    "id": "DgUHg4ED3uWO"
   },
   "outputs": [],
   "source": [
    "minmax_scaler = MinMaxScaler()"
   ]
  },
  {
   "cell_type": "code",
   "execution_count": 8,
   "metadata": {
    "colab": {
     "base_uri": "https://localhost:8080/",
     "height": 34
    },
    "colab_type": "code",
    "executionInfo": {
     "elapsed": 1164,
     "status": "ok",
     "timestamp": 1562058540201,
     "user": {
      "displayName": "이동재",
      "photoUrl": "",
      "userId": "12052501428717228434"
     },
     "user_tz": -540
    },
    "id": "6x0W2mAC-wgw",
    "outputId": "a933e1c2-64cc-449e-cc01-a66b8b1b4a92"
   },
   "outputs": [
    {
     "name": "stdout",
     "output_type": "stream",
     "text": [
      "2\n"
     ]
    }
   ],
   "source": [
    "tr_ans = train[class_name]\n",
    "ts_ans = test[class_name]\n",
    "class_count = len(tr_ans.unique())\n",
    "print(class_count)"
   ]
  },
  {
   "cell_type": "code",
   "execution_count": 9,
   "metadata": {
    "colab": {},
    "colab_type": "code",
    "id": "WnKjCuCfAguo"
   },
   "outputs": [],
   "source": [
    "tr_data = train.drop([class_name], axis=1)\n",
    "ts_data = test.drop([class_name], axis=1)"
   ]
  },
  {
   "cell_type": "code",
   "execution_count": 10,
   "metadata": {
    "colab": {
     "base_uri": "https://localhost:8080/",
     "height": 34
    },
    "colab_type": "code",
    "executionInfo": {
     "elapsed": 747,
     "status": "ok",
     "timestamp": 1562058544112,
     "user": {
      "displayName": "이동재",
      "photoUrl": "",
      "userId": "12052501428717228434"
     },
     "user_tz": -540
    },
    "id": "PktLBW6eQQHA",
    "outputId": "bd812fb6-e200-4b7f-e7db-8963d54df798"
   },
   "outputs": [
    {
     "data": {
      "text/plain": [
       "dtype('int64')"
      ]
     },
     "execution_count": 10,
     "metadata": {},
     "output_type": "execute_result"
    }
   ],
   "source": [
    "ts_ans.dtype"
   ]
  },
  {
   "cell_type": "code",
   "execution_count": 11,
   "metadata": {
    "colab": {
     "base_uri": "https://localhost:8080/",
     "height": 72
    },
    "colab_type": "code",
    "executionInfo": {
     "elapsed": 723,
     "status": "ok",
     "timestamp": 1562058547225,
     "user": {
      "displayName": "이동재",
      "photoUrl": "",
      "userId": "12052501428717228434"
     },
     "user_tz": -540
    },
    "id": "lmjXkka1Lucy",
    "outputId": "7edc3aec-a0fa-4a33-d09b-1931e2d1fb27"
   },
   "outputs": [],
   "source": [
    "from sklearn.impute import SimpleImputer\n",
    "\n",
    "rep_0 = SimpleImputer(missing_values=0, strategy=\"mean\")\n",
    "\n",
    "tr_data = rep_0.fit_transform(tr_data)\n",
    "ts_data = rep_0.fit_transform(ts_data)"
   ]
  },
  {
   "cell_type": "code",
   "execution_count": 12,
   "metadata": {
    "colab": {},
    "colab_type": "code",
    "id": "Z_Yw0W7eAmgw"
   },
   "outputs": [],
   "source": [
    "# tr_data = minmax_scaler.fit_transform(tr_data)\n",
    "# ts_data = minmax_scaler.transform(ts_data)\n",
    "tr_ans = np.array(tr_ans)\n",
    "ts_ans = np.array(ts_ans)"
   ]
  },
  {
   "cell_type": "code",
   "execution_count": 13,
   "metadata": {
    "colab": {
     "base_uri": "https://localhost:8080/",
     "height": 386
    },
    "colab_type": "code",
    "executionInfo": {
     "elapsed": 712,
     "status": "ok",
     "timestamp": 1562058552746,
     "user": {
      "displayName": "이동재",
      "photoUrl": "",
      "userId": "12052501428717228434"
     },
     "user_tz": -540
    },
    "id": "Rz4XG4MMOHGu",
    "outputId": "70f5c169-28bc-4010-ae83-14209e83d278"
   },
   "outputs": [
    {
     "data": {
      "text/plain": [
       "array([1, 0, 1, 1, 1, 1, 1, 0, 1, 0, 1, 0, 0, 0, 1, 1, 1, 0, 0, 0, 0, 1,\n",
       "       0, 0, 0, 1, 1, 0, 0, 1, 0, 1, 0, 0, 0, 0, 1, 0, 0, 1, 0, 0, 0, 1,\n",
       "       0, 0, 0, 0, 1, 0, 0, 0, 0, 0, 0, 0, 0, 0, 0, 0, 1, 1, 0, 0, 1, 0,\n",
       "       0, 0, 0, 0, 1, 1, 0, 0, 1, 1, 1, 1, 1, 0, 0, 0, 0, 0, 1, 0, 0, 0,\n",
       "       1, 1, 0, 0, 1, 0, 0, 1, 1, 1, 0, 0, 0, 1, 0, 1, 0, 0, 1, 1, 1, 0,\n",
       "       1, 1, 0, 0, 0, 0, 0, 0, 1, 0, 0, 1, 1, 1, 0, 1, 1, 1, 0, 0, 0, 1,\n",
       "       0, 1, 1, 0, 0, 1, 1, 1, 0, 0, 1, 1, 1, 0, 0, 0, 0, 0, 1, 0, 1, 1,\n",
       "       0, 1, 1, 0, 0, 1, 1, 0, 0, 0, 0, 0, 0, 1, 0, 0, 0, 0, 1, 0, 0, 1,\n",
       "       0, 0, 1, 1, 0, 0, 1, 0, 1, 0, 1, 1, 1, 0, 0, 0, 0, 0, 1, 0, 0, 1,\n",
       "       1, 0, 0, 0, 0, 0, 0, 1, 0, 0, 0, 1, 0, 1, 0, 1, 1, 0, 1, 1, 0, 0,\n",
       "       1, 0, 0, 0, 0, 1, 1, 0, 0, 0, 0, 1, 0, 1, 1, 0, 0, 1, 0, 1, 0, 0,\n",
       "       0, 1, 1, 0, 0, 1, 0, 0, 0, 1, 0, 1, 0, 0, 0, 0, 0, 0, 0, 1, 1, 1,\n",
       "       1, 0, 0, 1, 1, 1, 0, 1, 0, 0, 0, 0, 0, 0, 1, 0, 0, 0, 1, 0, 0, 1,\n",
       "       1, 0, 0, 0, 0, 1, 0, 0, 1, 0, 0, 0, 0, 0, 0, 0, 1, 0, 0, 0, 1, 0,\n",
       "       0, 0, 0, 0, 0, 0, 0, 0, 0, 1, 1, 1, 1, 1, 1, 0, 0, 0, 0, 0, 0, 0,\n",
       "       0, 0, 1, 0, 0, 0, 0, 0, 1, 0, 0, 0, 0, 1, 0, 1, 0, 0, 1, 0, 1, 0,\n",
       "       1, 0, 1, 1, 0, 0, 1, 0, 0, 0, 0, 0, 1, 1, 0, 0, 1, 0, 0, 1, 1, 0,\n",
       "       0, 0, 0, 0, 0, 0, 1, 0, 0, 1, 0, 0, 0, 0, 1, 1, 1, 0, 0, 0, 0, 0,\n",
       "       1, 0, 1, 1, 0, 0, 0, 0, 0, 1, 0, 0, 0, 0, 0, 1, 1, 1, 1, 0, 1, 0,\n",
       "       1, 0, 1, 0, 0, 1, 0, 1, 1, 0, 0, 0, 1, 0, 0, 0, 0, 0, 1, 1, 1, 0,\n",
       "       0, 0, 0, 0, 1, 1, 1, 1, 0, 1, 1, 1, 1, 0, 1, 0, 0, 1, 0, 0, 1],\n",
       "      dtype=int64)"
      ]
     },
     "execution_count": 13,
     "metadata": {},
     "output_type": "execute_result"
    }
   ],
   "source": [
    "tr_ans"
   ]
  },
  {
   "cell_type": "code",
   "execution_count": 14,
   "metadata": {
    "colab": {},
    "colab_type": "code",
    "id": "gTqMm-pu4GCy"
   },
   "outputs": [],
   "source": [
    "import os\n",
    "from datetime import datetime"
   ]
  },
  {
   "cell_type": "code",
   "execution_count": 15,
   "metadata": {
    "colab": {},
    "colab_type": "code",
    "id": "F0_cae6XOksE"
   },
   "outputs": [],
   "source": [
    "import tensorflow as tf\n",
    "from sklearn.model_selection import GridSearchCV\n",
    "from sklearn.model_selection import RandomizedSearchCV\n",
    "from sklearn.model_selection import ParameterGrid\n",
    "from sklearn.metrics import precision_score, recall_score, f1_score, accuracy_score\n",
    "from tensorflow.keras.wrappers.scikit_learn import KerasClassifier\n",
    "from tensorflow.keras.models import Sequential\n",
    "from tensorflow.keras.layers import Dense\n",
    "from tensorflow.keras.layers import Activation\n",
    "from tensorflow.keras.callbacks import TensorBoard\n",
    "from tensorflow.keras.layers import BatchNormalization\n",
    "from tensorflow.keras.layers import Dropout\n",
    "import tensorflow.keras.metrics as km\n",
    "from sklearn import metrics\n",
    "from tensorflow.keras.regularizers import l2\n"
   ]
  },
  {
   "cell_type": "code",
   "execution_count": 16,
   "metadata": {
    "colab": {},
    "colab_type": "code",
    "id": "K8FW6kBo7uPs"
   },
   "outputs": [],
   "source": [
    "from sklearn.metrics import precision_recall_fscore_support\n",
    "from sklearn.metrics import confusion_matrix"
   ]
  },
  {
   "cell_type": "code",
   "execution_count": 17,
   "metadata": {
    "colab": {},
    "colab_type": "code",
    "id": "CHrsnp0Tq8CA"
   },
   "outputs": [],
   "source": [
    "# real Version\n",
    "\n",
    "\n",
    "# def create_model(hidden_layers = 1, neurons =1, init_mode = 'uniform', activation = 'elu'):\n",
    "#   model = Sequential()\n",
    "#   model.add(Dense(neurons, input_dim=len(tr_data.T), kernel_initializer=init_mode, activation=activation))\n",
    "#   model.add(Dropout(0.2))\n",
    "#   for i in range(hidden_layers):\n",
    "    \n",
    "#     model.add(Dense(neurons, kernel_initializer=init_mode))\n",
    "#     model.add(BatchNormalization())\n",
    "#     model.add(Activation(activation))\n",
    "#     model.add(Dropout(0.2))\n",
    "  \n",
    "#   if class_count == 2:  \n",
    "#     model.add(Dense(1,activation='sigmoid'))\n",
    "#     model.compile(loss='binary_crossentropy', optimizer='adam', metrics=['accuracy'])\n",
    "#   elif class_count != 2:\n",
    "#     model.add(Dense(class_count-1, activation='softmax'))\n",
    "#     model.compile(loss='sparse_categorical_crossentropy', optimizer='adam', metrics=['accuracy'])\n",
    "#   return model\n",
    "\n",
    "# keras_model = KerasClassifier(build_fn=create_model, epochs=32, batch_size=16)\n",
    "# print(keras_model)\n",
    "\n",
    "\n",
    "# leaky_relu = tf.nn.leaky_relu\n",
    "# hidden_layers = [10,15,20]\n",
    "# neurons = [30, 70, 110]\n",
    "# activation = ['elu', leaky_relu]\n",
    "# init_mode = ['glorot_normal', 'glorot_uniform', 'he_normal', 'he_uniform']\n",
    "\n",
    "\n",
    "# param_grid = dict(hidden_layers = hidden_layers, neurons = neurons, init_mode = init_mode, activation = activation)\n",
    "# grid = GridSearchCV(estimator=keras_model, param_grid=param_grid, n_jobs= None, cv=2)\n",
    "# print(grid)\n",
    "\n",
    "\n",
    "\n",
    "# grid_result = grid.fit(tr_data, tr_ans)\n",
    "\n",
    "# print(\"Best: %f using %s\" % (grid_result.best_score_, grid_result.best_params_))\n",
    "# means = grid_result.cv_results_['mean_test_score']\n",
    "# stds = grid_result.cv_results_['std_test_score']\n",
    "# params = grid_result.cv_results_['params']\n",
    "\n",
    "# for mean, stdev, param in zip(means, stds, params):\n",
    "#     print(\"%f (%f) with: %r\" % (mean, stdev, param))\n",
    "\n",
    "\n",
    "# results = keras_model.predict(ts_data)\n",
    "\n",
    "# correct_count = (results == ts_ans).sum()\n",
    "# accuracy = correct_count / len(ts_ans)\n",
    "# ts_ans = ts_ans.astype(float)\n",
    "# pred = pred.astype(float\n",
    "# precision, recall, fbeta_score, support = precision_recall_fscore_support(ts_ans, results)\n",
    "# conf_mat = confusion_matrix(ts_ans, results)\n",
    "# print(\"Accuracy = \", accuracy)\n",
    "# print(\"Precision = \", precision)\n",
    "# print('Recall = ', recall)\n",
    "# print(\"fbeta_score = \", fbeta_score)\n",
    "# print(\"Support = \", support)"
   ]
  },
  {
   "cell_type": "code",
   "execution_count": 24,
   "metadata": {
    "colab": {},
    "colab_type": "code",
    "id": "MKmXpPoXdidO"
   },
   "outputs": [],
   "source": [
    "# testbed Version\n",
    "\n",
    "\n",
    "def create_model(hidden_layers = 1, neurons =1, init_mode = 'uniform', activation = 'elu'):\n",
    "    model = Sequential()\n",
    "    model.add(Dense(neurons, input_dim=len(tr_data.T), kernel_initializer=init_mode, activation=activation))\n",
    "\n",
    "    for i in range(hidden_layers):\n",
    "        \n",
    "        model.add(Dense(neurons, kernel_initializer=init_mode))\n",
    "        model.add(BatchNormalization())\n",
    "        model.add(Activation(activation))\n",
    "        model.add(Dropout(0.2))\n",
    "  \n",
    "    if class_count == 2:  \n",
    "        model.add(Dense(1,activation='sigmoid'))\n",
    "        model.compile(loss='binary_crossentropy', optimizer='adam', metrics=['accuracy'])\n",
    "    elif class_count != 2:\n",
    "        model.add(Dense(class_count-1, activation='softmax'))\n",
    "        model.compile(loss='sparse_categorical_crossentropy', optimizer='adam', metrics=['accuracy'])\n",
    "\n",
    "    writer.close()\n",
    "    return model"
   ]
  },
  {
   "cell_type": "code",
   "execution_count": 25,
   "metadata": {},
   "outputs": [],
   "source": [
    "hidden_layers = [5, 10]\n",
    "neurons = [32, 64]\n",
    "activation = ['elu']\n",
    "init_mode = ['he_uniform']\n",
    "\n",
    "keras_model = KerasClassifier(build_fn=create_model, epochs=4, batch_size=4)"
   ]
  },
  {
   "cell_type": "code",
   "execution_count": 26,
   "metadata": {},
   "outputs": [],
   "source": [
    "param_grid = dict(hidden_layers = hidden_layers, neurons = neurons, init_mode = init_mode, activation = activation)\n",
    "grid = GridSearchCV(estimator=keras_model, param_grid=param_grid, n_jobs= -1, cv=2)"
   ]
  },
  {
   "cell_type": "code",
   "execution_count": 27,
   "metadata": {},
   "outputs": [
    {
     "name": "stderr",
     "output_type": "stream",
     "text": [
      "C:\\Users\\LeeDongJae\\AppData\\Local\\Continuum\\anaconda3\\lib\\site-packages\\sklearn\\model_selection\\_search.py:841: DeprecationWarning: The default of the `iid` parameter will change from True to False in version 0.22 and will be removed in 0.24. This will change numeric results when test-set sizes are unequal.\n",
      "  DeprecationWarning)\n"
     ]
    },
    {
     "name": "stdout",
     "output_type": "stream",
     "text": [
      "Epoch 1/4\n",
      "461/461 [==============================] - 3s 6ms/sample - loss: 0.7658 - acc: 0.5423\n",
      "Epoch 2/4\n",
      "461/461 [==============================] - 1s 1ms/sample - loss: 0.6732 - acc: 0.6356\n",
      "Epoch 3/4\n",
      "461/461 [==============================] - 1s 1ms/sample - loss: 0.6643 - acc: 0.6226\n",
      "Epoch 4/4\n",
      "461/461 [==============================] - 1s 1ms/sample - loss: 0.6136 - acc: 0.6876\n"
     ]
    }
   ],
   "source": [
    "grid_result = grid.fit(tr_data, tr_ans)"
   ]
  },
  {
   "cell_type": "code",
   "execution_count": null,
   "metadata": {},
   "outputs": [],
   "source": [
    "print(\"Best: %f using %s\" % (grid_result.best_score_, grid_result.best_params_))\n",
    "means = grid_result.cv_results_['mean_test_score']\n",
    "stds = grid_result.cv_results_['std_test_score']\n",
    "params = grid_result.cv_results_['params']\n",
    "\n",
    "for mean, stdev, param in zip(means, stds, params):\n",
    "    print(\"%f (%f) with: %r\" % (mean, stdev, param))"
   ]
  },
  {
   "cell_type": "code",
   "execution_count": null,
   "metadata": {
    "colab": {
     "base_uri": "https://localhost:8080/",
     "height": 1000
    },
    "colab_type": "code",
    "executionInfo": {
     "elapsed": 37749,
     "status": "ok",
     "timestamp": 1562058310452,
     "user": {
      "displayName": "이동재",
      "photoUrl": "",
      "userId": "12052501428717228434"
     },
     "user_tz": -540
    },
    "id": "1Th2q_eQEDcJ",
    "outputId": "dcf722a0-225b-43c6-a8d6-e5099b859eb5"
   },
   "outputs": [],
   "source": [
    "grid.fit(tr_data, tr_ans)\n",
    "tr_pred = grid.predict(tr_data)\n",
    "pred = grid.predict(ts_data)"
   ]
  },
  {
   "cell_type": "code",
   "execution_count": null,
   "metadata": {
    "colab": {
     "base_uri": "https://localhost:8080/",
     "height": 281
    },
    "colab_type": "code",
    "executionInfo": {
     "elapsed": 36663,
     "status": "ok",
     "timestamp": 1562058310454,
     "user": {
      "displayName": "이동재",
      "photoUrl": "",
      "userId": "12052501428717228434"
     },
     "user_tz": -540
    },
    "id": "1kjIJtK8U9el",
    "outputId": "e8427b91-6522-4b93-c570-3d660d9e72a8"
   },
   "outputs": [],
   "source": [
    "accuracy = accuracy_score(pred, ts_ans)\n",
    "ts_ans = ts_ans.astype(float)\n",
    "precision, recall, fbeta_score, support = precision_recall_fscore_support(ts_ans, pred)\n",
    "conf_mat = confusion_matrix(ts_ans, pred)\n",
    "print(\"Accuracy = \", accuracy)\n",
    "print(\"Confusion Matrix\")\n",
    "print(\"{0}\".format(metrics.confusion_matrix(ts_ans, pred)))\n",
    "print(\"\")\n",
    "print(\"Classification Report\")\n",
    "print(metrics.classification_report(ts_ans, pred))\n",
    "\n",
    "\n"
   ]
  },
  {
   "cell_type": "code",
   "execution_count": null,
   "metadata": {
    "colab": {},
    "colab_type": "code",
    "id": "1pNmP5gQVTsZ"
   },
   "outputs": [],
   "source": []
  }
 ],
 "metadata": {
  "accelerator": "GPU",
  "colab": {
   "collapsed_sections": [],
   "name": "pima_indian_diabetes.ipynb",
   "provenance": [],
   "version": "0.3.2"
  },
  "kernelspec": {
   "display_name": "Python 3",
   "language": "python",
   "name": "python3"
  },
  "language_info": {
   "codemirror_mode": {
    "name": "ipython",
    "version": 3
   },
   "file_extension": ".py",
   "mimetype": "text/x-python",
   "name": "python",
   "nbconvert_exporter": "python",
   "pygments_lexer": "ipython3",
   "version": "3.7.3"
  }
 },
 "nbformat": 4,
 "nbformat_minor": 1
}
