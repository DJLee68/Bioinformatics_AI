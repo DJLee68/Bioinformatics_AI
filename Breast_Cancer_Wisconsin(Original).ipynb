{
 "cells": [
  {
   "cell_type": "code",
   "execution_count": 1,
   "metadata": {
    "colab": {},
    "colab_type": "code",
    "id": "mL7zvImn9Fbf"
   },
   "outputs": [],
   "source": [
    "import numpy as np\n",
    "import pandas as pd\n",
    "from sklearn.preprocessing import MinMaxScaler\n",
    "from sklearn.preprocessing import StandardScaler"
   ]
  },
  {
   "cell_type": "code",
   "execution_count": 2,
   "metadata": {
    "colab": {
     "base_uri": "https://localhost:8080/",
     "height": 34
    },
    "colab_type": "code",
    "executionInfo": {
     "elapsed": 877,
     "status": "ok",
     "timestamp": 1562058530713,
     "user": {
      "displayName": "이동재",
      "photoUrl": "",
      "userId": "12052501428717228434"
     },
     "user_tz": -540
    },
    "id": "xqpvhmwe3Y5G",
    "outputId": "d82b6fab-132a-484f-e274-7f805be83209"
   },
   "outputs": [],
   "source": [
    "df_train = pd.read_excel('breast-cancer-wisconsin.train.xlsx')\n",
    "df_test = pd.read_excel('breast-cancer-wisconsin.test.xlsx')"
   ]
  },
  {
   "cell_type": "code",
   "execution_count": 3,
   "metadata": {},
   "outputs": [],
   "source": [
    "train = df_train\n",
    "test = df_test"
   ]
  },
  {
   "cell_type": "code",
   "execution_count": 4,
   "metadata": {},
   "outputs": [
    {
     "data": {
      "text/plain": [
       "(420, 10)"
      ]
     },
     "execution_count": 4,
     "metadata": {},
     "output_type": "execute_result"
    }
   ],
   "source": [
    "train.shape"
   ]
  },
  {
   "cell_type": "code",
   "execution_count": 5,
   "metadata": {
    "colab": {
     "base_uri": "https://localhost:8080/",
     "height": 34
    },
    "colab_type": "code",
    "executionInfo": {
     "elapsed": 516,
     "status": "ok",
     "timestamp": 1562058530714,
     "user": {
      "displayName": "이동재",
      "photoUrl": "",
      "userId": "12052501428717228434"
     },
     "user_tz": -540
    },
    "id": "t8pTzpUVcq9z",
    "outputId": "f6d4f95b-36f9-4a7f-eddf-ef67301f6e4c"
   },
   "outputs": [
    {
     "data": {
      "text/plain": [
       "(279, 10)"
      ]
     },
     "execution_count": 5,
     "metadata": {},
     "output_type": "execute_result"
    }
   ],
   "source": [
    "test.shape"
   ]
  },
  {
   "cell_type": "code",
   "execution_count": 6,
   "metadata": {},
   "outputs": [
    {
     "data": {
      "text/html": [
       "<div>\n",
       "<style scoped>\n",
       "    .dataframe tbody tr th:only-of-type {\n",
       "        vertical-align: middle;\n",
       "    }\n",
       "\n",
       "    .dataframe tbody tr th {\n",
       "        vertical-align: top;\n",
       "    }\n",
       "\n",
       "    .dataframe thead th {\n",
       "        text-align: right;\n",
       "    }\n",
       "</style>\n",
       "<table border=\"1\" class=\"dataframe\">\n",
       "  <thead>\n",
       "    <tr style=\"text-align: right;\">\n",
       "      <th></th>\n",
       "      <th>Clump Thickness</th>\n",
       "      <th>Uniformity of Cell Size</th>\n",
       "      <th>Uniformity of Cell Shape</th>\n",
       "      <th>Marginal Adhesion</th>\n",
       "      <th>Single Epithelial Cell Size</th>\n",
       "      <th>Bare Nuclei</th>\n",
       "      <th>Bland Chromatin</th>\n",
       "      <th>Normal Nucleoli</th>\n",
       "      <th>Mitoses</th>\n",
       "      <th>class</th>\n",
       "    </tr>\n",
       "  </thead>\n",
       "  <tbody>\n",
       "    <tr>\n",
       "      <th>count</th>\n",
       "      <td>420.000000</td>\n",
       "      <td>420.000000</td>\n",
       "      <td>420.000000</td>\n",
       "      <td>420.000000</td>\n",
       "      <td>420.000000</td>\n",
       "      <td>420.000000</td>\n",
       "      <td>420.000000</td>\n",
       "      <td>420.000000</td>\n",
       "      <td>420.000000</td>\n",
       "      <td>420.000000</td>\n",
       "    </tr>\n",
       "    <tr>\n",
       "      <th>mean</th>\n",
       "      <td>4.466667</td>\n",
       "      <td>3.209524</td>\n",
       "      <td>3.238095</td>\n",
       "      <td>2.838095</td>\n",
       "      <td>3.266667</td>\n",
       "      <td>9.809524</td>\n",
       "      <td>3.438095</td>\n",
       "      <td>2.835714</td>\n",
       "      <td>1.635714</td>\n",
       "      <td>2.695238</td>\n",
       "    </tr>\n",
       "    <tr>\n",
       "      <th>std</th>\n",
       "      <td>2.788715</td>\n",
       "      <td>3.080295</td>\n",
       "      <td>3.004448</td>\n",
       "      <td>2.884818</td>\n",
       "      <td>2.278955</td>\n",
       "      <td>45.232330</td>\n",
       "      <td>2.446268</td>\n",
       "      <td>3.052314</td>\n",
       "      <td>1.790498</td>\n",
       "      <td>0.953564</td>\n",
       "    </tr>\n",
       "    <tr>\n",
       "      <th>min</th>\n",
       "      <td>1.000000</td>\n",
       "      <td>1.000000</td>\n",
       "      <td>1.000000</td>\n",
       "      <td>1.000000</td>\n",
       "      <td>1.000000</td>\n",
       "      <td>1.000000</td>\n",
       "      <td>1.000000</td>\n",
       "      <td>1.000000</td>\n",
       "      <td>1.000000</td>\n",
       "      <td>2.000000</td>\n",
       "    </tr>\n",
       "    <tr>\n",
       "      <th>25%</th>\n",
       "      <td>2.000000</td>\n",
       "      <td>1.000000</td>\n",
       "      <td>1.000000</td>\n",
       "      <td>1.000000</td>\n",
       "      <td>2.000000</td>\n",
       "      <td>1.000000</td>\n",
       "      <td>2.000000</td>\n",
       "      <td>1.000000</td>\n",
       "      <td>1.000000</td>\n",
       "      <td>2.000000</td>\n",
       "    </tr>\n",
       "    <tr>\n",
       "      <th>50%</th>\n",
       "      <td>4.000000</td>\n",
       "      <td>1.000000</td>\n",
       "      <td>1.000000</td>\n",
       "      <td>1.000000</td>\n",
       "      <td>2.000000</td>\n",
       "      <td>1.000000</td>\n",
       "      <td>3.000000</td>\n",
       "      <td>1.000000</td>\n",
       "      <td>1.000000</td>\n",
       "      <td>2.000000</td>\n",
       "    </tr>\n",
       "    <tr>\n",
       "      <th>75%</th>\n",
       "      <td>6.000000</td>\n",
       "      <td>5.000000</td>\n",
       "      <td>5.000000</td>\n",
       "      <td>4.000000</td>\n",
       "      <td>4.000000</td>\n",
       "      <td>7.000000</td>\n",
       "      <td>5.000000</td>\n",
       "      <td>3.000000</td>\n",
       "      <td>1.000000</td>\n",
       "      <td>4.000000</td>\n",
       "    </tr>\n",
       "    <tr>\n",
       "      <th>max</th>\n",
       "      <td>10.000000</td>\n",
       "      <td>10.000000</td>\n",
       "      <td>10.000000</td>\n",
       "      <td>10.000000</td>\n",
       "      <td>10.000000</td>\n",
       "      <td>333.000000</td>\n",
       "      <td>10.000000</td>\n",
       "      <td>10.000000</td>\n",
       "      <td>10.000000</td>\n",
       "      <td>4.000000</td>\n",
       "    </tr>\n",
       "  </tbody>\n",
       "</table>\n",
       "</div>"
      ],
      "text/plain": [
       "       Clump Thickness  Uniformity of Cell Size  Uniformity of Cell Shape  \\\n",
       "count       420.000000               420.000000                420.000000   \n",
       "mean          4.466667                 3.209524                  3.238095   \n",
       "std           2.788715                 3.080295                  3.004448   \n",
       "min           1.000000                 1.000000                  1.000000   \n",
       "25%           2.000000                 1.000000                  1.000000   \n",
       "50%           4.000000                 1.000000                  1.000000   \n",
       "75%           6.000000                 5.000000                  5.000000   \n",
       "max          10.000000                10.000000                 10.000000   \n",
       "\n",
       "       Marginal Adhesion  Single Epithelial Cell Size  Bare Nuclei  \\\n",
       "count         420.000000                   420.000000   420.000000   \n",
       "mean            2.838095                     3.266667     9.809524   \n",
       "std             2.884818                     2.278955    45.232330   \n",
       "min             1.000000                     1.000000     1.000000   \n",
       "25%             1.000000                     2.000000     1.000000   \n",
       "50%             1.000000                     2.000000     1.000000   \n",
       "75%             4.000000                     4.000000     7.000000   \n",
       "max            10.000000                    10.000000   333.000000   \n",
       "\n",
       "       Bland Chromatin  Normal Nucleoli     Mitoses       class  \n",
       "count       420.000000       420.000000  420.000000  420.000000  \n",
       "mean          3.438095         2.835714    1.635714    2.695238  \n",
       "std           2.446268         3.052314    1.790498    0.953564  \n",
       "min           1.000000         1.000000    1.000000    2.000000  \n",
       "25%           2.000000         1.000000    1.000000    2.000000  \n",
       "50%           3.000000         1.000000    1.000000    2.000000  \n",
       "75%           5.000000         3.000000    1.000000    4.000000  \n",
       "max          10.000000        10.000000   10.000000    4.000000  "
      ]
     },
     "execution_count": 6,
     "metadata": {},
     "output_type": "execute_result"
    }
   ],
   "source": [
    "train.describe()"
   ]
  },
  {
   "cell_type": "code",
   "execution_count": 7,
   "metadata": {},
   "outputs": [],
   "source": [
    "import seaborn\n",
    "import matplotlib.pyplot as plt\n",
    "\n",
    "def plot_df(df, name):\n",
    "  corr = df[df.columns].corr()\n",
    "  mask = np.zeros_like(corr, dtype=np.bool)\n",
    "  mask[np.triu_indices_from(mask)] = True\n",
    "  plt.figure(figsize=(20, 15))\n",
    "  seaborn.set(font_scale=1.2)\n",
    "  seaborn.heatmap(corr, mask=mask, center=0, annot=True,\n",
    "    square=True, linewidths=3, alpha=0.7)\n",
    "  plt.title(name)"
   ]
  },
  {
   "cell_type": "code",
   "execution_count": 8,
   "metadata": {},
   "outputs": [
    {
     "data": {
      "image/png": "[encoded data removed]",
      "text/plain": [
       "<Figure size 1440x1080 with 2 Axes>"
      ]
     },
     "metadata": {
      "needs_background": "light"
     },
     "output_type": "display_data"
    }
   ],
   "source": [
    "plot_df(train, 'Train')"
   ]
  },
  {
   "cell_type": "code",
   "execution_count": 9,
   "metadata": {
    "colab": {
     "base_uri": "https://localhost:8080/",
     "height": 140
    },
    "colab_type": "code",
    "executionInfo": {
     "elapsed": 569,
     "status": "ok",
     "timestamp": 1562058531066,
     "user": {
      "displayName": "이동재",
      "photoUrl": "",
      "userId": "12052501428717228434"
     },
     "user_tz": -540
    },
    "id": "NSjRKJko-Dcv",
    "outputId": "0e325a9e-d3d5-47a6-9df5-82990cb06120"
   },
   "outputs": [
    {
     "name": "stdout",
     "output_type": "stream",
     "text": [
      "Index(['Clump Thickness', 'Uniformity of Cell Size',\n",
      "       'Uniformity of Cell Shape', 'Marginal Adhesion',\n",
      "       'Single Epithelial Cell Size', 'Bare Nuclei', 'Bland Chromatin',\n",
      "       'Normal Nucleoli', 'Mitoses', 'class'],\n",
      "      dtype='object')\n"
     ]
    }
   ],
   "source": [
    "print(train.columns)"
   ]
  },
  {
   "cell_type": "code",
   "execution_count": 10,
   "metadata": {
    "colab": {
     "base_uri": "https://localhost:8080/",
     "height": 34
    },
    "colab_type": "code",
    "executionInfo": {
     "elapsed": 5744,
     "status": "ok",
     "timestamp": 1562058536952,
     "user": {
      "displayName": "이동재",
      "photoUrl": "",
      "userId": "12052501428717228434"
     },
     "user_tz": -540
    },
    "id": "7VLAjJXm-xpB",
    "outputId": "ec729c6a-a9cb-42d4-f774-0e1567be953f"
   },
   "outputs": [
    {
     "name": "stdout",
     "output_type": "stream",
     "text": [
      "Chooese the class: class\n"
     ]
    }
   ],
   "source": [
    "class_name = input(\"Chooese the class: \")"
   ]
  },
  {
   "cell_type": "code",
   "execution_count": 11,
   "metadata": {
    "colab": {},
    "colab_type": "code",
    "id": "DgUHg4ED3uWO"
   },
   "outputs": [],
   "source": [
    "minmax_scaler = MinMaxScaler()\n",
    "standard_scaler = StandardScaler()"
   ]
  },
  {
   "cell_type": "code",
   "execution_count": 12,
   "metadata": {
    "colab": {
     "base_uri": "https://localhost:8080/",
     "height": 34
    },
    "colab_type": "code",
    "executionInfo": {
     "elapsed": 1164,
     "status": "ok",
     "timestamp": 1562058540201,
     "user": {
      "displayName": "이동재",
      "photoUrl": "",
      "userId": "12052501428717228434"
     },
     "user_tz": -540
    },
    "id": "6x0W2mAC-wgw",
    "outputId": "a933e1c2-64cc-449e-cc01-a66b8b1b4a92"
   },
   "outputs": [
    {
     "name": "stdout",
     "output_type": "stream",
     "text": [
      "2\n"
     ]
    }
   ],
   "source": [
    "tr_ans = train[class_name]\n",
    "ts_ans = test[class_name]\n",
    "class_count = len(tr_ans.unique())\n",
    "print(class_count)"
   ]
  },
  {
   "cell_type": "code",
   "execution_count": 13,
   "metadata": {
    "colab": {},
    "colab_type": "code",
    "id": "WnKjCuCfAguo"
   },
   "outputs": [],
   "source": [
    "tr_data = train.drop([class_name], axis=1)\n",
    "ts_data = test.drop([class_name], axis=1)"
   ]
  },
  {
   "cell_type": "code",
   "execution_count": 14,
   "metadata": {
    "colab": {
     "base_uri": "https://localhost:8080/",
     "height": 72
    },
    "colab_type": "code",
    "executionInfo": {
     "elapsed": 723,
     "status": "ok",
     "timestamp": 1562058547225,
     "user": {
      "displayName": "이동재",
      "photoUrl": "",
      "userId": "12052501428717228434"
     },
     "user_tz": -540
    },
    "id": "lmjXkka1Lucy",
    "outputId": "7edc3aec-a0fa-4a33-d09b-1931e2d1fb27"
   },
   "outputs": [],
   "source": [
    "# #결측치 채우기 if 결측치가 0일 경우\n",
    "\n",
    "# from sklearn.impute import SimpleImputer\n",
    "\n",
    "# rep_0 = SimpleImputer(missing_values=0, strategy=\"mean\")\n",
    "\n",
    "# tr_data = rep_0.fit_transform(tr_data)\n",
    "# ts_data = rep_0.fit_transform(ts_data)\n",
    "\n",
    "#결측치 채우기 if 결측치가 ?일 경우 - 먼저 ?를 특정한수(ex.333)으로 변경\n",
    "\n",
    "from sklearn.impute import SimpleImputer\n",
    "\n",
    "rep_0 = SimpleImputer(missing_values=333, strategy=\"mean\")\n",
    "\n",
    "tr_data = rep_0.fit_transform(tr_data)\n",
    "ts_data = rep_0.fit_transform(ts_data)"
   ]
  },
  {
   "cell_type": "code",
   "execution_count": 15,
   "metadata": {
    "colab": {},
    "colab_type": "code",
    "id": "Z_Yw0W7eAmgw"
   },
   "outputs": [],
   "source": [
    "mm_tr_data = minmax_scaler.fit_transform(tr_data)\n",
    "mm_ts_data = minmax_scaler.transform(ts_data)\n",
    "std_tr_data = standard_scaler.fit_transform(tr_data)\n",
    "std_ts_data = standard_scaler.transform(ts_data)\n",
    "tr_ans = np.array(tr_ans)\n",
    "ts_ans = np.array(ts_ans)"
   ]
  },
  {
   "cell_type": "code",
   "execution_count": 16,
   "metadata": {
    "colab": {
     "base_uri": "https://localhost:8080/",
     "height": 386
    },
    "colab_type": "code",
    "executionInfo": {
     "elapsed": 712,
     "status": "ok",
     "timestamp": 1562058552746,
     "user": {
      "displayName": "이동재",
      "photoUrl": "",
      "userId": "12052501428717228434"
     },
     "user_tz": -540
    },
    "id": "Rz4XG4MMOHGu",
    "outputId": "70f5c169-28bc-4010-ae83-14209e83d278"
   },
   "outputs": [
    {
     "data": {
      "text/plain": [
       "array([2, 2, 2, 2, 2, 2, 2, 4, 2, 4, 2, 4, 4, 2, 4, 2, 2, 2, 4, 2, 4, 2,\n",
       "       4, 4, 4, 4, 2, 4, 4, 4, 4, 4, 4, 4, 2, 4, 2, 2, 4, 4, 4, 2, 2, 2,\n",
       "       2, 4, 4, 2, 2, 2, 2, 2, 4, 4, 4, 2, 4, 4, 4, 4, 4, 2, 4, 4, 4, 2,\n",
       "       4, 2, 2, 2, 4, 2, 4, 2, 2, 2, 2, 2, 2, 2, 4, 2, 4, 4, 2, 2, 4, 4,\n",
       "       2, 2, 4, 4, 2, 2, 4, 4, 2, 4, 4, 2, 2, 4, 2, 4, 2, 4, 2, 2, 2, 2,\n",
       "       4, 4, 2, 2, 2, 4, 4, 2, 4, 4, 2, 4, 4, 2, 2, 4, 2, 4, 4, 4, 2, 2,\n",
       "       4, 4, 4, 2, 2, 2, 2, 2, 2, 2, 4, 4, 2, 4, 4, 4, 4, 4, 4, 2, 4, 2,\n",
       "       2, 4, 4, 4, 4, 2, 2, 4, 2, 2, 4, 4, 4, 2, 4, 2, 2, 2, 2, 2, 4, 2,\n",
       "       2, 2, 4, 4, 2, 2, 4, 4, 2, 4, 2, 2, 4, 2, 2, 2, 2, 4, 4, 2, 2, 2,\n",
       "       4, 2, 4, 4, 4, 2, 2, 2, 2, 4, 2, 2, 2, 2, 2, 2, 2, 2, 2, 2, 2, 4,\n",
       "       2, 2, 2, 2, 2, 4, 2, 2, 2, 2, 2, 4, 2, 4, 4, 2, 2, 4, 2, 2, 2, 4,\n",
       "       2, 2, 2, 2, 4, 2, 2, 2, 4, 2, 2, 2, 2, 4, 2, 2, 2, 4, 4, 2, 2, 2,\n",
       "       2, 4, 4, 2, 2, 2, 2, 2, 2, 2, 2, 2, 4, 2, 2, 4, 4, 2, 2, 2, 4, 4,\n",
       "       4, 2, 4, 2, 2, 2, 2, 2, 2, 2, 2, 2, 4, 2, 2, 2, 2, 2, 2, 4, 2, 2,\n",
       "       4, 2, 2, 2, 2, 2, 2, 2, 2, 2, 2, 2, 2, 2, 2, 4, 2, 2, 4, 2, 2, 2,\n",
       "       2, 2, 2, 2, 2, 2, 4, 2, 2, 4, 2, 4, 2, 2, 2, 2, 2, 4, 2, 2, 2, 4,\n",
       "       2, 2, 4, 2, 2, 2, 2, 4, 4, 2, 4, 2, 4, 4, 2, 2, 2, 2, 2, 2, 2, 2,\n",
       "       2, 2, 2, 4, 2, 2, 2, 2, 2, 2, 2, 2, 2, 4, 2, 2, 2, 2, 2, 2, 4, 2,\n",
       "       2, 2, 2, 2, 4, 4, 2, 2, 2, 2, 4, 2, 2, 2, 2, 2, 2, 4, 2, 2, 2, 4,\n",
       "       4, 4], dtype=int64)"
      ]
     },
     "execution_count": 16,
     "metadata": {},
     "output_type": "execute_result"
    }
   ],
   "source": [
    "tr_ans"
   ]
  },
  {
   "cell_type": "code",
   "execution_count": 17,
   "metadata": {
    "colab": {},
    "colab_type": "code",
    "id": "F0_cae6XOksE"
   },
   "outputs": [],
   "source": [
    "import tensorflow as tf\n",
    "from sklearn.model_selection import GridSearchCV\n",
    "from sklearn.model_selection import RandomizedSearchCV\n",
    "from sklearn.model_selection import ParameterGrid\n",
    "from sklearn.metrics import precision_score, recall_score, f1_score, accuracy_score\n",
    "from tensorflow.keras.wrappers.scikit_learn import KerasClassifier\n",
    "from tensorflow.keras.models import Sequential\n",
    "from tensorflow.keras.layers import Dense\n",
    "from tensorflow.keras.layers import Activation\n",
    "from tensorflow.keras.layers import BatchNormalization\n",
    "from tensorflow.keras.layers import Dropout\n",
    "from sklearn import metrics\n",
    "from tensorflow.keras.regularizers import l2\n"
   ]
  },
  {
   "cell_type": "code",
   "execution_count": 18,
   "metadata": {
    "colab": {},
    "colab_type": "code",
    "id": "K8FW6kBo7uPs"
   },
   "outputs": [],
   "source": [
    "from sklearn.metrics import precision_recall_fscore_support\n",
    "from sklearn.metrics import confusion_matrix"
   ]
  },
  {
   "cell_type": "code",
   "execution_count": 19,
   "metadata": {
    "colab": {},
    "colab_type": "code",
    "id": "CHrsnp0Tq8CA"
   },
   "outputs": [],
   "source": [
    "# real Version\n",
    "\n",
    "\n",
    "def create_model(hidden_layers = 1, neurons =1, init_mode = 'uniform', \n",
    "                 activation = 'elu', kernel_regularizer=l2(0.001)):\n",
    "  model = Sequential()\n",
    "  model.add(Dense(neurons, input_dim=len(mm_tr_data.T), kernel_initializer=init_mode, activation=activation))\n",
    "  for i in range(hidden_layers):\n",
    "    \n",
    "    model.add(Dense(neurons, kernel_initializer=init_mode, kernel_regularizer=kernel_regularizer))\n",
    "    model.add(BatchNormalization())\n",
    "    model.add(Activation(activation))\n",
    "    model.add(Dropout(0.2))\n",
    "  \n",
    "  if class_count == 2:  \n",
    "    model.add(Dense(1,activation='sigmoid'))\n",
    "    model.compile(loss='binary_crossentropy', optimizer='adam', metrics=['accuracy'])\n",
    "  elif class_count != 2:\n",
    "    model.add(Dense(class_count, activation='softmax'))\n",
    "    model.compile(loss='sparse_categorical_crossentropy', optimizer='adam', metrics=['sparse_categorical_accuracy'])\n",
    "  return model"
   ]
  },
  {
   "cell_type": "code",
   "execution_count": 20,
   "metadata": {},
   "outputs": [],
   "source": [
    "keras_model = KerasClassifier(build_fn=create_model, epochs=64, batch_size=16)"
   ]
  },
  {
   "cell_type": "code",
   "execution_count": 21,
   "metadata": {},
   "outputs": [],
   "source": [
    "leaky_relu = tf.nn.leaky_relu\n",
    "hidden_layers = [4,8,12]\n",
    "neurons = [32, 64, 128]\n",
    "activation = ['elu', leaky_relu]\n",
    "init_mode = ['glorot_uniform', 'he_normal']"
   ]
  },
  {
   "cell_type": "code",
   "execution_count": 22,
   "metadata": {},
   "outputs": [],
   "source": [
    "param_grid = dict(hidden_layers = hidden_layers, neurons = neurons, init_mode = init_mode, activation = activation)\n",
    "minmax_grid = GridSearchCV(estimator=keras_model, param_grid=param_grid, n_jobs= -1, cv=3)\n",
    "std_grid = GridSearchCV(estimator=keras_model, param_grid=param_grid, n_jobs= -1, cv=3)"
   ]
  },
  {
   "cell_type": "code",
   "execution_count": 23,
   "metadata": {},
   "outputs": [],
   "source": [
    "import warnings\n",
    "warnings.filterwarnings(\"ignore\")"
   ]
  },
  {
   "cell_type": "code",
   "execution_count": 24,
   "metadata": {},
   "outputs": [
    {
     "name": "stdout",
     "output_type": "stream",
     "text": [
      "WARNING:tensorflow:From C:\\Users\\ai\\Anaconda3\\lib\\site-packages\\tensorflow\\python\\ops\\resource_variable_ops.py:435: colocate_with (from tensorflow.python.framework.ops) is deprecated and will be removed in a future version.\n",
      "Instructions for updating:\n",
      "Colocations handled automatically by placer.\n",
      "WARNING:tensorflow:From C:\\Users\\ai\\Anaconda3\\lib\\site-packages\\tensorflow\\python\\keras\\layers\\core.py:143: calling dropout (from tensorflow.python.ops.nn_ops) with keep_prob is deprecated and will be removed in a future version.\n",
      "Instructions for updating:\n",
      "Please use `rate` instead of `keep_prob`. Rate should be set to `rate = 1 - keep_prob`.\n",
      "WARNING:tensorflow:From C:\\Users\\ai\\Anaconda3\\lib\\site-packages\\tensorflow\\python\\ops\\math_ops.py:3066: to_int32 (from tensorflow.python.ops.math_ops) is deprecated and will be removed in a future version.\n",
      "Instructions for updating:\n",
      "Use tf.cast instead.\n",
      "Epoch 1/64\n",
      "420/420 [==============================] - 7s 17ms/sample - loss: 1.9894 - acc: 0.8119\n",
      "Epoch 2/64\n",
      "420/420 [==============================] - 1s 2ms/sample - loss: 1.7630 - acc: 0.9119\n",
      "Epoch 3/64\n",
      "420/420 [==============================] - 1s 2ms/sample - loss: 1.7308 - acc: 0.9167\n",
      "Epoch 4/64\n",
      "420/420 [==============================] - 1s 3ms/sample - loss: 1.6852 - acc: 0.9381 0s - loss: 1.7319 - \n",
      "Epoch 5/64\n",
      "420/420 [==============================] - 1s 2ms/sample - loss: 1.7178 - acc: 0.9286\n",
      "Epoch 6/64\n",
      "420/420 [==============================] - 1s 2ms/sample - loss: 1.7080 - acc: 0.9190\n",
      "Epoch 7/64\n",
      "420/420 [==============================] - 1s 2ms/sample - loss: 1.6436 - acc: 0.9405\n",
      "Epoch 8/64\n",
      "420/420 [==============================] - 1s 3ms/sample - loss: 1.6072 - acc: 0.9476\n",
      "Epoch 9/64\n",
      "420/420 [==============================] - 1s 3ms/sample - loss: 1.6264 - acc: 0.9286\n",
      "Epoch 10/64\n",
      "420/420 [==============================] - 1s 2ms/sample - loss: 1.6015 - acc: 0.9500\n",
      "Epoch 11/64\n",
      "420/420 [==============================] - 1s 3ms/sample - loss: 1.6213 - acc: 0.9310\n",
      "Epoch 12/64\n",
      "420/420 [==============================] - 1s 3ms/sample - loss: 1.6151 - acc: 0.9405\n",
      "Epoch 13/64\n",
      "420/420 [==============================] - 1s 3ms/sample - loss: 1.5606 - acc: 0.9405 0s - loss: 1.5585 - acc: 0.9\n",
      "Epoch 14/64\n",
      "420/420 [==============================] - 1s 2ms/sample - loss: 1.6335 - acc: 0.9143\n",
      "Epoch 15/64\n",
      "420/420 [==============================] - 1s 3ms/sample - loss: 1.5375 - acc: 0.9524\n",
      "Epoch 16/64\n",
      "420/420 [==============================] - 1s 3ms/sample - loss: 1.5369 - acc: 0.9381\n",
      "Epoch 17/64\n",
      "420/420 [==============================] - 1s 3ms/sample - loss: 1.5353 - acc: 0.9476\n",
      "Epoch 18/64\n",
      "420/420 [==============================] - 1s 3ms/sample - loss: 1.4889 - acc: 0.9452\n",
      "Epoch 19/64\n",
      "420/420 [==============================] - 1s 3ms/sample - loss: 1.4918 - acc: 0.9310 0s - loss: 1.4704 - acc: \n",
      "Epoch 20/64\n",
      "420/420 [==============================] - 1s 3ms/sample - loss: 1.4343 - acc: 0.9595\n",
      "Epoch 21/64\n",
      "420/420 [==============================] - 1s 3ms/sample - loss: 1.4446 - acc: 0.9452\n",
      "Epoch 22/64\n",
      "420/420 [==============================] - 1s 3ms/sample - loss: 1.4415 - acc: 0.9405\n",
      "Epoch 23/64\n",
      "420/420 [==============================] - 1s 3ms/sample - loss: 1.3699 - acc: 0.9595\n",
      "Epoch 24/64\n",
      "420/420 [==============================] - 1s 3ms/sample - loss: 1.4195 - acc: 0.9357\n",
      "Epoch 25/64\n",
      "420/420 [==============================] - 1s 3ms/sample - loss: 1.4206 - acc: 0.9310\n",
      "Epoch 26/64\n",
      "420/420 [==============================] - 1s 3ms/sample - loss: 1.3906 - acc: 0.9286\n",
      "Epoch 27/64\n",
      "420/420 [==============================] - 1s 3ms/sample - loss: 1.3135 - acc: 0.9595\n",
      "Epoch 28/64\n",
      "420/420 [==============================] - 1s 3ms/sample - loss: 1.3197 - acc: 0.9452\n",
      "Epoch 29/64\n",
      "420/420 [==============================] - 1s 3ms/sample - loss: 1.3186 - acc: 0.9452\n",
      "Epoch 30/64\n",
      "420/420 [==============================] - 1s 3ms/sample - loss: 1.2386 - acc: 0.9619\n",
      "Epoch 31/64\n",
      "420/420 [==============================] - 1s 3ms/sample - loss: 1.2243 - acc: 0.9714\n",
      "Epoch 32/64\n",
      "420/420 [==============================] - 1s 3ms/sample - loss: 1.2262 - acc: 0.9500\n",
      "Epoch 33/64\n",
      "420/420 [==============================] - 1s 3ms/sample - loss: 1.2357 - acc: 0.9476\n",
      "Epoch 34/64\n",
      "420/420 [==============================] - 1s 3ms/sample - loss: 1.2215 - acc: 0.9548\n",
      "Epoch 35/64\n",
      "420/420 [==============================] - 1s 3ms/sample - loss: 1.2273 - acc: 0.9214\n",
      "Epoch 36/64\n",
      "420/420 [==============================] - 1s 3ms/sample - loss: 1.2075 - acc: 0.9500\n",
      "Epoch 37/64\n",
      "420/420 [==============================] - 1s 3ms/sample - loss: 1.1855 - acc: 0.9405\n",
      "Epoch 38/64\n",
      "420/420 [==============================] - 1s 4ms/sample - loss: 1.1743 - acc: 0.9429\n",
      "Epoch 39/64\n",
      "420/420 [==============================] - 1s 4ms/sample - loss: 1.1649 - acc: 0.9476\n",
      "Epoch 40/64\n",
      "420/420 [==============================] - 1s 4ms/sample - loss: 1.1508 - acc: 0.9524\n",
      "Epoch 41/64\n",
      "420/420 [==============================] - 1s 4ms/sample - loss: 1.1484 - acc: 0.9262\n",
      "Epoch 42/64\n",
      "420/420 [==============================] - 1s 4ms/sample - loss: 1.0570 - acc: 0.9690\n",
      "Epoch 43/64\n",
      "420/420 [==============================] - 1s 3ms/sample - loss: 1.0305 - acc: 0.9667\n",
      "Epoch 44/64\n",
      "420/420 [==============================] - 1s 3ms/sample - loss: 1.0798 - acc: 0.9500\n",
      "Epoch 45/64\n",
      "420/420 [==============================] - 1s 3ms/sample - loss: 1.0323 - acc: 0.9571\n",
      "Epoch 46/64\n",
      "420/420 [==============================] - 1s 3ms/sample - loss: 1.0371 - acc: 0.9476\n",
      "Epoch 47/64\n",
      "420/420 [==============================] - 1s 3ms/sample - loss: 0.9826 - acc: 0.9619\n",
      "Epoch 48/64\n",
      "420/420 [==============================] - 1s 3ms/sample - loss: 1.0441 - acc: 0.9452\n",
      "Epoch 49/64\n",
      "420/420 [==============================] - 1s 3ms/sample - loss: 0.9705 - acc: 0.9667\n",
      "Epoch 50/64\n",
      "420/420 [==============================] - 1s 4ms/sample - loss: 0.9645 - acc: 0.9548\n",
      "Epoch 51/64\n",
      "420/420 [==============================] - 1s 3ms/sample - loss: 0.9457 - acc: 0.9452\n",
      "Epoch 52/64\n",
      "420/420 [==============================] - 1s 3ms/sample - loss: 0.9718 - acc: 0.9476\n",
      "Epoch 53/64\n",
      "420/420 [==============================] - 1s 3ms/sample - loss: 0.9642 - acc: 0.9476 0s - loss: 0.9526 - acc: 0.9\n",
      "Epoch 54/64\n",
      "420/420 [==============================] - 1s 3ms/sample - loss: 0.9657 - acc: 0.9214\n",
      "Epoch 55/64\n",
      "420/420 [==============================] - 1s 3ms/sample - loss: 0.9138 - acc: 0.9595\n",
      "Epoch 56/64\n",
      "420/420 [==============================] - 1s 3ms/sample - loss: 0.8785 - acc: 0.9571 1s - los\n",
      "Epoch 57/64\n",
      "420/420 [==============================] - 1s 3ms/sample - loss: 0.8718 - acc: 0.9452\n",
      "Epoch 58/64\n",
      "420/420 [==============================] - 1s 3ms/sample - loss: 0.8638 - acc: 0.9571\n",
      "Epoch 59/64\n",
      "420/420 [==============================] - 1s 4ms/sample - loss: 0.8473 - acc: 0.9524 0s - loss: 0.8459 - acc: 0. - ETA: 0s - loss: 0.8389 - acc: 0.949 - ETA: 0s - loss: 0.8346 - a\n",
      "Epoch 60/64\n",
      "420/420 [==============================] - 1s 3ms/sample - loss: 0.8293 - acc: 0.9571\n",
      "Epoch 61/64\n",
      "420/420 [==============================] - 1s 3ms/sample - loss: 0.8463 - acc: 0.9500\n",
      "Epoch 62/64\n",
      "420/420 [==============================] - 1s 3ms/sample - loss: 0.8107 - acc: 0.9429\n",
      "Epoch 63/64\n",
      "420/420 [==============================] - 1s 3ms/sample - loss: 0.7993 - acc: 0.9524\n",
      "Epoch 64/64\n",
      "420/420 [==============================] - 1s 3ms/sample - loss: 0.7551 - acc: 0.9595\n"
     ]
    }
   ],
   "source": [
    "minmax_grid_result = minmax_grid.fit(mm_tr_data, tr_ans)"
   ]
  },
  {
   "cell_type": "code",
   "execution_count": 25,
   "metadata": {},
   "outputs": [
    {
     "name": "stdout",
     "output_type": "stream",
     "text": [
      "Epoch 1/64\n",
      "420/420 [==============================] - 5s 12ms/sample - loss: 1.1942 - acc: 0.6333\n",
      "Epoch 2/64\n",
      "420/420 [==============================] - 0s 612us/sample - loss: 0.9571 - acc: 0.8119\n",
      "Epoch 3/64\n",
      "420/420 [==============================] - 0s 648us/sample - loss: 0.8756 - acc: 0.8643\n",
      "Epoch 4/64\n",
      "420/420 [==============================] - 0s 576us/sample - loss: 0.8113 - acc: 0.8857\n",
      "Epoch 5/64\n",
      "420/420 [==============================] - 0s 645us/sample - loss: 0.7538 - acc: 0.9286\n",
      "Epoch 6/64\n",
      "420/420 [==============================] - 0s 693us/sample - loss: 0.7717 - acc: 0.8929\n",
      "Epoch 7/64\n",
      "420/420 [==============================] - 0s 645us/sample - loss: 0.7222 - acc: 0.9190\n",
      "Epoch 8/64\n",
      "420/420 [==============================] - 0s 631us/sample - loss: 0.7288 - acc: 0.9214\n",
      "Epoch 9/64\n",
      "420/420 [==============================] - 0s 665us/sample - loss: 0.6835 - acc: 0.9452\n",
      "Epoch 10/64\n",
      "420/420 [==============================] - 0s 711us/sample - loss: 0.6608 - acc: 0.9429\n",
      "Epoch 11/64\n",
      "420/420 [==============================] - 0s 631us/sample - loss: 0.6710 - acc: 0.9333\n",
      "Epoch 12/64\n",
      "420/420 [==============================] - 0s 702us/sample - loss: 0.6538 - acc: 0.9571\n",
      "Epoch 13/64\n",
      "420/420 [==============================] - 0s 667us/sample - loss: 0.6193 - acc: 0.9548\n",
      "Epoch 14/64\n",
      "420/420 [==============================] - 0s 643us/sample - loss: 0.6141 - acc: 0.9571\n",
      "Epoch 15/64\n",
      "420/420 [==============================] - 0s 600us/sample - loss: 0.6439 - acc: 0.9381\n",
      "Epoch 16/64\n",
      "420/420 [==============================] - 0s 648us/sample - loss: 0.6398 - acc: 0.9405\n",
      "Epoch 17/64\n",
      "420/420 [==============================] - 0s 645us/sample - loss: 0.6068 - acc: 0.9524\n",
      "Epoch 18/64\n",
      "420/420 [==============================] - 0s 643us/sample - loss: 0.5546 - acc: 0.9690\n",
      "Epoch 19/64\n",
      "420/420 [==============================] - 0s 683us/sample - loss: 0.6307 - acc: 0.9381\n",
      "Epoch 20/64\n",
      "420/420 [==============================] - 0s 605us/sample - loss: 0.5991 - acc: 0.9357\n",
      "Epoch 21/64\n",
      "420/420 [==============================] - 0s 657us/sample - loss: 0.5998 - acc: 0.9500\n",
      "Epoch 22/64\n",
      "420/420 [==============================] - 0s 652us/sample - loss: 0.5831 - acc: 0.9571\n",
      "Epoch 23/64\n",
      "420/420 [==============================] - 0s 574us/sample - loss: 0.5945 - acc: 0.9452\n",
      "Epoch 24/64\n",
      "420/420 [==============================] - 0s 736us/sample - loss: 0.5912 - acc: 0.9476\n",
      "Epoch 25/64\n",
      "420/420 [==============================] - 0s 671us/sample - loss: 0.6338 - acc: 0.9333\n",
      "Epoch 26/64\n",
      "420/420 [==============================] - 0s 657us/sample - loss: 0.5319 - acc: 0.9619\n",
      "Epoch 27/64\n",
      "420/420 [==============================] - 0s 650us/sample - loss: 0.6357 - acc: 0.9357\n",
      "Epoch 28/64\n",
      "420/420 [==============================] - 0s 674us/sample - loss: 0.5523 - acc: 0.9524\n",
      "Epoch 29/64\n",
      "420/420 [==============================] - 0s 683us/sample - loss: 0.5980 - acc: 0.9429\n",
      "Epoch 30/64\n",
      "420/420 [==============================] - 0s 774us/sample - loss: 0.5344 - acc: 0.9643\n",
      "Epoch 31/64\n",
      "420/420 [==============================] - 0s 669us/sample - loss: 0.5914 - acc: 0.9381\n",
      "Epoch 32/64\n",
      "420/420 [==============================] - 0s 669us/sample - loss: 0.5703 - acc: 0.9500\n",
      "Epoch 33/64\n",
      "420/420 [==============================] - 0s 669us/sample - loss: 0.5605 - acc: 0.9548\n",
      "Epoch 34/64\n",
      "420/420 [==============================] - 0s 671us/sample - loss: 0.4882 - acc: 0.9738\n",
      "Epoch 35/64\n",
      "420/420 [==============================] - 0s 693us/sample - loss: 0.5276 - acc: 0.9571\n",
      "Epoch 36/64\n",
      "420/420 [==============================] - 0s 691us/sample - loss: 0.5490 - acc: 0.9476\n",
      "Epoch 37/64\n",
      "420/420 [==============================] - 0s 633us/sample - loss: 0.5212 - acc: 0.9524\n",
      "Epoch 38/64\n",
      "420/420 [==============================] - 0s 603us/sample - loss: 0.5033 - acc: 0.9571\n",
      "Epoch 39/64\n",
      "420/420 [==============================] - 0s 612us/sample - loss: 0.5089 - acc: 0.9548\n",
      "Epoch 40/64\n",
      "420/420 [==============================] - 0s 600us/sample - loss: 0.5110 - acc: 0.9595\n",
      "Epoch 41/64\n",
      "420/420 [==============================] - 0s 883us/sample - loss: 0.5234 - acc: 0.9500\n",
      "Epoch 42/64\n",
      "420/420 [==============================] - 0s 633us/sample - loss: 0.4836 - acc: 0.9571\n",
      "Epoch 43/64\n",
      "420/420 [==============================] - 0s 621us/sample - loss: 0.4774 - acc: 0.9476\n",
      "Epoch 44/64\n",
      "420/420 [==============================] - 0s 628us/sample - loss: 0.4700 - acc: 0.9595\n",
      "Epoch 45/64\n",
      "420/420 [==============================] - 0s 621us/sample - loss: 0.4675 - acc: 0.9548\n",
      "Epoch 46/64\n",
      "420/420 [==============================] - 0s 610us/sample - loss: 0.5786 - acc: 0.9357\n",
      "Epoch 47/64\n",
      "420/420 [==============================] - 0s 614us/sample - loss: 0.5037 - acc: 0.9571\n",
      "Epoch 48/64\n",
      "420/420 [==============================] - 0s 620us/sample - loss: 0.4468 - acc: 0.9595\n",
      "Epoch 49/64\n",
      "420/420 [==============================] - 0s 631us/sample - loss: 0.4815 - acc: 0.9524\n",
      "Epoch 50/64\n",
      "420/420 [==============================] - 0s 610us/sample - loss: 0.4710 - acc: 0.9571\n",
      "Epoch 51/64\n",
      "420/420 [==============================] - 0s 648us/sample - loss: 0.4991 - acc: 0.9524\n",
      "Epoch 52/64\n",
      "420/420 [==============================] - 0s 607us/sample - loss: 0.4508 - acc: 0.9595\n",
      "Epoch 53/64\n",
      "420/420 [==============================] - 0s 612us/sample - loss: 0.4979 - acc: 0.9405\n",
      "Epoch 54/64\n",
      "420/420 [==============================] - 0s 641us/sample - loss: 0.4558 - acc: 0.9476\n",
      "Epoch 55/64\n",
      "420/420 [==============================] - 0s 612us/sample - loss: 0.4229 - acc: 0.9690\n",
      "Epoch 56/64\n",
      "420/420 [==============================] - 0s 638us/sample - loss: 0.4505 - acc: 0.9595\n",
      "Epoch 57/64\n",
      "420/420 [==============================] - 0s 631us/sample - loss: 0.4912 - acc: 0.9381\n",
      "Epoch 58/64\n",
      "420/420 [==============================] - 0s 619us/sample - loss: 0.4712 - acc: 0.9357\n",
      "Epoch 59/64\n",
      "420/420 [==============================] - 0s 626us/sample - loss: 0.4112 - acc: 0.9690\n",
      "Epoch 60/64\n",
      "420/420 [==============================] - 0s 629us/sample - loss: 0.4139 - acc: 0.9595\n",
      "Epoch 61/64\n",
      "420/420 [==============================] - 0s 643us/sample - loss: 0.4504 - acc: 0.9452\n",
      "Epoch 62/64\n",
      "420/420 [==============================] - 0s 633us/sample - loss: 0.4303 - acc: 0.9571\n",
      "Epoch 63/64\n",
      "420/420 [==============================] - 0s 641us/sample - loss: 0.4518 - acc: 0.9452\n",
      "Epoch 64/64\n",
      "420/420 [==============================] - 0s 648us/sample - loss: 0.4129 - acc: 0.9548\n"
     ]
    }
   ],
   "source": [
    "std_grid_result = std_grid.fit(std_tr_data, tr_ans)"
   ]
  },
  {
   "cell_type": "code",
   "execution_count": 26,
   "metadata": {
    "scrolled": true
   },
   "outputs": [
    {
     "name": "stdout",
     "output_type": "stream",
     "text": [
      "Scaler = minmax\n",
      "Best: 0.966667 using {'activation': 'elu', 'hidden_layers': 12, 'init_mode': 'glorot_uniform', 'neurons': 128}\n",
      "0.954762 (0.029928) with: {'activation': 'elu', 'hidden_layers': 4, 'init_mode': 'glorot_uniform', 'neurons': 32}\n",
      "0.947619 (0.026298) with: {'activation': 'elu', 'hidden_layers': 4, 'init_mode': 'glorot_uniform', 'neurons': 64}\n",
      "0.964286 (0.015430) with: {'activation': 'elu', 'hidden_layers': 4, 'init_mode': 'glorot_uniform', 'neurons': 128}\n",
      "0.950000 (0.032472) with: {'activation': 'elu', 'hidden_layers': 4, 'init_mode': 'he_normal', 'neurons': 32}\n",
      "0.952381 (0.023570) with: {'activation': 'elu', 'hidden_layers': 4, 'init_mode': 'he_normal', 'neurons': 64}\n",
      "0.952381 (0.029354) with: {'activation': 'elu', 'hidden_layers': 4, 'init_mode': 'he_normal', 'neurons': 128}\n",
      "0.959524 (0.017817) with: {'activation': 'elu', 'hidden_layers': 8, 'init_mode': 'glorot_uniform', 'neurons': 32}\n",
      "0.954762 (0.024281) with: {'activation': 'elu', 'hidden_layers': 8, 'init_mode': 'glorot_uniform', 'neurons': 64}\n",
      "0.952381 (0.029354) with: {'activation': 'elu', 'hidden_layers': 8, 'init_mode': 'glorot_uniform', 'neurons': 128}\n",
      "0.952381 (0.023570) with: {'activation': 'elu', 'hidden_layers': 8, 'init_mode': 'he_normal', 'neurons': 32}\n",
      "0.952381 (0.027562) with: {'activation': 'elu', 'hidden_layers': 8, 'init_mode': 'he_normal', 'neurons': 64}\n",
      "0.959524 (0.012141) with: {'activation': 'elu', 'hidden_layers': 8, 'init_mode': 'he_normal', 'neurons': 128}\n",
      "0.964286 (0.017496) with: {'activation': 'elu', 'hidden_layers': 12, 'init_mode': 'glorot_uniform', 'neurons': 32}\n",
      "0.954762 (0.029928) with: {'activation': 'elu', 'hidden_layers': 12, 'init_mode': 'glorot_uniform', 'neurons': 64}\n",
      "0.966667 (0.014677) with: {'activation': 'elu', 'hidden_layers': 12, 'init_mode': 'glorot_uniform', 'neurons': 128}\n",
      "0.964286 (0.017496) with: {'activation': 'elu', 'hidden_layers': 12, 'init_mode': 'he_normal', 'neurons': 32}\n",
      "0.954762 (0.029928) with: {'activation': 'elu', 'hidden_layers': 12, 'init_mode': 'he_normal', 'neurons': 64}\n",
      "0.961905 (0.017817) with: {'activation': 'elu', 'hidden_layers': 12, 'init_mode': 'he_normal', 'neurons': 128}\n",
      "0.950000 (0.030861) with: {'activation': <function leaky_relu at 0x000000000D0EF2F0>, 'hidden_layers': 4, 'init_mode': 'glorot_uniform', 'neurons': 32}\n",
      "0.942857 (0.023328) with: {'activation': <function leaky_relu at 0x000000000D0EF2F0>, 'hidden_layers': 4, 'init_mode': 'glorot_uniform', 'neurons': 64}\n",
      "0.957143 (0.026726) with: {'activation': <function leaky_relu at 0x000000000D0EF2F0>, 'hidden_layers': 4, 'init_mode': 'glorot_uniform', 'neurons': 128}\n",
      "0.950000 (0.036422) with: {'activation': <function leaky_relu at 0x000000000D0EF2F0>, 'hidden_layers': 4, 'init_mode': 'he_normal', 'neurons': 32}\n",
      "0.954762 (0.024281) with: {'activation': <function leaky_relu at 0x000000000D0EF2F0>, 'hidden_layers': 4, 'init_mode': 'he_normal', 'neurons': 64}\n",
      "0.930952 (0.044544) with: {'activation': <function leaky_relu at 0x000000000D0EF2F0>, 'hidden_layers': 4, 'init_mode': 'he_normal', 'neurons': 128}\n",
      "0.938095 (0.047500) with: {'activation': <function leaky_relu at 0x000000000D0EF2F0>, 'hidden_layers': 8, 'init_mode': 'glorot_uniform', 'neurons': 32}\n",
      "0.950000 (0.021028) with: {'activation': <function leaky_relu at 0x000000000D0EF2F0>, 'hidden_layers': 8, 'init_mode': 'glorot_uniform', 'neurons': 64}\n",
      "0.957143 (0.010102) with: {'activation': <function leaky_relu at 0x000000000D0EF2F0>, 'hidden_layers': 8, 'init_mode': 'glorot_uniform', 'neurons': 128}\n",
      "0.940476 (0.049602) with: {'activation': <function leaky_relu at 0x000000000D0EF2F0>, 'hidden_layers': 8, 'init_mode': 'he_normal', 'neurons': 32}\n",
      "0.952381 (0.033163) with: {'activation': <function leaky_relu at 0x000000000D0EF2F0>, 'hidden_layers': 8, 'init_mode': 'he_normal', 'neurons': 64}\n",
      "0.940476 (0.028769) with: {'activation': <function leaky_relu at 0x000000000D0EF2F0>, 'hidden_layers': 8, 'init_mode': 'he_normal', 'neurons': 128}\n",
      "0.935714 (0.040825) with: {'activation': <function leaky_relu at 0x000000000D0EF2F0>, 'hidden_layers': 12, 'init_mode': 'glorot_uniform', 'neurons': 32}\n",
      "0.950000 (0.036422) with: {'activation': <function leaky_relu at 0x000000000D0EF2F0>, 'hidden_layers': 12, 'init_mode': 'glorot_uniform', 'neurons': 64}\n",
      "0.945238 (0.027562) with: {'activation': <function leaky_relu at 0x000000000D0EF2F0>, 'hidden_layers': 12, 'init_mode': 'glorot_uniform', 'neurons': 128}\n",
      "0.947619 (0.044160) with: {'activation': <function leaky_relu at 0x000000000D0EF2F0>, 'hidden_layers': 12, 'init_mode': 'he_normal', 'neurons': 32}\n",
      "0.947619 (0.038832) with: {'activation': <function leaky_relu at 0x000000000D0EF2F0>, 'hidden_layers': 12, 'init_mode': 'he_normal', 'neurons': 64}\n",
      "0.947619 (0.029928) with: {'activation': <function leaky_relu at 0x000000000D0EF2F0>, 'hidden_layers': 12, 'init_mode': 'he_normal', 'neurons': 128}\n"
     ]
    }
   ],
   "source": [
    "print(\"Scaler = minmax\")\n",
    "print(\"Best: %f using %s\" % (minmax_grid_result.best_score_, minmax_grid_result.best_params_))\n",
    "means = minmax_grid_result.cv_results_['mean_test_score']\n",
    "stds = minmax_grid_result.cv_results_['std_test_score']\n",
    "params = minmax_grid_result.cv_results_['params']\n",
    "\n",
    "for mean, stdev, param in zip(means, stds, params):\n",
    "    print(\"%f (%f) with: %r\" % (mean, stdev, param))"
   ]
  },
  {
   "cell_type": "code",
   "execution_count": 27,
   "metadata": {},
   "outputs": [
    {
     "name": "stdout",
     "output_type": "stream",
     "text": [
      "Scaler = standard\n",
      "Best: 0.964286 using {'activation': 'elu', 'hidden_layers': 8, 'init_mode': 'he_normal', 'neurons': 32}\n",
      "0.950000 (0.036422) with: {'activation': 'elu', 'hidden_layers': 4, 'init_mode': 'glorot_uniform', 'neurons': 32}\n",
      "0.957143 (0.021028) with: {'activation': 'elu', 'hidden_layers': 4, 'init_mode': 'glorot_uniform', 'neurons': 64}\n",
      "0.945238 (0.037495) with: {'activation': 'elu', 'hidden_layers': 4, 'init_mode': 'glorot_uniform', 'neurons': 128}\n",
      "0.954762 (0.029928) with: {'activation': 'elu', 'hidden_layers': 4, 'init_mode': 'he_normal', 'neurons': 32}\n",
      "0.952381 (0.027562) with: {'activation': 'elu', 'hidden_layers': 4, 'init_mode': 'he_normal', 'neurons': 64}\n",
      "0.954762 (0.024281) with: {'activation': 'elu', 'hidden_layers': 4, 'init_mode': 'he_normal', 'neurons': 128}\n",
      "0.950000 (0.026726) with: {'activation': 'elu', 'hidden_layers': 8, 'init_mode': 'glorot_uniform', 'neurons': 32}\n",
      "0.961905 (0.012141) with: {'activation': 'elu', 'hidden_layers': 8, 'init_mode': 'glorot_uniform', 'neurons': 64}\n",
      "0.950000 (0.026726) with: {'activation': 'elu', 'hidden_layers': 8, 'init_mode': 'glorot_uniform', 'neurons': 128}\n",
      "0.964286 (0.023328) with: {'activation': 'elu', 'hidden_layers': 8, 'init_mode': 'he_normal', 'neurons': 32}\n",
      "0.957143 (0.017496) with: {'activation': 'elu', 'hidden_layers': 8, 'init_mode': 'he_normal', 'neurons': 64}\n",
      "0.957143 (0.015430) with: {'activation': 'elu', 'hidden_layers': 8, 'init_mode': 'he_normal', 'neurons': 128}\n",
      "0.959524 (0.022080) with: {'activation': 'elu', 'hidden_layers': 12, 'init_mode': 'glorot_uniform', 'neurons': 32}\n",
      "0.964286 (0.023328) with: {'activation': 'elu', 'hidden_layers': 12, 'init_mode': 'glorot_uniform', 'neurons': 64}\n",
      "0.959524 (0.023570) with: {'activation': 'elu', 'hidden_layers': 12, 'init_mode': 'glorot_uniform', 'neurons': 128}\n",
      "0.961905 (0.014677) with: {'activation': 'elu', 'hidden_layers': 12, 'init_mode': 'he_normal', 'neurons': 32}\n",
      "0.957143 (0.021028) with: {'activation': 'elu', 'hidden_layers': 12, 'init_mode': 'he_normal', 'neurons': 64}\n",
      "0.959524 (0.012141) with: {'activation': 'elu', 'hidden_layers': 12, 'init_mode': 'he_normal', 'neurons': 128}\n",
      "0.950000 (0.026726) with: {'activation': <function leaky_relu at 0x000000000D0EF2F0>, 'hidden_layers': 4, 'init_mode': 'glorot_uniform', 'neurons': 32}\n",
      "0.957143 (0.025422) with: {'activation': <function leaky_relu at 0x000000000D0EF2F0>, 'hidden_layers': 4, 'init_mode': 'glorot_uniform', 'neurons': 64}\n",
      "0.940476 (0.034173) with: {'activation': <function leaky_relu at 0x000000000D0EF2F0>, 'hidden_layers': 4, 'init_mode': 'glorot_uniform', 'neurons': 128}\n",
      "0.959524 (0.014677) with: {'activation': <function leaky_relu at 0x000000000D0EF2F0>, 'hidden_layers': 4, 'init_mode': 'he_normal', 'neurons': 32}\n",
      "0.952381 (0.027562) with: {'activation': <function leaky_relu at 0x000000000D0EF2F0>, 'hidden_layers': 4, 'init_mode': 'he_normal', 'neurons': 64}\n",
      "0.945238 (0.026937) with: {'activation': <function leaky_relu at 0x000000000D0EF2F0>, 'hidden_layers': 4, 'init_mode': 'he_normal', 'neurons': 128}\n",
      "0.952381 (0.023570) with: {'activation': <function leaky_relu at 0x000000000D0EF2F0>, 'hidden_layers': 8, 'init_mode': 'glorot_uniform', 'neurons': 32}\n",
      "0.950000 (0.020203) with: {'activation': <function leaky_relu at 0x000000000D0EF2F0>, 'hidden_layers': 8, 'init_mode': 'glorot_uniform', 'neurons': 64}\n",
      "0.947619 (0.028769) with: {'activation': <function leaky_relu at 0x000000000D0EF2F0>, 'hidden_layers': 8, 'init_mode': 'glorot_uniform', 'neurons': 128}\n",
      "0.950000 (0.036422) with: {'activation': <function leaky_relu at 0x000000000D0EF2F0>, 'hidden_layers': 8, 'init_mode': 'he_normal', 'neurons': 32}\n",
      "0.950000 (0.026726) with: {'activation': <function leaky_relu at 0x000000000D0EF2F0>, 'hidden_layers': 8, 'init_mode': 'he_normal', 'neurons': 64}\n",
      "0.942857 (0.040825) with: {'activation': <function leaky_relu at 0x000000000D0EF2F0>, 'hidden_layers': 8, 'init_mode': 'he_normal', 'neurons': 128}\n",
      "0.959524 (0.023570) with: {'activation': <function leaky_relu at 0x000000000D0EF2F0>, 'hidden_layers': 12, 'init_mode': 'glorot_uniform', 'neurons': 32}\n",
      "0.938095 (0.042191) with: {'activation': <function leaky_relu at 0x000000000D0EF2F0>, 'hidden_layers': 12, 'init_mode': 'glorot_uniform', 'neurons': 64}\n",
      "0.938095 (0.022080) with: {'activation': <function leaky_relu at 0x000000000D0EF2F0>, 'hidden_layers': 12, 'init_mode': 'glorot_uniform', 'neurons': 128}\n",
      "0.935714 (0.046291) with: {'activation': <function leaky_relu at 0x000000000D0EF2F0>, 'hidden_layers': 12, 'init_mode': 'he_normal', 'neurons': 32}\n",
      "0.952381 (0.027562) with: {'activation': <function leaky_relu at 0x000000000D0EF2F0>, 'hidden_layers': 12, 'init_mode': 'he_normal', 'neurons': 64}\n",
      "0.928571 (0.040825) with: {'activation': <function leaky_relu at 0x000000000D0EF2F0>, 'hidden_layers': 12, 'init_mode': 'he_normal', 'neurons': 128}\n"
     ]
    }
   ],
   "source": [
    "print(\"Scaler = standard\")\n",
    "print(\"Best: %f using %s\" % (std_grid_result.best_score_, std_grid_result.best_params_))\n",
    "means = std_grid_result.cv_results_['mean_test_score']\n",
    "stds = std_grid_result.cv_results_['std_test_score']\n",
    "params = std_grid_result.cv_results_['params']\n",
    "\n",
    "for mean, stdev, param in zip(means, stds, params):\n",
    "    print(\"%f (%f) with: %r\" % (mean, stdev, param))"
   ]
  },
  {
   "cell_type": "code",
   "execution_count": 28,
   "metadata": {},
   "outputs": [
    {
     "name": "stdout",
     "output_type": "stream",
     "text": [
      "Accuracy =  0.9605734767025089\n",
      "Confusion Matrix\n",
      "[[177   7]\n",
      " [  4  91]]\n",
      "\n",
      "Classification Report\n",
      "              precision    recall  f1-score   support\n",
      "\n",
      "         2.0       0.98      0.96      0.97       184\n",
      "         4.0       0.93      0.96      0.94        95\n",
      "\n",
      "   micro avg       0.96      0.96      0.96       279\n",
      "   macro avg       0.95      0.96      0.96       279\n",
      "weighted avg       0.96      0.96      0.96       279\n",
      "\n"
     ]
    }
   ],
   "source": [
    "pred = minmax_grid.predict(mm_ts_data)\n",
    "\n",
    "accuracy = accuracy_score(pred, ts_ans)\n",
    "ts_ans = ts_ans.astype(float)\n",
    "precision, recall, fbeta_score, support = precision_recall_fscore_support(ts_ans, pred)\n",
    "conf_mat = confusion_matrix(ts_ans, pred)\n",
    "print(\"Accuracy = \", accuracy)\n",
    "print(\"Confusion Matrix\")\n",
    "print(\"{0}\".format(metrics.confusion_matrix(ts_ans, pred)))\n",
    "print(\"\")\n",
    "print(\"Classification Report\")\n",
    "print(metrics.classification_report(ts_ans, pred))"
   ]
  },
  {
   "cell_type": "code",
   "execution_count": 29,
   "metadata": {},
   "outputs": [
    {
     "name": "stdout",
     "output_type": "stream",
     "text": [
      "Accuracy =  0.96415770609319\n",
      "Confusion Matrix\n",
      "[[179   5]\n",
      " [  5  90]]\n",
      "\n",
      "Classification Report\n",
      "              precision    recall  f1-score   support\n",
      "\n",
      "         2.0       0.97      0.97      0.97       184\n",
      "         4.0       0.95      0.95      0.95        95\n",
      "\n",
      "   micro avg       0.96      0.96      0.96       279\n",
      "   macro avg       0.96      0.96      0.96       279\n",
      "weighted avg       0.96      0.96      0.96       279\n",
      "\n"
     ]
    }
   ],
   "source": [
    "pred = std_grid.predict(std_ts_data)\n",
    "\n",
    "accuracy = accuracy_score(pred, ts_ans)\n",
    "ts_ans = ts_ans.astype(float)\n",
    "precision, recall, fbeta_score, support = precision_recall_fscore_support(ts_ans, pred)\n",
    "conf_mat = confusion_matrix(ts_ans, pred)\n",
    "print(\"Accuracy = \", accuracy)\n",
    "print(\"Confusion Matrix\")\n",
    "print(\"{0}\".format(metrics.confusion_matrix(ts_ans, pred)))\n",
    "print(\"\")\n",
    "print(\"Classification Report\")\n",
    "print(metrics.classification_report(ts_ans, pred))"
   ]
  },
  {
   "cell_type": "code",
   "execution_count": 30,
   "metadata": {
    "colab": {},
    "colab_type": "code",
    "id": "MKmXpPoXdidO"
   },
   "outputs": [],
   "source": [
    "# # testbed Version\n",
    "\n",
    "\n",
    "# def create_model(hidden_layers = 1, neurons =1, init_mode = 'uniform', activation = 'elu'):\n",
    "#     model = Sequential()\n",
    "#     model.add(Dense(neurons, input_dim=len(tr_data.T), kernel_initializer=init_mode, activation=activation))\n",
    "\n",
    "#     for i in range(hidden_layers):\n",
    "        \n",
    "#         model.add(Dense(neurons, kernel_initializer=init_mode))\n",
    "#         model.add(BatchNormalization())\n",
    "#         model.add(Activation(activation))\n",
    "#         model.add(Dropout(0.2))\n",
    "  \n",
    "#     if class_count == 2:  \n",
    "#         model.add(Dense(1,activation='sigmoid'))\n",
    "#         model.compile(loss='binary_crossentropy', optimizer='adam', metrics=['accuracy'])\n",
    "#     elif class_count != 2:\n",
    "#         model.add(Dense(class_count-1, activation='softmax'))\n",
    "#         model.compile(loss='sparse_categorical_crossentropy', optimizer='adam', metrics=['accuracy'])\n",
    "\n",
    "#     return model\n",
    "\n",
    "\n",
    "# hidden_layers = [5, 10]\n",
    "# neurons = [32, 64]\n",
    "# activation = ['elu']\n",
    "# init_mode = ['he_uniform']\n",
    "\n",
    "# keras_model = KerasClassifier(build_fn=create_model, epochs=4, batch_size=4)\n",
    "\n",
    "# param_grid = dict(hidden_layers = hidden_layers, neurons = neurons, init_mode = init_mode, activation = activation)\n",
    "# grid = GridSearchCV(estimator=keras_model, param_grid=param_grid, n_jobs= -1, cv=2)"
   ]
  },
  {
   "cell_type": "code",
   "execution_count": null,
   "metadata": {
    "colab": {},
    "colab_type": "code",
    "id": "1pNmP5gQVTsZ"
   },
   "outputs": [],
   "source": []
  }
 ],
 "metadata": {
  "accelerator": "GPU",
  "colab": {
   "collapsed_sections": [],
   "name": "pima_indian_diabetes.ipynb",
   "provenance": [],
   "version": "0.3.2"
  },
  "kernelspec": {
   "display_name": "Python 3",
   "language": "python",
   "name": "python3"
  },
  "language_info": {
   "codemirror_mode": {
    "name": "ipython",
    "version": 3
   },
   "file_extension": ".py",
   "mimetype": "text/x-python",
   "name": "python",
   "nbconvert_exporter": "python",
   "pygments_lexer": "ipython3",
   "version": "3.6.8"
  }
 },
 "nbformat": 4,
 "nbformat_minor": 1
}
