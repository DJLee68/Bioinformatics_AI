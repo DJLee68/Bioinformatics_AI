{
 "cells": [
  {
   "cell_type": "code",
   "execution_count": 1,
   "metadata": {
    "colab": {},
    "colab_type": "code",
    "id": "mL7zvImn9Fbf"
   },
   "outputs": [],
   "source": [
    "import numpy as np\n",
    "import pandas as pd\n",
    "from sklearn.preprocessing import MinMaxScaler\n",
    "from sklearn.preprocessing import StandardScaler"
   ]
  },
  {
   "cell_type": "code",
   "execution_count": 2,
   "metadata": {
    "colab": {
     "base_uri": "https://localhost:8080/",
     "height": 34
    },
    "colab_type": "code",
    "executionInfo": {
     "elapsed": 877,
     "status": "ok",
     "timestamp": 1562058530713,
     "user": {
      "displayName": "이동재",
      "photoUrl": "",
      "userId": "12052501428717228434"
     },
     "user_tz": -540
    },
    "id": "xqpvhmwe3Y5G",
    "outputId": "d82b6fab-132a-484f-e274-7f805be83209"
   },
   "outputs": [],
   "source": [
    "df_train = pd.read_excel('bupa.train.xlsx')\n",
    "df_test = pd.read_excel('bupa.test.xlsx')"
   ]
  },
  {
   "cell_type": "code",
   "execution_count": 3,
   "metadata": {},
   "outputs": [],
   "source": [
    "train = df_train\n",
    "test = df_test"
   ]
  },
  {
   "cell_type": "code",
   "execution_count": 4,
   "metadata": {},
   "outputs": [
    {
     "data": {
      "text/plain": [
       "(207, 7)"
      ]
     },
     "execution_count": 4,
     "metadata": {},
     "output_type": "execute_result"
    }
   ],
   "source": [
    "train.shape"
   ]
  },
  {
   "cell_type": "code",
   "execution_count": 5,
   "metadata": {
    "colab": {
     "base_uri": "https://localhost:8080/",
     "height": 34
    },
    "colab_type": "code",
    "executionInfo": {
     "elapsed": 516,
     "status": "ok",
     "timestamp": 1562058530714,
     "user": {
      "displayName": "이동재",
      "photoUrl": "",
      "userId": "12052501428717228434"
     },
     "user_tz": -540
    },
    "id": "t8pTzpUVcq9z",
    "outputId": "f6d4f95b-36f9-4a7f-eddf-ef67301f6e4c"
   },
   "outputs": [
    {
     "data": {
      "text/plain": [
       "(138, 7)"
      ]
     },
     "execution_count": 5,
     "metadata": {},
     "output_type": "execute_result"
    }
   ],
   "source": [
    "test.shape"
   ]
  },
  {
   "cell_type": "code",
   "execution_count": 6,
   "metadata": {},
   "outputs": [
    {
     "data": {
      "text/html": [
       "<div>\n",
       "<style scoped>\n",
       "    .dataframe tbody tr th:only-of-type {\n",
       "        vertical-align: middle;\n",
       "    }\n",
       "\n",
       "    .dataframe tbody tr th {\n",
       "        vertical-align: top;\n",
       "    }\n",
       "\n",
       "    .dataframe thead th {\n",
       "        text-align: right;\n",
       "    }\n",
       "</style>\n",
       "<table border=\"1\" class=\"dataframe\">\n",
       "  <thead>\n",
       "    <tr style=\"text-align: right;\">\n",
       "      <th></th>\n",
       "      <th>mcv</th>\n",
       "      <th>alkphos</th>\n",
       "      <th>sgpt</th>\n",
       "      <th>sgot</th>\n",
       "      <th>gammagt</th>\n",
       "      <th>drinks</th>\n",
       "      <th>selector</th>\n",
       "    </tr>\n",
       "  </thead>\n",
       "  <tbody>\n",
       "    <tr>\n",
       "      <th>count</th>\n",
       "      <td>207.000000</td>\n",
       "      <td>207.000000</td>\n",
       "      <td>207.000000</td>\n",
       "      <td>207.000000</td>\n",
       "      <td>207.000000</td>\n",
       "      <td>207.000000</td>\n",
       "      <td>207.000000</td>\n",
       "    </tr>\n",
       "    <tr>\n",
       "      <th>mean</th>\n",
       "      <td>89.801932</td>\n",
       "      <td>68.531401</td>\n",
       "      <td>31.444444</td>\n",
       "      <td>24.966184</td>\n",
       "      <td>40.140097</td>\n",
       "      <td>3.557971</td>\n",
       "      <td>1.584541</td>\n",
       "    </tr>\n",
       "    <tr>\n",
       "      <th>std</th>\n",
       "      <td>4.531914</td>\n",
       "      <td>17.343131</td>\n",
       "      <td>21.044003</td>\n",
       "      <td>9.758433</td>\n",
       "      <td>43.339198</td>\n",
       "      <td>3.440411</td>\n",
       "      <td>0.493996</td>\n",
       "    </tr>\n",
       "    <tr>\n",
       "      <th>min</th>\n",
       "      <td>65.000000</td>\n",
       "      <td>23.000000</td>\n",
       "      <td>9.000000</td>\n",
       "      <td>11.000000</td>\n",
       "      <td>5.000000</td>\n",
       "      <td>0.000000</td>\n",
       "      <td>1.000000</td>\n",
       "    </tr>\n",
       "    <tr>\n",
       "      <th>25%</th>\n",
       "      <td>87.000000</td>\n",
       "      <td>56.000000</td>\n",
       "      <td>20.000000</td>\n",
       "      <td>19.000000</td>\n",
       "      <td>16.000000</td>\n",
       "      <td>0.500000</td>\n",
       "      <td>1.000000</td>\n",
       "    </tr>\n",
       "    <tr>\n",
       "      <th>50%</th>\n",
       "      <td>90.000000</td>\n",
       "      <td>67.000000</td>\n",
       "      <td>26.000000</td>\n",
       "      <td>23.000000</td>\n",
       "      <td>24.000000</td>\n",
       "      <td>3.000000</td>\n",
       "      <td>2.000000</td>\n",
       "    </tr>\n",
       "    <tr>\n",
       "      <th>75%</th>\n",
       "      <td>92.000000</td>\n",
       "      <td>78.500000</td>\n",
       "      <td>34.000000</td>\n",
       "      <td>27.000000</td>\n",
       "      <td>47.500000</td>\n",
       "      <td>6.000000</td>\n",
       "      <td>2.000000</td>\n",
       "    </tr>\n",
       "    <tr>\n",
       "      <th>max</th>\n",
       "      <td>103.000000</td>\n",
       "      <td>122.000000</td>\n",
       "      <td>155.000000</td>\n",
       "      <td>82.000000</td>\n",
       "      <td>297.000000</td>\n",
       "      <td>20.000000</td>\n",
       "      <td>2.000000</td>\n",
       "    </tr>\n",
       "  </tbody>\n",
       "</table>\n",
       "</div>"
      ],
      "text/plain": [
       "              mcv     alkphos        sgpt        sgot     gammagt      drinks  \\\n",
       "count  207.000000  207.000000  207.000000  207.000000  207.000000  207.000000   \n",
       "mean    89.801932   68.531401   31.444444   24.966184   40.140097    3.557971   \n",
       "std      4.531914   17.343131   21.044003    9.758433   43.339198    3.440411   \n",
       "min     65.000000   23.000000    9.000000   11.000000    5.000000    0.000000   \n",
       "25%     87.000000   56.000000   20.000000   19.000000   16.000000    0.500000   \n",
       "50%     90.000000   67.000000   26.000000   23.000000   24.000000    3.000000   \n",
       "75%     92.000000   78.500000   34.000000   27.000000   47.500000    6.000000   \n",
       "max    103.000000  122.000000  155.000000   82.000000  297.000000   20.000000   \n",
       "\n",
       "         selector  \n",
       "count  207.000000  \n",
       "mean     1.584541  \n",
       "std      0.493996  \n",
       "min      1.000000  \n",
       "25%      1.000000  \n",
       "50%      2.000000  \n",
       "75%      2.000000  \n",
       "max      2.000000  "
      ]
     },
     "execution_count": 6,
     "metadata": {},
     "output_type": "execute_result"
    }
   ],
   "source": [
    "train.describe()"
   ]
  },
  {
   "cell_type": "code",
   "execution_count": 7,
   "metadata": {},
   "outputs": [],
   "source": [
    "import seaborn\n",
    "import matplotlib.pyplot as plt\n",
    "\n",
    "def plot_df(df, name):\n",
    "  corr = df[df.columns].corr()\n",
    "  mask = np.zeros_like(corr, dtype=np.bool)\n",
    "  mask[np.triu_indices_from(mask)] = True\n",
    "  plt.figure(figsize=(20, 15))\n",
    "  seaborn.set(font_scale=1.2)\n",
    "  seaborn.heatmap(corr, mask=mask, center=0, annot=True,\n",
    "    square=True, linewidths=3, alpha=0.7)\n",
    "  plt.title(name)"
   ]
  },
  {
   "cell_type": "code",
   "execution_count": 8,
   "metadata": {},
   "outputs": [
    {
     "data": {
      "image/png": "[encoded data removed]",
      "text/plain": [
       "<Figure size 1440x1080 with 2 Axes>"
      ]
     },
     "metadata": {
      "needs_background": "light"
     },
     "output_type": "display_data"
    }
   ],
   "source": [
    "plot_df(train, 'Train')"
   ]
  },
  {
   "cell_type": "code",
   "execution_count": 9,
   "metadata": {
    "colab": {
     "base_uri": "https://localhost:8080/",
     "height": 140
    },
    "colab_type": "code",
    "executionInfo": {
     "elapsed": 569,
     "status": "ok",
     "timestamp": 1562058531066,
     "user": {
      "displayName": "이동재",
      "photoUrl": "",
      "userId": "12052501428717228434"
     },
     "user_tz": -540
    },
    "id": "NSjRKJko-Dcv",
    "outputId": "0e325a9e-d3d5-47a6-9df5-82990cb06120"
   },
   "outputs": [
    {
     "name": "stdout",
     "output_type": "stream",
     "text": [
      "Index(['mcv', 'alkphos', 'sgpt', 'sgot', 'gammagt', 'drinks', 'selector'], dtype='object')\n"
     ]
    }
   ],
   "source": [
    "print(train.columns)"
   ]
  },
  {
   "cell_type": "code",
   "execution_count": 10,
   "metadata": {
    "colab": {
     "base_uri": "https://localhost:8080/",
     "height": 34
    },
    "colab_type": "code",
    "executionInfo": {
     "elapsed": 5744,
     "status": "ok",
     "timestamp": 1562058536952,
     "user": {
      "displayName": "이동재",
      "photoUrl": "",
      "userId": "12052501428717228434"
     },
     "user_tz": -540
    },
    "id": "7VLAjJXm-xpB",
    "outputId": "ec729c6a-a9cb-42d4-f774-0e1567be953f"
   },
   "outputs": [
    {
     "name": "stdout",
     "output_type": "stream",
     "text": [
      "Chooese the class: selector\n"
     ]
    }
   ],
   "source": [
    "class_name = input(\"Chooese the class: \")"
   ]
  },
  {
   "cell_type": "code",
   "execution_count": 11,
   "metadata": {
    "colab": {},
    "colab_type": "code",
    "id": "DgUHg4ED3uWO"
   },
   "outputs": [],
   "source": [
    "minmax_scaler = MinMaxScaler()\n",
    "standard_scaler = StandardScaler()"
   ]
  },
  {
   "cell_type": "code",
   "execution_count": 12,
   "metadata": {
    "colab": {
     "base_uri": "https://localhost:8080/",
     "height": 34
    },
    "colab_type": "code",
    "executionInfo": {
     "elapsed": 1164,
     "status": "ok",
     "timestamp": 1562058540201,
     "user": {
      "displayName": "이동재",
      "photoUrl": "",
      "userId": "12052501428717228434"
     },
     "user_tz": -540
    },
    "id": "6x0W2mAC-wgw",
    "outputId": "a933e1c2-64cc-449e-cc01-a66b8b1b4a92"
   },
   "outputs": [
    {
     "name": "stdout",
     "output_type": "stream",
     "text": [
      "2\n"
     ]
    }
   ],
   "source": [
    "tr_ans = train[class_name]\n",
    "ts_ans = test[class_name]\n",
    "class_count = len(tr_ans.unique())\n",
    "print(class_count)"
   ]
  },
  {
   "cell_type": "code",
   "execution_count": 13,
   "metadata": {
    "colab": {},
    "colab_type": "code",
    "id": "WnKjCuCfAguo"
   },
   "outputs": [],
   "source": [
    "tr_data = train.drop([class_name], axis=1)\n",
    "ts_data = test.drop([class_name], axis=1)"
   ]
  },
  {
   "cell_type": "code",
   "execution_count": 14,
   "metadata": {
    "colab": {
     "base_uri": "https://localhost:8080/",
     "height": 72
    },
    "colab_type": "code",
    "executionInfo": {
     "elapsed": 723,
     "status": "ok",
     "timestamp": 1562058547225,
     "user": {
      "displayName": "이동재",
      "photoUrl": "",
      "userId": "12052501428717228434"
     },
     "user_tz": -540
    },
    "id": "lmjXkka1Lucy",
    "outputId": "7edc3aec-a0fa-4a33-d09b-1931e2d1fb27"
   },
   "outputs": [],
   "source": [
    "# #결측치 채우기 if 결측치가 0일 경우\n",
    "\n",
    "# from sklearn.impute import SimpleImputer\n",
    "\n",
    "# rep_0 = SimpleImputer(missing_values=0, strategy=\"mean\")\n",
    "\n",
    "# tr_data = rep_0.fit_transform(tr_data)\n",
    "# ts_data = rep_0.fit_transform(ts_data)"
   ]
  },
  {
   "cell_type": "code",
   "execution_count": 15,
   "metadata": {
    "colab": {},
    "colab_type": "code",
    "id": "Z_Yw0W7eAmgw"
   },
   "outputs": [
    {
     "name": "stderr",
     "output_type": "stream",
     "text": [
      "C:\\Users\\User\\Anaconda3\\lib\\site-packages\\sklearn\\preprocessing\\data.py:334: DataConversionWarning: Data with input dtype int64, float64 were all converted to float64 by MinMaxScaler.\n",
      "  return self.partial_fit(X, y)\n",
      "C:\\Users\\User\\Anaconda3\\lib\\site-packages\\sklearn\\preprocessing\\data.py:645: DataConversionWarning: Data with input dtype int64, float64 were all converted to float64 by StandardScaler.\n",
      "  return self.partial_fit(X, y)\n",
      "C:\\Users\\User\\Anaconda3\\lib\\site-packages\\sklearn\\base.py:464: DataConversionWarning: Data with input dtype int64, float64 were all converted to float64 by StandardScaler.\n",
      "  return self.fit(X, **fit_params).transform(X)\n",
      "C:\\Users\\User\\Anaconda3\\lib\\site-packages\\ipykernel_launcher.py:4: DataConversionWarning: Data with input dtype int64, float64 were all converted to float64 by StandardScaler.\n",
      "  after removing the cwd from sys.path.\n"
     ]
    }
   ],
   "source": [
    "mm_tr_data = minmax_scaler.fit_transform(tr_data)\n",
    "mm_ts_data = minmax_scaler.transform(ts_data)\n",
    "std_tr_data = standard_scaler.fit_transform(tr_data)\n",
    "std_ts_data = standard_scaler.transform(ts_data)\n",
    "tr_ans = np.array(tr_ans)\n",
    "ts_ans = np.array(ts_ans)"
   ]
  },
  {
   "cell_type": "code",
   "execution_count": 16,
   "metadata": {
    "colab": {
     "base_uri": "https://localhost:8080/",
     "height": 386
    },
    "colab_type": "code",
    "executionInfo": {
     "elapsed": 712,
     "status": "ok",
     "timestamp": 1562058552746,
     "user": {
      "displayName": "이동재",
      "photoUrl": "",
      "userId": "12052501428717228434"
     },
     "user_tz": -540
    },
    "id": "Rz4XG4MMOHGu",
    "outputId": "70f5c169-28bc-4010-ae83-14209e83d278"
   },
   "outputs": [
    {
     "data": {
      "text/plain": [
       "array([1, 2, 2, 2, 1, 1, 1, 1, 1, 1, 1, 1, 1, 1, 1, 1, 1, 1, 1, 1, 2, 2,\n",
       "       2, 2, 2, 2, 2, 2, 2, 2, 2, 2, 2, 2, 2, 2, 2, 2, 2, 1, 1, 2, 2, 1,\n",
       "       1, 1, 2, 2, 2, 2, 2, 2, 2, 1, 1, 1, 1, 1, 2, 2, 2, 1, 1, 1, 1, 2,\n",
       "       2, 2, 2, 2, 2, 2, 2, 2, 2, 2, 2, 1, 1, 2, 2, 2, 2, 2, 1, 1, 1, 1,\n",
       "       1, 1, 1, 1, 2, 2, 2, 2, 2, 2, 2, 1, 2, 1, 1, 1, 1, 1, 1, 2, 2, 2,\n",
       "       2, 1, 1, 2, 2, 2, 1, 1, 1, 1, 2, 1, 1, 1, 1, 1, 1, 1, 1, 1, 1, 1,\n",
       "       1, 2, 2, 2, 2, 2, 2, 2, 2, 2, 2, 2, 2, 2, 2, 2, 2, 1, 1, 1, 2, 2,\n",
       "       1, 1, 2, 2, 2, 2, 2, 1, 1, 1, 2, 2, 2, 2, 1, 2, 2, 2, 2, 2, 2, 2,\n",
       "       2, 2, 2, 2, 2, 2, 2, 2, 2, 2, 1, 1, 1, 1, 1, 1, 1, 2, 2, 2, 2, 1,\n",
       "       1, 2, 2, 2, 1, 2, 2, 2, 1], dtype=int64)"
      ]
     },
     "execution_count": 16,
     "metadata": {},
     "output_type": "execute_result"
    }
   ],
   "source": [
    "tr_ans"
   ]
  },
  {
   "cell_type": "code",
   "execution_count": 17,
   "metadata": {
    "colab": {},
    "colab_type": "code",
    "id": "F0_cae6XOksE"
   },
   "outputs": [],
   "source": [
    "import tensorflow as tf\n",
    "from sklearn.model_selection import GridSearchCV\n",
    "from sklearn.model_selection import RandomizedSearchCV\n",
    "from sklearn.model_selection import ParameterGrid\n",
    "from sklearn.metrics import precision_score, recall_score, f1_score, accuracy_score\n",
    "from tensorflow.keras.wrappers.scikit_learn import KerasClassifier\n",
    "from tensorflow.keras.models import Sequential\n",
    "from tensorflow.keras.layers import Dense\n",
    "from tensorflow.keras.layers import Activation\n",
    "from tensorflow.keras.layers import BatchNormalization\n",
    "from tensorflow.keras.layers import Dropout\n",
    "from sklearn import metrics\n",
    "from tensorflow.keras.regularizers import l2\n"
   ]
  },
  {
   "cell_type": "code",
   "execution_count": 18,
   "metadata": {
    "colab": {},
    "colab_type": "code",
    "id": "K8FW6kBo7uPs"
   },
   "outputs": [],
   "source": [
    "from sklearn.metrics import precision_recall_fscore_support\n",
    "from sklearn.metrics import confusion_matrix"
   ]
  },
  {
   "cell_type": "code",
   "execution_count": 19,
   "metadata": {
    "colab": {},
    "colab_type": "code",
    "id": "CHrsnp0Tq8CA"
   },
   "outputs": [],
   "source": [
    "# real Version\n",
    "\n",
    "\n",
    "def create_model(hidden_layers = 1, neurons =1, init_mode = 'uniform', \n",
    "                 activation = 'elu', kernel_regularizer=l2(0.001)):\n",
    "  model = Sequential()\n",
    "  model.add(Dense(neurons, input_dim=len(mm_tr_data.T), kernel_initializer=init_mode, activation=activation))\n",
    "  for i in range(hidden_layers):\n",
    "    \n",
    "    model.add(Dense(neurons, kernel_initializer=init_mode, kernel_regularizer=kernel_regularizer))\n",
    "    model.add(BatchNormalization())\n",
    "    model.add(Activation(activation))\n",
    "    model.add(Dropout(0.2))\n",
    "  \n",
    "  if class_count == 2:  \n",
    "    model.add(Dense(1,activation='sigmoid'))\n",
    "    model.compile(loss='binary_crossentropy', optimizer='adam', metrics=['accuracy'])\n",
    "  elif class_count != 2:\n",
    "    model.add(Dense(class_count, activation='softmax'))\n",
    "    model.compile(loss='sparse_categorical_crossentropy', optimizer='adam', metrics=['sparse_categorical_accuracy'])\n",
    "  return model"
   ]
  },
  {
   "cell_type": "code",
   "execution_count": 20,
   "metadata": {},
   "outputs": [],
   "source": [
    "keras_model = KerasClassifier(build_fn=create_model, epochs=64, batch_size=16)"
   ]
  },
  {
   "cell_type": "code",
   "execution_count": 21,
   "metadata": {},
   "outputs": [],
   "source": [
    "leaky_relu = tf.nn.leaky_relu\n",
    "hidden_layers = [4,8,12]\n",
    "neurons = [32, 64, 128]\n",
    "activation = ['elu', leaky_relu]\n",
    "init_mode = ['glorot_uniform', 'he_normal']"
   ]
  },
  {
   "cell_type": "code",
   "execution_count": 22,
   "metadata": {},
   "outputs": [],
   "source": [
    "param_grid = dict(hidden_layers = hidden_layers, neurons = neurons, init_mode = init_mode, activation = activation)\n",
    "minmax_grid = GridSearchCV(estimator=keras_model, param_grid=param_grid, n_jobs= -1, cv=3)\n",
    "std_grid = GridSearchCV(estimator=keras_model, param_grid=param_grid, n_jobs= -1, cv=3)"
   ]
  },
  {
   "cell_type": "code",
   "execution_count": 23,
   "metadata": {},
   "outputs": [],
   "source": [
    "import warnings\n",
    "warnings.filterwarnings(\"ignore\")"
   ]
  },
  {
   "cell_type": "code",
   "execution_count": 24,
   "metadata": {},
   "outputs": [
    {
     "name": "stderr",
     "output_type": "stream",
     "text": [
      "WARNING: Logging before flag parsing goes to stderr.\n",
      "W0709 17:29:56.206346  8796 deprecation.py:506] From C:\\Users\\User\\Anaconda3\\lib\\site-packages\\tensorflow\\python\\ops\\init_ops.py:1251: calling VarianceScaling.__init__ (from tensorflow.python.ops.init_ops) with dtype is deprecated and will be removed in a future version.\n",
      "Instructions for updating:\n",
      "Call initializer instance with the dtype argument instead of passing it to the constructor\n",
      "W0709 17:29:56.242340  8796 deprecation.py:323] From C:\\Users\\User\\Anaconda3\\lib\\site-packages\\tensorflow\\python\\ops\\nn_impl.py:180: add_dispatch_support.<locals>.wrapper (from tensorflow.python.ops.array_ops) is deprecated and will be removed in a future version.\n",
      "Instructions for updating:\n",
      "Use tf.where in 2.0, which has the same broadcast rule as np.where\n"
     ]
    },
    {
     "name": "stdout",
     "output_type": "stream",
     "text": [
      "Epoch 1/64\n",
      "207/207 [==============================] - 0s 2ms/sample - loss: 1.0371 - acc: 0.5072\n",
      "Epoch 2/64\n",
      "207/207 [==============================] - 0s 155us/sample - loss: 0.9707 - acc: 0.5700\n",
      "Epoch 3/64\n",
      "207/207 [==============================] - 0s 141us/sample - loss: 0.9525 - acc: 0.5797\n",
      "Epoch 4/64\n",
      "207/207 [==============================] - 0s 145us/sample - loss: 0.9425 - acc: 0.6039\n",
      "Epoch 5/64\n",
      "207/207 [==============================] - 0s 141us/sample - loss: 0.9430 - acc: 0.5556\n",
      "Epoch 6/64\n",
      "207/207 [==============================] - 0s 135us/sample - loss: 0.9737 - acc: 0.5652\n",
      "Epoch 7/64\n",
      "207/207 [==============================] - 0s 145us/sample - loss: 0.9111 - acc: 0.6184\n",
      "Epoch 8/64\n",
      "207/207 [==============================] - 0s 135us/sample - loss: 0.9359 - acc: 0.5942\n",
      "Epoch 9/64\n",
      "207/207 [==============================] - 0s 137us/sample - loss: 0.8649 - acc: 0.6908\n",
      "Epoch 10/64\n",
      "207/207 [==============================] - 0s 135us/sample - loss: 0.9088 - acc: 0.6039\n",
      "Epoch 11/64\n",
      "207/207 [==============================] - 0s 140us/sample - loss: 0.8721 - acc: 0.6570\n",
      "Epoch 12/64\n",
      "207/207 [==============================] - 0s 135us/sample - loss: 0.8646 - acc: 0.6715\n",
      "Epoch 13/64\n",
      "207/207 [==============================] - 0s 121us/sample - loss: 0.8902 - acc: 0.6039\n",
      "Epoch 14/64\n",
      "207/207 [==============================] - 0s 140us/sample - loss: 0.8433 - acc: 0.6425\n",
      "Epoch 15/64\n",
      "207/207 [==============================] - 0s 130us/sample - loss: 0.8788 - acc: 0.6329\n",
      "Epoch 16/64\n",
      "207/207 [==============================] - 0s 130us/sample - loss: 0.8626 - acc: 0.6522\n",
      "Epoch 17/64\n",
      "207/207 [==============================] - 0s 130us/sample - loss: 0.8682 - acc: 0.6522\n",
      "Epoch 18/64\n",
      "207/207 [==============================] - 0s 135us/sample - loss: 0.8712 - acc: 0.6329\n",
      "Epoch 19/64\n",
      "207/207 [==============================] - 0s 126us/sample - loss: 0.8253 - acc: 0.7101\n",
      "Epoch 20/64\n",
      "207/207 [==============================] - 0s 126us/sample - loss: 0.8620 - acc: 0.6473\n",
      "Epoch 21/64\n",
      "207/207 [==============================] - 0s 130us/sample - loss: 0.8507 - acc: 0.6473\n",
      "Epoch 22/64\n",
      "207/207 [==============================] - 0s 126us/sample - loss: 0.8916 - acc: 0.6667\n",
      "Epoch 23/64\n",
      "207/207 [==============================] - 0s 130us/sample - loss: 0.8453 - acc: 0.6522\n",
      "Epoch 24/64\n",
      "207/207 [==============================] - 0s 126us/sample - loss: 0.8345 - acc: 0.6618\n",
      "Epoch 25/64\n",
      "207/207 [==============================] - 0s 121us/sample - loss: 0.8513 - acc: 0.6377\n",
      "Epoch 26/64\n",
      "207/207 [==============================] - 0s 126us/sample - loss: 0.8713 - acc: 0.6522\n",
      "Epoch 27/64\n",
      "207/207 [==============================] - 0s 126us/sample - loss: 0.8372 - acc: 0.6377\n",
      "Epoch 28/64\n",
      "207/207 [==============================] - 0s 145us/sample - loss: 0.8414 - acc: 0.6618\n",
      "Epoch 29/64\n",
      "207/207 [==============================] - 0s 150us/sample - loss: 0.8102 - acc: 0.6812\n",
      "Epoch 30/64\n",
      "207/207 [==============================] - 0s 140us/sample - loss: 0.8502 - acc: 0.6473\n",
      "Epoch 31/64\n",
      "207/207 [==============================] - 0s 130us/sample - loss: 0.8414 - acc: 0.6957\n",
      "Epoch 32/64\n",
      "207/207 [==============================] - 0s 140us/sample - loss: 0.8375 - acc: 0.6667\n",
      "Epoch 33/64\n",
      "207/207 [==============================] - 0s 135us/sample - loss: 0.8235 - acc: 0.6618\n",
      "Epoch 34/64\n",
      "207/207 [==============================] - 0s 140us/sample - loss: 0.8762 - acc: 0.6522\n",
      "Epoch 35/64\n",
      "207/207 [==============================] - 0s 121us/sample - loss: 0.8136 - acc: 0.6618\n",
      "Epoch 36/64\n",
      "207/207 [==============================] - 0s 126us/sample - loss: 0.8129 - acc: 0.6425\n",
      "Epoch 37/64\n",
      "207/207 [==============================] - 0s 121us/sample - loss: 0.8081 - acc: 0.7005\n",
      "Epoch 38/64\n",
      "207/207 [==============================] - 0s 126us/sample - loss: 0.7894 - acc: 0.7198\n",
      "Epoch 39/64\n",
      "207/207 [==============================] - 0s 121us/sample - loss: 0.7785 - acc: 0.7440\n",
      "Epoch 40/64\n",
      "207/207 [==============================] - 0s 126us/sample - loss: 0.7813 - acc: 0.7150\n",
      "Epoch 41/64\n",
      "207/207 [==============================] - 0s 126us/sample - loss: 0.7958 - acc: 0.7005\n",
      "Epoch 42/64\n",
      "207/207 [==============================] - 0s 126us/sample - loss: 0.8085 - acc: 0.6812\n",
      "Epoch 43/64\n",
      "207/207 [==============================] - 0s 126us/sample - loss: 0.8181 - acc: 0.6473\n",
      "Epoch 44/64\n",
      "207/207 [==============================] - 0s 126us/sample - loss: 0.7746 - acc: 0.7198\n",
      "Epoch 45/64\n",
      "207/207 [==============================] - 0s 130us/sample - loss: 0.7823 - acc: 0.7005\n",
      "Epoch 46/64\n",
      "207/207 [==============================] - 0s 126us/sample - loss: 0.8308 - acc: 0.6618\n",
      "Epoch 47/64\n",
      "207/207 [==============================] - 0s 126us/sample - loss: 0.7856 - acc: 0.6860\n",
      "Epoch 48/64\n",
      "207/207 [==============================] - 0s 121us/sample - loss: 0.7706 - acc: 0.6957\n",
      "Epoch 49/64\n",
      "207/207 [==============================] - 0s 126us/sample - loss: 0.8008 - acc: 0.6860\n",
      "Epoch 50/64\n",
      "207/207 [==============================] - 0s 126us/sample - loss: 0.7759 - acc: 0.6908\n",
      "Epoch 51/64\n",
      "207/207 [==============================] - 0s 121us/sample - loss: 0.7571 - acc: 0.7101\n",
      "Epoch 52/64\n",
      "207/207 [==============================] - 0s 130us/sample - loss: 0.7809 - acc: 0.7005\n",
      "Epoch 53/64\n",
      "207/207 [==============================] - 0s 121us/sample - loss: 0.8012 - acc: 0.6957\n",
      "Epoch 54/64\n",
      "207/207 [==============================] - 0s 126us/sample - loss: 0.8039 - acc: 0.6763\n",
      "Epoch 55/64\n",
      "207/207 [==============================] - 0s 122us/sample - loss: 0.7799 - acc: 0.7005\n",
      "Epoch 56/64\n",
      "207/207 [==============================] - 0s 126us/sample - loss: 0.7832 - acc: 0.7053\n",
      "Epoch 57/64\n",
      "207/207 [==============================] - 0s 121us/sample - loss: 0.7855 - acc: 0.7053\n",
      "Epoch 58/64\n",
      "207/207 [==============================] - 0s 121us/sample - loss: 0.7881 - acc: 0.7053\n",
      "Epoch 59/64\n",
      "207/207 [==============================] - 0s 121us/sample - loss: 0.7884 - acc: 0.7005\n",
      "Epoch 60/64\n",
      "207/207 [==============================] - 0s 116us/sample - loss: 0.7986 - acc: 0.6860\n",
      "Epoch 61/64\n",
      "207/207 [==============================] - 0s 121us/sample - loss: 0.7519 - acc: 0.7198\n",
      "Epoch 62/64\n",
      "207/207 [==============================] - 0s 121us/sample - loss: 0.7838 - acc: 0.6908\n",
      "Epoch 63/64\n",
      "207/207 [==============================] - 0s 126us/sample - loss: 0.7506 - acc: 0.7343\n",
      "Epoch 64/64\n",
      "207/207 [==============================] - 0s 121us/sample - loss: 0.7288 - acc: 0.7488\n"
     ]
    }
   ],
   "source": [
    "minmax_grid_result = minmax_grid.fit(mm_tr_data, tr_ans)"
   ]
  },
  {
   "cell_type": "code",
   "execution_count": 25,
   "metadata": {},
   "outputs": [
    {
     "name": "stdout",
     "output_type": "stream",
     "text": [
      "Epoch 1/64\n",
      "207/207 [==============================] - 0s 2ms/sample - loss: 1.0804 - acc: 0.5217\n",
      "Epoch 2/64\n",
      "207/207 [==============================] - 0s 150us/sample - loss: 0.9496 - acc: 0.6667\n",
      "Epoch 3/64\n",
      "207/207 [==============================] - 0s 150us/sample - loss: 0.8970 - acc: 0.6280\n",
      "Epoch 4/64\n",
      "207/207 [==============================] - 0s 150us/sample - loss: 0.9616 - acc: 0.6425\n",
      "Epoch 5/64\n",
      "207/207 [==============================] - 0s 140us/sample - loss: 0.9184 - acc: 0.6667\n",
      "Epoch 6/64\n",
      "207/207 [==============================] - 0s 157us/sample - loss: 0.8739 - acc: 0.6329\n",
      "Epoch 7/64\n",
      "207/207 [==============================] - 0s 149us/sample - loss: 0.8661 - acc: 0.6908\n",
      "Epoch 8/64\n",
      "207/207 [==============================] - 0s 140us/sample - loss: 0.9285 - acc: 0.6522\n",
      "Epoch 9/64\n",
      "207/207 [==============================] - 0s 145us/sample - loss: 0.8893 - acc: 0.6425\n",
      "Epoch 10/64\n",
      "207/207 [==============================] - 0s 140us/sample - loss: 0.8780 - acc: 0.6860\n",
      "Epoch 11/64\n",
      "207/207 [==============================] - 0s 135us/sample - loss: 0.8632 - acc: 0.6377\n",
      "Epoch 12/64\n",
      "207/207 [==============================] - 0s 145us/sample - loss: 0.8316 - acc: 0.7295\n",
      "Epoch 13/64\n",
      "207/207 [==============================] - 0s 140us/sample - loss: 0.8472 - acc: 0.6715\n",
      "Epoch 14/64\n",
      "207/207 [==============================] - 0s 140us/sample - loss: 0.8513 - acc: 0.6667\n",
      "Epoch 15/64\n",
      "207/207 [==============================] - 0s 145us/sample - loss: 0.8800 - acc: 0.6425\n",
      "Epoch 16/64\n",
      "207/207 [==============================] - 0s 140us/sample - loss: 0.8233 - acc: 0.7198\n",
      "Epoch 17/64\n",
      "207/207 [==============================] - 0s 130us/sample - loss: 0.7994 - acc: 0.7391\n",
      "Epoch 18/64\n",
      "207/207 [==============================] - 0s 130us/sample - loss: 0.7974 - acc: 0.6908\n",
      "Epoch 19/64\n",
      "207/207 [==============================] - 0s 135us/sample - loss: 0.8026 - acc: 0.7198\n",
      "Epoch 20/64\n",
      "207/207 [==============================] - 0s 130us/sample - loss: 0.8370 - acc: 0.6957\n",
      "Epoch 21/64\n",
      "207/207 [==============================] - 0s 140us/sample - loss: 0.8211 - acc: 0.6715\n",
      "Epoch 22/64\n",
      "207/207 [==============================] - 0s 135us/sample - loss: 0.8544 - acc: 0.6860\n",
      "Epoch 23/64\n",
      "207/207 [==============================] - 0s 126us/sample - loss: 0.7839 - acc: 0.7198\n",
      "Epoch 24/64\n",
      "207/207 [==============================] - 0s 145us/sample - loss: 0.8109 - acc: 0.6860\n",
      "Epoch 25/64\n",
      "207/207 [==============================] - 0s 135us/sample - loss: 0.8202 - acc: 0.6860\n",
      "Epoch 26/64\n",
      "207/207 [==============================] - 0s 130us/sample - loss: 0.8335 - acc: 0.6184\n",
      "Epoch 27/64\n",
      "207/207 [==============================] - 0s 140us/sample - loss: 0.7978 - acc: 0.6908\n",
      "Epoch 28/64\n",
      "207/207 [==============================] - 0s 135us/sample - loss: 0.7415 - acc: 0.7681\n",
      "Epoch 29/64\n",
      "207/207 [==============================] - 0s 135us/sample - loss: 0.8242 - acc: 0.7198\n",
      "Epoch 30/64\n",
      "207/207 [==============================] - 0s 140us/sample - loss: 0.7662 - acc: 0.7391\n",
      "Epoch 31/64\n",
      "207/207 [==============================] - 0s 135us/sample - loss: 0.7888 - acc: 0.7101\n",
      "Epoch 32/64\n",
      "207/207 [==============================] - 0s 135us/sample - loss: 0.7639 - acc: 0.7488\n",
      "Epoch 33/64\n",
      "207/207 [==============================] - 0s 135us/sample - loss: 0.7655 - acc: 0.7391\n",
      "Epoch 34/64\n",
      "207/207 [==============================] - 0s 135us/sample - loss: 0.7591 - acc: 0.7343\n",
      "Epoch 35/64\n",
      "207/207 [==============================] - 0s 140us/sample - loss: 0.7721 - acc: 0.7053\n",
      "Epoch 36/64\n",
      "207/207 [==============================] - 0s 130us/sample - loss: 0.7887 - acc: 0.7198\n",
      "Epoch 37/64\n",
      "207/207 [==============================] - 0s 140us/sample - loss: 0.7730 - acc: 0.7343\n",
      "Epoch 38/64\n",
      "207/207 [==============================] - 0s 130us/sample - loss: 0.8000 - acc: 0.7585\n",
      "Epoch 39/64\n",
      "207/207 [==============================] - 0s 130us/sample - loss: 0.7966 - acc: 0.6860\n",
      "Epoch 40/64\n",
      "207/207 [==============================] - 0s 135us/sample - loss: 0.7284 - acc: 0.7585\n",
      "Epoch 41/64\n",
      "207/207 [==============================] - 0s 135us/sample - loss: 0.7482 - acc: 0.7391\n",
      "Epoch 42/64\n",
      "207/207 [==============================] - 0s 130us/sample - loss: 0.7742 - acc: 0.7101\n",
      "Epoch 43/64\n",
      "207/207 [==============================] - 0s 130us/sample - loss: 0.7696 - acc: 0.7150\n",
      "Epoch 44/64\n",
      "207/207 [==============================] - 0s 130us/sample - loss: 0.7631 - acc: 0.7101\n",
      "Epoch 45/64\n",
      "207/207 [==============================] - 0s 140us/sample - loss: 0.7795 - acc: 0.7101\n",
      "Epoch 46/64\n",
      "207/207 [==============================] - 0s 135us/sample - loss: 0.7074 - acc: 0.7778\n",
      "Epoch 47/64\n",
      "207/207 [==============================] - 0s 130us/sample - loss: 0.7301 - acc: 0.7633\n",
      "Epoch 48/64\n",
      "207/207 [==============================] - 0s 130us/sample - loss: 0.7269 - acc: 0.7391\n",
      "Epoch 49/64\n",
      "207/207 [==============================] - 0s 135us/sample - loss: 0.7731 - acc: 0.7150\n",
      "Epoch 50/64\n",
      "207/207 [==============================] - 0s 130us/sample - loss: 0.7321 - acc: 0.7585\n",
      "Epoch 51/64\n",
      "207/207 [==============================] - 0s 140us/sample - loss: 0.7402 - acc: 0.7440\n",
      "Epoch 52/64\n",
      "207/207 [==============================] - 0s 135us/sample - loss: 0.7582 - acc: 0.7343\n",
      "Epoch 53/64\n",
      "207/207 [==============================] - 0s 130us/sample - loss: 0.7736 - acc: 0.7101\n",
      "Epoch 54/64\n",
      "207/207 [==============================] - 0s 135us/sample - loss: 0.7445 - acc: 0.7198\n",
      "Epoch 55/64\n",
      "207/207 [==============================] - 0s 140us/sample - loss: 0.7691 - acc: 0.6957\n",
      "Epoch 56/64\n",
      "207/207 [==============================] - 0s 135us/sample - loss: 0.7613 - acc: 0.7343\n",
      "Epoch 57/64\n",
      "207/207 [==============================] - 0s 130us/sample - loss: 0.7384 - acc: 0.7585\n",
      "Epoch 58/64\n",
      "207/207 [==============================] - 0s 135us/sample - loss: 0.7076 - acc: 0.7488\n",
      "Epoch 59/64\n",
      "207/207 [==============================] - 0s 130us/sample - loss: 0.7198 - acc: 0.7681\n",
      "Epoch 60/64\n",
      "207/207 [==============================] - 0s 135us/sample - loss: 0.7091 - acc: 0.7633\n",
      "Epoch 61/64\n",
      "207/207 [==============================] - 0s 130us/sample - loss: 0.7320 - acc: 0.6957\n",
      "Epoch 62/64\n",
      "207/207 [==============================] - 0s 130us/sample - loss: 0.6893 - acc: 0.7681\n",
      "Epoch 63/64\n",
      "207/207 [==============================] - 0s 135us/sample - loss: 0.7568 - acc: 0.6908\n",
      "Epoch 64/64\n",
      "207/207 [==============================] - 0s 130us/sample - loss: 0.7159 - acc: 0.7585\n"
     ]
    }
   ],
   "source": [
    "std_grid_result = std_grid.fit(std_tr_data, tr_ans)"
   ]
  },
  {
   "cell_type": "code",
   "execution_count": 26,
   "metadata": {
    "scrolled": true
   },
   "outputs": [
    {
     "name": "stdout",
     "output_type": "stream",
     "text": [
      "Scaler = minmax\n",
      "Best: 0.724638 using {'activation': 'elu', 'hidden_layers': 4, 'init_mode': 'he_normal', 'neurons': 32}\n",
      "0.661836 (0.029780) with: {'activation': 'elu', 'hidden_layers': 4, 'init_mode': 'glorot_uniform', 'neurons': 32}\n",
      "0.685990 (0.059560) with: {'activation': 'elu', 'hidden_layers': 4, 'init_mode': 'glorot_uniform', 'neurons': 64}\n",
      "0.685990 (0.013664) with: {'activation': 'elu', 'hidden_layers': 4, 'init_mode': 'glorot_uniform', 'neurons': 128}\n",
      "0.724638 (0.061488) with: {'activation': 'elu', 'hidden_layers': 4, 'init_mode': 'he_normal', 'neurons': 32}\n",
      "0.690821 (0.006832) with: {'activation': 'elu', 'hidden_layers': 4, 'init_mode': 'he_normal', 'neurons': 64}\n",
      "0.652174 (0.054227) with: {'activation': 'elu', 'hidden_layers': 4, 'init_mode': 'he_normal', 'neurons': 128}\n",
      "0.666667 (0.051580) with: {'activation': 'elu', 'hidden_layers': 8, 'init_mode': 'glorot_uniform', 'neurons': 32}\n",
      "0.710145 (0.040992) with: {'activation': 'elu', 'hidden_layers': 8, 'init_mode': 'glorot_uniform', 'neurons': 64}\n",
      "0.661836 (0.060724) with: {'activation': 'elu', 'hidden_layers': 8, 'init_mode': 'glorot_uniform', 'neurons': 128}\n",
      "0.657005 (0.036151) with: {'activation': 'elu', 'hidden_layers': 8, 'init_mode': 'he_normal', 'neurons': 32}\n",
      "0.661836 (0.047824) with: {'activation': 'elu', 'hidden_layers': 8, 'init_mode': 'he_normal', 'neurons': 64}\n",
      "0.719807 (0.029780) with: {'activation': 'elu', 'hidden_layers': 8, 'init_mode': 'he_normal', 'neurons': 128}\n",
      "0.642512 (0.047824) with: {'activation': 'elu', 'hidden_layers': 12, 'init_mode': 'glorot_uniform', 'neurons': 32}\n",
      "0.690821 (0.103386) with: {'activation': 'elu', 'hidden_layers': 12, 'init_mode': 'glorot_uniform', 'neurons': 64}\n",
      "0.690821 (0.044800) with: {'activation': 'elu', 'hidden_layers': 12, 'init_mode': 'glorot_uniform', 'neurons': 128}\n",
      "0.661836 (0.018076) with: {'activation': 'elu', 'hidden_layers': 12, 'init_mode': 'he_normal', 'neurons': 32}\n",
      "0.661836 (0.068320) with: {'activation': 'elu', 'hidden_layers': 12, 'init_mode': 'he_normal', 'neurons': 64}\n",
      "0.666667 (0.073899) with: {'activation': 'elu', 'hidden_layers': 12, 'init_mode': 'he_normal', 'neurons': 128}\n",
      "0.671498 (0.034160) with: {'activation': <function leaky_relu at 0x00000276E3692510>, 'hidden_layers': 4, 'init_mode': 'glorot_uniform', 'neurons': 32}\n",
      "0.671498 (0.013664) with: {'activation': <function leaky_relu at 0x00000276E3692510>, 'hidden_layers': 4, 'init_mode': 'glorot_uniform', 'neurons': 64}\n",
      "0.681159 (0.054227) with: {'activation': <function leaky_relu at 0x00000276E3692510>, 'hidden_layers': 4, 'init_mode': 'glorot_uniform', 'neurons': 128}\n",
      "0.671498 (0.024633) with: {'activation': <function leaky_relu at 0x00000276E3692510>, 'hidden_layers': 4, 'init_mode': 'he_normal', 'neurons': 32}\n",
      "0.661836 (0.041557) with: {'activation': <function leaky_relu at 0x00000276E3692510>, 'hidden_layers': 4, 'init_mode': 'he_normal', 'neurons': 64}\n",
      "0.671498 (0.041557) with: {'activation': <function leaky_relu at 0x00000276E3692510>, 'hidden_layers': 4, 'init_mode': 'he_normal', 'neurons': 128}\n",
      "0.657005 (0.038039) with: {'activation': <function leaky_relu at 0x00000276E3692510>, 'hidden_layers': 8, 'init_mode': 'glorot_uniform', 'neurons': 32}\n",
      "0.603865 (0.060724) with: {'activation': <function leaky_relu at 0x00000276E3692510>, 'hidden_layers': 8, 'init_mode': 'glorot_uniform', 'neurons': 64}\n",
      "0.710145 (0.031308) with: {'activation': <function leaky_relu at 0x00000276E3692510>, 'hidden_layers': 8, 'init_mode': 'glorot_uniform', 'neurons': 128}\n",
      "0.560386 (0.088815) with: {'activation': <function leaky_relu at 0x00000276E3692510>, 'hidden_layers': 8, 'init_mode': 'he_normal', 'neurons': 32}\n",
      "0.657005 (0.047824) with: {'activation': <function leaky_relu at 0x00000276E3692510>, 'hidden_layers': 8, 'init_mode': 'he_normal', 'neurons': 64}\n",
      "0.666667 (0.065885) with: {'activation': <function leaky_relu at 0x00000276E3692510>, 'hidden_layers': 8, 'init_mode': 'he_normal', 'neurons': 128}\n",
      "0.497585 (0.041557) with: {'activation': <function leaky_relu at 0x00000276E3692510>, 'hidden_layers': 12, 'init_mode': 'glorot_uniform', 'neurons': 32}\n",
      "0.521739 (0.042666) with: {'activation': <function leaky_relu at 0x00000276E3692510>, 'hidden_layers': 12, 'init_mode': 'glorot_uniform', 'neurons': 64}\n",
      "0.685990 (0.029780) with: {'activation': <function leaky_relu at 0x00000276E3692510>, 'hidden_layers': 12, 'init_mode': 'glorot_uniform', 'neurons': 128}\n",
      "0.473430 (0.072303) with: {'activation': <function leaky_relu at 0x00000276E3692510>, 'hidden_layers': 12, 'init_mode': 'he_normal', 'neurons': 32}\n",
      "0.545894 (0.027328) with: {'activation': <function leaky_relu at 0x00000276E3692510>, 'hidden_layers': 12, 'init_mode': 'he_normal', 'neurons': 64}\n",
      "0.690821 (0.076992) with: {'activation': <function leaky_relu at 0x00000276E3692510>, 'hidden_layers': 12, 'init_mode': 'he_normal', 'neurons': 128}\n"
     ]
    }
   ],
   "source": [
    "print(\"Scaler = minmax\")\n",
    "print(\"Best: %f using %s\" % (minmax_grid_result.best_score_, minmax_grid_result.best_params_))\n",
    "means = minmax_grid_result.cv_results_['mean_test_score']\n",
    "stds = minmax_grid_result.cv_results_['std_test_score']\n",
    "params = minmax_grid_result.cv_results_['params']\n",
    "\n",
    "for mean, stdev, param in zip(means, stds, params):\n",
    "    print(\"%f (%f) with: %r\" % (mean, stdev, param))"
   ]
  },
  {
   "cell_type": "code",
   "execution_count": 27,
   "metadata": {},
   "outputs": [
    {
     "name": "stdout",
     "output_type": "stream",
     "text": [
      "Scaler = standard\n",
      "Best: 0.739130 using {'activation': 'elu', 'hidden_layers': 4, 'init_mode': 'glorot_uniform', 'neurons': 64}\n",
      "0.705314 (0.049266) with: {'activation': 'elu', 'hidden_layers': 4, 'init_mode': 'glorot_uniform', 'neurons': 32}\n",
      "0.739130 (0.011833) with: {'activation': 'elu', 'hidden_layers': 4, 'init_mode': 'glorot_uniform', 'neurons': 64}\n",
      "0.695652 (0.031308) with: {'activation': 'elu', 'hidden_layers': 4, 'init_mode': 'glorot_uniform', 'neurons': 128}\n",
      "0.710145 (0.031308) with: {'activation': 'elu', 'hidden_layers': 4, 'init_mode': 'he_normal', 'neurons': 32}\n",
      "0.724638 (0.011833) with: {'activation': 'elu', 'hidden_layers': 4, 'init_mode': 'he_normal', 'neurons': 64}\n",
      "0.719807 (0.041557) with: {'activation': 'elu', 'hidden_layers': 4, 'init_mode': 'he_normal', 'neurons': 128}\n",
      "0.714976 (0.044800) with: {'activation': 'elu', 'hidden_layers': 8, 'init_mode': 'glorot_uniform', 'neurons': 32}\n",
      "0.700483 (0.049266) with: {'activation': 'elu', 'hidden_layers': 8, 'init_mode': 'glorot_uniform', 'neurons': 64}\n",
      "0.700483 (0.065173) with: {'activation': 'elu', 'hidden_layers': 8, 'init_mode': 'glorot_uniform', 'neurons': 128}\n",
      "0.690821 (0.024633) with: {'activation': 'elu', 'hidden_layers': 8, 'init_mode': 'he_normal', 'neurons': 32}\n",
      "0.700483 (0.024633) with: {'activation': 'elu', 'hidden_layers': 8, 'init_mode': 'he_normal', 'neurons': 64}\n",
      "0.714976 (0.044800) with: {'activation': 'elu', 'hidden_layers': 8, 'init_mode': 'he_normal', 'neurons': 128}\n",
      "0.652174 (0.040992) with: {'activation': 'elu', 'hidden_layers': 12, 'init_mode': 'glorot_uniform', 'neurons': 32}\n",
      "0.681159 (0.031308) with: {'activation': 'elu', 'hidden_layers': 12, 'init_mode': 'glorot_uniform', 'neurons': 64}\n",
      "0.705314 (0.044800) with: {'activation': 'elu', 'hidden_layers': 12, 'init_mode': 'glorot_uniform', 'neurons': 128}\n",
      "0.647343 (0.060724) with: {'activation': 'elu', 'hidden_layers': 12, 'init_mode': 'he_normal', 'neurons': 32}\n",
      "0.671498 (0.018076) with: {'activation': 'elu', 'hidden_layers': 12, 'init_mode': 'he_normal', 'neurons': 64}\n",
      "0.729469 (0.018076) with: {'activation': 'elu', 'hidden_layers': 12, 'init_mode': 'he_normal', 'neurons': 128}\n",
      "0.695652 (0.035500) with: {'activation': <function leaky_relu at 0x00000276E3692510>, 'hidden_layers': 4, 'init_mode': 'glorot_uniform', 'neurons': 32}\n",
      "0.710145 (0.062616) with: {'activation': <function leaky_relu at 0x00000276E3692510>, 'hidden_layers': 4, 'init_mode': 'glorot_uniform', 'neurons': 64}\n",
      "0.681159 (0.059166) with: {'activation': <function leaky_relu at 0x00000276E3692510>, 'hidden_layers': 4, 'init_mode': 'glorot_uniform', 'neurons': 128}\n",
      "0.695652 (0.020496) with: {'activation': <function leaky_relu at 0x00000276E3692510>, 'hidden_layers': 4, 'init_mode': 'he_normal', 'neurons': 32}\n",
      "0.695652 (0.011833) with: {'activation': <function leaky_relu at 0x00000276E3692510>, 'hidden_layers': 4, 'init_mode': 'he_normal', 'neurons': 64}\n",
      "0.705314 (0.024633) with: {'activation': <function leaky_relu at 0x00000276E3692510>, 'hidden_layers': 4, 'init_mode': 'he_normal', 'neurons': 128}\n",
      "0.632850 (0.041557) with: {'activation': <function leaky_relu at 0x00000276E3692510>, 'hidden_layers': 8, 'init_mode': 'glorot_uniform', 'neurons': 32}\n",
      "0.671498 (0.029780) with: {'activation': <function leaky_relu at 0x00000276E3692510>, 'hidden_layers': 8, 'init_mode': 'glorot_uniform', 'neurons': 64}\n",
      "0.695652 (0.065885) with: {'activation': <function leaky_relu at 0x00000276E3692510>, 'hidden_layers': 8, 'init_mode': 'glorot_uniform', 'neurons': 128}\n",
      "0.623188 (0.031308) with: {'activation': <function leaky_relu at 0x00000276E3692510>, 'hidden_layers': 8, 'init_mode': 'he_normal', 'neurons': 32}\n",
      "0.719807 (0.060724) with: {'activation': <function leaky_relu at 0x00000276E3692510>, 'hidden_layers': 8, 'init_mode': 'he_normal', 'neurons': 64}\n",
      "0.700483 (0.047824) with: {'activation': <function leaky_relu at 0x00000276E3692510>, 'hidden_layers': 8, 'init_mode': 'he_normal', 'neurons': 128}\n",
      "0.565217 (0.065885) with: {'activation': <function leaky_relu at 0x00000276E3692510>, 'hidden_layers': 12, 'init_mode': 'glorot_uniform', 'neurons': 32}\n",
      "0.550725 (0.051580) with: {'activation': <function leaky_relu at 0x00000276E3692510>, 'hidden_layers': 12, 'init_mode': 'glorot_uniform', 'neurons': 64}\n",
      "0.690821 (0.006832) with: {'activation': <function leaky_relu at 0x00000276E3692510>, 'hidden_layers': 12, 'init_mode': 'glorot_uniform', 'neurons': 128}\n",
      "0.526570 (0.018076) with: {'activation': <function leaky_relu at 0x00000276E3692510>, 'hidden_layers': 12, 'init_mode': 'he_normal', 'neurons': 32}\n",
      "0.599034 (0.047824) with: {'activation': <function leaky_relu at 0x00000276E3692510>, 'hidden_layers': 12, 'init_mode': 'he_normal', 'neurons': 64}\n",
      "0.690821 (0.006832) with: {'activation': <function leaky_relu at 0x00000276E3692510>, 'hidden_layers': 12, 'init_mode': 'he_normal', 'neurons': 128}\n"
     ]
    }
   ],
   "source": [
    "print(\"Scaler = standard\")\n",
    "print(\"Best: %f using %s\" % (std_grid_result.best_score_, std_grid_result.best_params_))\n",
    "means = std_grid_result.cv_results_['mean_test_score']\n",
    "stds = std_grid_result.cv_results_['std_test_score']\n",
    "params = std_grid_result.cv_results_['params']\n",
    "\n",
    "for mean, stdev, param in zip(means, stds, params):\n",
    "    print(\"%f (%f) with: %r\" % (mean, stdev, param))"
   ]
  },
  {
   "cell_type": "code",
   "execution_count": 28,
   "metadata": {},
   "outputs": [
    {
     "name": "stdout",
     "output_type": "stream",
     "text": [
      "Accuracy =  0.7898550724637681\n",
      "Confusion Matrix\n",
      "[[46 13]\n",
      " [16 63]]\n",
      "\n",
      "Classification Report\n",
      "              precision    recall  f1-score   support\n",
      "\n",
      "         1.0       0.74      0.78      0.76        59\n",
      "         2.0       0.83      0.80      0.81        79\n",
      "\n",
      "   micro avg       0.79      0.79      0.79       138\n",
      "   macro avg       0.79      0.79      0.79       138\n",
      "weighted avg       0.79      0.79      0.79       138\n",
      "\n"
     ]
    }
   ],
   "source": [
    "pred = minmax_grid.predict(mm_ts_data)\n",
    "\n",
    "accuracy = accuracy_score(pred, ts_ans)\n",
    "ts_ans = ts_ans.astype(float)\n",
    "precision, recall, fbeta_score, support = precision_recall_fscore_support(ts_ans, pred)\n",
    "conf_mat = confusion_matrix(ts_ans, pred)\n",
    "print(\"Accuracy = \", accuracy)\n",
    "print(\"Confusion Matrix\")\n",
    "print(\"{0}\".format(metrics.confusion_matrix(ts_ans, pred)))\n",
    "print(\"\")\n",
    "print(\"Classification Report\")\n",
    "print(metrics.classification_report(ts_ans, pred))"
   ]
  },
  {
   "cell_type": "code",
   "execution_count": 29,
   "metadata": {},
   "outputs": [
    {
     "name": "stdout",
     "output_type": "stream",
     "text": [
      "Accuracy =  0.7536231884057971\n",
      "Confusion Matrix\n",
      "[[42 17]\n",
      " [17 62]]\n",
      "\n",
      "Classification Report\n",
      "              precision    recall  f1-score   support\n",
      "\n",
      "         1.0       0.71      0.71      0.71        59\n",
      "         2.0       0.78      0.78      0.78        79\n",
      "\n",
      "   micro avg       0.75      0.75      0.75       138\n",
      "   macro avg       0.75      0.75      0.75       138\n",
      "weighted avg       0.75      0.75      0.75       138\n",
      "\n"
     ]
    }
   ],
   "source": [
    "pred = std_grid.predict(std_ts_data)\n",
    "\n",
    "accuracy = accuracy_score(pred, ts_ans)\n",
    "ts_ans = ts_ans.astype(float)\n",
    "precision, recall, fbeta_score, support = precision_recall_fscore_support(ts_ans, pred)\n",
    "conf_mat = confusion_matrix(ts_ans, pred)\n",
    "print(\"Accuracy = \", accuracy)\n",
    "print(\"Confusion Matrix\")\n",
    "print(\"{0}\".format(metrics.confusion_matrix(ts_ans, pred)))\n",
    "print(\"\")\n",
    "print(\"Classification Report\")\n",
    "print(metrics.classification_report(ts_ans, pred))"
   ]
  },
  {
   "cell_type": "code",
   "execution_count": 30,
   "metadata": {
    "colab": {},
    "colab_type": "code",
    "id": "MKmXpPoXdidO"
   },
   "outputs": [],
   "source": [
    "# # testbed Version\n",
    "\n",
    "\n",
    "# def create_model(hidden_layers = 1, neurons =1, init_mode = 'uniform', activation = 'elu'):\n",
    "#     model = Sequential()\n",
    "#     model.add(Dense(neurons, input_dim=len(tr_data.T), kernel_initializer=init_mode, activation=activation))\n",
    "\n",
    "#     for i in range(hidden_layers):\n",
    "        \n",
    "#         model.add(Dense(neurons, kernel_initializer=init_mode))\n",
    "#         model.add(BatchNormalization())\n",
    "#         model.add(Activation(activation))\n",
    "#         model.add(Dropout(0.2))\n",
    "  \n",
    "#     if class_count == 2:  \n",
    "#         model.add(Dense(1,activation='sigmoid'))\n",
    "#         model.compile(loss='binary_crossentropy', optimizer='adam', metrics=['accuracy'])\n",
    "#     elif class_count != 2:\n",
    "#         model.add(Dense(class_count-1, activation='softmax'))\n",
    "#         model.compile(loss='sparse_categorical_crossentropy', optimizer='adam', metrics=['accuracy'])\n",
    "\n",
    "#     return model\n",
    "\n",
    "\n",
    "# hidden_layers = [5, 10]\n",
    "# neurons = [32, 64]\n",
    "# activation = ['elu']\n",
    "# init_mode = ['he_uniform']\n",
    "\n",
    "# keras_model = KerasClassifier(build_fn=create_model, epochs=4, batch_size=4)\n",
    "\n",
    "# param_grid = dict(hidden_layers = hidden_layers, neurons = neurons, init_mode = init_mode, activation = activation)\n",
    "# grid = GridSearchCV(estimator=keras_model, param_grid=param_grid, n_jobs= -1, cv=2)"
   ]
  },
  {
   "cell_type": "code",
   "execution_count": null,
   "metadata": {
    "colab": {},
    "colab_type": "code",
    "id": "1pNmP5gQVTsZ"
   },
   "outputs": [],
   "source": []
  }
 ],
 "metadata": {
  "accelerator": "GPU",
  "colab": {
   "collapsed_sections": [],
   "name": "pima_indian_diabetes.ipynb",
   "provenance": [],
   "version": "0.3.2"
  },
  "kernelspec": {
   "display_name": "Python 3",
   "language": "python",
   "name": "python3"
  },
  "language_info": {
   "codemirror_mode": {
    "name": "ipython",
    "version": 3
   },
   "file_extension": ".py",
   "mimetype": "text/x-python",
   "name": "python",
   "nbconvert_exporter": "python",
   "pygments_lexer": "ipython3",
   "version": "3.6.8"
  }
 },
 "nbformat": 4,
 "nbformat_minor": 1
}
