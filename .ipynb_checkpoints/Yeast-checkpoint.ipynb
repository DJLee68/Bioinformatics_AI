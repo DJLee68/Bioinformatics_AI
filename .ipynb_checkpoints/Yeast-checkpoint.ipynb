{
 "cells": [
  {
   "cell_type": "code",
   "execution_count": 1,
   "metadata": {
    "colab": {},
    "colab_type": "code",
    "id": "mL7zvImn9Fbf"
   },
   "outputs": [],
   "source": [
    "import numpy as np\n",
    "import pandas as pd\n",
    "from sklearn.preprocessing import MinMaxScaler\n",
    "from sklearn.preprocessing import StandardScaler\n",
    "from sklearn.model_selection import train_test_split"
   ]
  },
  {
   "cell_type": "code",
   "execution_count": 2,
   "metadata": {},
   "outputs": [],
   "source": [
    "data = pd.read_excel('yeast.data.xlsx')"
   ]
  },
  {
   "cell_type": "code",
   "execution_count": 3,
   "metadata": {},
   "outputs": [],
   "source": [
    "df_train, df_test = train_test_split(data, test_size=0.3, random_state=42)"
   ]
  },
  {
   "cell_type": "code",
   "execution_count": 4,
   "metadata": {},
   "outputs": [],
   "source": [
    "train = df_train\n",
    "test = df_test"
   ]
  },
  {
   "cell_type": "code",
   "execution_count": 5,
   "metadata": {},
   "outputs": [
    {
     "data": {
      "text/plain": [
       "(1038, 9)"
      ]
     },
     "execution_count": 5,
     "metadata": {},
     "output_type": "execute_result"
    }
   ],
   "source": [
    "train.shape"
   ]
  },
  {
   "cell_type": "code",
   "execution_count": 6,
   "metadata": {
    "colab": {
     "base_uri": "https://localhost:8080/",
     "height": 34
    },
    "colab_type": "code",
    "executionInfo": {
     "elapsed": 516,
     "status": "ok",
     "timestamp": 1562058530714,
     "user": {
      "displayName": "이동재",
      "photoUrl": "",
      "userId": "12052501428717228434"
     },
     "user_tz": -540
    },
    "id": "t8pTzpUVcq9z",
    "outputId": "f6d4f95b-36f9-4a7f-eddf-ef67301f6e4c"
   },
   "outputs": [
    {
     "data": {
      "text/plain": [
       "(446, 9)"
      ]
     },
     "execution_count": 6,
     "metadata": {},
     "output_type": "execute_result"
    }
   ],
   "source": [
    "test.shape"
   ]
  },
  {
   "cell_type": "code",
   "execution_count": 7,
   "metadata": {},
   "outputs": [
    {
     "data": {
      "text/html": [
       "<div>\n",
       "<style scoped>\n",
       "    .dataframe tbody tr th:only-of-type {\n",
       "        vertical-align: middle;\n",
       "    }\n",
       "\n",
       "    .dataframe tbody tr th {\n",
       "        vertical-align: top;\n",
       "    }\n",
       "\n",
       "    .dataframe thead th {\n",
       "        text-align: right;\n",
       "    }\n",
       "</style>\n",
       "<table border=\"1\" class=\"dataframe\">\n",
       "  <thead>\n",
       "    <tr style=\"text-align: right;\">\n",
       "      <th></th>\n",
       "      <th>mcg</th>\n",
       "      <th>gvh</th>\n",
       "      <th>alm</th>\n",
       "      <th>mit</th>\n",
       "      <th>erl</th>\n",
       "      <th>pox</th>\n",
       "      <th>vac</th>\n",
       "      <th>nuc</th>\n",
       "    </tr>\n",
       "  </thead>\n",
       "  <tbody>\n",
       "    <tr>\n",
       "      <th>count</th>\n",
       "      <td>1038.000000</td>\n",
       "      <td>1038.000000</td>\n",
       "      <td>1038.000000</td>\n",
       "      <td>1038.000000</td>\n",
       "      <td>1038.000000</td>\n",
       "      <td>1038.000000</td>\n",
       "      <td>1038.000000</td>\n",
       "      <td>1038.000000</td>\n",
       "    </tr>\n",
       "    <tr>\n",
       "      <th>mean</th>\n",
       "      <td>0.503160</td>\n",
       "      <td>0.500125</td>\n",
       "      <td>0.501532</td>\n",
       "      <td>0.259865</td>\n",
       "      <td>0.505299</td>\n",
       "      <td>0.008324</td>\n",
       "      <td>0.499913</td>\n",
       "      <td>0.274133</td>\n",
       "    </tr>\n",
       "    <tr>\n",
       "      <th>std</th>\n",
       "      <td>0.136967</td>\n",
       "      <td>0.124160</td>\n",
       "      <td>0.087106</td>\n",
       "      <td>0.133399</td>\n",
       "      <td>0.051223</td>\n",
       "      <td>0.078801</td>\n",
       "      <td>0.057912</td>\n",
       "      <td>0.104292</td>\n",
       "    </tr>\n",
       "    <tr>\n",
       "      <th>min</th>\n",
       "      <td>0.110000</td>\n",
       "      <td>0.140000</td>\n",
       "      <td>0.210000</td>\n",
       "      <td>0.000000</td>\n",
       "      <td>0.500000</td>\n",
       "      <td>0.000000</td>\n",
       "      <td>0.000000</td>\n",
       "      <td>0.000000</td>\n",
       "    </tr>\n",
       "    <tr>\n",
       "      <th>25%</th>\n",
       "      <td>0.410000</td>\n",
       "      <td>0.420000</td>\n",
       "      <td>0.460000</td>\n",
       "      <td>0.170000</td>\n",
       "      <td>0.500000</td>\n",
       "      <td>0.000000</td>\n",
       "      <td>0.480000</td>\n",
       "      <td>0.220000</td>\n",
       "    </tr>\n",
       "    <tr>\n",
       "      <th>50%</th>\n",
       "      <td>0.490000</td>\n",
       "      <td>0.490000</td>\n",
       "      <td>0.510000</td>\n",
       "      <td>0.220000</td>\n",
       "      <td>0.500000</td>\n",
       "      <td>0.000000</td>\n",
       "      <td>0.510000</td>\n",
       "      <td>0.220000</td>\n",
       "    </tr>\n",
       "    <tr>\n",
       "      <th>75%</th>\n",
       "      <td>0.580000</td>\n",
       "      <td>0.570000</td>\n",
       "      <td>0.560000</td>\n",
       "      <td>0.320000</td>\n",
       "      <td>0.500000</td>\n",
       "      <td>0.000000</td>\n",
       "      <td>0.530000</td>\n",
       "      <td>0.297500</td>\n",
       "    </tr>\n",
       "    <tr>\n",
       "      <th>max</th>\n",
       "      <td>0.970000</td>\n",
       "      <td>1.000000</td>\n",
       "      <td>1.000000</td>\n",
       "      <td>1.000000</td>\n",
       "      <td>1.000000</td>\n",
       "      <td>0.830000</td>\n",
       "      <td>0.730000</td>\n",
       "      <td>1.000000</td>\n",
       "    </tr>\n",
       "  </tbody>\n",
       "</table>\n",
       "</div>"
      ],
      "text/plain": [
       "               mcg          gvh          alm          mit          erl  \\\n",
       "count  1038.000000  1038.000000  1038.000000  1038.000000  1038.000000   \n",
       "mean      0.503160     0.500125     0.501532     0.259865     0.505299   \n",
       "std       0.136967     0.124160     0.087106     0.133399     0.051223   \n",
       "min       0.110000     0.140000     0.210000     0.000000     0.500000   \n",
       "25%       0.410000     0.420000     0.460000     0.170000     0.500000   \n",
       "50%       0.490000     0.490000     0.510000     0.220000     0.500000   \n",
       "75%       0.580000     0.570000     0.560000     0.320000     0.500000   \n",
       "max       0.970000     1.000000     1.000000     1.000000     1.000000   \n",
       "\n",
       "               pox          vac          nuc  \n",
       "count  1038.000000  1038.000000  1038.000000  \n",
       "mean      0.008324     0.499913     0.274133  \n",
       "std       0.078801     0.057912     0.104292  \n",
       "min       0.000000     0.000000     0.000000  \n",
       "25%       0.000000     0.480000     0.220000  \n",
       "50%       0.000000     0.510000     0.220000  \n",
       "75%       0.000000     0.530000     0.297500  \n",
       "max       0.830000     0.730000     1.000000  "
      ]
     },
     "execution_count": 7,
     "metadata": {},
     "output_type": "execute_result"
    }
   ],
   "source": [
    "train.describe()"
   ]
  },
  {
   "cell_type": "code",
   "execution_count": 8,
   "metadata": {},
   "outputs": [],
   "source": [
    "import seaborn\n",
    "import matplotlib.pyplot as plt\n",
    "\n",
    "def plot_df(df, name):\n",
    "  corr = df[df.columns].corr()\n",
    "  mask = np.zeros_like(corr, dtype=np.bool)\n",
    "  mask[np.triu_indices_from(mask)] = True\n",
    "  plt.figure(figsize=(20, 15))\n",
    "  seaborn.set(font_scale=1.2)\n",
    "  seaborn.heatmap(corr, mask=mask, center=0, annot=True,\n",
    "    square=True, linewidths=3, alpha=0.7)\n",
    "  plt.title(name)"
   ]
  },
  {
   "cell_type": "code",
   "execution_count": 9,
   "metadata": {},
   "outputs": [
    {
     "data": {
      "image/png": "[encoded data removed]",
      "text/plain": [
       "<Figure size 1440x1080 with 2 Axes>"
      ]
     },
     "metadata": {
      "needs_background": "light"
     },
     "output_type": "display_data"
    }
   ],
   "source": [
    "plot_df(train, 'Train')"
   ]
  },
  {
   "cell_type": "code",
   "execution_count": 10,
   "metadata": {
    "colab": {
     "base_uri": "https://localhost:8080/",
     "height": 140
    },
    "colab_type": "code",
    "executionInfo": {
     "elapsed": 569,
     "status": "ok",
     "timestamp": 1562058531066,
     "user": {
      "displayName": "이동재",
      "photoUrl": "",
      "userId": "12052501428717228434"
     },
     "user_tz": -540
    },
    "id": "NSjRKJko-Dcv",
    "outputId": "0e325a9e-d3d5-47a6-9df5-82990cb06120"
   },
   "outputs": [
    {
     "name": "stdout",
     "output_type": "stream",
     "text": [
      "Index(['mcg', 'gvh', 'alm', 'mit', 'erl', 'pox', 'vac', 'nuc', 'class'], dtype='object')\n"
     ]
    }
   ],
   "source": [
    "print(train.columns)"
   ]
  },
  {
   "cell_type": "code",
   "execution_count": 11,
   "metadata": {
    "colab": {
     "base_uri": "https://localhost:8080/",
     "height": 34
    },
    "colab_type": "code",
    "executionInfo": {
     "elapsed": 5744,
     "status": "ok",
     "timestamp": 1562058536952,
     "user": {
      "displayName": "이동재",
      "photoUrl": "",
      "userId": "12052501428717228434"
     },
     "user_tz": -540
    },
    "id": "7VLAjJXm-xpB",
    "outputId": "ec729c6a-a9cb-42d4-f774-0e1567be953f"
   },
   "outputs": [
    {
     "name": "stdout",
     "output_type": "stream",
     "text": [
      "Chooese the class: class\n"
     ]
    }
   ],
   "source": [
    "class_name = input(\"Chooese the class: \")"
   ]
  },
  {
   "cell_type": "code",
   "execution_count": 12,
   "metadata": {
    "colab": {},
    "colab_type": "code",
    "id": "DgUHg4ED3uWO"
   },
   "outputs": [],
   "source": [
    "minmax_scaler = MinMaxScaler()\n",
    "standard_scaler = StandardScaler()"
   ]
  },
  {
   "cell_type": "code",
   "execution_count": 13,
   "metadata": {
    "colab": {
     "base_uri": "https://localhost:8080/",
     "height": 34
    },
    "colab_type": "code",
    "executionInfo": {
     "elapsed": 1164,
     "status": "ok",
     "timestamp": 1562058540201,
     "user": {
      "displayName": "이동재",
      "photoUrl": "",
      "userId": "12052501428717228434"
     },
     "user_tz": -540
    },
    "id": "6x0W2mAC-wgw",
    "outputId": "a933e1c2-64cc-449e-cc01-a66b8b1b4a92"
   },
   "outputs": [
    {
     "name": "stdout",
     "output_type": "stream",
     "text": [
      "10\n"
     ]
    }
   ],
   "source": [
    "temp_tr_ans = train[class_name]\n",
    "temp_ts_ans = test[class_name]\n",
    "class_count = len(temp_tr_ans.unique())\n",
    "print(class_count)"
   ]
  },
  {
   "cell_type": "code",
   "execution_count": 14,
   "metadata": {},
   "outputs": [
    {
     "data": {
      "text/plain": [
       "1228    ME3\n",
       "1032    CYT\n",
       "757     MIT\n",
       "481     ME3\n",
       "129     CYT\n",
       "567     NUC\n",
       "331     CYT\n",
       "323     NUC\n",
       "1440    ME3\n",
       "651     MIT\n",
       "554     NUC\n",
       "135     CYT\n",
       "485     ME3\n",
       "493     MIT\n",
       "710     MIT\n",
       "435     NUC\n",
       "1322    NUC\n",
       "643     NUC\n",
       "610     MIT\n",
       "964     CYT\n",
       "158     NUC\n",
       "1112    NUC\n",
       "1278    CYT\n",
       "1447    NUC\n",
       "352     CYT\n",
       "774     CYT\n",
       "1281    CYT\n",
       "526     MIT\n",
       "1202    ME3\n",
       "617     MIT\n",
       "       ... \n",
       "252     NUC\n",
       "21      CYT\n",
       "1337    VAC\n",
       "459     MIT\n",
       "1184    ME3\n",
       "276     ME2\n",
       "955     NUC\n",
       "1215    CYT\n",
       "385     NUC\n",
       "805     NUC\n",
       "1437    ME1\n",
       "343     NUC\n",
       "769     CYT\n",
       "1332    MIT\n",
       "130     CYT\n",
       "871     MIT\n",
       "1123    ME3\n",
       "1396    CYT\n",
       "87      EXC\n",
       "330     ME3\n",
       "1238    CYT\n",
       "466     NUC\n",
       "121     MIT\n",
       "1044    MIT\n",
       "1095    NUC\n",
       "1130    ME3\n",
       "1294    CYT\n",
       "860     MIT\n",
       "1459    CYT\n",
       "1126    NUC\n",
       "Name: class, Length: 1038, dtype: object"
      ]
     },
     "execution_count": 14,
     "metadata": {},
     "output_type": "execute_result"
    }
   ],
   "source": [
    "temp_tr_ans"
   ]
  },
  {
   "cell_type": "code",
   "execution_count": 15,
   "metadata": {},
   "outputs": [
    {
     "data": {
      "text/plain": [
       "123     MIT\n",
       "432     MIT\n",
       "1033    ME3\n",
       "529     NUC\n",
       "1417    ME3\n",
       "629     MIT\n",
       "297     CYT\n",
       "1475    CYT\n",
       "67      CYT\n",
       "49      ME3\n",
       "124     ME3\n",
       "76      MIT\n",
       "752     MIT\n",
       "274     NUC\n",
       "426     CYT\n",
       "411     NUC\n",
       "561     ME2\n",
       "1453    ME3\n",
       "324     ME3\n",
       "952     NUC\n",
       "259     NUC\n",
       "1464    NUC\n",
       "1433    ME3\n",
       "462     MIT\n",
       "1090    CYT\n",
       "1103    NUC\n",
       "602     MIT\n",
       "1247    NUC\n",
       "277     CYT\n",
       "1116    MIT\n",
       "       ... \n",
       "453     CYT\n",
       "355     CYT\n",
       "170     NUC\n",
       "1108    ME3\n",
       "423     ME3\n",
       "1388    POX\n",
       "209     MIT\n",
       "634     ME1\n",
       "140     CYT\n",
       "1217    CYT\n",
       "967     CYT\n",
       "887     NUC\n",
       "1176    CYT\n",
       "746     VAC\n",
       "1125    NUC\n",
       "591     CYT\n",
       "199     MIT\n",
       "500     CYT\n",
       "631     MIT\n",
       "693     NUC\n",
       "471     MIT\n",
       "478     NUC\n",
       "10      NUC\n",
       "147     CYT\n",
       "706     NUC\n",
       "282     CYT\n",
       "298     ME2\n",
       "601     MIT\n",
       "291     CYT\n",
       "486     CYT\n",
       "Name: class, Length: 446, dtype: object"
      ]
     },
     "execution_count": 15,
     "metadata": {},
     "output_type": "execute_result"
    }
   ],
   "source": [
    "temp_ts_ans"
   ]
  },
  {
   "cell_type": "code",
   "execution_count": 16,
   "metadata": {
    "colab": {},
    "colab_type": "code",
    "id": "WnKjCuCfAguo"
   },
   "outputs": [],
   "source": [
    "tr_data = train.drop([class_name], axis=1)\n",
    "ts_data = test.drop([class_name], axis=1)"
   ]
  },
  {
   "cell_type": "code",
   "execution_count": 17,
   "metadata": {
    "colab": {
     "base_uri": "https://localhost:8080/",
     "height": 72
    },
    "colab_type": "code",
    "executionInfo": {
     "elapsed": 723,
     "status": "ok",
     "timestamp": 1562058547225,
     "user": {
      "displayName": "이동재",
      "photoUrl": "",
      "userId": "12052501428717228434"
     },
     "user_tz": -540
    },
    "id": "lmjXkka1Lucy",
    "outputId": "7edc3aec-a0fa-4a33-d09b-1931e2d1fb27"
   },
   "outputs": [],
   "source": [
    "# #결측치 채우기 if 결측치가 0일 경우\n",
    "\n",
    "# from sklearn.impute import SimpleImputer\n",
    "\n",
    "# rep_0 = SimpleImputer(missing_values=0, strategy=\"mean\")\n",
    "\n",
    "# tr_data = rep_0.fit_transform(tr_data)\n",
    "# ts_data = rep_0.fit_transform(ts_data)\n",
    "\n",
    "#결측치 채우기 if 결측치가 ?일 경우\n",
    "\n",
    "# from sklearn.impute import SimpleImputer\n",
    "\n",
    "# rep_0 = SimpleImputer(missing_values='?', strategy=\"mean\")\n",
    "\n",
    "# tr_data = rep_0.fit_transform(tr_data)\n",
    "# ts_data = rep_0.fit_transform(ts_data)"
   ]
  },
  {
   "cell_type": "code",
   "execution_count": 18,
   "metadata": {
    "colab": {},
    "colab_type": "code",
    "id": "Z_Yw0W7eAmgw"
   },
   "outputs": [],
   "source": [
    "mm_tr_data = minmax_scaler.fit_transform(tr_data)\n",
    "mm_ts_data = minmax_scaler.transform(ts_data)\n",
    "std_tr_data = standard_scaler.fit_transform(tr_data)\n",
    "std_ts_data = standard_scaler.transform(ts_data)\n",
    "tr_ans, _ = pd.factorize(temp_tr_ans, sort=True)\n",
    "ts_ans, _ = pd.factorize(temp_ts_ans, sort=True)"
   ]
  },
  {
   "cell_type": "code",
   "execution_count": 19,
   "metadata": {
    "colab": {
     "base_uri": "https://localhost:8080/",
     "height": 386
    },
    "colab_type": "code",
    "executionInfo": {
     "elapsed": 712,
     "status": "ok",
     "timestamp": 1562058552746,
     "user": {
      "displayName": "이동재",
      "photoUrl": "",
      "userId": "12052501428717228434"
     },
     "user_tz": -540
    },
    "id": "Rz4XG4MMOHGu",
    "outputId": "70f5c169-28bc-4010-ae83-14209e83d278"
   },
   "outputs": [
    {
     "data": {
      "text/plain": [
       "array([5, 0, 6, ..., 6, 0, 7], dtype=int64)"
      ]
     },
     "execution_count": 19,
     "metadata": {},
     "output_type": "execute_result"
    }
   ],
   "source": [
    "tr_ans"
   ]
  },
  {
   "cell_type": "code",
   "execution_count": 20,
   "metadata": {},
   "outputs": [
    {
     "data": {
      "text/plain": [
       "array([5, 5, 4, 6, 4, 5, 0, 0, 0, 4, 4, 5, 5, 6, 0, 6, 3, 4, 4, 6, 6, 6,\n",
       "       4, 5, 0, 6, 5, 6, 0, 5, 5, 0, 4, 6, 5, 0, 7, 6, 6, 5, 0, 4, 6, 0,\n",
       "       6, 5, 4, 0, 6, 0, 0, 5, 4, 0, 6, 5, 0, 8, 0, 4, 6, 3, 6, 2, 0, 0,\n",
       "       3, 0, 0, 0, 0, 0, 5, 6, 2, 0, 6, 6, 0, 5, 5, 0, 4, 5, 0, 5, 0, 6,\n",
       "       2, 0, 6, 0, 5, 6, 4, 1, 8, 5, 0, 0, 5, 0, 4, 0, 4, 0, 5, 5, 6, 6,\n",
       "       8, 6, 6, 0, 0, 0, 2, 6, 5, 0, 5, 6, 6, 4, 6, 6, 0, 0, 6, 5, 1, 6,\n",
       "       4, 6, 4, 4, 0, 5, 6, 0, 0, 8, 6, 4, 0, 6, 0, 6, 0, 1, 4, 6, 0, 0,\n",
       "       0, 4, 0, 6, 4, 0, 3, 0, 6, 5, 6, 0, 2, 5, 5, 5, 0, 0, 6, 0, 5, 0,\n",
       "       6, 0, 6, 1, 6, 6, 3, 6, 6, 4, 2, 5, 0, 5, 0, 0, 0, 0, 6, 0, 1, 0,\n",
       "       6, 6, 5, 0, 6, 0, 3, 5, 5, 5, 8, 0, 0, 6, 5, 6, 0, 6, 5, 6, 0, 0,\n",
       "       6, 0, 0, 6, 7, 6, 5, 2, 8, 0, 5, 1, 6, 4, 6, 6, 5, 0, 5, 5, 6, 6,\n",
       "       4, 6, 0, 6, 6, 4, 4, 0, 0, 0, 4, 6, 6, 4, 5, 6, 5, 0, 0, 6, 0, 0,\n",
       "       0, 0, 0, 6, 0, 6, 6, 0, 1, 0, 5, 1, 5, 5, 0, 5, 6, 6, 6, 0, 0, 2,\n",
       "       6, 6, 6, 4, 4, 4, 6, 0, 6, 6, 0, 0, 0, 0, 2, 6, 0, 0, 2, 6, 6, 8,\n",
       "       6, 6, 0, 4, 0, 4, 4, 5, 3, 5, 6, 0, 3, 6, 5, 4, 6, 4, 6, 5, 5, 6,\n",
       "       6, 0, 0, 4, 0, 1, 5, 5, 0, 5, 6, 6, 0, 0, 0, 0, 0, 6, 0, 6, 5, 6,\n",
       "       5, 5, 8, 6, 0, 0, 0, 5, 2, 7, 6, 6, 0, 2, 0, 6, 4, 4, 3, 6, 1, 2,\n",
       "       6, 0, 6, 0, 5, 0, 6, 5, 8, 0, 0, 4, 6, 5, 6, 0, 0, 4, 6, 0, 6, 0,\n",
       "       0, 4, 5, 6, 6, 4, 4, 0, 6, 6, 0, 0, 4, 2, 4, 6, 0, 3, 6, 5, 0, 0,\n",
       "       6, 4, 4, 7, 5, 2, 0, 0, 0, 6, 0, 8, 6, 0, 5, 0, 5, 6, 5, 6, 6, 0,\n",
       "       6, 0, 3, 5, 0, 0], dtype=int64)"
      ]
     },
     "execution_count": 20,
     "metadata": {},
     "output_type": "execute_result"
    }
   ],
   "source": [
    "ts_ans"
   ]
  },
  {
   "cell_type": "code",
   "execution_count": 21,
   "metadata": {
    "colab": {},
    "colab_type": "code",
    "id": "F0_cae6XOksE"
   },
   "outputs": [],
   "source": [
    "import tensorflow as tf\n",
    "from sklearn.model_selection import GridSearchCV\n",
    "from sklearn.model_selection import RandomizedSearchCV\n",
    "from sklearn.model_selection import ParameterGrid\n",
    "from sklearn.metrics import precision_score, recall_score, f1_score, accuracy_score\n",
    "from tensorflow.keras.wrappers.scikit_learn import KerasClassifier\n",
    "from tensorflow.keras.models import Sequential\n",
    "from tensorflow.keras.layers import Dense\n",
    "from tensorflow.keras.layers import Activation\n",
    "from tensorflow.keras.layers import BatchNormalization\n",
    "from tensorflow.keras.layers import Dropout\n",
    "from sklearn import metrics\n",
    "from tensorflow.keras.regularizers import l2\n"
   ]
  },
  {
   "cell_type": "code",
   "execution_count": 22,
   "metadata": {
    "colab": {},
    "colab_type": "code",
    "id": "K8FW6kBo7uPs"
   },
   "outputs": [],
   "source": [
    "from sklearn.metrics import precision_recall_fscore_support\n",
    "from sklearn.metrics import confusion_matrix"
   ]
  },
  {
   "cell_type": "code",
   "execution_count": 23,
   "metadata": {
    "colab": {},
    "colab_type": "code",
    "id": "CHrsnp0Tq8CA"
   },
   "outputs": [],
   "source": [
    "# real Version\n",
    "\n",
    "\n",
    "def create_model(hidden_layers = 1, neurons =1, init_mode = 'uniform', \n",
    "                 activation = 'elu', kernel_regularizer=l2(0.001)):\n",
    "  model = Sequential()\n",
    "  model.add(Dense(neurons, input_dim=len(mm_tr_data.T), kernel_initializer=init_mode, activation=activation))\n",
    "  for i in range(hidden_layers):\n",
    "    \n",
    "    model.add(Dense(neurons, kernel_initializer=init_mode, kernel_regularizer=kernel_regularizer))\n",
    "    model.add(BatchNormalization())\n",
    "    model.add(Activation(activation))\n",
    "    model.add(Dropout(0.2))\n",
    "  \n",
    "  if class_count == 2:  \n",
    "    model.add(Dense(1,activation='sigmoid'))\n",
    "    model.compile(loss='binary_crossentropy', optimizer='adam', metrics=['accuracy'])\n",
    "  elif class_count != 2:\n",
    "    model.add(Dense(class_count, activation='softmax'))\n",
    "    model.compile(loss='sparse_categorical_crossentropy', optimizer='adam', metrics=['accuracy'])\n",
    "  return model"
   ]
  },
  {
   "cell_type": "code",
   "execution_count": 24,
   "metadata": {},
   "outputs": [],
   "source": [
    "keras_model = KerasClassifier(build_fn=create_model, epochs=64, batch_size=16)"
   ]
  },
  {
   "cell_type": "code",
   "execution_count": 25,
   "metadata": {},
   "outputs": [],
   "source": [
    "leaky_relu = tf.nn.leaky_relu\n",
    "hidden_layers = [4,8,12]\n",
    "neurons = [32, 64, 128]\n",
    "activation = ['elu', leaky_relu]\n",
    "init_mode = ['glorot_uniform', 'he_normal']"
   ]
  },
  {
   "cell_type": "code",
   "execution_count": 26,
   "metadata": {},
   "outputs": [],
   "source": [
    "param_grid = dict(hidden_layers = hidden_layers, neurons = neurons, init_mode = init_mode, activation = activation)\n",
    "minmax_grid = GridSearchCV(estimator=keras_model, param_grid=param_grid, n_jobs= -1, cv=3)\n",
    "std_grid = GridSearchCV(estimator=keras_model, param_grid=param_grid, n_jobs= -1, cv=3)"
   ]
  },
  {
   "cell_type": "code",
   "execution_count": 27,
   "metadata": {},
   "outputs": [],
   "source": [
    "import warnings\n",
    "warnings.filterwarnings(\"ignore\")"
   ]
  },
  {
   "cell_type": "code",
   "execution_count": 28,
   "metadata": {},
   "outputs": [
    {
     "name": "stdout",
     "output_type": "stream",
     "text": [
      "WARNING:tensorflow:From C:\\Users\\LeeDongJae\\AppData\\Local\\Continuum\\anaconda3\\lib\\site-packages\\tensorflow\\python\\ops\\resource_variable_ops.py:435: colocate_with (from tensorflow.python.framework.ops) is deprecated and will be removed in a future version.\n",
      "Instructions for updating:\n",
      "Colocations handled automatically by placer.\n",
      "WARNING:tensorflow:From C:\\Users\\LeeDongJae\\AppData\\Local\\Continuum\\anaconda3\\lib\\site-packages\\tensorflow\\python\\keras\\layers\\core.py:143: calling dropout (from tensorflow.python.ops.nn_ops) with keep_prob is deprecated and will be removed in a future version.\n",
      "Instructions for updating:\n",
      "Please use `rate` instead of `keep_prob`. Rate should be set to `rate = 1 - keep_prob`.\n",
      "WARNING:tensorflow:From C:\\Users\\LeeDongJae\\AppData\\Local\\Continuum\\anaconda3\\lib\\site-packages\\tensorflow\\python\\ops\\math_ops.py:3066: to_int32 (from tensorflow.python.ops.math_ops) is deprecated and will be removed in a future version.\n",
      "Instructions for updating:\n",
      "Use tf.cast instead.\n",
      "Epoch 1/64\n",
      "1038/1038 [==============================] - 3s 3ms/sample - loss: 2.8402 - acc: 0.4075\n",
      "Epoch 2/64\n",
      "1038/1038 [==============================] - 0s 384us/sample - loss: 2.4797 - acc: 0.4971\n",
      "Epoch 3/64\n",
      "1038/1038 [==============================] - 0s 400us/sample - loss: 2.3531 - acc: 0.5010s - loss: 2.2858 - acc: 0\n",
      "Epoch 4/64\n",
      "1038/1038 [==============================] - 0s 394us/sample - loss: 2.2567 - acc: 0.5202\n",
      "Epoch 5/64\n",
      "1038/1038 [==============================] - 0s 402us/sample - loss: 2.1886 - acc: 0.5212\n",
      "Epoch 6/64\n",
      "1038/1038 [==============================] - 0s 398us/sample - loss: 2.1468 - acc: 0.5260\n",
      "Epoch 7/64\n",
      "1038/1038 [==============================] - 0s 398us/sample - loss: 2.0992 - acc: 0.5453\n",
      "Epoch 8/64\n",
      "1038/1038 [==============================] - 0s 391us/sample - loss: 2.0915 - acc: 0.5405\n",
      "Epoch 9/64\n",
      "1038/1038 [==============================] - 0s 401us/sample - loss: 2.0658 - acc: 0.5318\n",
      "Epoch 10/64\n",
      "1038/1038 [==============================] - 0s 402us/sample - loss: 2.0292 - acc: 0.5511\n",
      "Epoch 11/64\n",
      "1038/1038 [==============================] - 0s 407us/sample - loss: 1.9681 - acc: 0.5559\n",
      "Epoch 12/64\n",
      "1038/1038 [==============================] - 0s 401us/sample - loss: 1.9533 - acc: 0.5761\n",
      "Epoch 13/64\n",
      "1038/1038 [==============================] - 0s 408us/sample - loss: 1.9299 - acc: 0.5356\n",
      "Epoch 14/64\n",
      "1038/1038 [==============================] - 0s 389us/sample - loss: 1.8896 - acc: 0.5588\n",
      "Epoch 15/64\n",
      "1038/1038 [==============================] - 0s 411us/sample - loss: 1.8635 - acc: 0.5559\n",
      "Epoch 16/64\n",
      "1038/1038 [==============================] - 0s 392us/sample - loss: 1.8322 - acc: 0.5684\n",
      "Epoch 17/64\n",
      "1038/1038 [==============================] - 0s 424us/sample - loss: 1.7950 - acc: 0.5674\n",
      "Epoch 18/64\n",
      "1038/1038 [==============================] - 0s 423us/sample - loss: 1.7809 - acc: 0.5645\n",
      "Epoch 19/64\n",
      "1038/1038 [==============================] - 0s 405us/sample - loss: 1.7703 - acc: 0.5511\n",
      "Epoch 20/64\n",
      "1038/1038 [==============================] - 0s 400us/sample - loss: 1.7207 - acc: 0.5723\n",
      "Epoch 21/64\n",
      "1038/1038 [==============================] - 0s 405us/sample - loss: 1.7247 - acc: 0.5703\n",
      "Epoch 22/64\n",
      "1038/1038 [==============================] - 0s 406us/sample - loss: 1.6937 - acc: 0.5655\n",
      "Epoch 23/64\n",
      "1038/1038 [==============================] - 0s 399us/sample - loss: 1.6957 - acc: 0.5530\n",
      "Epoch 24/64\n",
      "1038/1038 [==============================] - 0s 409us/sample - loss: 1.6624 - acc: 0.5597\n",
      "Epoch 25/64\n",
      "1038/1038 [==============================] - 0s 394us/sample - loss: 1.6592 - acc: 0.5665\n",
      "Epoch 26/64\n",
      "1038/1038 [==============================] - 0s 399us/sample - loss: 1.6287 - acc: 0.5655\n",
      "Epoch 27/64\n",
      "1038/1038 [==============================] - 0s 395us/sample - loss: 1.5923 - acc: 0.5617\n",
      "Epoch 28/64\n",
      "1038/1038 [==============================] - 0s 441us/sample - loss: 1.5960 - acc: 0.5597\n",
      "Epoch 29/64\n",
      "1038/1038 [==============================] - 0s 424us/sample - loss: 1.5618 - acc: 0.5617\n",
      "Epoch 30/64\n",
      "1038/1038 [==============================] - 0s 395us/sample - loss: 1.5571 - acc: 0.5761\n",
      "Epoch 31/64\n",
      "1038/1038 [==============================] - 0s 406us/sample - loss: 1.5261 - acc: 0.5800\n",
      "Epoch 32/64\n",
      "1038/1038 [==============================] - 0s 405us/sample - loss: 1.4968 - acc: 0.5684\n",
      "Epoch 33/64\n",
      "1038/1038 [==============================] - 0s 399us/sample - loss: 1.4866 - acc: 0.5694\n",
      "Epoch 34/64\n",
      "1038/1038 [==============================] - 0s 396us/sample - loss: 1.4883 - acc: 0.5617\n",
      "Epoch 35/64\n",
      "1038/1038 [==============================] - 0s 409us/sample - loss: 1.4766 - acc: 0.5559\n",
      "Epoch 36/64\n",
      "1038/1038 [==============================] - 0s 398us/sample - loss: 1.4831 - acc: 0.5626\n",
      "Epoch 37/64\n",
      "1038/1038 [==============================] - 0s 407us/sample - loss: 1.4225 - acc: 0.5973\n",
      "Epoch 38/64\n",
      "1038/1038 [==============================] - 0s 405us/sample - loss: 1.4674 - acc: 0.5655\n",
      "Epoch 39/64\n",
      "1038/1038 [==============================] - 0s 402us/sample - loss: 1.4129 - acc: 0.5819\n",
      "Epoch 40/64\n",
      "1038/1038 [==============================] - 0s 399us/sample - loss: 1.4275 - acc: 0.5723\n",
      "Epoch 41/64\n",
      "1038/1038 [==============================] - 0s 415us/sample - loss: 1.3757 - acc: 0.5819\n",
      "Epoch 42/64\n",
      "1038/1038 [==============================] - 0s 404us/sample - loss: 1.3965 - acc: 0.5800\n",
      "Epoch 43/64\n",
      "1038/1038 [==============================] - 0s 407us/sample - loss: 1.3968 - acc: 0.5559\n",
      "Epoch 44/64\n",
      "1038/1038 [==============================] - 0s 420us/sample - loss: 1.3935 - acc: 0.5617\n",
      "Epoch 45/64\n",
      "1038/1038 [==============================] - 0s 392us/sample - loss: 1.3717 - acc: 0.5732\n",
      "Epoch 46/64\n",
      "1038/1038 [==============================] - 0s 403us/sample - loss: 1.3118 - acc: 0.5992\n",
      "Epoch 47/64\n",
      "1038/1038 [==============================] - 0s 415us/sample - loss: 1.3326 - acc: 0.5906\n",
      "Epoch 48/64\n",
      "1038/1038 [==============================] - 0s 415us/sample - loss: 1.3402 - acc: 0.5703\n",
      "Epoch 49/64\n",
      "1038/1038 [==============================] - 0s 390us/sample - loss: 1.3320 - acc: 0.5771\n",
      "Epoch 50/64\n",
      "1038/1038 [==============================] - 0s 414us/sample - loss: 1.3229 - acc: 0.5694\n",
      "Epoch 51/64\n",
      "1038/1038 [==============================] - 0s 398us/sample - loss: 1.3239 - acc: 0.5723\n",
      "Epoch 52/64\n",
      "1038/1038 [==============================] - 0s 402us/sample - loss: 1.2878 - acc: 0.5780\n",
      "Epoch 53/64\n",
      "1038/1038 [==============================] - 0s 447us/sample - loss: 1.2996 - acc: 0.5857\n",
      "Epoch 54/64\n",
      "1038/1038 [==============================] - 0s 444us/sample - loss: 1.2917 - acc: 0.5790\n",
      "Epoch 55/64\n",
      "1038/1038 [==============================] - 0s 399us/sample - loss: 1.2817 - acc: 0.5732\n",
      "Epoch 56/64\n",
      "1038/1038 [==============================] - 0s 404us/sample - loss: 1.2820 - acc: 0.5838\n",
      "Epoch 57/64\n",
      "1038/1038 [==============================] - 0s 404us/sample - loss: 1.2691 - acc: 0.5713\n",
      "Epoch 58/64\n",
      "1038/1038 [==============================] - 0s 397us/sample - loss: 1.2775 - acc: 0.5703\n",
      "Epoch 59/64\n",
      "1038/1038 [==============================] - 0s 417us/sample - loss: 1.2627 - acc: 0.5771\n",
      "Epoch 60/64\n",
      "1038/1038 [==============================] - 0s 394us/sample - loss: 1.2520 - acc: 0.5829\n",
      "Epoch 61/64\n",
      "1038/1038 [==============================] - 0s 401us/sample - loss: 1.2579 - acc: 0.5829\n",
      "Epoch 62/64\n",
      "1038/1038 [==============================] - 0s 405us/sample - loss: 1.2485 - acc: 0.5780\n",
      "Epoch 63/64\n",
      "1038/1038 [==============================] - 0s 402us/sample - loss: 1.2554 - acc: 0.5800\n",
      "Epoch 64/64\n",
      "1038/1038 [==============================] - 0s 400us/sample - loss: 1.2202 - acc: 0.5886\n"
     ]
    }
   ],
   "source": [
    "minmax_grid_result = minmax_grid.fit(mm_tr_data, tr_ans)"
   ]
  },
  {
   "cell_type": "code",
   "execution_count": 29,
   "metadata": {},
   "outputs": [
    {
     "name": "stdout",
     "output_type": "stream",
     "text": [
      "Epoch 1/64\n",
      "1038/1038 [==============================] - 2s 2ms/sample - loss: 2.5147 - acc: 0.2977\n",
      "Epoch 2/64\n",
      "1038/1038 [==============================] - 0s 241us/sample - loss: 2.0516 - acc: 0.4576\n",
      "Epoch 3/64\n",
      "1038/1038 [==============================] - 0s 283us/sample - loss: 1.9028 - acc: 0.4750\n",
      "Epoch 4/64\n",
      "1038/1038 [==============================] - 0s 241us/sample - loss: 1.8127 - acc: 0.5029\n",
      "Epoch 5/64\n",
      "1038/1038 [==============================] - 0s 241us/sample - loss: 1.7830 - acc: 0.5067\n",
      "Epoch 6/64\n",
      "1038/1038 [==============================] - 0s 256us/sample - loss: 1.7683 - acc: 0.5183\n",
      "Epoch 7/64\n",
      "1038/1038 [==============================] - 0s 251us/sample - loss: 1.7216 - acc: 0.5164\n",
      "Epoch 8/64\n",
      "1038/1038 [==============================] - 0s 271us/sample - loss: 1.7053 - acc: 0.5376\n",
      "Epoch 9/64\n",
      "1038/1038 [==============================] - 0s 256us/sample - loss: 1.6934 - acc: 0.5308\n",
      "Epoch 10/64\n",
      "1038/1038 [==============================] - 0s 248us/sample - loss: 1.6385 - acc: 0.5424\n",
      "Epoch 11/64\n",
      "1038/1038 [==============================] - 0s 241us/sample - loss: 1.6337 - acc: 0.5299\n",
      "Epoch 12/64\n",
      "1038/1038 [==============================] - 0s 271us/sample - loss: 1.6521 - acc: 0.5395\n",
      "Epoch 13/64\n",
      "1038/1038 [==============================] - 0s 241us/sample - loss: 1.6294 - acc: 0.5395\n",
      "Epoch 14/64\n",
      "1038/1038 [==============================] - 0s 264us/sample - loss: 1.6178 - acc: 0.5520\n",
      "Epoch 15/64\n",
      "1038/1038 [==============================] - 0s 256us/sample - loss: 1.5651 - acc: 0.5482\n",
      "Epoch 16/64\n",
      "1038/1038 [==============================] - 0s 256us/sample - loss: 1.5544 - acc: 0.5482\n",
      "Epoch 17/64\n",
      "1038/1038 [==============================] - 0s 271us/sample - loss: 1.5972 - acc: 0.5559\n",
      "Epoch 18/64\n",
      "1038/1038 [==============================] - 0s 296us/sample - loss: 1.5472 - acc: 0.5559\n",
      "Epoch 19/64\n",
      "1038/1038 [==============================] - 0s 256us/sample - loss: 1.5736 - acc: 0.5530\n",
      "Epoch 20/64\n",
      "1038/1038 [==============================] - 0s 256us/sample - loss: 1.5118 - acc: 0.5617\n",
      "Epoch 21/64\n",
      "1038/1038 [==============================] - 0s 249us/sample - loss: 1.5158 - acc: 0.5530\n",
      "Epoch 22/64\n",
      "1038/1038 [==============================] - 0s 241us/sample - loss: 1.4950 - acc: 0.5626\n",
      "Epoch 23/64\n",
      "1038/1038 [==============================] - 0s 241us/sample - loss: 1.4811 - acc: 0.5751\n",
      "Epoch 24/64\n",
      "1038/1038 [==============================] - 0s 241us/sample - loss: 1.4853 - acc: 0.5761\n",
      "Epoch 25/64\n",
      "1038/1038 [==============================] - 0s 264us/sample - loss: 1.4667 - acc: 0.5626\n",
      "Epoch 26/64\n",
      "1038/1038 [==============================] - 0s 256us/sample - loss: 1.4409 - acc: 0.5645\n",
      "Epoch 27/64\n",
      "1038/1038 [==============================] - 0s 241us/sample - loss: 1.4590 - acc: 0.5645\n",
      "Epoch 28/64\n",
      "1038/1038 [==============================] - 0s 241us/sample - loss: 1.4532 - acc: 0.5703\n",
      "Epoch 29/64\n",
      "1038/1038 [==============================] - 0s 266us/sample - loss: 1.4110 - acc: 0.5973\n",
      "Epoch 30/64\n",
      "1038/1038 [==============================] - 0s 241us/sample - loss: 1.4263 - acc: 0.5703\n",
      "Epoch 31/64\n",
      "1038/1038 [==============================] - 0s 256us/sample - loss: 1.4137 - acc: 0.5829\n",
      "Epoch 32/64\n",
      "1038/1038 [==============================] - 0s 256us/sample - loss: 1.4253 - acc: 0.5848\n",
      "Epoch 33/64\n",
      "1038/1038 [==============================] - 0s 266us/sample - loss: 1.3969 - acc: 0.5819\n",
      "Epoch 34/64\n",
      "1038/1038 [==============================] - 0s 241us/sample - loss: 1.4009 - acc: 0.5992\n",
      "Epoch 35/64\n",
      "1038/1038 [==============================] - 0s 271us/sample - loss: 1.3718 - acc: 0.6012\n",
      "Epoch 36/64\n",
      "1038/1038 [==============================] - 0s 256us/sample - loss: 1.3689 - acc: 0.5877\n",
      "Epoch 37/64\n",
      "1038/1038 [==============================] - 0s 271us/sample - loss: 1.3768 - acc: 0.5867\n",
      "Epoch 38/64\n",
      "1038/1038 [==============================] - 0s 256us/sample - loss: 1.3641 - acc: 0.5944\n",
      "Epoch 39/64\n",
      "1038/1038 [==============================] - 0s 256us/sample - loss: 1.3609 - acc: 0.5800\n",
      "Epoch 40/64\n",
      "1038/1038 [==============================] - 0s 252us/sample - loss: 1.3376 - acc: 0.5886\n",
      "Epoch 41/64\n",
      "1038/1038 [==============================] - 0s 256us/sample - loss: 1.3376 - acc: 0.5848\n",
      "Epoch 42/64\n",
      "1038/1038 [==============================] - 0s 256us/sample - loss: 1.3410 - acc: 0.5934\n",
      "Epoch 43/64\n",
      "1038/1038 [==============================] - 0s 271us/sample - loss: 1.3264 - acc: 0.5819\n",
      "Epoch 44/64\n",
      "1038/1038 [==============================] - 0s 285us/sample - loss: 1.2915 - acc: 0.5886\n",
      "Epoch 45/64\n",
      "1038/1038 [==============================] - 0s 256us/sample - loss: 1.3197 - acc: 0.5838\n",
      "Epoch 46/64\n",
      "1038/1038 [==============================] - 0s 241us/sample - loss: 1.2810 - acc: 0.6108\n",
      "Epoch 47/64\n",
      "1038/1038 [==============================] - 0s 286us/sample - loss: 1.2886 - acc: 0.5934\n",
      "Epoch 48/64\n",
      "1038/1038 [==============================] - 0s 256us/sample - loss: 1.2540 - acc: 0.6060\n",
      "Epoch 49/64\n",
      "1038/1038 [==============================] - 0s 256us/sample - loss: 1.2646 - acc: 0.6089\n",
      "Epoch 50/64\n",
      "1038/1038 [==============================] - 0s 241us/sample - loss: 1.2826 - acc: 0.6012\n",
      "Epoch 51/64\n",
      "1038/1038 [==============================] - 0s 256us/sample - loss: 1.2471 - acc: 0.6079\n",
      "Epoch 52/64\n",
      "1038/1038 [==============================] - 0s 256us/sample - loss: 1.2758 - acc: 0.6079\n",
      "Epoch 53/64\n",
      "1038/1038 [==============================] - 0s 286us/sample - loss: 1.2246 - acc: 0.5992\n",
      "Epoch 54/64\n",
      "1038/1038 [==============================] - 0s 256us/sample - loss: 1.2690 - acc: 0.5896\n",
      "Epoch 55/64\n",
      "1038/1038 [==============================] - 0s 267us/sample - loss: 1.2356 - acc: 0.6031\n",
      "Epoch 56/64\n",
      "1038/1038 [==============================] - 0s 271us/sample - loss: 1.2155 - acc: 0.6243\n",
      "Epoch 57/64\n",
      "1038/1038 [==============================] - 0s 256us/sample - loss: 1.2456 - acc: 0.5944\n",
      "Epoch 58/64\n",
      "1038/1038 [==============================] - 0s 258us/sample - loss: 1.2236 - acc: 0.6156\n",
      "Epoch 59/64\n",
      "1038/1038 [==============================] - 0s 242us/sample - loss: 1.2601 - acc: 0.5925\n",
      "Epoch 60/64\n",
      "1038/1038 [==============================] - 0s 241us/sample - loss: 1.1775 - acc: 0.6301\n",
      "Epoch 61/64\n",
      "1038/1038 [==============================] - 0s 271us/sample - loss: 1.2309 - acc: 0.6012\n",
      "Epoch 62/64\n",
      "1038/1038 [==============================] - 0s 249us/sample - loss: 1.2113 - acc: 0.6137\n",
      "Epoch 63/64\n",
      "1038/1038 [==============================] - 0s 256us/sample - loss: 1.2016 - acc: 0.6089\n",
      "Epoch 64/64\n",
      "1038/1038 [==============================] - 0s 271us/sample - loss: 1.2051 - acc: 0.6137\n"
     ]
    }
   ],
   "source": [
    "std_grid_result = std_grid.fit(std_tr_data, tr_ans)"
   ]
  },
  {
   "cell_type": "code",
   "execution_count": 30,
   "metadata": {
    "scrolled": true
   },
   "outputs": [
    {
     "name": "stdout",
     "output_type": "stream",
     "text": [
      "Scaler = minmax\n",
      "Best: 0.602119 using {'activation': 'elu', 'hidden_layers': 4, 'init_mode': 'he_normal', 'neurons': 128}\n",
      "0.579961 (0.033065) with: {'activation': 'elu', 'hidden_layers': 4, 'init_mode': 'glorot_uniform', 'neurons': 32}\n",
      "0.594412 (0.025233) with: {'activation': 'elu', 'hidden_layers': 4, 'init_mode': 'glorot_uniform', 'neurons': 64}\n",
      "0.600193 (0.037634) with: {'activation': 'elu', 'hidden_layers': 4, 'init_mode': 'glorot_uniform', 'neurons': 128}\n",
      "0.595376 (0.034762) with: {'activation': 'elu', 'hidden_layers': 4, 'init_mode': 'he_normal', 'neurons': 32}\n",
      "0.588632 (0.033066) with: {'activation': 'elu', 'hidden_layers': 4, 'init_mode': 'he_normal', 'neurons': 64}\n",
      "0.602119 (0.030708) with: {'activation': 'elu', 'hidden_layers': 4, 'init_mode': 'he_normal', 'neurons': 128}\n",
      "0.574181 (0.025994) with: {'activation': 'elu', 'hidden_layers': 8, 'init_mode': 'glorot_uniform', 'neurons': 32}\n",
      "0.560694 (0.035240) with: {'activation': 'elu', 'hidden_layers': 8, 'init_mode': 'glorot_uniform', 'neurons': 64}\n",
      "0.544316 (0.054344) with: {'activation': 'elu', 'hidden_layers': 8, 'init_mode': 'glorot_uniform', 'neurons': 128}\n",
      "0.577071 (0.034789) with: {'activation': 'elu', 'hidden_layers': 8, 'init_mode': 'he_normal', 'neurons': 32}\n",
      "0.582852 (0.023872) with: {'activation': 'elu', 'hidden_layers': 8, 'init_mode': 'he_normal', 'neurons': 64}\n",
      "0.565511 (0.041571) with: {'activation': 'elu', 'hidden_layers': 8, 'init_mode': 'he_normal', 'neurons': 128}\n",
      "0.552987 (0.039651) with: {'activation': 'elu', 'hidden_layers': 12, 'init_mode': 'glorot_uniform', 'neurons': 32}\n",
      "0.579961 (0.028546) with: {'activation': 'elu', 'hidden_layers': 12, 'init_mode': 'glorot_uniform', 'neurons': 64}\n",
      "0.566474 (0.042477) with: {'activation': 'elu', 'hidden_layers': 12, 'init_mode': 'glorot_uniform', 'neurons': 128}\n",
      "0.565511 (0.031425) with: {'activation': 'elu', 'hidden_layers': 12, 'init_mode': 'he_normal', 'neurons': 32}\n",
      "0.571291 (0.021926) with: {'activation': 'elu', 'hidden_layers': 12, 'init_mode': 'he_normal', 'neurons': 64}\n",
      "0.549133 (0.028708) with: {'activation': 'elu', 'hidden_layers': 12, 'init_mode': 'he_normal', 'neurons': 128}\n",
      "0.587669 (0.027351) with: {'activation': <function leaky_relu at 0x0000029613934840>, 'hidden_layers': 4, 'init_mode': 'glorot_uniform', 'neurons': 32}\n",
      "0.590559 (0.039581) with: {'activation': <function leaky_relu at 0x0000029613934840>, 'hidden_layers': 4, 'init_mode': 'glorot_uniform', 'neurons': 64}\n",
      "0.531792 (0.062924) with: {'activation': <function leaky_relu at 0x0000029613934840>, 'hidden_layers': 4, 'init_mode': 'glorot_uniform', 'neurons': 128}\n",
      "0.588632 (0.027351) with: {'activation': <function leaky_relu at 0x0000029613934840>, 'hidden_layers': 4, 'init_mode': 'he_normal', 'neurons': 32}\n",
      "0.589595 (0.031923) with: {'activation': <function leaky_relu at 0x0000029613934840>, 'hidden_layers': 4, 'init_mode': 'he_normal', 'neurons': 64}\n",
      "0.568401 (0.035502) with: {'activation': <function leaky_relu at 0x0000029613934840>, 'hidden_layers': 4, 'init_mode': 'he_normal', 'neurons': 128}\n",
      "0.559730 (0.022676) with: {'activation': <function leaky_relu at 0x0000029613934840>, 'hidden_layers': 8, 'init_mode': 'glorot_uniform', 'neurons': 32}\n",
      "0.558767 (0.029881) with: {'activation': <function leaky_relu at 0x0000029613934840>, 'hidden_layers': 8, 'init_mode': 'glorot_uniform', 'neurons': 64}\n",
      "0.563584 (0.027822) with: {'activation': <function leaky_relu at 0x0000029613934840>, 'hidden_layers': 8, 'init_mode': 'glorot_uniform', 'neurons': 128}\n",
      "0.548170 (0.046861) with: {'activation': <function leaky_relu at 0x0000029613934840>, 'hidden_layers': 8, 'init_mode': 'he_normal', 'neurons': 32}\n",
      "0.587669 (0.023281) with: {'activation': <function leaky_relu at 0x0000029613934840>, 'hidden_layers': 8, 'init_mode': 'he_normal', 'neurons': 64}\n",
      "0.559730 (0.039299) with: {'activation': <function leaky_relu at 0x0000029613934840>, 'hidden_layers': 8, 'init_mode': 'he_normal', 'neurons': 128}\n",
      "0.523121 (0.035632) with: {'activation': <function leaky_relu at 0x0000029613934840>, 'hidden_layers': 12, 'init_mode': 'glorot_uniform', 'neurons': 32}\n",
      "0.566474 (0.023241) with: {'activation': <function leaky_relu at 0x0000029613934840>, 'hidden_layers': 12, 'init_mode': 'glorot_uniform', 'neurons': 64}\n",
      "0.589595 (0.043256) with: {'activation': <function leaky_relu at 0x0000029613934840>, 'hidden_layers': 12, 'init_mode': 'glorot_uniform', 'neurons': 128}\n",
      "0.508671 (0.049556) with: {'activation': <function leaky_relu at 0x0000029613934840>, 'hidden_layers': 12, 'init_mode': 'he_normal', 'neurons': 32}\n",
      "0.546243 (0.042542) with: {'activation': <function leaky_relu at 0x0000029613934840>, 'hidden_layers': 12, 'init_mode': 'he_normal', 'neurons': 64}\n",
      "0.549133 (0.017017) with: {'activation': <function leaky_relu at 0x0000029613934840>, 'hidden_layers': 12, 'init_mode': 'he_normal', 'neurons': 128}\n"
     ]
    }
   ],
   "source": [
    "print(\"Scaler = minmax\")\n",
    "print(\"Best: %f using %s\" % (minmax_grid_result.best_score_, minmax_grid_result.best_params_))\n",
    "means = minmax_grid_result.cv_results_['mean_test_score']\n",
    "stds = minmax_grid_result.cv_results_['std_test_score']\n",
    "params = minmax_grid_result.cv_results_['params']\n",
    "\n",
    "for mean, stdev, param in zip(means, stds, params):\n",
    "    print(\"%f (%f) with: %r\" % (mean, stdev, param))"
   ]
  },
  {
   "cell_type": "code",
   "execution_count": 31,
   "metadata": {},
   "outputs": [
    {
     "name": "stdout",
     "output_type": "stream",
     "text": [
      "Scaler = standard\n",
      "Best: 0.605010 using {'activation': <function leaky_relu at 0x0000029613934840>, 'hidden_layers': 4, 'init_mode': 'he_normal', 'neurons': 64}\n",
      "0.583815 (0.043704) with: {'activation': 'elu', 'hidden_layers': 4, 'init_mode': 'glorot_uniform', 'neurons': 32}\n",
      "0.588632 (0.038943) with: {'activation': 'elu', 'hidden_layers': 4, 'init_mode': 'glorot_uniform', 'neurons': 64}\n",
      "0.596339 (0.035736) with: {'activation': 'elu', 'hidden_layers': 4, 'init_mode': 'glorot_uniform', 'neurons': 128}\n",
      "0.585742 (0.034143) with: {'activation': 'elu', 'hidden_layers': 4, 'init_mode': 'he_normal', 'neurons': 32}\n",
      "0.602119 (0.035028) with: {'activation': 'elu', 'hidden_layers': 4, 'init_mode': 'he_normal', 'neurons': 64}\n",
      "0.595376 (0.035240) with: {'activation': 'elu', 'hidden_layers': 4, 'init_mode': 'he_normal', 'neurons': 128}\n",
      "0.579961 (0.024104) with: {'activation': 'elu', 'hidden_layers': 8, 'init_mode': 'glorot_uniform', 'neurons': 32}\n",
      "0.576108 (0.035423) with: {'activation': 'elu', 'hidden_layers': 8, 'init_mode': 'glorot_uniform', 'neurons': 64}\n",
      "0.580925 (0.043256) with: {'activation': 'elu', 'hidden_layers': 8, 'init_mode': 'glorot_uniform', 'neurons': 128}\n",
      "0.585742 (0.042499) with: {'activation': 'elu', 'hidden_layers': 8, 'init_mode': 'he_normal', 'neurons': 32}\n",
      "0.590559 (0.024787) with: {'activation': 'elu', 'hidden_layers': 8, 'init_mode': 'he_normal', 'neurons': 64}\n",
      "0.574181 (0.039086) with: {'activation': 'elu', 'hidden_layers': 8, 'init_mode': 'he_normal', 'neurons': 128}\n",
      "0.554913 (0.037087) with: {'activation': 'elu', 'hidden_layers': 12, 'init_mode': 'glorot_uniform', 'neurons': 32}\n",
      "0.571291 (0.029881) with: {'activation': 'elu', 'hidden_layers': 12, 'init_mode': 'glorot_uniform', 'neurons': 64}\n",
      "0.570328 (0.021926) with: {'activation': 'elu', 'hidden_layers': 12, 'init_mode': 'glorot_uniform', 'neurons': 128}\n",
      "0.540462 (0.024974) with: {'activation': 'elu', 'hidden_layers': 12, 'init_mode': 'he_normal', 'neurons': 32}\n",
      "0.578035 (0.033456) with: {'activation': 'elu', 'hidden_layers': 12, 'init_mode': 'he_normal', 'neurons': 64}\n",
      "0.577071 (0.028153) with: {'activation': 'elu', 'hidden_layers': 12, 'init_mode': 'he_normal', 'neurons': 128}\n",
      "0.595376 (0.038991) with: {'activation': <function leaky_relu at 0x0000029613934840>, 'hidden_layers': 4, 'init_mode': 'glorot_uniform', 'neurons': 32}\n",
      "0.590559 (0.033567) with: {'activation': <function leaky_relu at 0x0000029613934840>, 'hidden_layers': 4, 'init_mode': 'glorot_uniform', 'neurons': 64}\n",
      "0.576108 (0.049855) with: {'activation': <function leaky_relu at 0x0000029613934840>, 'hidden_layers': 4, 'init_mode': 'glorot_uniform', 'neurons': 128}\n",
      "0.591522 (0.042564) with: {'activation': <function leaky_relu at 0x0000029613934840>, 'hidden_layers': 4, 'init_mode': 'he_normal', 'neurons': 32}\n",
      "0.605010 (0.039086) with: {'activation': <function leaky_relu at 0x0000029613934840>, 'hidden_layers': 4, 'init_mode': 'he_normal', 'neurons': 64}\n",
      "0.586705 (0.040941) with: {'activation': <function leaky_relu at 0x0000029613934840>, 'hidden_layers': 4, 'init_mode': 'he_normal', 'neurons': 128}\n",
      "0.558767 (0.033567) with: {'activation': <function leaky_relu at 0x0000029613934840>, 'hidden_layers': 8, 'init_mode': 'glorot_uniform', 'neurons': 32}\n",
      "0.581888 (0.025994) with: {'activation': <function leaky_relu at 0x0000029613934840>, 'hidden_layers': 8, 'init_mode': 'glorot_uniform', 'neurons': 64}\n",
      "0.591522 (0.039299) with: {'activation': <function leaky_relu at 0x0000029613934840>, 'hidden_layers': 8, 'init_mode': 'glorot_uniform', 'neurons': 128}\n",
      "0.553950 (0.022920) with: {'activation': <function leaky_relu at 0x0000029613934840>, 'hidden_layers': 8, 'init_mode': 'he_normal', 'neurons': 32}\n",
      "0.578035 (0.050226) with: {'activation': <function leaky_relu at 0x0000029613934840>, 'hidden_layers': 8, 'init_mode': 'he_normal', 'neurons': 64}\n",
      "0.575145 (0.040255) with: {'activation': <function leaky_relu at 0x0000029613934840>, 'hidden_layers': 8, 'init_mode': 'he_normal', 'neurons': 128}\n",
      "0.537572 (0.053449) with: {'activation': <function leaky_relu at 0x0000029613934840>, 'hidden_layers': 12, 'init_mode': 'glorot_uniform', 'neurons': 32}\n",
      "0.561657 (0.034386) with: {'activation': <function leaky_relu at 0x0000029613934840>, 'hidden_layers': 12, 'init_mode': 'glorot_uniform', 'neurons': 64}\n",
      "0.586705 (0.033456) with: {'activation': <function leaky_relu at 0x0000029613934840>, 'hidden_layers': 12, 'init_mode': 'glorot_uniform', 'neurons': 128}\n",
      "0.510597 (0.007586) with: {'activation': <function leaky_relu at 0x0000029613934840>, 'hidden_layers': 12, 'init_mode': 'he_normal', 'neurons': 32}\n",
      "0.538536 (0.042302) with: {'activation': <function leaky_relu at 0x0000029613934840>, 'hidden_layers': 12, 'init_mode': 'he_normal', 'neurons': 64}\n",
      "0.560694 (0.034278) with: {'activation': <function leaky_relu at 0x0000029613934840>, 'hidden_layers': 12, 'init_mode': 'he_normal', 'neurons': 128}\n"
     ]
    }
   ],
   "source": [
    "print(\"Scaler = standard\")\n",
    "print(\"Best: %f using %s\" % (std_grid_result.best_score_, std_grid_result.best_params_))\n",
    "means = std_grid_result.cv_results_['mean_test_score']\n",
    "stds = std_grid_result.cv_results_['std_test_score']\n",
    "params = std_grid_result.cv_results_['params']\n",
    "\n",
    "for mean, stdev, param in zip(means, stds, params):\n",
    "    print(\"%f (%f) with: %r\" % (mean, stdev, param))"
   ]
  },
  {
   "cell_type": "code",
   "execution_count": 32,
   "metadata": {},
   "outputs": [
    {
     "name": "stdout",
     "output_type": "stream",
     "text": [
      "Accuracy =  0.08520179372197309\n",
      "Confusion Matrix\n",
      "[[ 27   1   0   0   0   0   8 108   0   1]\n",
      " [  0   0   2   2   0   0   3   3   0   0]\n",
      " [  0   0   0  11   0   0   3   1   0   0]\n",
      " [  3   0   0   1   2   0   2   3   0   0]\n",
      " [  2   0   0   0   0  41   1   7   0   0]\n",
      " [  6   0   0   0   0   3  45  20   0   0]\n",
      " [ 13   0   0   0   0   5   7 101   0   0]\n",
      " [  0   0   0   0   0   0   1   0   3   0]\n",
      " [  2   0   0   0   0   2   2   4   0   0]\n",
      " [  0   0   0   0   0   0   0   0   0   0]]\n",
      "\n",
      "Classification Report\n",
      "              precision    recall  f1-score   support\n",
      "\n",
      "         0.0       0.51      0.19      0.27       145\n",
      "         1.0       0.00      0.00      0.00        10\n",
      "         2.0       0.00      0.00      0.00        15\n",
      "         3.0       0.07      0.09      0.08        11\n",
      "         4.0       0.00      0.00      0.00        51\n",
      "         5.0       0.06      0.04      0.05        74\n",
      "         6.0       0.10      0.06      0.07       126\n",
      "         7.0       0.00      0.00      0.00         4\n",
      "         8.0       0.00      0.00      0.00        10\n",
      "         9.0       0.00      0.00      0.00         0\n",
      "\n",
      "   micro avg       0.09      0.09      0.09       446\n",
      "   macro avg       0.07      0.04      0.05       446\n",
      "weighted avg       0.20      0.09      0.12       446\n",
      "\n"
     ]
    }
   ],
   "source": [
    "pred = minmax_grid.predict(mm_ts_data)\n",
    "\n",
    "accuracy = accuracy_score(pred, ts_ans)\n",
    "ts_ans = ts_ans.astype(float)\n",
    "precision, recall, fbeta_score, support = precision_recall_fscore_support(ts_ans, pred)\n",
    "conf_mat = confusion_matrix(ts_ans, pred)\n",
    "print(\"Accuracy = \", accuracy)\n",
    "print(\"Confusion Matrix\")\n",
    "print(\"{0}\".format(metrics.confusion_matrix(ts_ans, pred)))\n",
    "print(\"\")\n",
    "print(\"Classification Report\")\n",
    "print(metrics.classification_report(ts_ans, pred))"
   ]
  },
  {
   "cell_type": "code",
   "execution_count": 33,
   "metadata": {},
   "outputs": [
    {
     "name": "stdout",
     "output_type": "stream",
     "text": [
      "Accuracy =  0.23766816143497757\n",
      "Confusion Matrix\n",
      "[[87  0  0  0  1  2 12 43  0]\n",
      " [ 1  0  4  1  0  0  3  1  0]\n",
      " [ 0  0  2 13  0  0  0  0  0]\n",
      " [ 2  0  0  1  6  0  1  1  0]\n",
      " [ 1  0  0  0  1 43  1  5  0]\n",
      " [12  0  1  0  2  3 51  5  0]\n",
      " [36  0  0  0  1  5 12 72  0]\n",
      " [ 0  0  0  0  1  0  0  0  3]\n",
      " [ 3  0  1  0  0  2  1  3  0]]\n",
      "\n",
      "Classification Report\n",
      "              precision    recall  f1-score   support\n",
      "\n",
      "         0.0       0.61      0.60      0.61       145\n",
      "         1.0       0.00      0.00      0.00        10\n",
      "         2.0       0.25      0.13      0.17        15\n",
      "         3.0       0.07      0.09      0.08        11\n",
      "         4.0       0.08      0.02      0.03        51\n",
      "         5.0       0.05      0.04      0.05        74\n",
      "         6.0       0.15      0.10      0.12       126\n",
      "         7.0       0.00      0.00      0.00         4\n",
      "         8.0       0.00      0.00      0.00        10\n",
      "\n",
      "   micro avg       0.24      0.24      0.24       446\n",
      "   macro avg       0.14      0.11      0.12       446\n",
      "weighted avg       0.27      0.24      0.25       446\n",
      "\n"
     ]
    }
   ],
   "source": [
    "pred = std_grid.predict(std_ts_data)\n",
    "\n",
    "accuracy = accuracy_score(pred, ts_ans)\n",
    "ts_ans = ts_ans.astype(float)\n",
    "precision, recall, fbeta_score, support = precision_recall_fscore_support(ts_ans, pred)\n",
    "conf_mat = confusion_matrix(ts_ans, pred)\n",
    "print(\"Accuracy = \", accuracy)\n",
    "print(\"Confusion Matrix\")\n",
    "print(\"{0}\".format(metrics.confusion_matrix(ts_ans, pred)))\n",
    "print(\"\")\n",
    "print(\"Classification Report\")\n",
    "print(metrics.classification_report(ts_ans, pred))"
   ]
  },
  {
   "cell_type": "code",
   "execution_count": 34,
   "metadata": {
    "colab": {},
    "colab_type": "code",
    "id": "MKmXpPoXdidO"
   },
   "outputs": [],
   "source": [
    "# # testbed Version\n",
    "\n",
    "\n",
    "# def create_model(hidden_layers = 1, neurons =1, init_mode = 'uniform', activation = 'elu'):\n",
    "#     model = Sequential()\n",
    "#     model.add(Dense(neurons, input_dim=len(tr_data.T), kernel_initializer=init_mode, activation=activation))\n",
    "\n",
    "#     for i in range(hidden_layers):\n",
    "        \n",
    "#         model.add(Dense(neurons, kernel_initializer=init_mode))\n",
    "#         model.add(BatchNormalization())\n",
    "#         model.add(Activation(activation))\n",
    "#         model.add(Dropout(0.2))\n",
    "  \n",
    "#     if class_count == 2:  \n",
    "#         model.add(Dense(1,activation='sigmoid'))\n",
    "#         model.compile(loss='binary_crossentropy', optimizer='adam', metrics=['accuracy'])\n",
    "#     elif class_count != 2:\n",
    "#         model.add(Dense(class_count-1, activation='softmax'))\n",
    "#         model.compile(loss='sparse_categorical_crossentropy', optimizer='adam', metrics=['accuracy'])\n",
    "\n",
    "#     return model\n",
    "\n",
    "\n",
    "# hidden_layers = [5, 10]\n",
    "# neurons = [32, 64]\n",
    "# activation = ['elu']\n",
    "# init_mode = ['he_uniform']\n",
    "\n",
    "# keras_model = KerasClassifier(build_fn=create_model, epochs=4, batch_size=4)\n",
    "\n",
    "# param_grid = dict(hidden_layers = hidden_layers, neurons = neurons, init_mode = init_mode, activation = activation)\n",
    "# grid = GridSearchCV(estimator=keras_model, param_grid=param_grid, n_jobs= -1, cv=2)"
   ]
  },
  {
   "cell_type": "code",
   "execution_count": null,
   "metadata": {
    "colab": {},
    "colab_type": "code",
    "id": "1pNmP5gQVTsZ"
   },
   "outputs": [],
   "source": []
  }
 ],
 "metadata": {
  "accelerator": "GPU",
  "colab": {
   "collapsed_sections": [],
   "name": "pima_indian_diabetes.ipynb",
   "provenance": [],
   "version": "0.3.2"
  },
  "kernelspec": {
   "display_name": "Python 3",
   "language": "python",
   "name": "python3"
  },
  "language_info": {
   "codemirror_mode": {
    "name": "ipython",
    "version": 3
   },
   "file_extension": ".py",
   "mimetype": "text/x-python",
   "name": "python",
   "nbconvert_exporter": "python",
   "pygments_lexer": "ipython3",
   "version": "3.7.3"
  }
 },
 "nbformat": 4,
 "nbformat_minor": 1
}
