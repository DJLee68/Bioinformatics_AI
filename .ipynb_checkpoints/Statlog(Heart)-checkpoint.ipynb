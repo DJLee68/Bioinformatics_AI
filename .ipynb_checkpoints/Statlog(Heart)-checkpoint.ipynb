{
 "cells": [
  {
   "cell_type": "code",
   "execution_count": 1,
   "metadata": {
    "colab": {},
    "colab_type": "code",
    "id": "mL7zvImn9Fbf"
   },
   "outputs": [],
   "source": [
    "import numpy as np\n",
    "import pandas as pd\n",
    "from sklearn.preprocessing import MinMaxScaler\n",
    "from sklearn.preprocessing import StandardScaler\n",
    "from sklearn.model_selection import train_test_split"
   ]
  },
  {
   "cell_type": "code",
   "execution_count": 2,
   "metadata": {},
   "outputs": [],
   "source": [
    "data = pd.read_excel('heart.xlsx')"
   ]
  },
  {
   "cell_type": "code",
   "execution_count": 3,
   "metadata": {},
   "outputs": [],
   "source": [
    "df_train, df_test = train_test_split(data, test_size=0.3, random_state=42)"
   ]
  },
  {
   "cell_type": "code",
   "execution_count": 4,
   "metadata": {},
   "outputs": [],
   "source": [
    "train = df_train\n",
    "test = df_test"
   ]
  },
  {
   "cell_type": "code",
   "execution_count": 5,
   "metadata": {},
   "outputs": [
    {
     "data": {
      "text/plain": [
       "(189, 14)"
      ]
     },
     "execution_count": 5,
     "metadata": {},
     "output_type": "execute_result"
    }
   ],
   "source": [
    "train.shape"
   ]
  },
  {
   "cell_type": "code",
   "execution_count": 6,
   "metadata": {
    "colab": {
     "base_uri": "https://localhost:8080/",
     "height": 34
    },
    "colab_type": "code",
    "executionInfo": {
     "elapsed": 516,
     "status": "ok",
     "timestamp": 1562058530714,
     "user": {
      "displayName": "이동재",
      "photoUrl": "",
      "userId": "12052501428717228434"
     },
     "user_tz": -540
    },
    "id": "t8pTzpUVcq9z",
    "outputId": "f6d4f95b-36f9-4a7f-eddf-ef67301f6e4c"
   },
   "outputs": [
    {
     "data": {
      "text/plain": [
       "(81, 14)"
      ]
     },
     "execution_count": 6,
     "metadata": {},
     "output_type": "execute_result"
    }
   ],
   "source": [
    "test.shape"
   ]
  },
  {
   "cell_type": "code",
   "execution_count": 7,
   "metadata": {},
   "outputs": [
    {
     "data": {
      "text/html": [
       "<div>\n",
       "<style scoped>\n",
       "    .dataframe tbody tr th:only-of-type {\n",
       "        vertical-align: middle;\n",
       "    }\n",
       "\n",
       "    .dataframe tbody tr th {\n",
       "        vertical-align: top;\n",
       "    }\n",
       "\n",
       "    .dataframe thead th {\n",
       "        text-align: right;\n",
       "    }\n",
       "</style>\n",
       "<table border=\"1\" class=\"dataframe\">\n",
       "  <thead>\n",
       "    <tr style=\"text-align: right;\">\n",
       "      <th></th>\n",
       "      <th>age</th>\n",
       "      <th>sex</th>\n",
       "      <th>chest pain type (4 values)</th>\n",
       "      <th>resting blood pressure</th>\n",
       "      <th>serum cholestoral in mg/dl</th>\n",
       "      <th>fasting blood sugar &gt; 120 mg/dl</th>\n",
       "      <th>resting electrocardiographic results (values 0,1,2)</th>\n",
       "      <th>maximum heart rate achieved</th>\n",
       "      <th>exercise induced angina</th>\n",
       "      <th>oldpeak = ST depression induced by exercise relative to rest</th>\n",
       "      <th>the slope of the peak exercise ST segment</th>\n",
       "      <th>number of major vessels (0-3) colored by flourosopy</th>\n",
       "      <th>thal: 3 = normal; 6 = fixed defect; 7 = reversable defect</th>\n",
       "      <th>class</th>\n",
       "    </tr>\n",
       "  </thead>\n",
       "  <tbody>\n",
       "    <tr>\n",
       "      <th>count</th>\n",
       "      <td>189.000000</td>\n",
       "      <td>189.000000</td>\n",
       "      <td>189.000000</td>\n",
       "      <td>189.000000</td>\n",
       "      <td>189.000000</td>\n",
       "      <td>189.000000</td>\n",
       "      <td>189.000000</td>\n",
       "      <td>189.000000</td>\n",
       "      <td>189.000000</td>\n",
       "      <td>189.000000</td>\n",
       "      <td>189.000000</td>\n",
       "      <td>189.000000</td>\n",
       "      <td>189.000000</td>\n",
       "      <td>189.000000</td>\n",
       "    </tr>\n",
       "    <tr>\n",
       "      <th>mean</th>\n",
       "      <td>54.751323</td>\n",
       "      <td>0.693122</td>\n",
       "      <td>3.211640</td>\n",
       "      <td>131.809524</td>\n",
       "      <td>251.529101</td>\n",
       "      <td>0.137566</td>\n",
       "      <td>1.042328</td>\n",
       "      <td>149.317460</td>\n",
       "      <td>0.370370</td>\n",
       "      <td>1.155556</td>\n",
       "      <td>1.608466</td>\n",
       "      <td>0.698413</td>\n",
       "      <td>4.783069</td>\n",
       "      <td>1.465608</td>\n",
       "    </tr>\n",
       "    <tr>\n",
       "      <th>std</th>\n",
       "      <td>9.132393</td>\n",
       "      <td>0.462423</td>\n",
       "      <td>0.966278</td>\n",
       "      <td>17.952233</td>\n",
       "      <td>52.554890</td>\n",
       "      <td>0.345359</td>\n",
       "      <td>0.999099</td>\n",
       "      <td>22.877443</td>\n",
       "      <td>0.484186</td>\n",
       "      <td>1.195707</td>\n",
       "      <td>0.614655</td>\n",
       "      <td>0.967035</td>\n",
       "      <td>1.948957</td>\n",
       "      <td>0.500141</td>\n",
       "    </tr>\n",
       "    <tr>\n",
       "      <th>min</th>\n",
       "      <td>29.000000</td>\n",
       "      <td>0.000000</td>\n",
       "      <td>1.000000</td>\n",
       "      <td>94.000000</td>\n",
       "      <td>141.000000</td>\n",
       "      <td>0.000000</td>\n",
       "      <td>0.000000</td>\n",
       "      <td>88.000000</td>\n",
       "      <td>0.000000</td>\n",
       "      <td>0.000000</td>\n",
       "      <td>1.000000</td>\n",
       "      <td>0.000000</td>\n",
       "      <td>3.000000</td>\n",
       "      <td>1.000000</td>\n",
       "    </tr>\n",
       "    <tr>\n",
       "      <th>25%</th>\n",
       "      <td>48.000000</td>\n",
       "      <td>0.000000</td>\n",
       "      <td>3.000000</td>\n",
       "      <td>120.000000</td>\n",
       "      <td>215.000000</td>\n",
       "      <td>0.000000</td>\n",
       "      <td>0.000000</td>\n",
       "      <td>132.000000</td>\n",
       "      <td>0.000000</td>\n",
       "      <td>0.000000</td>\n",
       "      <td>1.000000</td>\n",
       "      <td>0.000000</td>\n",
       "      <td>3.000000</td>\n",
       "      <td>1.000000</td>\n",
       "    </tr>\n",
       "    <tr>\n",
       "      <th>50%</th>\n",
       "      <td>56.000000</td>\n",
       "      <td>1.000000</td>\n",
       "      <td>4.000000</td>\n",
       "      <td>130.000000</td>\n",
       "      <td>244.000000</td>\n",
       "      <td>0.000000</td>\n",
       "      <td>2.000000</td>\n",
       "      <td>154.000000</td>\n",
       "      <td>0.000000</td>\n",
       "      <td>1.000000</td>\n",
       "      <td>2.000000</td>\n",
       "      <td>0.000000</td>\n",
       "      <td>3.000000</td>\n",
       "      <td>1.000000</td>\n",
       "    </tr>\n",
       "    <tr>\n",
       "      <th>75%</th>\n",
       "      <td>62.000000</td>\n",
       "      <td>1.000000</td>\n",
       "      <td>4.000000</td>\n",
       "      <td>140.000000</td>\n",
       "      <td>282.000000</td>\n",
       "      <td>0.000000</td>\n",
       "      <td>2.000000</td>\n",
       "      <td>166.000000</td>\n",
       "      <td>1.000000</td>\n",
       "      <td>1.800000</td>\n",
       "      <td>2.000000</td>\n",
       "      <td>1.000000</td>\n",
       "      <td>7.000000</td>\n",
       "      <td>2.000000</td>\n",
       "    </tr>\n",
       "    <tr>\n",
       "      <th>max</th>\n",
       "      <td>74.000000</td>\n",
       "      <td>1.000000</td>\n",
       "      <td>4.000000</td>\n",
       "      <td>200.000000</td>\n",
       "      <td>564.000000</td>\n",
       "      <td>1.000000</td>\n",
       "      <td>2.000000</td>\n",
       "      <td>202.000000</td>\n",
       "      <td>1.000000</td>\n",
       "      <td>6.200000</td>\n",
       "      <td>3.000000</td>\n",
       "      <td>3.000000</td>\n",
       "      <td>7.000000</td>\n",
       "      <td>2.000000</td>\n",
       "    </tr>\n",
       "  </tbody>\n",
       "</table>\n",
       "</div>"
      ],
      "text/plain": [
       "              age         sex  chest pain type (4 values)  \\\n",
       "count  189.000000  189.000000                  189.000000   \n",
       "mean    54.751323    0.693122                    3.211640   \n",
       "std      9.132393    0.462423                    0.966278   \n",
       "min     29.000000    0.000000                    1.000000   \n",
       "25%     48.000000    0.000000                    3.000000   \n",
       "50%     56.000000    1.000000                    4.000000   \n",
       "75%     62.000000    1.000000                    4.000000   \n",
       "max     74.000000    1.000000                    4.000000   \n",
       "\n",
       "       resting blood pressure  serum cholestoral in mg/dl  \\\n",
       "count              189.000000                  189.000000   \n",
       "mean               131.809524                  251.529101   \n",
       "std                 17.952233                   52.554890   \n",
       "min                 94.000000                  141.000000   \n",
       "25%                120.000000                  215.000000   \n",
       "50%                130.000000                  244.000000   \n",
       "75%                140.000000                  282.000000   \n",
       "max                200.000000                  564.000000   \n",
       "\n",
       "       fasting blood sugar > 120 mg/dl  \\\n",
       "count                       189.000000   \n",
       "mean                          0.137566   \n",
       "std                           0.345359   \n",
       "min                           0.000000   \n",
       "25%                           0.000000   \n",
       "50%                           0.000000   \n",
       "75%                           0.000000   \n",
       "max                           1.000000   \n",
       "\n",
       "       resting electrocardiographic results (values 0,1,2)  \\\n",
       "count                                         189.000000     \n",
       "mean                                            1.042328     \n",
       "std                                             0.999099     \n",
       "min                                             0.000000     \n",
       "25%                                             0.000000     \n",
       "50%                                             2.000000     \n",
       "75%                                             2.000000     \n",
       "max                                             2.000000     \n",
       "\n",
       "       maximum heart rate achieved  exercise induced angina  \\\n",
       "count                   189.000000               189.000000   \n",
       "mean                    149.317460                 0.370370   \n",
       "std                      22.877443                 0.484186   \n",
       "min                      88.000000                 0.000000   \n",
       "25%                     132.000000                 0.000000   \n",
       "50%                     154.000000                 0.000000   \n",
       "75%                     166.000000                 1.000000   \n",
       "max                     202.000000                 1.000000   \n",
       "\n",
       "       oldpeak = ST depression induced by exercise relative to rest  \\\n",
       "count                                         189.000000              \n",
       "mean                                            1.155556              \n",
       "std                                             1.195707              \n",
       "min                                             0.000000              \n",
       "25%                                             0.000000              \n",
       "50%                                             1.000000              \n",
       "75%                                             1.800000              \n",
       "max                                             6.200000              \n",
       "\n",
       "       the slope of the peak exercise ST segment  \\\n",
       "count                                 189.000000   \n",
       "mean                                    1.608466   \n",
       "std                                     0.614655   \n",
       "min                                     1.000000   \n",
       "25%                                     1.000000   \n",
       "50%                                     2.000000   \n",
       "75%                                     2.000000   \n",
       "max                                     3.000000   \n",
       "\n",
       "       number of major vessels (0-3) colored by flourosopy  \\\n",
       "count                                         189.000000     \n",
       "mean                                            0.698413     \n",
       "std                                             0.967035     \n",
       "min                                             0.000000     \n",
       "25%                                             0.000000     \n",
       "50%                                             0.000000     \n",
       "75%                                             1.000000     \n",
       "max                                             3.000000     \n",
       "\n",
       "       thal: 3 = normal; 6 = fixed defect; 7 = reversable defect       class  \n",
       "count                                         189.000000          189.000000  \n",
       "mean                                            4.783069            1.465608  \n",
       "std                                             1.948957            0.500141  \n",
       "min                                             3.000000            1.000000  \n",
       "25%                                             3.000000            1.000000  \n",
       "50%                                             3.000000            1.000000  \n",
       "75%                                             7.000000            2.000000  \n",
       "max                                             7.000000            2.000000  "
      ]
     },
     "execution_count": 7,
     "metadata": {},
     "output_type": "execute_result"
    }
   ],
   "source": [
    "train.describe()"
   ]
  },
  {
   "cell_type": "code",
   "execution_count": 8,
   "metadata": {},
   "outputs": [],
   "source": [
    "import seaborn\n",
    "import matplotlib.pyplot as plt\n",
    "\n",
    "def plot_df(df, name):\n",
    "  corr = df[df.columns].corr()\n",
    "  mask = np.zeros_like(corr, dtype=np.bool)\n",
    "  mask[np.triu_indices_from(mask)] = True\n",
    "  plt.figure(figsize=(20, 15))\n",
    "  seaborn.set(font_scale=1.2)\n",
    "  seaborn.heatmap(corr, mask=mask, center=0, annot=True,\n",
    "    square=True, linewidths=3, alpha=0.7)\n",
    "  plt.title(name)"
   ]
  },
  {
   "cell_type": "code",
   "execution_count": 9,
   "metadata": {},
   "outputs": [
    {
     "data": {
      "image/png": "[encoded data removed]",
      "text/plain": [
       "<Figure size 1440x1080 with 2 Axes>"
      ]
     },
     "metadata": {
      "needs_background": "light"
     },
     "output_type": "display_data"
    }
   ],
   "source": [
    "plot_df(train, 'Train')"
   ]
  },
  {
   "cell_type": "code",
   "execution_count": 10,
   "metadata": {
    "colab": {
     "base_uri": "https://localhost:8080/",
     "height": 140
    },
    "colab_type": "code",
    "executionInfo": {
     "elapsed": 569,
     "status": "ok",
     "timestamp": 1562058531066,
     "user": {
      "displayName": "이동재",
      "photoUrl": "",
      "userId": "12052501428717228434"
     },
     "user_tz": -540
    },
    "id": "NSjRKJko-Dcv",
    "outputId": "0e325a9e-d3d5-47a6-9df5-82990cb06120"
   },
   "outputs": [
    {
     "name": "stdout",
     "output_type": "stream",
     "text": [
      "Index(['age', 'sex', 'chest pain type (4 values)', 'resting blood pressure',\n",
      "       'serum cholestoral in mg/dl', 'fasting blood sugar > 120 mg/dl',\n",
      "       'resting electrocardiographic results (values 0,1,2)',\n",
      "       'maximum heart rate achieved', 'exercise induced angina',\n",
      "       'oldpeak = ST depression induced by exercise relative to rest',\n",
      "       'the slope of the peak exercise ST segment',\n",
      "       'number of major vessels (0-3) colored by flourosopy',\n",
      "       'thal: 3 = normal; 6 = fixed defect; 7 = reversable defect', 'class'],\n",
      "      dtype='object')\n"
     ]
    }
   ],
   "source": [
    "print(train.columns)"
   ]
  },
  {
   "cell_type": "code",
   "execution_count": 11,
   "metadata": {
    "colab": {
     "base_uri": "https://localhost:8080/",
     "height": 34
    },
    "colab_type": "code",
    "executionInfo": {
     "elapsed": 5744,
     "status": "ok",
     "timestamp": 1562058536952,
     "user": {
      "displayName": "이동재",
      "photoUrl": "",
      "userId": "12052501428717228434"
     },
     "user_tz": -540
    },
    "id": "7VLAjJXm-xpB",
    "outputId": "ec729c6a-a9cb-42d4-f774-0e1567be953f"
   },
   "outputs": [
    {
     "name": "stdout",
     "output_type": "stream",
     "text": [
      "Chooese the class: class\n"
     ]
    }
   ],
   "source": [
    "class_name = input(\"Chooese the class: \")"
   ]
  },
  {
   "cell_type": "code",
   "execution_count": 12,
   "metadata": {
    "colab": {},
    "colab_type": "code",
    "id": "DgUHg4ED3uWO"
   },
   "outputs": [],
   "source": [
    "minmax_scaler = MinMaxScaler()\n",
    "standard_scaler = StandardScaler()"
   ]
  },
  {
   "cell_type": "code",
   "execution_count": 13,
   "metadata": {
    "colab": {
     "base_uri": "https://localhost:8080/",
     "height": 34
    },
    "colab_type": "code",
    "executionInfo": {
     "elapsed": 1164,
     "status": "ok",
     "timestamp": 1562058540201,
     "user": {
      "displayName": "이동재",
      "photoUrl": "",
      "userId": "12052501428717228434"
     },
     "user_tz": -540
    },
    "id": "6x0W2mAC-wgw",
    "outputId": "a933e1c2-64cc-449e-cc01-a66b8b1b4a92"
   },
   "outputs": [
    {
     "name": "stdout",
     "output_type": "stream",
     "text": [
      "2\n"
     ]
    }
   ],
   "source": [
    "tr_ans = train[class_name]\n",
    "ts_ans = test[class_name]\n",
    "class_count = len(tr_ans.unique())\n",
    "print(class_count)"
   ]
  },
  {
   "cell_type": "code",
   "execution_count": 14,
   "metadata": {
    "colab": {},
    "colab_type": "code",
    "id": "WnKjCuCfAguo"
   },
   "outputs": [],
   "source": [
    "tr_data = train.drop([class_name], axis=1)\n",
    "ts_data = test.drop([class_name], axis=1)"
   ]
  },
  {
   "cell_type": "code",
   "execution_count": 15,
   "metadata": {
    "colab": {
     "base_uri": "https://localhost:8080/",
     "height": 72
    },
    "colab_type": "code",
    "executionInfo": {
     "elapsed": 723,
     "status": "ok",
     "timestamp": 1562058547225,
     "user": {
      "displayName": "이동재",
      "photoUrl": "",
      "userId": "12052501428717228434"
     },
     "user_tz": -540
    },
    "id": "lmjXkka1Lucy",
    "outputId": "7edc3aec-a0fa-4a33-d09b-1931e2d1fb27"
   },
   "outputs": [],
   "source": [
    "# #결측치 채우기 if 결측치가 0일 경우\n",
    "\n",
    "# from sklearn.impute import SimpleImputer\n",
    "\n",
    "# rep_0 = SimpleImputer(missing_values=0, strategy=\"mean\")\n",
    "\n",
    "# tr_data = rep_0.fit_transform(tr_data)\n",
    "# ts_data = rep_0.fit_transform(ts_data)\n",
    "\n",
    "#결측치 채우기 if 결측치가 ?일 경우\n",
    "\n",
    "# from sklearn.impute import SimpleImputer\n",
    "\n",
    "# rep_0 = SimpleImputer(missing_values='?', strategy=\"mean\")\n",
    "\n",
    "# tr_data = rep_0.fit_transform(tr_data)\n",
    "# ts_data = rep_0.fit_transform(ts_data)"
   ]
  },
  {
   "cell_type": "code",
   "execution_count": 16,
   "metadata": {
    "colab": {},
    "colab_type": "code",
    "id": "Z_Yw0W7eAmgw"
   },
   "outputs": [
    {
     "name": "stderr",
     "output_type": "stream",
     "text": [
      "C:\\Users\\LeeDongJae\\AppData\\Local\\Continuum\\anaconda3\\lib\\site-packages\\sklearn\\preprocessing\\data.py:334: DataConversionWarning: Data with input dtype int64, float64 were all converted to float64 by MinMaxScaler.\n",
      "  return self.partial_fit(X, y)\n",
      "C:\\Users\\LeeDongJae\\AppData\\Local\\Continuum\\anaconda3\\lib\\site-packages\\sklearn\\preprocessing\\data.py:645: DataConversionWarning: Data with input dtype int64, float64 were all converted to float64 by StandardScaler.\n",
      "  return self.partial_fit(X, y)\n",
      "C:\\Users\\LeeDongJae\\AppData\\Local\\Continuum\\anaconda3\\lib\\site-packages\\sklearn\\base.py:464: DataConversionWarning: Data with input dtype int64, float64 were all converted to float64 by StandardScaler.\n",
      "  return self.fit(X, **fit_params).transform(X)\n",
      "C:\\Users\\LeeDongJae\\AppData\\Local\\Continuum\\anaconda3\\lib\\site-packages\\ipykernel_launcher.py:4: DataConversionWarning: Data with input dtype int64, float64 were all converted to float64 by StandardScaler.\n",
      "  after removing the cwd from sys.path.\n"
     ]
    }
   ],
   "source": [
    "mm_tr_data = minmax_scaler.fit_transform(tr_data)\n",
    "mm_ts_data = minmax_scaler.transform(ts_data)\n",
    "std_tr_data = standard_scaler.fit_transform(tr_data)\n",
    "std_ts_data = standard_scaler.transform(ts_data)\n",
    "tr_ans = np.array(tr_ans)\n",
    "ts_ans = np.array(ts_ans)"
   ]
  },
  {
   "cell_type": "code",
   "execution_count": 17,
   "metadata": {
    "colab": {
     "base_uri": "https://localhost:8080/",
     "height": 386
    },
    "colab_type": "code",
    "executionInfo": {
     "elapsed": 712,
     "status": "ok",
     "timestamp": 1562058552746,
     "user": {
      "displayName": "이동재",
      "photoUrl": "",
      "userId": "12052501428717228434"
     },
     "user_tz": -540
    },
    "id": "Rz4XG4MMOHGu",
    "outputId": "70f5c169-28bc-4010-ae83-14209e83d278"
   },
   "outputs": [
    {
     "data": {
      "text/plain": [
       "array([1, 1, 2, 2, 2, 1, 1, 2, 1, 1, 2, 1, 2, 2, 1, 2, 2, 1, 2, 1, 1, 1,\n",
       "       2, 2, 1, 2, 1, 2, 1, 1, 1, 1, 2, 1, 1, 2, 1, 2, 1, 2, 1, 1, 1, 2,\n",
       "       2, 1, 1, 2, 2, 1, 1, 2, 1, 1, 1, 2, 2, 1, 1, 2, 1, 2, 2, 2, 1, 1,\n",
       "       2, 1, 2, 2, 1, 1, 1, 1, 1, 2, 1, 2, 1, 2, 1, 2, 1, 1, 1, 1, 1, 1,\n",
       "       1, 2, 2, 2, 1, 1, 2, 2, 2, 2, 1, 1, 1, 1, 2, 2, 1, 2, 2, 2, 2, 1,\n",
       "       2, 1, 2, 1, 1, 1, 2, 1, 2, 1, 2, 2, 2, 2, 2, 1, 2, 2, 2, 2, 1, 1,\n",
       "       2, 2, 1, 2, 1, 2, 2, 2, 2, 2, 2, 2, 1, 1, 1, 1, 2, 1, 2, 1, 1, 2,\n",
       "       2, 1, 1, 1, 2, 1, 1, 1, 1, 2, 2, 1, 2, 1, 2, 1, 1, 2, 2, 1, 1, 2,\n",
       "       1, 2, 1, 1, 1, 1, 2, 2, 2, 1, 1, 1, 1], dtype=int64)"
      ]
     },
     "execution_count": 17,
     "metadata": {},
     "output_type": "execute_result"
    }
   ],
   "source": [
    "tr_ans"
   ]
  },
  {
   "cell_type": "code",
   "execution_count": 18,
   "metadata": {},
   "outputs": [
    {
     "data": {
      "text/plain": [
       "array([2, 2, 1, 1, 1, 2, 1, 1, 1, 1, 1, 1, 2, 2, 1, 1, 2, 2, 2, 1, 2, 1,\n",
       "       2, 1, 1, 2, 1, 2, 1, 1, 1, 1, 2, 1, 2, 2, 2, 2, 2, 1, 1, 1, 1, 1,\n",
       "       1, 1, 1, 2, 2, 1, 1, 1, 1, 2, 1, 2, 1, 2, 1, 2, 2, 2, 2, 1, 2, 1,\n",
       "       1, 1, 2, 1, 1, 2, 1, 2, 1, 1, 1, 2, 1, 1, 1], dtype=int64)"
      ]
     },
     "execution_count": 18,
     "metadata": {},
     "output_type": "execute_result"
    }
   ],
   "source": [
    "ts_ans"
   ]
  },
  {
   "cell_type": "code",
   "execution_count": 19,
   "metadata": {
    "colab": {},
    "colab_type": "code",
    "id": "F0_cae6XOksE"
   },
   "outputs": [],
   "source": [
    "import tensorflow as tf\n",
    "from sklearn.model_selection import GridSearchCV\n",
    "from sklearn.model_selection import RandomizedSearchCV\n",
    "from sklearn.model_selection import ParameterGrid\n",
    "from sklearn.metrics import precision_score, recall_score, f1_score, accuracy_score\n",
    "from tensorflow.keras.wrappers.scikit_learn import KerasClassifier\n",
    "from tensorflow.keras.models import Sequential\n",
    "from tensorflow.keras.layers import Dense\n",
    "from tensorflow.keras.layers import Activation\n",
    "from tensorflow.keras.layers import BatchNormalization\n",
    "from tensorflow.keras.layers import Dropout\n",
    "from sklearn import metrics\n",
    "from tensorflow.keras.regularizers import l2\n"
   ]
  },
  {
   "cell_type": "code",
   "execution_count": 20,
   "metadata": {
    "colab": {},
    "colab_type": "code",
    "id": "K8FW6kBo7uPs"
   },
   "outputs": [],
   "source": [
    "from sklearn.metrics import precision_recall_fscore_support\n",
    "from sklearn.metrics import confusion_matrix"
   ]
  },
  {
   "cell_type": "code",
   "execution_count": 21,
   "metadata": {
    "colab": {},
    "colab_type": "code",
    "id": "CHrsnp0Tq8CA"
   },
   "outputs": [],
   "source": [
    "# real Version\n",
    "\n",
    "\n",
    "def create_model(hidden_layers = 1, neurons =1, init_mode = 'uniform', \n",
    "                 activation = 'elu', kernel_regularizer=l2(0.001)):\n",
    "  model = Sequential()\n",
    "  model.add(Dense(neurons, input_dim=len(mm_tr_data.T), kernel_initializer=init_mode, activation=activation))\n",
    "  for i in range(hidden_layers):\n",
    "    \n",
    "    model.add(Dense(neurons, kernel_initializer=init_mode, kernel_regularizer=kernel_regularizer))\n",
    "    model.add(BatchNormalization())\n",
    "    model.add(Activation(activation))\n",
    "    model.add(Dropout(0.2))\n",
    "  \n",
    "  if class_count == 2:  \n",
    "    model.add(Dense(1,activation='sigmoid'))\n",
    "    model.compile(loss='binary_crossentropy', optimizer='adam', metrics=['accuracy'])\n",
    "  elif class_count != 2:\n",
    "    model.add(Dense(class_count, activation='softmax'))\n",
    "    model.compile(loss='sparse_categorical_crossentropy', optimizer='adam', metrics=['sparse_categorical_accuracy'])\n",
    "  return model"
   ]
  },
  {
   "cell_type": "code",
   "execution_count": 22,
   "metadata": {},
   "outputs": [],
   "source": [
    "keras_model = KerasClassifier(build_fn=create_model, epochs=64, batch_size=16)"
   ]
  },
  {
   "cell_type": "code",
   "execution_count": 23,
   "metadata": {},
   "outputs": [],
   "source": [
    "leaky_relu = tf.nn.leaky_relu\n",
    "hidden_layers = [4,8,16]\n",
    "neurons = [32, 64, 128]\n",
    "activation = ['elu', leaky_relu]\n",
    "init_mode = ['glorot_uniform', 'he_normal']"
   ]
  },
  {
   "cell_type": "code",
   "execution_count": 24,
   "metadata": {},
   "outputs": [],
   "source": [
    "param_grid = dict(hidden_layers = hidden_layers, neurons = neurons, init_mode = init_mode, activation = activation)\n",
    "minmax_grid = GridSearchCV(estimator=keras_model, param_grid=param_grid, n_jobs= -1, cv=3)\n",
    "std_grid = GridSearchCV(estimator=keras_model, param_grid=param_grid, n_jobs= -1, cv=3)"
   ]
  },
  {
   "cell_type": "code",
   "execution_count": 25,
   "metadata": {},
   "outputs": [],
   "source": [
    "import warnings\n",
    "warnings.filterwarnings(\"ignore\")"
   ]
  },
  {
   "cell_type": "code",
   "execution_count": 26,
   "metadata": {},
   "outputs": [
    {
     "name": "stdout",
     "output_type": "stream",
     "text": [
      "WARNING:tensorflow:From C:\\Users\\LeeDongJae\\AppData\\Local\\Continuum\\anaconda3\\lib\\site-packages\\tensorflow\\python\\ops\\resource_variable_ops.py:435: colocate_with (from tensorflow.python.framework.ops) is deprecated and will be removed in a future version.\n",
      "Instructions for updating:\n",
      "Colocations handled automatically by placer.\n",
      "WARNING:tensorflow:From C:\\Users\\LeeDongJae\\AppData\\Local\\Continuum\\anaconda3\\lib\\site-packages\\tensorflow\\python\\keras\\layers\\core.py:143: calling dropout (from tensorflow.python.ops.nn_ops) with keep_prob is deprecated and will be removed in a future version.\n",
      "Instructions for updating:\n",
      "Please use `rate` instead of `keep_prob`. Rate should be set to `rate = 1 - keep_prob`.\n",
      "WARNING:tensorflow:From C:\\Users\\LeeDongJae\\AppData\\Local\\Continuum\\anaconda3\\lib\\site-packages\\tensorflow\\python\\ops\\math_ops.py:3066: to_int32 (from tensorflow.python.ops.math_ops) is deprecated and will be removed in a future version.\n",
      "Instructions for updating:\n",
      "Use tf.cast instead.\n",
      "Epoch 1/64\n",
      "189/189 [==============================] - 6s 33ms/sample - loss: 1.8318 - acc: 0.5026\n",
      "Epoch 2/64\n",
      "189/189 [==============================] - 0s 904us/sample - loss: 1.8144 - acc: 0.5238\n",
      "Epoch 3/64\n",
      "189/189 [==============================] - 0s 867us/sample - loss: 1.8194 - acc: 0.5344\n",
      "Epoch 4/64\n",
      "189/189 [==============================] - 0s 878us/sample - loss: 1.8252 - acc: 0.5291\n",
      "Epoch 5/64\n",
      "189/189 [==============================] - 0s 888us/sample - loss: 1.8600 - acc: 0.4815\n",
      "Epoch 6/64\n",
      "189/189 [==============================] - 0s 999us/sample - loss: 1.7278 - acc: 0.5820\n",
      "Epoch 7/64\n",
      "189/189 [==============================] - 0s 1ms/sample - loss: 1.7410 - acc: 0.5503\n",
      "Epoch 8/64\n",
      "189/189 [==============================] - 0s 920us/sample - loss: 1.7533 - acc: 0.5661\n",
      "Epoch 9/64\n",
      "189/189 [==============================] - 0s 973us/sample - loss: 1.7520 - acc: 0.5661\n",
      "Epoch 10/64\n",
      "189/189 [==============================] - 0s 994us/sample - loss: 1.7253 - acc: 0.5238\n",
      "Epoch 11/64\n",
      "189/189 [==============================] - 0s 947us/sample - loss: 1.7033 - acc: 0.6138\n",
      "Epoch 12/64\n",
      "189/189 [==============================] - 0s 999us/sample - loss: 1.6995 - acc: 0.6032\n",
      "Epoch 13/64\n",
      "189/189 [==============================] - 0s 925us/sample - loss: 1.7751 - acc: 0.5397\n",
      "Epoch 14/64\n",
      "189/189 [==============================] - 0s 883us/sample - loss: 1.7098 - acc: 0.5926\n",
      "Epoch 15/64\n",
      "189/189 [==============================] - 0s 873us/sample - loss: 1.6673 - acc: 0.6402\n",
      "Epoch 16/64\n",
      "189/189 [==============================] - 0s 941us/sample - loss: 1.6473 - acc: 0.6825\n",
      "Epoch 17/64\n",
      "189/189 [==============================] - 0s 947us/sample - loss: 1.6598 - acc: 0.6402\n",
      "Epoch 18/64\n",
      "189/189 [==============================] - 0s 947us/sample - loss: 1.6271 - acc: 0.6825\n",
      "Epoch 19/64\n",
      "189/189 [==============================] - 0s 1ms/sample - loss: 1.6556 - acc: 0.6455\n",
      "Epoch 20/64\n",
      "189/189 [==============================] - 0s 968us/sample - loss: 1.6284 - acc: 0.6772\n",
      "Epoch 21/64\n",
      "189/189 [==============================] - 0s 920us/sample - loss: 1.5966 - acc: 0.7143\n",
      "Epoch 22/64\n",
      "189/189 [==============================] - 0s 989us/sample - loss: 1.5669 - acc: 0.6825\n",
      "Epoch 23/64\n",
      "189/189 [==============================] - 0s 952us/sample - loss: 1.6048 - acc: 0.7143\n",
      "Epoch 24/64\n",
      "189/189 [==============================] - 0s 925us/sample - loss: 1.6211 - acc: 0.6349\n",
      "Epoch 25/64\n",
      "189/189 [==============================] - 0s 941us/sample - loss: 1.5329 - acc: 0.7407\n",
      "Epoch 26/64\n",
      "189/189 [==============================] - 0s 968us/sample - loss: 1.6358 - acc: 0.6825\n",
      "Epoch 27/64\n",
      "189/189 [==============================] - 0s 915us/sample - loss: 1.5683 - acc: 0.7196\n",
      "Epoch 28/64\n",
      "189/189 [==============================] - 0s 989us/sample - loss: 1.5053 - acc: 0.7460\n",
      "Epoch 29/64\n",
      "189/189 [==============================] - 0s 973us/sample - loss: 1.5299 - acc: 0.7354\n",
      "Epoch 30/64\n",
      "189/189 [==============================] - 0s 931us/sample - loss: 1.5163 - acc: 0.7725\n",
      "Epoch 31/64\n",
      "189/189 [==============================] - 0s 952us/sample - loss: 1.5148 - acc: 0.7619\n",
      "Epoch 32/64\n",
      "189/189 [==============================] - 0s 984us/sample - loss: 1.5433 - acc: 0.7513\n",
      "Epoch 33/64\n",
      "189/189 [==============================] - 0s 952us/sample - loss: 1.5287 - acc: 0.7354\n",
      "Epoch 34/64\n",
      "189/189 [==============================] - 0s 931us/sample - loss: 1.5310 - acc: 0.7672\n",
      "Epoch 35/64\n",
      "189/189 [==============================] - 0s 973us/sample - loss: 1.4983 - acc: 0.7778\n",
      "Epoch 36/64\n",
      "189/189 [==============================] - 0s 883us/sample - loss: 1.5195 - acc: 0.7566\n",
      "Epoch 37/64\n",
      "189/189 [==============================] - 0s 962us/sample - loss: 1.4911 - acc: 0.7937\n",
      "Epoch 38/64\n",
      "189/189 [==============================] - 0s 915us/sample - loss: 1.4777 - acc: 0.7672\n",
      "Epoch 39/64\n",
      "189/189 [==============================] - 0s 894us/sample - loss: 1.4653 - acc: 0.7619\n",
      "Epoch 40/64\n",
      "189/189 [==============================] - 0s 888us/sample - loss: 1.4848 - acc: 0.7989\n",
      "Epoch 41/64\n",
      "189/189 [==============================] - 0s 973us/sample - loss: 1.4501 - acc: 0.7619\n",
      "Epoch 42/64\n",
      "189/189 [==============================] - 0s 962us/sample - loss: 1.4766 - acc: 0.8201\n",
      "Epoch 43/64\n",
      "189/189 [==============================] - 0s 941us/sample - loss: 1.5002 - acc: 0.7566\n",
      "Epoch 44/64\n",
      "189/189 [==============================] - 0s 936us/sample - loss: 1.4318 - acc: 0.7460\n",
      "Epoch 45/64\n",
      "189/189 [==============================] - 0s 931us/sample - loss: 1.4463 - acc: 0.8042\n",
      "Epoch 46/64\n",
      "189/189 [==============================] - 0s 941us/sample - loss: 1.3762 - acc: 0.8254\n",
      "Epoch 47/64\n",
      "189/189 [==============================] - 0s 910us/sample - loss: 1.3932 - acc: 0.8307\n",
      "Epoch 48/64\n",
      "189/189 [==============================] - 0s 957us/sample - loss: 1.4742 - acc: 0.7884\n",
      "Epoch 49/64\n",
      "189/189 [==============================] - 0s 931us/sample - loss: 1.3591 - acc: 0.8413\n",
      "Epoch 50/64\n",
      "189/189 [==============================] - 0s 978us/sample - loss: 1.3699 - acc: 0.8519\n",
      "Epoch 51/64\n",
      "189/189 [==============================] - 0s 952us/sample - loss: 1.3776 - acc: 0.8519\n",
      "Epoch 52/64\n",
      "189/189 [==============================] - 0s 989us/sample - loss: 1.3624 - acc: 0.8307\n",
      "Epoch 53/64\n",
      "189/189 [==============================] - 0s 894us/sample - loss: 1.4322 - acc: 0.7725\n",
      "Epoch 54/64\n",
      "189/189 [==============================] - 0s 941us/sample - loss: 1.3609 - acc: 0.8042\n",
      "Epoch 55/64\n",
      "189/189 [==============================] - 0s 1ms/sample - loss: 1.4560 - acc: 0.7513\n",
      "Epoch 56/64\n",
      "189/189 [==============================] - 0s 904us/sample - loss: 1.3418 - acc: 0.8360\n",
      "Epoch 57/64\n",
      "189/189 [==============================] - 0s 1ms/sample - loss: 1.3667 - acc: 0.7884\n",
      "Epoch 58/64\n",
      "189/189 [==============================] - 0s 941us/sample - loss: 1.3455 - acc: 0.8519\n",
      "Epoch 59/64\n",
      "189/189 [==============================] - 0s 962us/sample - loss: 1.3609 - acc: 0.8413\n",
      "Epoch 60/64\n",
      "189/189 [==============================] - 0s 883us/sample - loss: 1.3299 - acc: 0.8466\n",
      "Epoch 61/64\n",
      "189/189 [==============================] - 0s 947us/sample - loss: 1.3511 - acc: 0.8466\n",
      "Epoch 62/64\n",
      "189/189 [==============================] - 0s 904us/sample - loss: 1.3787 - acc: 0.7884\n",
      "Epoch 63/64\n",
      "189/189 [==============================] - 0s 936us/sample - loss: 1.3680 - acc: 0.8201\n",
      "Epoch 64/64\n",
      "189/189 [==============================] - 0s 883us/sample - loss: 1.3570 - acc: 0.8307\n"
     ]
    }
   ],
   "source": [
    "minmax_grid_result = minmax_grid.fit(mm_tr_data, tr_ans)"
   ]
  },
  {
   "cell_type": "code",
   "execution_count": 27,
   "metadata": {},
   "outputs": [
    {
     "name": "stdout",
     "output_type": "stream",
     "text": [
      "Epoch 1/64\n",
      "189/189 [==============================] - 6s 34ms/sample - loss: 1.7683 - acc: 0.5503\n",
      "Epoch 2/64\n",
      "189/189 [==============================] - 0s 894us/sample - loss: 1.7515 - acc: 0.5820\n",
      "Epoch 3/64\n",
      "189/189 [==============================] - 0s 878us/sample - loss: 1.8354 - acc: 0.4868\n",
      "Epoch 4/64\n",
      "189/189 [==============================] - 0s 862us/sample - loss: 1.7137 - acc: 0.5926\n",
      "Epoch 5/64\n",
      "189/189 [==============================] - 0s 883us/sample - loss: 1.7376 - acc: 0.6349\n",
      "Epoch 6/64\n",
      "189/189 [==============================] - 0s 873us/sample - loss: 1.7508 - acc: 0.6243\n",
      "Epoch 7/64\n",
      "189/189 [==============================] - 0s 878us/sample - loss: 1.6473 - acc: 0.6878\n",
      "Epoch 8/64\n",
      "189/189 [==============================] - 0s 941us/sample - loss: 1.5361 - acc: 0.7460\n",
      "Epoch 9/64\n",
      "189/189 [==============================] - 0s 920us/sample - loss: 1.5634 - acc: 0.7302s - loss: 1.5625 - acc: 0.76\n",
      "Epoch 10/64\n",
      "189/189 [==============================] - 0s 962us/sample - loss: 1.5868 - acc: 0.7566\n",
      "Epoch 11/64\n",
      "189/189 [==============================] - 0s 899us/sample - loss: 1.5636 - acc: 0.7302\n",
      "Epoch 12/64\n",
      "189/189 [==============================] - 0s 883us/sample - loss: 1.5691 - acc: 0.7302\n",
      "Epoch 13/64\n",
      "189/189 [==============================] - 0s 888us/sample - loss: 1.5083 - acc: 0.7619\n",
      "Epoch 14/64\n",
      "189/189 [==============================] - 0s 978us/sample - loss: 1.5680 - acc: 0.7354\n",
      "Epoch 15/64\n",
      "189/189 [==============================] - 0s 873us/sample - loss: 1.4939 - acc: 0.7884\n",
      "Epoch 16/64\n",
      "189/189 [==============================] - 0s 925us/sample - loss: 1.5044 - acc: 0.7725\n",
      "Epoch 17/64\n",
      "189/189 [==============================] - 0s 925us/sample - loss: 1.4915 - acc: 0.8042\n",
      "Epoch 18/64\n",
      "189/189 [==============================] - 0s 899us/sample - loss: 1.4890 - acc: 0.8148\n",
      "Epoch 19/64\n",
      "189/189 [==============================] - 0s 952us/sample - loss: 1.4814 - acc: 0.8254\n",
      "Epoch 20/64\n",
      "189/189 [==============================] - 0s 925us/sample - loss: 1.4589 - acc: 0.8254\n",
      "Epoch 21/64\n",
      "189/189 [==============================] - 0s 888us/sample - loss: 1.4386 - acc: 0.8254\n",
      "Epoch 22/64\n",
      "189/189 [==============================] - 0s 968us/sample - loss: 1.4115 - acc: 0.8307\n",
      "Epoch 23/64\n",
      "189/189 [==============================] - 0s 978us/sample - loss: 1.4180 - acc: 0.8360\n",
      "Epoch 24/64\n",
      "189/189 [==============================] - 0s 989us/sample - loss: 1.3771 - acc: 0.8413\n",
      "Epoch 25/64\n",
      "189/189 [==============================] - 0s 941us/sample - loss: 1.4223 - acc: 0.8254\n",
      "Epoch 26/64\n",
      "189/189 [==============================] - 0s 936us/sample - loss: 1.4804 - acc: 0.8042\n",
      "Epoch 27/64\n",
      "189/189 [==============================] - 0s 989us/sample - loss: 1.4129 - acc: 0.8148\n",
      "Epoch 28/64\n",
      "189/189 [==============================] - 0s 994us/sample - loss: 1.4082 - acc: 0.8307\n",
      "Epoch 29/64\n",
      "189/189 [==============================] - 0s 973us/sample - loss: 1.3142 - acc: 0.8730\n",
      "Epoch 30/64\n",
      "189/189 [==============================] - 0s 947us/sample - loss: 1.3419 - acc: 0.8730\n",
      "Epoch 31/64\n",
      "189/189 [==============================] - 0s 920us/sample - loss: 1.3197 - acc: 0.8571\n",
      "Epoch 32/64\n",
      "189/189 [==============================] - 0s 920us/sample - loss: 1.4085 - acc: 0.8095\n",
      "Epoch 33/64\n",
      "189/189 [==============================] - 0s 931us/sample - loss: 1.4044 - acc: 0.8413\n",
      "Epoch 34/64\n",
      "189/189 [==============================] - 0s 1ms/sample - loss: 1.3160 - acc: 0.8519\n",
      "Epoch 35/64\n",
      "189/189 [==============================] - 0s 973us/sample - loss: 1.4304 - acc: 0.7884\n",
      "Epoch 36/64\n",
      "189/189 [==============================] - 0s 899us/sample - loss: 1.3425 - acc: 0.8519\n",
      "Epoch 37/64\n",
      "189/189 [==============================] - 0s 1ms/sample - loss: 1.3900 - acc: 0.8254\n",
      "Epoch 38/64\n",
      "189/189 [==============================] - 0s 931us/sample - loss: 1.3480 - acc: 0.8413\n",
      "Epoch 39/64\n",
      "189/189 [==============================] - 0s 920us/sample - loss: 1.3896 - acc: 0.8201\n",
      "Epoch 40/64\n",
      "189/189 [==============================] - 0s 999us/sample - loss: 1.3999 - acc: 0.7989\n",
      "Epoch 41/64\n",
      "189/189 [==============================] - 0s 957us/sample - loss: 1.3492 - acc: 0.8466\n",
      "Epoch 42/64\n",
      "189/189 [==============================] - 0s 931us/sample - loss: 1.3421 - acc: 0.8360\n",
      "Epoch 43/64\n",
      "189/189 [==============================] - 0s 1ms/sample - loss: 1.2888 - acc: 0.8624\n",
      "Epoch 44/64\n",
      "189/189 [==============================] - 0s 962us/sample - loss: 1.3407 - acc: 0.8519\n",
      "Epoch 45/64\n",
      "189/189 [==============================] - 0s 952us/sample - loss: 1.2640 - acc: 0.8889\n",
      "Epoch 46/64\n",
      "189/189 [==============================] - 0s 952us/sample - loss: 1.3030 - acc: 0.8571\n",
      "Epoch 47/64\n",
      "189/189 [==============================] - 0s 952us/sample - loss: 1.3169 - acc: 0.8413\n",
      "Epoch 48/64\n",
      "189/189 [==============================] - 0s 989us/sample - loss: 1.3399 - acc: 0.8307\n",
      "Epoch 49/64\n",
      "189/189 [==============================] - 0s 925us/sample - loss: 1.2439 - acc: 0.8889\n",
      "Epoch 50/64\n",
      "189/189 [==============================] - 0s 984us/sample - loss: 1.3108 - acc: 0.8307\n",
      "Epoch 51/64\n",
      "189/189 [==============================] - 0s 984us/sample - loss: 1.2792 - acc: 0.8571\n",
      "Epoch 52/64\n",
      "189/189 [==============================] - 0s 925us/sample - loss: 1.2332 - acc: 0.8783\n",
      "Epoch 53/64\n",
      "189/189 [==============================] - 0s 957us/sample - loss: 1.2880 - acc: 0.8360\n",
      "Epoch 54/64\n",
      "189/189 [==============================] - 0s 931us/sample - loss: 1.2251 - acc: 0.8730\n",
      "Epoch 55/64\n",
      "189/189 [==============================] - 0s 978us/sample - loss: 1.2439 - acc: 0.8783\n",
      "Epoch 56/64\n",
      "189/189 [==============================] - 0s 931us/sample - loss: 1.2679 - acc: 0.8571\n",
      "Epoch 57/64\n",
      "189/189 [==============================] - 0s 899us/sample - loss: 1.3437 - acc: 0.8254\n",
      "Epoch 58/64\n",
      "189/189 [==============================] - 0s 883us/sample - loss: 1.2679 - acc: 0.8466\n",
      "Epoch 59/64\n",
      "189/189 [==============================] - 0s 899us/sample - loss: 1.1870 - acc: 0.8889\n",
      "Epoch 60/64\n",
      "189/189 [==============================] - 0s 867us/sample - loss: 1.2715 - acc: 0.8624\n",
      "Epoch 61/64\n",
      "189/189 [==============================] - 0s 888us/sample - loss: 1.2094 - acc: 0.8995\n",
      "Epoch 62/64\n",
      "189/189 [==============================] - 0s 883us/sample - loss: 1.2329 - acc: 0.8624\n",
      "Epoch 63/64\n",
      "189/189 [==============================] - 0s 899us/sample - loss: 1.1771 - acc: 0.8995\n",
      "Epoch 64/64\n",
      "189/189 [==============================] - 0s 894us/sample - loss: 1.2406 - acc: 0.8413\n"
     ]
    }
   ],
   "source": [
    "std_grid_result = std_grid.fit(std_tr_data, tr_ans)"
   ]
  },
  {
   "cell_type": "code",
   "execution_count": 28,
   "metadata": {
    "scrolled": true
   },
   "outputs": [
    {
     "name": "stdout",
     "output_type": "stream",
     "text": [
      "Scaler = minmax\n",
      "Best: 0.830688 using {'activation': <function leaky_relu at 0x000001D73A06A840>, 'hidden_layers': 16, 'init_mode': 'glorot_uniform', 'neurons': 64}\n",
      "0.804233 (0.019797) with: {'activation': 'elu', 'hidden_layers': 4, 'init_mode': 'glorot_uniform', 'neurons': 32}\n",
      "0.761905 (0.012960) with: {'activation': 'elu', 'hidden_layers': 4, 'init_mode': 'glorot_uniform', 'neurons': 64}\n",
      "0.804233 (0.014965) with: {'activation': 'elu', 'hidden_layers': 4, 'init_mode': 'glorot_uniform', 'neurons': 128}\n",
      "0.820106 (0.039594) with: {'activation': 'elu', 'hidden_layers': 4, 'init_mode': 'he_normal', 'neurons': 32}\n",
      "0.793651 (0.022448) with: {'activation': 'elu', 'hidden_layers': 4, 'init_mode': 'he_normal', 'neurons': 64}\n",
      "0.777778 (0.022448) with: {'activation': 'elu', 'hidden_layers': 4, 'init_mode': 'he_normal', 'neurons': 128}\n",
      "0.793651 (0.025921) with: {'activation': 'elu', 'hidden_layers': 8, 'init_mode': 'glorot_uniform', 'neurons': 32}\n",
      "0.783069 (0.039594) with: {'activation': 'elu', 'hidden_layers': 8, 'init_mode': 'glorot_uniform', 'neurons': 64}\n",
      "0.777778 (0.034290) with: {'activation': 'elu', 'hidden_layers': 8, 'init_mode': 'glorot_uniform', 'neurons': 128}\n",
      "0.793651 (0.022448) with: {'activation': 'elu', 'hidden_layers': 8, 'init_mode': 'he_normal', 'neurons': 32}\n",
      "0.798942 (0.019797) with: {'activation': 'elu', 'hidden_layers': 8, 'init_mode': 'he_normal', 'neurons': 64}\n",
      "0.793651 (0.012960) with: {'activation': 'elu', 'hidden_layers': 8, 'init_mode': 'he_normal', 'neurons': 128}\n",
      "0.798942 (0.032616) with: {'activation': 'elu', 'hidden_layers': 16, 'init_mode': 'glorot_uniform', 'neurons': 32}\n",
      "0.814815 (0.029930) with: {'activation': 'elu', 'hidden_layers': 16, 'init_mode': 'glorot_uniform', 'neurons': 64}\n",
      "0.772487 (0.014965) with: {'activation': 'elu', 'hidden_layers': 16, 'init_mode': 'glorot_uniform', 'neurons': 128}\n",
      "0.820106 (0.029930) with: {'activation': 'elu', 'hidden_layers': 16, 'init_mode': 'he_normal', 'neurons': 32}\n",
      "0.793651 (0.034290) with: {'activation': 'elu', 'hidden_layers': 16, 'init_mode': 'he_normal', 'neurons': 64}\n",
      "0.814815 (0.019797) with: {'activation': 'elu', 'hidden_layers': 16, 'init_mode': 'he_normal', 'neurons': 128}\n",
      "0.820106 (0.026979) with: {'activation': <function leaky_relu at 0x000001D73A06A840>, 'hidden_layers': 4, 'init_mode': 'glorot_uniform', 'neurons': 32}\n",
      "0.761905 (0.046729) with: {'activation': <function leaky_relu at 0x000001D73A06A840>, 'hidden_layers': 4, 'init_mode': 'glorot_uniform', 'neurons': 64}\n",
      "0.772487 (0.029930) with: {'activation': <function leaky_relu at 0x000001D73A06A840>, 'hidden_layers': 4, 'init_mode': 'glorot_uniform', 'neurons': 128}\n",
      "0.820106 (0.014965) with: {'activation': <function leaky_relu at 0x000001D73A06A840>, 'hidden_layers': 4, 'init_mode': 'he_normal', 'neurons': 32}\n",
      "0.783069 (0.052378) with: {'activation': <function leaky_relu at 0x000001D73A06A840>, 'hidden_layers': 4, 'init_mode': 'he_normal', 'neurons': 64}\n",
      "0.777778 (0.000000) with: {'activation': <function leaky_relu at 0x000001D73A06A840>, 'hidden_layers': 4, 'init_mode': 'he_normal', 'neurons': 128}\n",
      "0.788360 (0.019797) with: {'activation': <function leaky_relu at 0x000001D73A06A840>, 'hidden_layers': 8, 'init_mode': 'glorot_uniform', 'neurons': 32}\n",
      "0.798942 (0.014965) with: {'activation': <function leaky_relu at 0x000001D73A06A840>, 'hidden_layers': 8, 'init_mode': 'glorot_uniform', 'neurons': 64}\n",
      "0.756614 (0.019797) with: {'activation': <function leaky_relu at 0x000001D73A06A840>, 'hidden_layers': 8, 'init_mode': 'glorot_uniform', 'neurons': 128}\n",
      "0.820106 (0.007483) with: {'activation': <function leaky_relu at 0x000001D73A06A840>, 'hidden_layers': 8, 'init_mode': 'he_normal', 'neurons': 32}\n",
      "0.798942 (0.014965) with: {'activation': <function leaky_relu at 0x000001D73A06A840>, 'hidden_layers': 8, 'init_mode': 'he_normal', 'neurons': 64}\n",
      "0.756614 (0.007483) with: {'activation': <function leaky_relu at 0x000001D73A06A840>, 'hidden_layers': 8, 'init_mode': 'he_normal', 'neurons': 128}\n",
      "0.703704 (0.133014) with: {'activation': <function leaky_relu at 0x000001D73A06A840>, 'hidden_layers': 16, 'init_mode': 'glorot_uniform', 'neurons': 32}\n",
      "0.830688 (0.014965) with: {'activation': <function leaky_relu at 0x000001D73A06A840>, 'hidden_layers': 16, 'init_mode': 'glorot_uniform', 'neurons': 64}\n",
      "0.777778 (0.022448) with: {'activation': <function leaky_relu at 0x000001D73A06A840>, 'hidden_layers': 16, 'init_mode': 'glorot_uniform', 'neurons': 128}\n",
      "0.544974 (0.014965) with: {'activation': <function leaky_relu at 0x000001D73A06A840>, 'hidden_layers': 16, 'init_mode': 'he_normal', 'neurons': 32}\n",
      "0.767196 (0.026979) with: {'activation': <function leaky_relu at 0x000001D73A06A840>, 'hidden_layers': 16, 'init_mode': 'he_normal', 'neurons': 64}\n",
      "0.804233 (0.053958) with: {'activation': <function leaky_relu at 0x000001D73A06A840>, 'hidden_layers': 16, 'init_mode': 'he_normal', 'neurons': 128}\n"
     ]
    }
   ],
   "source": [
    "print(\"Scaler = minmax\")\n",
    "print(\"Best: %f using %s\" % (minmax_grid_result.best_score_, minmax_grid_result.best_params_))\n",
    "means = minmax_grid_result.cv_results_['mean_test_score']\n",
    "stds = minmax_grid_result.cv_results_['std_test_score']\n",
    "params = minmax_grid_result.cv_results_['params']\n",
    "\n",
    "for mean, stdev, param in zip(means, stds, params):\n",
    "    print(\"%f (%f) with: %r\" % (mean, stdev, param))"
   ]
  },
  {
   "cell_type": "code",
   "execution_count": 29,
   "metadata": {},
   "outputs": [
    {
     "name": "stdout",
     "output_type": "stream",
     "text": [
      "Scaler = standard\n",
      "Best: 0.825397 using {'activation': 'elu', 'hidden_layers': 16, 'init_mode': 'glorot_uniform', 'neurons': 64}\n",
      "0.814815 (0.007483) with: {'activation': 'elu', 'hidden_layers': 4, 'init_mode': 'glorot_uniform', 'neurons': 32}\n",
      "0.804233 (0.007483) with: {'activation': 'elu', 'hidden_layers': 4, 'init_mode': 'glorot_uniform', 'neurons': 64}\n",
      "0.793651 (0.012960) with: {'activation': 'elu', 'hidden_layers': 4, 'init_mode': 'glorot_uniform', 'neurons': 128}\n",
      "0.793651 (0.012960) with: {'activation': 'elu', 'hidden_layers': 4, 'init_mode': 'he_normal', 'neurons': 32}\n",
      "0.783069 (0.007483) with: {'activation': 'elu', 'hidden_layers': 4, 'init_mode': 'he_normal', 'neurons': 64}\n",
      "0.804233 (0.007483) with: {'activation': 'elu', 'hidden_layers': 4, 'init_mode': 'he_normal', 'neurons': 128}\n",
      "0.814815 (0.014965) with: {'activation': 'elu', 'hidden_layers': 8, 'init_mode': 'glorot_uniform', 'neurons': 32}\n",
      "0.788360 (0.019797) with: {'activation': 'elu', 'hidden_layers': 8, 'init_mode': 'glorot_uniform', 'neurons': 64}\n",
      "0.809524 (0.012960) with: {'activation': 'elu', 'hidden_layers': 8, 'init_mode': 'glorot_uniform', 'neurons': 128}\n",
      "0.820106 (0.007483) with: {'activation': 'elu', 'hidden_layers': 8, 'init_mode': 'he_normal', 'neurons': 32}\n",
      "0.809524 (0.022448) with: {'activation': 'elu', 'hidden_layers': 8, 'init_mode': 'he_normal', 'neurons': 64}\n",
      "0.777778 (0.038881) with: {'activation': 'elu', 'hidden_layers': 8, 'init_mode': 'he_normal', 'neurons': 128}\n",
      "0.804233 (0.007483) with: {'activation': 'elu', 'hidden_layers': 16, 'init_mode': 'glorot_uniform', 'neurons': 32}\n",
      "0.825397 (0.025921) with: {'activation': 'elu', 'hidden_layers': 16, 'init_mode': 'glorot_uniform', 'neurons': 64}\n",
      "0.820106 (0.026979) with: {'activation': 'elu', 'hidden_layers': 16, 'init_mode': 'glorot_uniform', 'neurons': 128}\n",
      "0.804233 (0.007483) with: {'activation': 'elu', 'hidden_layers': 16, 'init_mode': 'he_normal', 'neurons': 32}\n",
      "0.825397 (0.012960) with: {'activation': 'elu', 'hidden_layers': 16, 'init_mode': 'he_normal', 'neurons': 64}\n",
      "0.793651 (0.012960) with: {'activation': 'elu', 'hidden_layers': 16, 'init_mode': 'he_normal', 'neurons': 128}\n",
      "0.788360 (0.032616) with: {'activation': <function leaky_relu at 0x000001D73A06A840>, 'hidden_layers': 4, 'init_mode': 'glorot_uniform', 'neurons': 32}\n",
      "0.772487 (0.019797) with: {'activation': <function leaky_relu at 0x000001D73A06A840>, 'hidden_layers': 4, 'init_mode': 'glorot_uniform', 'neurons': 64}\n",
      "0.793651 (0.046729) with: {'activation': <function leaky_relu at 0x000001D73A06A840>, 'hidden_layers': 4, 'init_mode': 'glorot_uniform', 'neurons': 128}\n",
      "0.793651 (0.025921) with: {'activation': <function leaky_relu at 0x000001D73A06A840>, 'hidden_layers': 4, 'init_mode': 'he_normal', 'neurons': 32}\n",
      "0.767196 (0.026979) with: {'activation': <function leaky_relu at 0x000001D73A06A840>, 'hidden_layers': 4, 'init_mode': 'he_normal', 'neurons': 64}\n",
      "0.814815 (0.032616) with: {'activation': <function leaky_relu at 0x000001D73A06A840>, 'hidden_layers': 4, 'init_mode': 'he_normal', 'neurons': 128}\n",
      "0.809524 (0.022448) with: {'activation': <function leaky_relu at 0x000001D73A06A840>, 'hidden_layers': 8, 'init_mode': 'glorot_uniform', 'neurons': 32}\n",
      "0.793651 (0.025921) with: {'activation': <function leaky_relu at 0x000001D73A06A840>, 'hidden_layers': 8, 'init_mode': 'glorot_uniform', 'neurons': 64}\n",
      "0.793651 (0.012960) with: {'activation': <function leaky_relu at 0x000001D73A06A840>, 'hidden_layers': 8, 'init_mode': 'glorot_uniform', 'neurons': 128}\n",
      "0.804233 (0.007483) with: {'activation': <function leaky_relu at 0x000001D73A06A840>, 'hidden_layers': 8, 'init_mode': 'he_normal', 'neurons': 32}\n",
      "0.798942 (0.019797) with: {'activation': <function leaky_relu at 0x000001D73A06A840>, 'hidden_layers': 8, 'init_mode': 'he_normal', 'neurons': 64}\n",
      "0.772487 (0.019797) with: {'activation': <function leaky_relu at 0x000001D73A06A840>, 'hidden_layers': 8, 'init_mode': 'he_normal', 'neurons': 128}\n",
      "0.708995 (0.049067) with: {'activation': <function leaky_relu at 0x000001D73A06A840>, 'hidden_layers': 16, 'init_mode': 'glorot_uniform', 'neurons': 32}\n",
      "0.798942 (0.014965) with: {'activation': <function leaky_relu at 0x000001D73A06A840>, 'hidden_layers': 16, 'init_mode': 'glorot_uniform', 'neurons': 64}\n",
      "0.809524 (0.000000) with: {'activation': <function leaky_relu at 0x000001D73A06A840>, 'hidden_layers': 16, 'init_mode': 'glorot_uniform', 'neurons': 128}\n",
      "0.613757 (0.105555) with: {'activation': <function leaky_relu at 0x000001D73A06A840>, 'hidden_layers': 16, 'init_mode': 'he_normal', 'neurons': 32}\n",
      "0.783069 (0.039594) with: {'activation': <function leaky_relu at 0x000001D73A06A840>, 'hidden_layers': 16, 'init_mode': 'he_normal', 'neurons': 64}\n",
      "0.825397 (0.034290) with: {'activation': <function leaky_relu at 0x000001D73A06A840>, 'hidden_layers': 16, 'init_mode': 'he_normal', 'neurons': 128}\n"
     ]
    }
   ],
   "source": [
    "print(\"Scaler = standard\")\n",
    "print(\"Best: %f using %s\" % (std_grid_result.best_score_, std_grid_result.best_params_))\n",
    "means = std_grid_result.cv_results_['mean_test_score']\n",
    "stds = std_grid_result.cv_results_['std_test_score']\n",
    "params = std_grid_result.cv_results_['params']\n",
    "\n",
    "for mean, stdev, param in zip(means, stds, params):\n",
    "    print(\"%f (%f) with: %r\" % (mean, stdev, param))"
   ]
  },
  {
   "cell_type": "code",
   "execution_count": 30,
   "metadata": {},
   "outputs": [
    {
     "name": "stdout",
     "output_type": "stream",
     "text": [
      "Accuracy =  0.8271604938271605\n",
      "Confusion Matrix\n",
      "[[44  5]\n",
      " [ 9 23]]\n",
      "\n",
      "Classification Report\n",
      "              precision    recall  f1-score   support\n",
      "\n",
      "         1.0       0.83      0.90      0.86        49\n",
      "         2.0       0.82      0.72      0.77        32\n",
      "\n",
      "   micro avg       0.83      0.83      0.83        81\n",
      "   macro avg       0.83      0.81      0.81        81\n",
      "weighted avg       0.83      0.83      0.82        81\n",
      "\n"
     ]
    }
   ],
   "source": [
    "pred = minmax_grid.predict(mm_ts_data)\n",
    "\n",
    "accuracy = accuracy_score(pred, ts_ans)\n",
    "ts_ans = ts_ans.astype(float)\n",
    "precision, recall, fbeta_score, support = precision_recall_fscore_support(ts_ans, pred)\n",
    "conf_mat = confusion_matrix(ts_ans, pred)\n",
    "print(\"Accuracy = \", accuracy)\n",
    "print(\"Confusion Matrix\")\n",
    "print(\"{0}\".format(metrics.confusion_matrix(ts_ans, pred)))\n",
    "print(\"\")\n",
    "print(\"Classification Report\")\n",
    "print(metrics.classification_report(ts_ans, pred))"
   ]
  },
  {
   "cell_type": "code",
   "execution_count": 31,
   "metadata": {},
   "outputs": [
    {
     "name": "stdout",
     "output_type": "stream",
     "text": [
      "Accuracy =  0.8024691358024691\n",
      "Confusion Matrix\n",
      "[[44  5]\n",
      " [11 21]]\n",
      "\n",
      "Classification Report\n",
      "              precision    recall  f1-score   support\n",
      "\n",
      "         1.0       0.80      0.90      0.85        49\n",
      "         2.0       0.81      0.66      0.72        32\n",
      "\n",
      "   micro avg       0.80      0.80      0.80        81\n",
      "   macro avg       0.80      0.78      0.79        81\n",
      "weighted avg       0.80      0.80      0.80        81\n",
      "\n"
     ]
    }
   ],
   "source": [
    "pred = std_grid.predict(std_ts_data)\n",
    "\n",
    "accuracy = accuracy_score(pred, ts_ans)\n",
    "ts_ans = ts_ans.astype(float)\n",
    "precision, recall, fbeta_score, support = precision_recall_fscore_support(ts_ans, pred)\n",
    "conf_mat = confusion_matrix(ts_ans, pred)\n",
    "print(\"Accuracy = \", accuracy)\n",
    "print(\"Confusion Matrix\")\n",
    "print(\"{0}\".format(metrics.confusion_matrix(ts_ans, pred)))\n",
    "print(\"\")\n",
    "print(\"Classification Report\")\n",
    "print(metrics.classification_report(ts_ans, pred))"
   ]
  },
  {
   "cell_type": "code",
   "execution_count": 32,
   "metadata": {
    "colab": {},
    "colab_type": "code",
    "id": "MKmXpPoXdidO"
   },
   "outputs": [],
   "source": [
    "# # testbed Version\n",
    "\n",
    "\n",
    "# def create_model(hidden_layers = 1, neurons =1, init_mode = 'uniform', activation = 'elu'):\n",
    "#     model = Sequential()\n",
    "#     model.add(Dense(neurons, input_dim=len(tr_data.T), kernel_initializer=init_mode, activation=activation))\n",
    "\n",
    "#     for i in range(hidden_layers):\n",
    "        \n",
    "#         model.add(Dense(neurons, kernel_initializer=init_mode))\n",
    "#         model.add(BatchNormalization())\n",
    "#         model.add(Activation(activation))\n",
    "#         model.add(Dropout(0.2))\n",
    "  \n",
    "#     if class_count == 2:  \n",
    "#         model.add(Dense(1,activation='sigmoid'))\n",
    "#         model.compile(loss='binary_crossentropy', optimizer='adam', metrics=['accuracy'])\n",
    "#     elif class_count != 2:\n",
    "#         model.add(Dense(class_count-1, activation='softmax'))\n",
    "#         model.compile(loss='sparse_categorical_crossentropy', optimizer='adam', metrics=['accuracy'])\n",
    "\n",
    "#     return model\n",
    "\n",
    "\n",
    "# hidden_layers = [5, 10]\n",
    "# neurons = [32, 64]\n",
    "# activation = ['elu']\n",
    "# init_mode = ['he_uniform']\n",
    "\n",
    "# keras_model = KerasClassifier(build_fn=create_model, epochs=4, batch_size=4)\n",
    "\n",
    "# param_grid = dict(hidden_layers = hidden_layers, neurons = neurons, init_mode = init_mode, activation = activation)\n",
    "# grid = GridSearchCV(estimator=keras_model, param_grid=param_grid, n_jobs= -1, cv=2)"
   ]
  },
  {
   "cell_type": "code",
   "execution_count": null,
   "metadata": {
    "colab": {},
    "colab_type": "code",
    "id": "1pNmP5gQVTsZ"
   },
   "outputs": [],
   "source": []
  }
 ],
 "metadata": {
  "accelerator": "GPU",
  "colab": {
   "collapsed_sections": [],
   "name": "pima_indian_diabetes.ipynb",
   "provenance": [],
   "version": "0.3.2"
  },
  "kernelspec": {
   "display_name": "Python 3",
   "language": "python",
   "name": "python3"
  },
  "language_info": {
   "codemirror_mode": {
    "name": "ipython",
    "version": 3
   },
   "file_extension": ".py",
   "mimetype": "text/x-python",
   "name": "python",
   "nbconvert_exporter": "python",
   "pygments_lexer": "ipython3",
   "version": "3.7.3"
  }
 },
 "nbformat": 4,
 "nbformat_minor": 1
}
