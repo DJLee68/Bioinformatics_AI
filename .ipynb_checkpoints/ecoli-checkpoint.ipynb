{
 "cells": [
  {
   "cell_type": "code",
   "execution_count": 1,
   "metadata": {
    "colab": {},
    "colab_type": "code",
    "id": "mL7zvImn9Fbf"
   },
   "outputs": [],
   "source": [
    "import numpy as np\n",
    "import pandas as pd\n",
    "from sklearn.preprocessing import MinMaxScaler\n",
    "from sklearn.preprocessing import StandardScaler"
   ]
  },
  {
   "cell_type": "code",
   "execution_count": 2,
   "metadata": {
    "colab": {
     "base_uri": "https://localhost:8080/",
     "height": 34
    },
    "colab_type": "code",
    "executionInfo": {
     "elapsed": 877,
     "status": "ok",
     "timestamp": 1562058530713,
     "user": {
      "displayName": "이동재",
      "photoUrl": "",
      "userId": "12052501428717228434"
     },
     "user_tz": -540
    },
    "id": "xqpvhmwe3Y5G",
    "outputId": "d82b6fab-132a-484f-e274-7f805be83209"
   },
   "outputs": [],
   "source": [
    "df_train = pd.read_excel('ecoli.train.xlsx')\n",
    "df_test = pd.read_excel('ecoli.test.xlsx')"
   ]
  },
  {
   "cell_type": "code",
   "execution_count": 3,
   "metadata": {},
   "outputs": [],
   "source": [
    "train = df_train\n",
    "test = df_test"
   ]
  },
  {
   "cell_type": "code",
   "execution_count": 4,
   "metadata": {},
   "outputs": [
    {
     "data": {
      "text/plain": [
       "(193, 8)"
      ]
     },
     "execution_count": 4,
     "metadata": {},
     "output_type": "execute_result"
    }
   ],
   "source": [
    "train.shape"
   ]
  },
  {
   "cell_type": "code",
   "execution_count": 5,
   "metadata": {
    "colab": {
     "base_uri": "https://localhost:8080/",
     "height": 34
    },
    "colab_type": "code",
    "executionInfo": {
     "elapsed": 516,
     "status": "ok",
     "timestamp": 1562058530714,
     "user": {
      "displayName": "이동재",
      "photoUrl": "",
      "userId": "12052501428717228434"
     },
     "user_tz": -540
    },
    "id": "t8pTzpUVcq9z",
    "outputId": "f6d4f95b-36f9-4a7f-eddf-ef67301f6e4c"
   },
   "outputs": [
    {
     "data": {
      "text/plain": [
       "(134, 8)"
      ]
     },
     "execution_count": 5,
     "metadata": {},
     "output_type": "execute_result"
    }
   ],
   "source": [
    "test.shape"
   ]
  },
  {
   "cell_type": "code",
   "execution_count": 6,
   "metadata": {},
   "outputs": [
    {
     "data": {
      "text/html": [
       "<div>\n",
       "<style scoped>\n",
       "    .dataframe tbody tr th:only-of-type {\n",
       "        vertical-align: middle;\n",
       "    }\n",
       "\n",
       "    .dataframe tbody tr th {\n",
       "        vertical-align: top;\n",
       "    }\n",
       "\n",
       "    .dataframe thead th {\n",
       "        text-align: right;\n",
       "    }\n",
       "</style>\n",
       "<table border=\"1\" class=\"dataframe\">\n",
       "  <thead>\n",
       "    <tr style=\"text-align: right;\">\n",
       "      <th></th>\n",
       "      <th>mcg</th>\n",
       "      <th>gvh</th>\n",
       "      <th>lip</th>\n",
       "      <th>asd</th>\n",
       "      <th>aac</th>\n",
       "      <th>alm1</th>\n",
       "      <th>alm2</th>\n",
       "    </tr>\n",
       "  </thead>\n",
       "  <tbody>\n",
       "    <tr>\n",
       "      <th>count</th>\n",
       "      <td>193.000000</td>\n",
       "      <td>193.000000</td>\n",
       "      <td>193.000000</td>\n",
       "      <td>193.0</td>\n",
       "      <td>193.000000</td>\n",
       "      <td>193.000000</td>\n",
       "      <td>193.000000</td>\n",
       "    </tr>\n",
       "    <tr>\n",
       "      <th>mean</th>\n",
       "      <td>0.504041</td>\n",
       "      <td>0.503472</td>\n",
       "      <td>0.482694</td>\n",
       "      <td>0.5</td>\n",
       "      <td>0.500311</td>\n",
       "      <td>0.515648</td>\n",
       "      <td>0.519223</td>\n",
       "    </tr>\n",
       "    <tr>\n",
       "      <th>std</th>\n",
       "      <td>0.202102</td>\n",
       "      <td>0.150938</td>\n",
       "      <td>0.037430</td>\n",
       "      <td>0.0</td>\n",
       "      <td>0.123275</td>\n",
       "      <td>0.218896</td>\n",
       "      <td>0.212622</td>\n",
       "    </tr>\n",
       "    <tr>\n",
       "      <th>min</th>\n",
       "      <td>0.000000</td>\n",
       "      <td>0.160000</td>\n",
       "      <td>0.480000</td>\n",
       "      <td>0.5</td>\n",
       "      <td>0.000000</td>\n",
       "      <td>0.050000</td>\n",
       "      <td>0.140000</td>\n",
       "    </tr>\n",
       "    <tr>\n",
       "      <th>25%</th>\n",
       "      <td>0.350000</td>\n",
       "      <td>0.400000</td>\n",
       "      <td>0.480000</td>\n",
       "      <td>0.5</td>\n",
       "      <td>0.420000</td>\n",
       "      <td>0.330000</td>\n",
       "      <td>0.350000</td>\n",
       "    </tr>\n",
       "    <tr>\n",
       "      <th>50%</th>\n",
       "      <td>0.500000</td>\n",
       "      <td>0.470000</td>\n",
       "      <td>0.480000</td>\n",
       "      <td>0.5</td>\n",
       "      <td>0.500000</td>\n",
       "      <td>0.470000</td>\n",
       "      <td>0.440000</td>\n",
       "    </tr>\n",
       "    <tr>\n",
       "      <th>75%</th>\n",
       "      <td>0.670000</td>\n",
       "      <td>0.570000</td>\n",
       "      <td>0.480000</td>\n",
       "      <td>0.5</td>\n",
       "      <td>0.570000</td>\n",
       "      <td>0.730000</td>\n",
       "      <td>0.740000</td>\n",
       "    </tr>\n",
       "    <tr>\n",
       "      <th>max</th>\n",
       "      <td>0.890000</td>\n",
       "      <td>0.860000</td>\n",
       "      <td>1.000000</td>\n",
       "      <td>0.5</td>\n",
       "      <td>0.880000</td>\n",
       "      <td>1.000000</td>\n",
       "      <td>0.990000</td>\n",
       "    </tr>\n",
       "  </tbody>\n",
       "</table>\n",
       "</div>"
      ],
      "text/plain": [
       "              mcg         gvh         lip    asd         aac        alm1  \\\n",
       "count  193.000000  193.000000  193.000000  193.0  193.000000  193.000000   \n",
       "mean     0.504041    0.503472    0.482694    0.5    0.500311    0.515648   \n",
       "std      0.202102    0.150938    0.037430    0.0    0.123275    0.218896   \n",
       "min      0.000000    0.160000    0.480000    0.5    0.000000    0.050000   \n",
       "25%      0.350000    0.400000    0.480000    0.5    0.420000    0.330000   \n",
       "50%      0.500000    0.470000    0.480000    0.5    0.500000    0.470000   \n",
       "75%      0.670000    0.570000    0.480000    0.5    0.570000    0.730000   \n",
       "max      0.890000    0.860000    1.000000    0.5    0.880000    1.000000   \n",
       "\n",
       "             alm2  \n",
       "count  193.000000  \n",
       "mean     0.519223  \n",
       "std      0.212622  \n",
       "min      0.140000  \n",
       "25%      0.350000  \n",
       "50%      0.440000  \n",
       "75%      0.740000  \n",
       "max      0.990000  "
      ]
     },
     "execution_count": 6,
     "metadata": {},
     "output_type": "execute_result"
    }
   ],
   "source": [
    "train.describe()"
   ]
  },
  {
   "cell_type": "code",
   "execution_count": 7,
   "metadata": {},
   "outputs": [],
   "source": [
    "import seaborn\n",
    "import matplotlib.pyplot as plt\n",
    "\n",
    "def plot_df(df, name):\n",
    "  corr = df[df.columns].corr()\n",
    "  mask = np.zeros_like(corr, dtype=np.bool)\n",
    "  mask[np.triu_indices_from(mask)] = True\n",
    "  plt.figure(figsize=(20, 15))\n",
    "  seaborn.set(font_scale=1.2)\n",
    "  seaborn.heatmap(corr, mask=mask, center=0, annot=True,\n",
    "    square=True, linewidths=3, alpha=0.7)\n",
    "  plt.title(name)"
   ]
  },
  {
   "cell_type": "code",
   "execution_count": 8,
   "metadata": {},
   "outputs": [
    {
     "data": {
      "image/png": "[encoded data removed]",
      "text/plain": [
       "<Figure size 1440x1080 with 2 Axes>"
      ]
     },
     "metadata": {
      "needs_background": "light"
     },
     "output_type": "display_data"
    }
   ],
   "source": [
    "plot_df(train, 'Train')"
   ]
  },
  {
   "cell_type": "code",
   "execution_count": 9,
   "metadata": {
    "colab": {
     "base_uri": "https://localhost:8080/",
     "height": 140
    },
    "colab_type": "code",
    "executionInfo": {
     "elapsed": 569,
     "status": "ok",
     "timestamp": 1562058531066,
     "user": {
      "displayName": "이동재",
      "photoUrl": "",
      "userId": "12052501428717228434"
     },
     "user_tz": -540
    },
    "id": "NSjRKJko-Dcv",
    "outputId": "0e325a9e-d3d5-47a6-9df5-82990cb06120"
   },
   "outputs": [
    {
     "name": "stdout",
     "output_type": "stream",
     "text": [
      "Index(['mcg', 'gvh', 'lip', 'asd', 'aac', 'alm1', 'alm2', 'class'], dtype='object')\n"
     ]
    }
   ],
   "source": [
    "print(train.columns)"
   ]
  },
  {
   "cell_type": "code",
   "execution_count": 10,
   "metadata": {
    "colab": {
     "base_uri": "https://localhost:8080/",
     "height": 34
    },
    "colab_type": "code",
    "executionInfo": {
     "elapsed": 5744,
     "status": "ok",
     "timestamp": 1562058536952,
     "user": {
      "displayName": "이동재",
      "photoUrl": "",
      "userId": "12052501428717228434"
     },
     "user_tz": -540
    },
    "id": "7VLAjJXm-xpB",
    "outputId": "ec729c6a-a9cb-42d4-f774-0e1567be953f"
   },
   "outputs": [
    {
     "name": "stdout",
     "output_type": "stream",
     "text": [
      "Chooese the class: class\n"
     ]
    }
   ],
   "source": [
    "class_name = input(\"Chooese the class: \")"
   ]
  },
  {
   "cell_type": "code",
   "execution_count": 11,
   "metadata": {
    "colab": {},
    "colab_type": "code",
    "id": "DgUHg4ED3uWO"
   },
   "outputs": [],
   "source": [
    "minmax_scaler = MinMaxScaler()\n",
    "standard_scaler = StandardScaler()"
   ]
  },
  {
   "cell_type": "code",
   "execution_count": 12,
   "metadata": {
    "colab": {
     "base_uri": "https://localhost:8080/",
     "height": 34
    },
    "colab_type": "code",
    "executionInfo": {
     "elapsed": 1164,
     "status": "ok",
     "timestamp": 1562058540201,
     "user": {
      "displayName": "이동재",
      "photoUrl": "",
      "userId": "12052501428717228434"
     },
     "user_tz": -540
    },
    "id": "6x0W2mAC-wgw",
    "outputId": "a933e1c2-64cc-449e-cc01-a66b8b1b4a92"
   },
   "outputs": [
    {
     "name": "stdout",
     "output_type": "stream",
     "text": [
      "5\n"
     ]
    }
   ],
   "source": [
    "temp_tr_ans = train[class_name]\n",
    "temp_ts_ans = test[class_name]\n",
    "class_count = len(temp_tr_ans.unique())\n",
    "print(class_count)"
   ]
  },
  {
   "cell_type": "code",
   "execution_count": 13,
   "metadata": {
    "colab": {},
    "colab_type": "code",
    "id": "WnKjCuCfAguo"
   },
   "outputs": [],
   "source": [
    "tr_data = train.drop([class_name], axis=1)\n",
    "ts_data = test.drop([class_name], axis=1)"
   ]
  },
  {
   "cell_type": "code",
   "execution_count": 14,
   "metadata": {
    "colab": {
     "base_uri": "https://localhost:8080/",
     "height": 72
    },
    "colab_type": "code",
    "executionInfo": {
     "elapsed": 723,
     "status": "ok",
     "timestamp": 1562058547225,
     "user": {
      "displayName": "이동재",
      "photoUrl": "",
      "userId": "12052501428717228434"
     },
     "user_tz": -540
    },
    "id": "lmjXkka1Lucy",
    "outputId": "7edc3aec-a0fa-4a33-d09b-1931e2d1fb27"
   },
   "outputs": [],
   "source": [
    "# #결측치 채우기 if 결측치가 0일 경우\n",
    "\n",
    "# from sklearn.impute import SimpleImputer\n",
    "\n",
    "# rep_0 = SimpleImputer(missing_values=0, strategy=\"mean\")\n",
    "\n",
    "# tr_data = rep_0.fit_transform(tr_data)\n",
    "# ts_data = rep_0.fit_transform(ts_data)"
   ]
  },
  {
   "cell_type": "code",
   "execution_count": 15,
   "metadata": {},
   "outputs": [
    {
     "data": {
      "text/plain": [
       "0      cp\n",
       "1      cp\n",
       "2      cp\n",
       "3      cp\n",
       "4      cp\n",
       "5      cp\n",
       "6      cp\n",
       "7      cp\n",
       "8      cp\n",
       "9      cp\n",
       "10     cp\n",
       "11     cp\n",
       "12     cp\n",
       "13     cp\n",
       "14     cp\n",
       "15     cp\n",
       "16     cp\n",
       "17     cp\n",
       "18     cp\n",
       "19     cp\n",
       "20     cp\n",
       "21     cp\n",
       "22     cp\n",
       "23     cp\n",
       "24     cp\n",
       "25     cp\n",
       "26     cp\n",
       "27     cp\n",
       "28     cp\n",
       "29     cp\n",
       "       ..\n",
       "104    om\n",
       "105    om\n",
       "106    om\n",
       "107    om\n",
       "108    om\n",
       "109    om\n",
       "110    om\n",
       "111    om\n",
       "112    om\n",
       "113    om\n",
       "114    pp\n",
       "115    pp\n",
       "116    pp\n",
       "117    pp\n",
       "118    pp\n",
       "119    pp\n",
       "120    pp\n",
       "121    pp\n",
       "122    pp\n",
       "123    pp\n",
       "124    pp\n",
       "125    pp\n",
       "126    pp\n",
       "127    pp\n",
       "128    pp\n",
       "129    pp\n",
       "130    pp\n",
       "131    pp\n",
       "132    pp\n",
       "133    pp\n",
       "Name: class, Length: 134, dtype: object"
      ]
     },
     "execution_count": 15,
     "metadata": {},
     "output_type": "execute_result"
    }
   ],
   "source": [
    "temp_ts_ans"
   ]
  },
  {
   "cell_type": "code",
   "execution_count": 16,
   "metadata": {
    "colab": {},
    "colab_type": "code",
    "id": "Z_Yw0W7eAmgw"
   },
   "outputs": [],
   "source": [
    "mm_tr_data = minmax_scaler.fit_transform(tr_data)\n",
    "mm_ts_data = minmax_scaler.transform(ts_data)\n",
    "std_tr_data = standard_scaler.fit_transform(tr_data)\n",
    "std_ts_data = standard_scaler.transform(ts_data)\n",
    "tr_ans, _ = pd.factorize(temp_tr_ans, sort=True)\n",
    "ts_ans, _ = pd.factorize(temp_ts_ans, sort=True)"
   ]
  },
  {
   "cell_type": "code",
   "execution_count": 17,
   "metadata": {
    "colab": {
     "base_uri": "https://localhost:8080/",
     "height": 386
    },
    "colab_type": "code",
    "executionInfo": {
     "elapsed": 712,
     "status": "ok",
     "timestamp": 1562058552746,
     "user": {
      "displayName": "이동재",
      "photoUrl": "",
      "userId": "12052501428717228434"
     },
     "user_tz": -540
    },
    "id": "Rz4XG4MMOHGu",
    "outputId": "70f5c169-28bc-4010-ae83-14209e83d278"
   },
   "outputs": [
    {
     "data": {
      "text/plain": [
       "array([0, 0, 0, 0, 0, 0, 0, 0, 0, 0, 0, 0, 0, 0, 0, 0, 0, 0, 0, 0, 0, 0,\n",
       "       0, 0, 0, 0, 0, 0, 0, 0, 0, 0, 0, 0, 0, 0, 0, 0, 0, 0, 0, 0, 0, 0,\n",
       "       0, 0, 0, 0, 0, 0, 0, 0, 0, 0, 0, 0, 0, 0, 0, 0, 0, 0, 0, 0, 0, 0,\n",
       "       0, 0, 0, 0, 0, 0, 0, 0, 0, 0, 0, 0, 0, 1, 1, 1, 1, 1, 1, 1, 1, 1,\n",
       "       1, 1, 1, 1, 1, 1, 1, 1, 1, 1, 1, 1, 1, 1, 1, 1, 1, 1, 1, 1, 1, 1,\n",
       "       1, 1, 1, 1, 1, 1, 1, 1, 1, 1, 1, 1, 1, 1, 1, 1, 1, 2, 2, 2, 2, 2,\n",
       "       2, 2, 2, 2, 2, 2, 2, 2, 2, 2, 2, 2, 2, 2, 2, 2, 2, 2, 2, 3, 3, 3,\n",
       "       3, 3, 3, 3, 3, 3, 3, 4, 4, 4, 4, 4, 4, 4, 4, 4, 4, 4, 4, 4, 4, 4,\n",
       "       4, 4, 4, 4, 4, 4, 4, 4, 4, 4, 4, 4, 4, 4, 4, 4, 4], dtype=int64)"
      ]
     },
     "execution_count": 17,
     "metadata": {},
     "output_type": "execute_result"
    }
   ],
   "source": [
    "tr_ans"
   ]
  },
  {
   "cell_type": "code",
   "execution_count": 18,
   "metadata": {},
   "outputs": [
    {
     "data": {
      "text/plain": [
       "array([0, 0, 0, 0, 0, 0, 0, 0, 0, 0, 0, 0, 0, 0, 0, 0, 0, 0, 0, 0, 0, 0,\n",
       "       0, 0, 0, 0, 0, 0, 0, 0, 0, 0, 0, 0, 0, 0, 0, 0, 0, 0, 0, 0, 0, 0,\n",
       "       0, 0, 0, 0, 0, 0, 0, 0, 0, 0, 0, 0, 0, 0, 0, 0, 0, 0, 0, 0, 1, 1,\n",
       "       1, 1, 1, 1, 1, 1, 1, 1, 1, 1, 1, 1, 1, 1, 1, 1, 1, 1, 1, 1, 1, 1,\n",
       "       1, 1, 1, 1, 1, 2, 2, 2, 2, 2, 2, 2, 2, 2, 2, 2, 3, 3, 3, 3, 3, 3,\n",
       "       3, 3, 3, 3, 4, 4, 4, 4, 4, 4, 4, 4, 4, 4, 4, 4, 4, 4, 4, 4, 4, 4,\n",
       "       4, 4], dtype=int64)"
      ]
     },
     "execution_count": 18,
     "metadata": {},
     "output_type": "execute_result"
    }
   ],
   "source": [
    "ts_ans"
   ]
  },
  {
   "cell_type": "code",
   "execution_count": 19,
   "metadata": {
    "colab": {},
    "colab_type": "code",
    "id": "F0_cae6XOksE"
   },
   "outputs": [],
   "source": [
    "import tensorflow as tf\n",
    "from sklearn.model_selection import GridSearchCV\n",
    "from sklearn.model_selection import RandomizedSearchCV\n",
    "from sklearn.model_selection import ParameterGrid\n",
    "from sklearn.metrics import precision_score, recall_score, f1_score, accuracy_score\n",
    "from tensorflow.keras.wrappers.scikit_learn import KerasClassifier\n",
    "from tensorflow.keras.models import Sequential\n",
    "from tensorflow.keras.layers import Dense\n",
    "from tensorflow.keras.layers import Activation\n",
    "from tensorflow.keras.layers import BatchNormalization\n",
    "from tensorflow.keras.layers import Dropout\n",
    "from sklearn import metrics\n",
    "from tensorflow.keras.regularizers import l2\n"
   ]
  },
  {
   "cell_type": "code",
   "execution_count": 20,
   "metadata": {
    "colab": {},
    "colab_type": "code",
    "id": "K8FW6kBo7uPs"
   },
   "outputs": [],
   "source": [
    "from sklearn.metrics import precision_recall_fscore_support\n",
    "from sklearn.metrics import confusion_matrix"
   ]
  },
  {
   "cell_type": "code",
   "execution_count": 21,
   "metadata": {
    "colab": {},
    "colab_type": "code",
    "id": "CHrsnp0Tq8CA"
   },
   "outputs": [],
   "source": [
    "# real Version\n",
    "\n",
    "\n",
    "def create_model(hidden_layers = 1, neurons =1, init_mode = 'uniform', \n",
    "                 activation = 'elu', kernel_regularizer=l2(0.001)):\n",
    "  model = Sequential()\n",
    "  model.add(Dense(neurons, input_dim=len(mm_tr_data.T), kernel_initializer=init_mode, activation=activation))\n",
    "  for i in range(hidden_layers):\n",
    "    \n",
    "    model.add(Dense(neurons, kernel_initializer=init_mode, kernel_regularizer=kernel_regularizer))\n",
    "    model.add(BatchNormalization())\n",
    "    model.add(Activation(activation))\n",
    "    model.add(Dropout(0.2))\n",
    "  \n",
    "  if class_count == 2:  \n",
    "    model.add(Dense(1,activation='sigmoid'))\n",
    "    model.compile(loss='binary_crossentropy', optimizer='adam', metrics=['accuracy'])\n",
    "  elif class_count != 2:\n",
    "    model.add(Dense(class_count, activation='softmax'))\n",
    "    model.compile(loss='sparse_categorical_crossentropy', optimizer='adam', metrics=['accuracy'])\n",
    "  return model"
   ]
  },
  {
   "cell_type": "code",
   "execution_count": 22,
   "metadata": {},
   "outputs": [],
   "source": [
    "keras_model = KerasClassifier(build_fn=create_model, epochs=64, batch_size=16)"
   ]
  },
  {
   "cell_type": "code",
   "execution_count": 23,
   "metadata": {},
   "outputs": [],
   "source": [
    "leaky_relu = tf.nn.leaky_relu\n",
    "hidden_layers = [4,8,12]\n",
    "neurons = [32, 64, 128]\n",
    "activation = ['elu', leaky_relu]\n",
    "init_mode = ['glorot_uniform', 'he_normal']"
   ]
  },
  {
   "cell_type": "code",
   "execution_count": 24,
   "metadata": {},
   "outputs": [],
   "source": [
    "param_grid = dict(hidden_layers = hidden_layers, neurons = neurons, init_mode = init_mode, activation = activation)\n",
    "minmax_grid = GridSearchCV(estimator=keras_model, param_grid=param_grid, n_jobs= -1, cv=3)\n",
    "std_grid = GridSearchCV(estimator=keras_model, param_grid=param_grid, n_jobs= -1, cv=3)"
   ]
  },
  {
   "cell_type": "code",
   "execution_count": 25,
   "metadata": {},
   "outputs": [],
   "source": [
    "import warnings\n",
    "warnings.filterwarnings(\"ignore\")"
   ]
  },
  {
   "cell_type": "code",
   "execution_count": 26,
   "metadata": {
    "scrolled": false
   },
   "outputs": [
    {
     "name": "stdout",
     "output_type": "stream",
     "text": [
      "WARNING:tensorflow:From C:\\Users\\CAU\\Anaconda3\\envs\\tensorflow\\lib\\site-packages\\tensorflow\\python\\ops\\resource_variable_ops.py:435: colocate_with (from tensorflow.python.framework.ops) is deprecated and will be removed in a future version.\n",
      "Instructions for updating:\n",
      "Colocations handled automatically by placer.\n",
      "WARNING:tensorflow:From C:\\Users\\CAU\\Anaconda3\\envs\\tensorflow\\lib\\site-packages\\tensorflow\\python\\keras\\layers\\core.py:143: calling dropout (from tensorflow.python.ops.nn_ops) with keep_prob is deprecated and will be removed in a future version.\n",
      "Instructions for updating:\n",
      "Please use `rate` instead of `keep_prob`. Rate should be set to `rate = 1 - keep_prob`.\n",
      "WARNING:tensorflow:From C:\\Users\\CAU\\Anaconda3\\envs\\tensorflow\\lib\\site-packages\\tensorflow\\python\\ops\\math_ops.py:3066: to_int32 (from tensorflow.python.ops.math_ops) is deprecated and will be removed in a future version.\n",
      "Instructions for updating:\n",
      "Use tf.cast instead.\n",
      "Epoch 1/64\n",
      "193/193 [==============================] - 3s 16ms/sample - loss: 4.8962 - acc: 0.2953\n",
      "Epoch 2/64\n",
      "193/193 [==============================] - 0s 483us/sample - loss: 4.1875 - acc: 0.5699\n",
      "Epoch 3/64\n",
      "193/193 [==============================] - 0s 608us/sample - loss: 3.9744 - acc: 0.6891\n",
      "Epoch 4/64\n",
      "193/193 [==============================] - 0s 551us/sample - loss: 3.9407 - acc: 0.6839\n",
      "Epoch 5/64\n",
      "193/193 [==============================] - 0s 509us/sample - loss: 3.7487 - acc: 0.7358\n",
      "Epoch 6/64\n",
      "193/193 [==============================] - 0s 509us/sample - loss: 3.7517 - acc: 0.7254\n",
      "Epoch 7/64\n",
      "193/193 [==============================] - 0s 499us/sample - loss: 3.6092 - acc: 0.7979\n",
      "Epoch 8/64\n",
      "193/193 [==============================] - 0s 499us/sample - loss: 3.6118 - acc: 0.7824\n",
      "Epoch 9/64\n",
      "193/193 [==============================] - 0s 608us/sample - loss: 3.6385 - acc: 0.7565\n",
      "Epoch 10/64\n",
      "193/193 [==============================] - 0s 540us/sample - loss: 3.7555 - acc: 0.7254\n",
      "Epoch 11/64\n",
      "193/193 [==============================] - 0s 520us/sample - loss: 3.4952 - acc: 0.8238\n",
      "Epoch 12/64\n",
      "193/193 [==============================] - 0s 514us/sample - loss: 3.5431 - acc: 0.7824\n",
      "Epoch 13/64\n",
      "193/193 [==============================] - 0s 504us/sample - loss: 3.6006 - acc: 0.7979\n",
      "Epoch 14/64\n",
      "193/193 [==============================] - 0s 520us/sample - loss: 3.5283 - acc: 0.7720\n",
      "Epoch 15/64\n",
      "193/193 [==============================] - 0s 520us/sample - loss: 3.4753 - acc: 0.7824\n",
      "Epoch 16/64\n",
      "193/193 [==============================] - 0s 520us/sample - loss: 3.5350 - acc: 0.7565\n",
      "Epoch 17/64\n",
      "193/193 [==============================] - 0s 520us/sample - loss: 3.4557 - acc: 0.8135\n",
      "Epoch 18/64\n",
      "193/193 [==============================] - 0s 488us/sample - loss: 3.4906 - acc: 0.7876\n",
      "Epoch 19/64\n",
      "193/193 [==============================] - 0s 504us/sample - loss: 3.4268 - acc: 0.8031\n",
      "Epoch 20/64\n",
      "193/193 [==============================] - 0s 514us/sample - loss: 3.3671 - acc: 0.7617\n",
      "Epoch 21/64\n",
      "193/193 [==============================] - 0s 483us/sample - loss: 3.3363 - acc: 0.8083\n",
      "Epoch 22/64\n",
      "193/193 [==============================] - 0s 504us/sample - loss: 3.3490 - acc: 0.8238\n",
      "Epoch 23/64\n",
      "193/193 [==============================] - 0s 514us/sample - loss: 3.2905 - acc: 0.8187\n",
      "Epoch 24/64\n",
      "193/193 [==============================] - 0s 535us/sample - loss: 3.4093 - acc: 0.7565\n",
      "Epoch 25/64\n",
      "193/193 [==============================] - 0s 520us/sample - loss: 3.2881 - acc: 0.8083\n",
      "Epoch 26/64\n",
      "193/193 [==============================] - 0s 509us/sample - loss: 3.3419 - acc: 0.7824\n",
      "Epoch 27/64\n",
      "193/193 [==============================] - 0s 520us/sample - loss: 3.3210 - acc: 0.7824\n",
      "Epoch 28/64\n",
      "193/193 [==============================] - 0s 514us/sample - loss: 3.3504 - acc: 0.8238\n",
      "Epoch 29/64\n",
      "193/193 [==============================] - 0s 530us/sample - loss: 3.2172 - acc: 0.8238\n",
      "Epoch 30/64\n",
      "193/193 [==============================] - 0s 514us/sample - loss: 3.2256 - acc: 0.8187\n",
      "Epoch 31/64\n",
      "193/193 [==============================] - 0s 494us/sample - loss: 3.3349 - acc: 0.7979\n",
      "Epoch 32/64\n",
      "193/193 [==============================] - 0s 520us/sample - loss: 3.2588 - acc: 0.7979\n",
      "Epoch 33/64\n",
      "193/193 [==============================] - 0s 514us/sample - loss: 3.2588 - acc: 0.7668\n",
      "Epoch 34/64\n",
      "193/193 [==============================] - 0s 520us/sample - loss: 3.2765 - acc: 0.8083\n",
      "Epoch 35/64\n",
      "193/193 [==============================] - 0s 504us/sample - loss: 3.2003 - acc: 0.7824\n",
      "Epoch 36/64\n",
      "193/193 [==============================] - 0s 530us/sample - loss: 3.1911 - acc: 0.8083\n",
      "Epoch 37/64\n",
      "193/193 [==============================] - 0s 514us/sample - loss: 3.1160 - acc: 0.8394\n",
      "Epoch 38/64\n",
      "193/193 [==============================] - 0s 530us/sample - loss: 3.0744 - acc: 0.8187\n",
      "Epoch 39/64\n",
      "193/193 [==============================] - 0s 639us/sample - loss: 3.0969 - acc: 0.8031\n",
      "Epoch 40/64\n",
      "193/193 [==============================] - 0s 545us/sample - loss: 3.1945 - acc: 0.7617\n",
      "Epoch 41/64\n",
      "193/193 [==============================] - 0s 509us/sample - loss: 3.0593 - acc: 0.8394\n",
      "Epoch 42/64\n",
      "193/193 [==============================] - 0s 504us/sample - loss: 3.0261 - acc: 0.8549\n",
      "Epoch 43/64\n",
      "193/193 [==============================] - 0s 520us/sample - loss: 3.0272 - acc: 0.8083\n",
      "Epoch 44/64\n",
      "193/193 [==============================] - 0s 525us/sample - loss: 2.9833 - acc: 0.8601\n",
      "Epoch 45/64\n",
      "193/193 [==============================] - 0s 514us/sample - loss: 2.8771 - acc: 0.8808\n",
      "Epoch 46/64\n",
      "193/193 [==============================] - 0s 519us/sample - loss: 3.1207 - acc: 0.8083\n",
      "Epoch 47/64\n",
      "193/193 [==============================] - 0s 535us/sample - loss: 2.9312 - acc: 0.8497\n",
      "Epoch 48/64\n",
      "193/193 [==============================] - 0s 530us/sample - loss: 2.8900 - acc: 0.8135\n",
      "Epoch 49/64\n",
      "193/193 [==============================] - 0s 545us/sample - loss: 2.8381 - acc: 0.8705\n",
      "Epoch 50/64\n",
      "193/193 [==============================] - 0s 494us/sample - loss: 2.7924 - acc: 0.8756\n",
      "Epoch 51/64\n",
      "193/193 [==============================] - 0s 520us/sample - loss: 2.9753 - acc: 0.7720\n",
      "Epoch 52/64\n",
      "193/193 [==============================] - 0s 530us/sample - loss: 2.8445 - acc: 0.8497\n",
      "Epoch 53/64\n",
      "193/193 [==============================] - 0s 530us/sample - loss: 2.8852 - acc: 0.8290\n",
      "Epoch 54/64\n",
      "193/193 [==============================] - 0s 540us/sample - loss: 2.8198 - acc: 0.8497\n",
      "Epoch 55/64\n",
      "193/193 [==============================] - 0s 509us/sample - loss: 2.8233 - acc: 0.8342\n",
      "Epoch 56/64\n",
      "193/193 [==============================] - 0s 535us/sample - loss: 2.8233 - acc: 0.8290\n",
      "Epoch 57/64\n",
      "193/193 [==============================] - 0s 514us/sample - loss: 2.7886 - acc: 0.8394\n",
      "Epoch 58/64\n",
      "193/193 [==============================] - 0s 551us/sample - loss: 2.8378 - acc: 0.8135\n",
      "Epoch 59/64\n",
      "193/193 [==============================] - 0s 530us/sample - loss: 2.7949 - acc: 0.8083\n",
      "Epoch 60/64\n",
      "193/193 [==============================] - 0s 525us/sample - loss: 2.6757 - acc: 0.8497\n",
      "Epoch 61/64\n",
      "193/193 [==============================] - 0s 494us/sample - loss: 2.7413 - acc: 0.8031\n",
      "Epoch 62/64\n",
      "193/193 [==============================] - 0s 603us/sample - loss: 2.6798 - acc: 0.8446\n",
      "Epoch 63/64\n",
      "193/193 [==============================] - 0s 530us/sample - loss: 2.7528 - acc: 0.8135\n",
      "Epoch 64/64\n",
      "193/193 [==============================] - 0s 551us/sample - loss: 2.5427 - acc: 0.8860\n"
     ]
    }
   ],
   "source": [
    "minmax_grid_result = minmax_grid.fit(mm_tr_data, tr_ans)"
   ]
  },
  {
   "cell_type": "code",
   "execution_count": 27,
   "metadata": {},
   "outputs": [
    {
     "name": "stdout",
     "output_type": "stream",
     "text": [
      "Epoch 1/64\n",
      "193/193 [==============================] - 3s 16ms/sample - loss: 4.9879 - acc: 0.2383\n",
      "Epoch 2/64\n",
      "193/193 [==============================] - 0s 478us/sample - loss: 4.6804 - acc: 0.3575\n",
      "Epoch 3/64\n",
      "193/193 [==============================] - 0s 462us/sample - loss: 4.4341 - acc: 0.4767\n",
      "Epoch 4/64\n",
      "193/193 [==============================] - 0s 462us/sample - loss: 4.2306 - acc: 0.5959\n",
      "Epoch 5/64\n",
      "193/193 [==============================] - 0s 478us/sample - loss: 4.1876 - acc: 0.5907\n",
      "Epoch 6/64\n",
      "193/193 [==============================] - 0s 452us/sample - loss: 3.9999 - acc: 0.6684\n",
      "Epoch 7/64\n",
      "193/193 [==============================] - 0s 473us/sample - loss: 3.8230 - acc: 0.7202\n",
      "Epoch 8/64\n",
      "193/193 [==============================] - 0s 457us/sample - loss: 3.8529 - acc: 0.6788\n",
      "Epoch 9/64\n",
      "193/193 [==============================] - 0s 452us/sample - loss: 3.7203 - acc: 0.7668\n",
      "Epoch 10/64\n",
      "193/193 [==============================] - 0s 494us/sample - loss: 3.7998 - acc: 0.6943\n",
      "Epoch 11/64\n",
      "193/193 [==============================] - 0s 551us/sample - loss: 3.6803 - acc: 0.7772\n",
      "Epoch 12/64\n",
      "193/193 [==============================] - 0s 514us/sample - loss: 3.7419 - acc: 0.7513\n",
      "Epoch 13/64\n",
      "193/193 [==============================] - 0s 520us/sample - loss: 3.6258 - acc: 0.7358\n",
      "Epoch 14/64\n",
      "193/193 [==============================] - 0s 488us/sample - loss: 3.6820 - acc: 0.7202\n",
      "Epoch 15/64\n",
      "193/193 [==============================] - 0s 556us/sample - loss: 3.7119 - acc: 0.7358\n",
      "Epoch 16/64\n",
      "193/193 [==============================] - 0s 457us/sample - loss: 3.5989 - acc: 0.8031\n",
      "Epoch 17/64\n",
      "193/193 [==============================] - 0s 478us/sample - loss: 3.5608 - acc: 0.7979\n",
      "Epoch 18/64\n",
      "193/193 [==============================] - 0s 457us/sample - loss: 3.6741 - acc: 0.7513\n",
      "Epoch 19/64\n",
      "193/193 [==============================] - 0s 483us/sample - loss: 3.4852 - acc: 0.8135\n",
      "Epoch 20/64\n",
      "193/193 [==============================] - 0s 478us/sample - loss: 3.5319 - acc: 0.8238\n",
      "Epoch 21/64\n",
      "193/193 [==============================] - 0s 473us/sample - loss: 3.5246 - acc: 0.7409\n",
      "Epoch 22/64\n",
      "193/193 [==============================] - 0s 478us/sample - loss: 3.5617 - acc: 0.7668\n",
      "Epoch 23/64\n",
      "193/193 [==============================] - 0s 468us/sample - loss: 3.3717 - acc: 0.7824\n",
      "Epoch 24/64\n",
      "193/193 [==============================] - 0s 473us/sample - loss: 3.4023 - acc: 0.7876\n",
      "Epoch 25/64\n",
      "193/193 [==============================] - 0s 478us/sample - loss: 3.3822 - acc: 0.8446\n",
      "Epoch 26/64\n",
      "193/193 [==============================] - 0s 457us/sample - loss: 3.4930 - acc: 0.7668\n",
      "Epoch 27/64\n",
      "193/193 [==============================] - 0s 452us/sample - loss: 3.4064 - acc: 0.8031\n",
      "Epoch 28/64\n",
      "193/193 [==============================] - 0s 473us/sample - loss: 3.3521 - acc: 0.8238\n",
      "Epoch 29/64\n",
      "193/193 [==============================] - 0s 494us/sample - loss: 3.3007 - acc: 0.8238\n",
      "Epoch 30/64\n",
      "193/193 [==============================] - 0s 457us/sample - loss: 3.2519 - acc: 0.8394\n",
      "Epoch 31/64\n",
      "193/193 [==============================] - 0s 483us/sample - loss: 3.2419 - acc: 0.8187\n",
      "Epoch 32/64\n",
      "193/193 [==============================] - 0s 462us/sample - loss: 3.1980 - acc: 0.8497\n",
      "Epoch 33/64\n",
      "193/193 [==============================] - 0s 457us/sample - loss: 3.3065 - acc: 0.7876\n",
      "Epoch 34/64\n",
      "193/193 [==============================] - 0s 468us/sample - loss: 3.1846 - acc: 0.8497\n",
      "Epoch 35/64\n",
      "193/193 [==============================] - 0s 509us/sample - loss: 3.2209 - acc: 0.8705\n",
      "Epoch 36/64\n",
      "193/193 [==============================] - 0s 530us/sample - loss: 3.1308 - acc: 0.8860\n",
      "Epoch 37/64\n",
      "193/193 [==============================] - 0s 535us/sample - loss: 3.1879 - acc: 0.8446\n",
      "Epoch 38/64\n",
      "193/193 [==============================] - 0s 525us/sample - loss: 3.1718 - acc: 0.8342\n",
      "Epoch 39/64\n",
      "193/193 [==============================] - 0s 514us/sample - loss: 3.2396 - acc: 0.8238\n",
      "Epoch 40/64\n",
      "193/193 [==============================] - 0s 525us/sample - loss: 3.2131 - acc: 0.8342\n",
      "Epoch 41/64\n",
      "193/193 [==============================] - 0s 468us/sample - loss: 3.1524 - acc: 0.8342\n",
      "Epoch 42/64\n",
      "193/193 [==============================] - 0s 488us/sample - loss: 3.1393 - acc: 0.8342\n",
      "Epoch 43/64\n",
      "193/193 [==============================] - 0s 457us/sample - loss: 3.3275 - acc: 0.8031\n",
      "Epoch 44/64\n",
      "193/193 [==============================] - 0s 488us/sample - loss: 3.0851 - acc: 0.8705\n",
      "Epoch 45/64\n",
      "193/193 [==============================] - 0s 462us/sample - loss: 3.0954 - acc: 0.8135\n",
      "Epoch 46/64\n",
      "193/193 [==============================] - 0s 452us/sample - loss: 3.0834 - acc: 0.8653\n",
      "Epoch 47/64\n",
      "193/193 [==============================] - 0s 551us/sample - loss: 2.9525 - acc: 0.9016\n",
      "Epoch 48/64\n",
      "193/193 [==============================] - 0s 504us/sample - loss: 3.1134 - acc: 0.8290\n",
      "Epoch 49/64\n",
      "193/193 [==============================] - 0s 452us/sample - loss: 2.9982 - acc: 0.8290\n",
      "Epoch 50/64\n",
      "193/193 [==============================] - 0s 462us/sample - loss: 3.0373 - acc: 0.8446\n",
      "Epoch 51/64\n",
      "193/193 [==============================] - 0s 462us/sample - loss: 2.9836 - acc: 0.8705\n",
      "Epoch 52/64\n",
      "193/193 [==============================] - 0s 457us/sample - loss: 2.9702 - acc: 0.8446\n",
      "Epoch 53/64\n",
      "193/193 [==============================] - 0s 457us/sample - loss: 2.9958 - acc: 0.8549\n",
      "Epoch 54/64\n",
      "193/193 [==============================] - 0s 457us/sample - loss: 3.0225 - acc: 0.8549\n",
      "Epoch 55/64\n",
      "193/193 [==============================] - 0s 452us/sample - loss: 2.9045 - acc: 0.8860\n",
      "Epoch 56/64\n",
      "193/193 [==============================] - 0s 530us/sample - loss: 2.9281 - acc: 0.8549\n",
      "Epoch 57/64\n",
      "193/193 [==============================] - 0s 457us/sample - loss: 2.9812 - acc: 0.8549\n",
      "Epoch 58/64\n",
      "193/193 [==============================] - 0s 473us/sample - loss: 2.9613 - acc: 0.8135\n",
      "Epoch 59/64\n",
      "193/193 [==============================] - 0s 452us/sample - loss: 2.8669 - acc: 0.8653\n",
      "Epoch 60/64\n",
      "193/193 [==============================] - 0s 457us/sample - loss: 2.8364 - acc: 0.8342\n",
      "Epoch 61/64\n",
      "193/193 [==============================] - 0s 488us/sample - loss: 2.9698 - acc: 0.7772\n",
      "Epoch 62/64\n",
      "193/193 [==============================] - 0s 462us/sample - loss: 2.7858 - acc: 0.8860\n",
      "Epoch 63/64\n",
      "193/193 [==============================] - 0s 468us/sample - loss: 2.7790 - acc: 0.8912\n",
      "Epoch 64/64\n",
      "193/193 [==============================] - 0s 462us/sample - loss: 2.8284 - acc: 0.8497\n"
     ]
    }
   ],
   "source": [
    "std_grid_result = std_grid.fit(std_tr_data, tr_ans)"
   ]
  },
  {
   "cell_type": "code",
   "execution_count": 28,
   "metadata": {},
   "outputs": [
    {
     "name": "stdout",
     "output_type": "stream",
     "text": [
      "Scaler = minmax\n",
      "Best: 0.606218 using {'activation': 'elu', 'hidden_layers': 12, 'init_mode': 'he_normal', 'neurons': 128}\n",
      "0.569948 (0.401485) with: {'activation': 'elu', 'hidden_layers': 4, 'init_mode': 'glorot_uniform', 'neurons': 32}\n",
      "0.492228 (0.346881) with: {'activation': 'elu', 'hidden_layers': 4, 'init_mode': 'glorot_uniform', 'neurons': 64}\n",
      "0.533679 (0.376075) with: {'activation': 'elu', 'hidden_layers': 4, 'init_mode': 'glorot_uniform', 'neurons': 128}\n",
      "0.518135 (0.377494) with: {'activation': 'elu', 'hidden_layers': 4, 'init_mode': 'he_normal', 'neurons': 32}\n",
      "0.564767 (0.405190) with: {'activation': 'elu', 'hidden_layers': 4, 'init_mode': 'he_normal', 'neurons': 64}\n",
      "0.564767 (0.397801) with: {'activation': 'elu', 'hidden_layers': 4, 'init_mode': 'he_normal', 'neurons': 128}\n",
      "0.575130 (0.406798) with: {'activation': 'elu', 'hidden_layers': 8, 'init_mode': 'glorot_uniform', 'neurons': 32}\n",
      "0.512953 (0.251256) with: {'activation': 'elu', 'hidden_layers': 8, 'init_mode': 'glorot_uniform', 'neurons': 64}\n",
      "0.512953 (0.363457) with: {'activation': 'elu', 'hidden_layers': 8, 'init_mode': 'glorot_uniform', 'neurons': 128}\n",
      "0.590674 (0.420040) with: {'activation': 'elu', 'hidden_layers': 8, 'init_mode': 'he_normal', 'neurons': 32}\n",
      "0.533679 (0.376161) with: {'activation': 'elu', 'hidden_layers': 8, 'init_mode': 'he_normal', 'neurons': 64}\n",
      "0.559585 (0.396756) with: {'activation': 'elu', 'hidden_layers': 8, 'init_mode': 'he_normal', 'neurons': 128}\n",
      "0.559585 (0.394659) with: {'activation': 'elu', 'hidden_layers': 12, 'init_mode': 'glorot_uniform', 'neurons': 32}\n",
      "0.564767 (0.398034) with: {'activation': 'elu', 'hidden_layers': 12, 'init_mode': 'glorot_uniform', 'neurons': 64}\n",
      "0.585492 (0.401883) with: {'activation': 'elu', 'hidden_layers': 12, 'init_mode': 'glorot_uniform', 'neurons': 128}\n",
      "0.595855 (0.419697) with: {'activation': 'elu', 'hidden_layers': 12, 'init_mode': 'he_normal', 'neurons': 32}\n",
      "0.554404 (0.393919) with: {'activation': 'elu', 'hidden_layers': 12, 'init_mode': 'he_normal', 'neurons': 64}\n",
      "0.606218 (0.285824) with: {'activation': 'elu', 'hidden_layers': 12, 'init_mode': 'he_normal', 'neurons': 128}\n",
      "0.518135 (0.365036) with: {'activation': <function leaky_relu at 0x0000022412C442F0>, 'hidden_layers': 4, 'init_mode': 'glorot_uniform', 'neurons': 32}\n",
      "0.512953 (0.362299) with: {'activation': <function leaky_relu at 0x0000022412C442F0>, 'hidden_layers': 4, 'init_mode': 'glorot_uniform', 'neurons': 64}\n",
      "0.450777 (0.332688) with: {'activation': <function leaky_relu at 0x0000022412C442F0>, 'hidden_layers': 4, 'init_mode': 'glorot_uniform', 'neurons': 128}\n",
      "0.569948 (0.401856) with: {'activation': <function leaky_relu at 0x0000022412C442F0>, 'hidden_layers': 4, 'init_mode': 'he_normal', 'neurons': 32}\n",
      "0.512953 (0.355160) with: {'activation': <function leaky_relu at 0x0000022412C442F0>, 'hidden_layers': 4, 'init_mode': 'he_normal', 'neurons': 64}\n",
      "0.575130 (0.305033) with: {'activation': <function leaky_relu at 0x0000022412C442F0>, 'hidden_layers': 4, 'init_mode': 'he_normal', 'neurons': 128}\n",
      "0.533679 (0.383268) with: {'activation': <function leaky_relu at 0x0000022412C442F0>, 'hidden_layers': 8, 'init_mode': 'glorot_uniform', 'neurons': 32}\n",
      "0.523316 (0.376092) with: {'activation': <function leaky_relu at 0x0000022412C442F0>, 'hidden_layers': 8, 'init_mode': 'glorot_uniform', 'neurons': 64}\n",
      "0.512953 (0.362299) with: {'activation': <function leaky_relu at 0x0000022412C442F0>, 'hidden_layers': 8, 'init_mode': 'glorot_uniform', 'neurons': 128}\n",
      "0.538860 (0.386125) with: {'activation': <function leaky_relu at 0x0000022412C442F0>, 'hidden_layers': 8, 'init_mode': 'he_normal', 'neurons': 32}\n",
      "0.544041 (0.383452) with: {'activation': <function leaky_relu at 0x0000022412C442F0>, 'hidden_layers': 8, 'init_mode': 'he_normal', 'neurons': 64}\n",
      "0.575130 (0.372621) with: {'activation': <function leaky_relu at 0x0000022412C442F0>, 'hidden_layers': 8, 'init_mode': 'he_normal', 'neurons': 128}\n",
      "0.518135 (0.376776) with: {'activation': <function leaky_relu at 0x0000022412C442F0>, 'hidden_layers': 12, 'init_mode': 'glorot_uniform', 'neurons': 32}\n",
      "0.481865 (0.361689) with: {'activation': <function leaky_relu at 0x0000022412C442F0>, 'hidden_layers': 12, 'init_mode': 'glorot_uniform', 'neurons': 64}\n",
      "0.507772 (0.367367) with: {'activation': <function leaky_relu at 0x0000022412C442F0>, 'hidden_layers': 12, 'init_mode': 'glorot_uniform', 'neurons': 128}\n",
      "0.445596 (0.327336) with: {'activation': <function leaky_relu at 0x0000022412C442F0>, 'hidden_layers': 12, 'init_mode': 'he_normal', 'neurons': 32}\n",
      "0.538860 (0.381995) with: {'activation': <function leaky_relu at 0x0000022412C442F0>, 'hidden_layers': 12, 'init_mode': 'he_normal', 'neurons': 64}\n",
      "0.569948 (0.402772) with: {'activation': <function leaky_relu at 0x0000022412C442F0>, 'hidden_layers': 12, 'init_mode': 'he_normal', 'neurons': 128}\n"
     ]
    }
   ],
   "source": [
    "print(\"Scaler = minmax\")\n",
    "print(\"Best: %f using %s\" % (minmax_grid_result.best_score_, minmax_grid_result.best_params_))\n",
    "means = minmax_grid_result.cv_results_['mean_test_score']\n",
    "stds = minmax_grid_result.cv_results_['std_test_score']\n",
    "params = minmax_grid_result.cv_results_['params']\n",
    "\n",
    "for mean, stdev, param in zip(means, stds, params):\n",
    "    print(\"%f (%f) with: %r\" % (mean, stdev, param))"
   ]
  },
  {
   "cell_type": "code",
   "execution_count": 29,
   "metadata": {},
   "outputs": [
    {
     "name": "stdout",
     "output_type": "stream",
     "text": [
      "Scaler = standard\n",
      "Best: 0.626943 using {'activation': <function leaky_relu at 0x0000022412C442F0>, 'hidden_layers': 12, 'init_mode': 'he_normal', 'neurons': 128}\n",
      "0.533679 (0.381422) with: {'activation': 'elu', 'hidden_layers': 4, 'init_mode': 'glorot_uniform', 'neurons': 32}\n",
      "0.549223 (0.383699) with: {'activation': 'elu', 'hidden_layers': 4, 'init_mode': 'glorot_uniform', 'neurons': 64}\n",
      "0.538860 (0.386125) with: {'activation': 'elu', 'hidden_layers': 4, 'init_mode': 'glorot_uniform', 'neurons': 128}\n",
      "0.595855 (0.422831) with: {'activation': 'elu', 'hidden_layers': 4, 'init_mode': 'he_normal', 'neurons': 32}\n",
      "0.538860 (0.388654) with: {'activation': 'elu', 'hidden_layers': 4, 'init_mode': 'he_normal', 'neurons': 64}\n",
      "0.518135 (0.347907) with: {'activation': 'elu', 'hidden_layers': 4, 'init_mode': 'he_normal', 'neurons': 128}\n",
      "0.549223 (0.389517) with: {'activation': 'elu', 'hidden_layers': 8, 'init_mode': 'glorot_uniform', 'neurons': 32}\n",
      "0.549223 (0.387375) with: {'activation': 'elu', 'hidden_layers': 8, 'init_mode': 'glorot_uniform', 'neurons': 64}\n",
      "0.611399 (0.266893) with: {'activation': 'elu', 'hidden_layers': 8, 'init_mode': 'glorot_uniform', 'neurons': 128}\n",
      "0.585492 (0.415600) with: {'activation': 'elu', 'hidden_layers': 8, 'init_mode': 'he_normal', 'neurons': 32}\n",
      "0.544041 (0.388601) with: {'activation': 'elu', 'hidden_layers': 8, 'init_mode': 'he_normal', 'neurons': 64}\n",
      "0.564767 (0.347689) with: {'activation': 'elu', 'hidden_layers': 8, 'init_mode': 'he_normal', 'neurons': 128}\n",
      "0.564767 (0.397801) with: {'activation': 'elu', 'hidden_layers': 12, 'init_mode': 'glorot_uniform', 'neurons': 32}\n",
      "0.549223 (0.391200) with: {'activation': 'elu', 'hidden_layers': 12, 'init_mode': 'glorot_uniform', 'neurons': 64}\n",
      "0.575130 (0.405947) with: {'activation': 'elu', 'hidden_layers': 12, 'init_mode': 'glorot_uniform', 'neurons': 128}\n",
      "0.538860 (0.385681) with: {'activation': 'elu', 'hidden_layers': 12, 'init_mode': 'he_normal', 'neurons': 32}\n",
      "0.538860 (0.380091) with: {'activation': 'elu', 'hidden_layers': 12, 'init_mode': 'he_normal', 'neurons': 64}\n",
      "0.575130 (0.333194) with: {'activation': 'elu', 'hidden_layers': 12, 'init_mode': 'he_normal', 'neurons': 128}\n",
      "0.518135 (0.365036) with: {'activation': <function leaky_relu at 0x0000022412C442F0>, 'hidden_layers': 4, 'init_mode': 'glorot_uniform', 'neurons': 32}\n",
      "0.528497 (0.375046) with: {'activation': <function leaky_relu at 0x0000022412C442F0>, 'hidden_layers': 4, 'init_mode': 'glorot_uniform', 'neurons': 64}\n",
      "0.533679 (0.367746) with: {'activation': <function leaky_relu at 0x0000022412C442F0>, 'hidden_layers': 4, 'init_mode': 'glorot_uniform', 'neurons': 128}\n",
      "0.544041 (0.383452) with: {'activation': <function leaky_relu at 0x0000022412C442F0>, 'hidden_layers': 4, 'init_mode': 'he_normal', 'neurons': 32}\n",
      "0.544041 (0.386698) with: {'activation': <function leaky_relu at 0x0000022412C442F0>, 'hidden_layers': 4, 'init_mode': 'he_normal', 'neurons': 64}\n",
      "0.528497 (0.362235) with: {'activation': <function leaky_relu at 0x0000022412C442F0>, 'hidden_layers': 4, 'init_mode': 'he_normal', 'neurons': 128}\n",
      "0.502591 (0.359360) with: {'activation': <function leaky_relu at 0x0000022412C442F0>, 'hidden_layers': 8, 'init_mode': 'glorot_uniform', 'neurons': 32}\n",
      "0.564767 (0.398034) with: {'activation': <function leaky_relu at 0x0000022412C442F0>, 'hidden_layers': 8, 'init_mode': 'glorot_uniform', 'neurons': 64}\n",
      "0.528497 (0.345379) with: {'activation': <function leaky_relu at 0x0000022412C442F0>, 'hidden_layers': 8, 'init_mode': 'glorot_uniform', 'neurons': 128}\n",
      "0.528497 (0.372808) with: {'activation': <function leaky_relu at 0x0000022412C442F0>, 'hidden_layers': 8, 'init_mode': 'he_normal', 'neurons': 32}\n",
      "0.569948 (0.402772) with: {'activation': <function leaky_relu at 0x0000022412C442F0>, 'hidden_layers': 8, 'init_mode': 'he_normal', 'neurons': 64}\n",
      "0.559585 (0.350712) with: {'activation': <function leaky_relu at 0x0000022412C442F0>, 'hidden_layers': 8, 'init_mode': 'he_normal', 'neurons': 128}\n",
      "0.269430 (0.382517) with: {'activation': <function leaky_relu at 0x0000022412C442F0>, 'hidden_layers': 12, 'init_mode': 'glorot_uniform', 'neurons': 32}\n",
      "0.502591 (0.361756) with: {'activation': <function leaky_relu at 0x0000022412C442F0>, 'hidden_layers': 12, 'init_mode': 'glorot_uniform', 'neurons': 64}\n",
      "0.559585 (0.244454) with: {'activation': <function leaky_relu at 0x0000022412C442F0>, 'hidden_layers': 12, 'init_mode': 'glorot_uniform', 'neurons': 128}\n",
      "0.450777 (0.356777) with: {'activation': <function leaky_relu at 0x0000022412C442F0>, 'hidden_layers': 12, 'init_mode': 'he_normal', 'neurons': 32}\n",
      "0.554404 (0.395438) with: {'activation': <function leaky_relu at 0x0000022412C442F0>, 'hidden_layers': 12, 'init_mode': 'he_normal', 'neurons': 64}\n",
      "0.626943 (0.292141) with: {'activation': <function leaky_relu at 0x0000022412C442F0>, 'hidden_layers': 12, 'init_mode': 'he_normal', 'neurons': 128}\n"
     ]
    }
   ],
   "source": [
    "print(\"Scaler = standard\")\n",
    "print(\"Best: %f using %s\" % (std_grid_result.best_score_, std_grid_result.best_params_))\n",
    "means = std_grid_result.cv_results_['mean_test_score']\n",
    "stds = std_grid_result.cv_results_['std_test_score']\n",
    "params = std_grid_result.cv_results_['params']\n",
    "\n",
    "for mean, stdev, param in zip(means, stds, params):\n",
    "    print(\"%f (%f) with: %r\" % (mean, stdev, param))"
   ]
  },
  {
   "cell_type": "code",
   "execution_count": 30,
   "metadata": {},
   "outputs": [
    {
     "name": "stdout",
     "output_type": "stream",
     "text": [
      "Accuracy =  0.835820895522388\n",
      "Confusion Matrix\n",
      "[[62  0  0  0  2]\n",
      " [ 2 22  4  1  0]\n",
      " [ 0  5  5  1  0]\n",
      " [ 0  0  0  9  1]\n",
      " [ 3  0  1  2 14]]\n",
      "\n",
      "Classification Report\n",
      "              precision    recall  f1-score   support\n",
      "\n",
      "         0.0       0.93      0.97      0.95        64\n",
      "         1.0       0.81      0.76      0.79        29\n",
      "         2.0       0.50      0.45      0.48        11\n",
      "         3.0       0.69      0.90      0.78        10\n",
      "         4.0       0.82      0.70      0.76        20\n",
      "\n",
      "    accuracy                           0.84       134\n",
      "   macro avg       0.75      0.76      0.75       134\n",
      "weighted avg       0.83      0.84      0.83       134\n",
      "\n"
     ]
    }
   ],
   "source": [
    "pred = minmax_grid.predict(mm_ts_data)\n",
    "\n",
    "accuracy = accuracy_score(pred, ts_ans)\n",
    "ts_ans = ts_ans.astype(float)\n",
    "precision, recall, fbeta_score, support = precision_recall_fscore_support(ts_ans, pred)\n",
    "conf_mat = confusion_matrix(ts_ans, pred)\n",
    "print(\"Accuracy = \", accuracy)\n",
    "print(\"Confusion Matrix\")\n",
    "print(\"{0}\".format(metrics.confusion_matrix(ts_ans, pred)))\n",
    "print(\"\")\n",
    "print(\"Classification Report\")\n",
    "print(metrics.classification_report(ts_ans, pred))"
   ]
  },
  {
   "cell_type": "code",
   "execution_count": 31,
   "metadata": {},
   "outputs": [
    {
     "name": "stdout",
     "output_type": "stream",
     "text": [
      "Accuracy =  0.8432835820895522\n",
      "Confusion Matrix\n",
      "[[62  0  0  0  2]\n",
      " [ 2 19  6  1  1]\n",
      " [ 1  1  8  1  0]\n",
      " [ 0  0  0  9  1]\n",
      " [ 3  0  0  2 15]]\n",
      "\n",
      "Classification Report\n",
      "              precision    recall  f1-score   support\n",
      "\n",
      "         0.0       0.91      0.97      0.94        64\n",
      "         1.0       0.95      0.66      0.78        29\n",
      "         2.0       0.57      0.73      0.64        11\n",
      "         3.0       0.69      0.90      0.78        10\n",
      "         4.0       0.79      0.75      0.77        20\n",
      "\n",
      "    accuracy                           0.84       134\n",
      "   macro avg       0.78      0.80      0.78       134\n",
      "weighted avg       0.86      0.84      0.84       134\n",
      "\n"
     ]
    }
   ],
   "source": [
    "pred = std_grid.predict(std_ts_data)\n",
    "\n",
    "accuracy = accuracy_score(pred, ts_ans)\n",
    "ts_ans = ts_ans.astype(float)\n",
    "precision, recall, fbeta_score, support = precision_recall_fscore_support(ts_ans, pred)\n",
    "conf_mat = confusion_matrix(ts_ans, pred)\n",
    "print(\"Accuracy = \", accuracy)\n",
    "print(\"Confusion Matrix\")\n",
    "print(\"{0}\".format(metrics.confusion_matrix(ts_ans, pred)))\n",
    "print(\"\")\n",
    "print(\"Classification Report\")\n",
    "print(metrics.classification_report(ts_ans, pred))"
   ]
  },
  {
   "cell_type": "code",
   "execution_count": 32,
   "metadata": {
    "colab": {},
    "colab_type": "code",
    "id": "MKmXpPoXdidO"
   },
   "outputs": [],
   "source": [
    "# # testbed Version\n",
    "\n",
    "\n",
    "# def create_model(hidden_layers = 1, neurons =1, init_mode = 'uniform', activation = 'elu'):\n",
    "#     model = Sequential()\n",
    "#     model.add(Dense(neurons, input_dim=len(tr_data.T), kernel_initializer=init_mode, activation=activation))\n",
    "\n",
    "#     for i in range(hidden_layers):\n",
    "        \n",
    "#         model.add(Dense(neurons, kernel_initializer=init_mode))\n",
    "#         model.add(BatchNormalization())\n",
    "#         model.add(Activation(activation))\n",
    "#         model.add(Dropout(0.2))\n",
    "  \n",
    "#     if class_count == 2:  \n",
    "#         model.add(Dense(1,activation='sigmoid'))\n",
    "#         model.compile(loss='binary_crossentropy', optimizer='adam', metrics=['accuracy'])\n",
    "#     elif class_count != 2:\n",
    "#         model.add(Dense(class_count-1, activation='softmax'))\n",
    "#         model.compile(loss='sparse_categorical_crossentropy', optimizer='adam', metrics=['accuracy'])\n",
    "\n",
    "#     return model\n",
    "\n",
    "\n",
    "# hidden_layers = [5, 10]\n",
    "# neurons = [32, 64]\n",
    "# activation = ['elu']\n",
    "# init_mode = ['he_uniform']\n",
    "\n",
    "# keras_model = KerasClassifier(build_fn=create_model, epochs=4, batch_size=4)\n",
    "\n",
    "# param_grid = dict(hidden_layers = hidden_layers, neurons = neurons, init_mode = init_mode, activation = activation)\n",
    "# grid = GridSearchCV(estimator=keras_model, param_grid=param_grid, n_jobs= -1, cv=2)"
   ]
  },
  {
   "cell_type": "code",
   "execution_count": null,
   "metadata": {
    "colab": {},
    "colab_type": "code",
    "id": "1pNmP5gQVTsZ"
   },
   "outputs": [],
   "source": []
  }
 ],
 "metadata": {
  "accelerator": "GPU",
  "colab": {
   "collapsed_sections": [],
   "name": "pima_indian_diabetes.ipynb",
   "provenance": [],
   "version": "0.3.2"
  },
  "kernelspec": {
   "display_name": "Python 3",
   "language": "python",
   "name": "python3"
  },
  "language_info": {
   "codemirror_mode": {
    "name": "ipython",
    "version": 3
   },
   "file_extension": ".py",
   "mimetype": "text/x-python",
   "name": "python",
   "nbconvert_exporter": "python",
   "pygments_lexer": "ipython3",
   "version": "3.6.8"
  }
 },
 "nbformat": 4,
 "nbformat_minor": 1
}
