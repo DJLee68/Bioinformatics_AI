{
 "cells": [
  {
   "cell_type": "code",
   "execution_count": 2,
   "metadata": {
    "colab": {},
    "colab_type": "code",
    "id": "mL7zvImn9Fbf"
   },
   "outputs": [],
   "source": [
    "import numpy as np\n",
    "import pandas as pd\n",
    "from sklearn.preprocessing import MinMaxScaler\n",
    "from sklearn.preprocessing import StandardScaler\n",
    "from sklearn.model_selection import train_test_split"
   ]
  },
  {
   "cell_type": "code",
   "execution_count": 3,
   "metadata": {},
   "outputs": [],
   "source": [
    "data = pd.read_excel('epileptic_data.xlsx')"
   ]
  },
  {
   "cell_type": "code",
   "execution_count": null,
   "metadata": {},
   "outputs": [],
   "source": [
    "df_train, df_test = train_test_split(data, test_size=0.3, random_state=42)"
   ]
  },
  {
   "cell_type": "code",
   "execution_count": 3,
   "metadata": {},
   "outputs": [],
   "source": [
    "train = df_train\n",
    "test = df_test"
   ]
  },
  {
   "cell_type": "code",
   "execution_count": 4,
   "metadata": {},
   "outputs": [
    {
     "data": {
      "text/plain": [
       "(64, 10)"
      ]
     },
     "execution_count": 4,
     "metadata": {},
     "output_type": "execute_result"
    }
   ],
   "source": [
    "train.shape"
   ]
  },
  {
   "cell_type": "code",
   "execution_count": 5,
   "metadata": {
    "colab": {
     "base_uri": "https://localhost:8080/",
     "height": 34
    },
    "colab_type": "code",
    "executionInfo": {
     "elapsed": 516,
     "status": "ok",
     "timestamp": 1562058530714,
     "user": {
      "displayName": "이동재",
      "photoUrl": "",
      "userId": "12052501428717228434"
     },
     "user_tz": -540
    },
    "id": "t8pTzpUVcq9z",
    "outputId": "f6d4f95b-36f9-4a7f-eddf-ef67301f6e4c"
   },
   "outputs": [
    {
     "data": {
      "text/plain": [
       "(42, 10)"
      ]
     },
     "execution_count": 5,
     "metadata": {},
     "output_type": "execute_result"
    }
   ],
   "source": [
    "test.shape"
   ]
  },
  {
   "cell_type": "code",
   "execution_count": 6,
   "metadata": {},
   "outputs": [
    {
     "data": {
      "text/html": [
       "<div>\n",
       "<style scoped>\n",
       "    .dataframe tbody tr th:only-of-type {\n",
       "        vertical-align: middle;\n",
       "    }\n",
       "\n",
       "    .dataframe tbody tr th {\n",
       "        vertical-align: top;\n",
       "    }\n",
       "\n",
       "    .dataframe thead th {\n",
       "        text-align: right;\n",
       "    }\n",
       "</style>\n",
       "<table border=\"1\" class=\"dataframe\">\n",
       "  <thead>\n",
       "    <tr style=\"text-align: right;\">\n",
       "      <th></th>\n",
       "      <th>I0</th>\n",
       "      <th>PA500</th>\n",
       "      <th>HFS</th>\n",
       "      <th>DA</th>\n",
       "      <th>Area</th>\n",
       "      <th>A/DA</th>\n",
       "      <th>Max IP</th>\n",
       "      <th>DR</th>\n",
       "      <th>P</th>\n",
       "    </tr>\n",
       "  </thead>\n",
       "  <tbody>\n",
       "    <tr>\n",
       "      <th>count</th>\n",
       "      <td>64.000000</td>\n",
       "      <td>64.000000</td>\n",
       "      <td>64.000000</td>\n",
       "      <td>64.000000</td>\n",
       "      <td>64.000000</td>\n",
       "      <td>64.000000</td>\n",
       "      <td>64.000000</td>\n",
       "      <td>64.000000</td>\n",
       "      <td>64.000000</td>\n",
       "    </tr>\n",
       "    <tr>\n",
       "      <th>mean</th>\n",
       "      <td>828.457683</td>\n",
       "      <td>0.120005</td>\n",
       "      <td>0.123354</td>\n",
       "      <td>191.337138</td>\n",
       "      <td>9124.588087</td>\n",
       "      <td>26.745332</td>\n",
       "      <td>87.161457</td>\n",
       "      <td>160.669927</td>\n",
       "      <td>875.228807</td>\n",
       "    </tr>\n",
       "    <tr>\n",
       "      <th>std</th>\n",
       "      <td>800.788030</td>\n",
       "      <td>0.069789</td>\n",
       "      <td>0.096336</td>\n",
       "      <td>195.794618</td>\n",
       "      <td>23172.091897</td>\n",
       "      <td>28.070575</td>\n",
       "      <td>98.090494</td>\n",
       "      <td>179.329002</td>\n",
       "      <td>832.562791</td>\n",
       "    </tr>\n",
       "    <tr>\n",
       "      <th>min</th>\n",
       "      <td>103.000000</td>\n",
       "      <td>0.012392</td>\n",
       "      <td>-0.045379</td>\n",
       "      <td>20.588524</td>\n",
       "      <td>78.258474</td>\n",
       "      <td>1.595742</td>\n",
       "      <td>7.968783</td>\n",
       "      <td>-9.257696</td>\n",
       "      <td>124.978561</td>\n",
       "    </tr>\n",
       "    <tr>\n",
       "      <th>25%</th>\n",
       "      <td>248.750000</td>\n",
       "      <td>0.066933</td>\n",
       "      <td>0.052534</td>\n",
       "      <td>53.050093</td>\n",
       "      <td>345.038849</td>\n",
       "      <td>7.184340</td>\n",
       "      <td>26.992807</td>\n",
       "      <td>31.687948</td>\n",
       "      <td>260.851408</td>\n",
       "    </tr>\n",
       "    <tr>\n",
       "      <th>50%</th>\n",
       "      <td>385.000000</td>\n",
       "      <td>0.098524</td>\n",
       "      <td>0.090059</td>\n",
       "      <td>118.288131</td>\n",
       "      <td>2310.757808</td>\n",
       "      <td>16.028751</td>\n",
       "      <td>46.150393</td>\n",
       "      <td>88.782483</td>\n",
       "      <td>470.125683</td>\n",
       "    </tr>\n",
       "    <tr>\n",
       "      <th>75%</th>\n",
       "      <td>1674.611590</td>\n",
       "      <td>0.175275</td>\n",
       "      <td>0.204204</td>\n",
       "      <td>265.685362</td>\n",
       "      <td>8679.995361</td>\n",
       "      <td>40.501827</td>\n",
       "      <td>90.709677</td>\n",
       "      <td>229.571138</td>\n",
       "      <td>1579.050829</td>\n",
       "    </tr>\n",
       "    <tr>\n",
       "      <th>max</th>\n",
       "      <td>2800.000000</td>\n",
       "      <td>0.358316</td>\n",
       "      <td>0.377689</td>\n",
       "      <td>1063.441427</td>\n",
       "      <td>174480.476200</td>\n",
       "      <td>164.071543</td>\n",
       "      <td>436.099640</td>\n",
       "      <td>977.552367</td>\n",
       "      <td>2896.582483</td>\n",
       "    </tr>\n",
       "  </tbody>\n",
       "</table>\n",
       "</div>"
      ],
      "text/plain": [
       "                I0      PA500        HFS           DA           Area  \\\n",
       "count    64.000000  64.000000  64.000000    64.000000      64.000000   \n",
       "mean    828.457683   0.120005   0.123354   191.337138    9124.588087   \n",
       "std     800.788030   0.069789   0.096336   195.794618   23172.091897   \n",
       "min     103.000000   0.012392  -0.045379    20.588524      78.258474   \n",
       "25%     248.750000   0.066933   0.052534    53.050093     345.038849   \n",
       "50%     385.000000   0.098524   0.090059   118.288131    2310.757808   \n",
       "75%    1674.611590   0.175275   0.204204   265.685362    8679.995361   \n",
       "max    2800.000000   0.358316   0.377689  1063.441427  174480.476200   \n",
       "\n",
       "             A/DA      Max IP          DR            P  \n",
       "count   64.000000   64.000000   64.000000    64.000000  \n",
       "mean    26.745332   87.161457  160.669927   875.228807  \n",
       "std     28.070575   98.090494  179.329002   832.562791  \n",
       "min      1.595742    7.968783   -9.257696   124.978561  \n",
       "25%      7.184340   26.992807   31.687948   260.851408  \n",
       "50%     16.028751   46.150393   88.782483   470.125683  \n",
       "75%     40.501827   90.709677  229.571138  1579.050829  \n",
       "max    164.071543  436.099640  977.552367  2896.582483  "
      ]
     },
     "execution_count": 6,
     "metadata": {},
     "output_type": "execute_result"
    }
   ],
   "source": [
    "train.describe()"
   ]
  },
  {
   "cell_type": "code",
   "execution_count": 7,
   "metadata": {},
   "outputs": [],
   "source": [
    "import seaborn\n",
    "import matplotlib.pyplot as plt\n",
    "\n",
    "def plot_df(df, name):\n",
    "  corr = df[df.columns].corr()\n",
    "  mask = np.zeros_like(corr, dtype=np.bool)\n",
    "  mask[np.triu_indices_from(mask)] = True\n",
    "  plt.figure(figsize=(20, 15))\n",
    "  seaborn.set(font_scale=1.2)\n",
    "  seaborn.heatmap(corr, mask=mask, center=0, annot=True,\n",
    "    square=True, linewidths=3, alpha=0.7)\n",
    "  plt.title(name)"
   ]
  },
  {
   "cell_type": "code",
   "execution_count": 8,
   "metadata": {},
   "outputs": [
    {
     "data": {
      "image/png": "[encoded data removed]",
      "text/plain": [
       "<Figure size 1440x1080 with 2 Axes>"
      ]
     },
     "metadata": {
      "needs_background": "light"
     },
     "output_type": "display_data"
    }
   ],
   "source": [
    "plot_df(train, 'Train')"
   ]
  },
  {
   "cell_type": "code",
   "execution_count": 9,
   "metadata": {
    "colab": {
     "base_uri": "https://localhost:8080/",
     "height": 140
    },
    "colab_type": "code",
    "executionInfo": {
     "elapsed": 569,
     "status": "ok",
     "timestamp": 1562058531066,
     "user": {
      "displayName": "이동재",
      "photoUrl": "",
      "userId": "12052501428717228434"
     },
     "user_tz": -540
    },
    "id": "NSjRKJko-Dcv",
    "outputId": "0e325a9e-d3d5-47a6-9df5-82990cb06120"
   },
   "outputs": [
    {
     "name": "stdout",
     "output_type": "stream",
     "text": [
      "Index(['class', 'I0', 'PA500', 'HFS', 'DA', 'Area', 'A/DA', 'Max IP', 'DR',\n",
      "       'P'],\n",
      "      dtype='object')\n"
     ]
    }
   ],
   "source": [
    "print(train.columns)"
   ]
  },
  {
   "cell_type": "code",
   "execution_count": 10,
   "metadata": {
    "colab": {
     "base_uri": "https://localhost:8080/",
     "height": 34
    },
    "colab_type": "code",
    "executionInfo": {
     "elapsed": 5744,
     "status": "ok",
     "timestamp": 1562058536952,
     "user": {
      "displayName": "이동재",
      "photoUrl": "",
      "userId": "12052501428717228434"
     },
     "user_tz": -540
    },
    "id": "7VLAjJXm-xpB",
    "outputId": "ec729c6a-a9cb-42d4-f774-0e1567be953f"
   },
   "outputs": [
    {
     "name": "stdout",
     "output_type": "stream",
     "text": [
      "Chooese the class: class\n"
     ]
    }
   ],
   "source": [
    "class_name = input(\"Chooese the class: \")"
   ]
  },
  {
   "cell_type": "code",
   "execution_count": 11,
   "metadata": {
    "colab": {},
    "colab_type": "code",
    "id": "DgUHg4ED3uWO"
   },
   "outputs": [],
   "source": [
    "minmax_scaler = MinMaxScaler()\n",
    "standard_scaler = StandardScaler()"
   ]
  },
  {
   "cell_type": "code",
   "execution_count": 12,
   "metadata": {
    "colab": {
     "base_uri": "https://localhost:8080/",
     "height": 34
    },
    "colab_type": "code",
    "executionInfo": {
     "elapsed": 1164,
     "status": "ok",
     "timestamp": 1562058540201,
     "user": {
      "displayName": "이동재",
      "photoUrl": "",
      "userId": "12052501428717228434"
     },
     "user_tz": -540
    },
    "id": "6x0W2mAC-wgw",
    "outputId": "a933e1c2-64cc-449e-cc01-a66b8b1b4a92"
   },
   "outputs": [
    {
     "name": "stdout",
     "output_type": "stream",
     "text": [
      "6\n"
     ]
    }
   ],
   "source": [
    "tr_ans = train[class_name]\n",
    "ts_ans = test[class_name]\n",
    "class_count = len(tr_ans.unique())\n",
    "print(class_count)"
   ]
  },
  {
   "cell_type": "code",
   "execution_count": 15,
   "metadata": {
    "colab": {},
    "colab_type": "code",
    "id": "WnKjCuCfAguo"
   },
   "outputs": [],
   "source": [
    "tr_data = train.drop([class_name], axis=1)\n",
    "ts_data = test.drop([class_name], axis=1)"
   ]
  },
  {
   "cell_type": "code",
   "execution_count": 16,
   "metadata": {
    "colab": {
     "base_uri": "https://localhost:8080/",
     "height": 72
    },
    "colab_type": "code",
    "executionInfo": {
     "elapsed": 723,
     "status": "ok",
     "timestamp": 1562058547225,
     "user": {
      "displayName": "이동재",
      "photoUrl": "",
      "userId": "12052501428717228434"
     },
     "user_tz": -540
    },
    "id": "lmjXkka1Lucy",
    "outputId": "7edc3aec-a0fa-4a33-d09b-1931e2d1fb27"
   },
   "outputs": [],
   "source": [
    "# #결측치 채우기 if 결측치가 0일 경우\n",
    "\n",
    "# from sklearn.impute import SimpleImputer\n",
    "\n",
    "# rep_0 = SimpleImputer(missing_values=0, strategy=\"mean\")\n",
    "\n",
    "# tr_data = rep_0.fit_transform(tr_data)\n",
    "# ts_data = rep_0.fit_transform(ts_data)\n",
    "\n",
    "#결측치 채우기 if 결측치가 ?일 경우\n",
    "\n",
    "# from sklearn.impute import SimpleImputer\n",
    "\n",
    "# rep_0 = SimpleImputer(missing_values='?', strategy=\"mean\")\n",
    "\n",
    "# tr_data = rep_0.fit_transform(tr_data)\n",
    "# ts_data = rep_0.fit_transform(ts_data)"
   ]
  },
  {
   "cell_type": "code",
   "execution_count": 17,
   "metadata": {
    "colab": {},
    "colab_type": "code",
    "id": "Z_Yw0W7eAmgw"
   },
   "outputs": [],
   "source": [
    "mm_tr_data = minmax_scaler.fit_transform(tr_data)\n",
    "mm_ts_data = minmax_scaler.transform(ts_data)\n",
    "std_tr_data = standard_scaler.fit_transform(tr_data)\n",
    "std_ts_data = standard_scaler.transform(ts_data)\n",
    "tr_ans = np.array(tr_ans)\n",
    "ts_ans = np.array(ts_ans)"
   ]
  },
  {
   "cell_type": "code",
   "execution_count": 18,
   "metadata": {
    "colab": {
     "base_uri": "https://localhost:8080/",
     "height": 386
    },
    "colab_type": "code",
    "executionInfo": {
     "elapsed": 712,
     "status": "ok",
     "timestamp": 1562058552746,
     "user": {
      "displayName": "이동재",
      "photoUrl": "",
      "userId": "12052501428717228434"
     },
     "user_tz": -540
    },
    "id": "Rz4XG4MMOHGu",
    "outputId": "70f5c169-28bc-4010-ae83-14209e83d278"
   },
   "outputs": [
    {
     "data": {
      "text/plain": [
       "array([1, 1, 1, 1, 1, 1, 1, 1, 1, 1, 1, 1, 1, 3, 3, 3, 3, 3, 3, 3, 3, 5,\n",
       "       5, 5, 5, 5, 5, 5, 5, 5, 5, 4, 4, 4, 4, 4, 4, 4, 4, 4, 4, 4, 2, 2,\n",
       "       2, 2, 2, 2, 0, 0, 0, 0, 0, 0, 0, 0, 0, 0, 0, 0, 0, 0, 0, 0],\n",
       "      dtype=int64)"
      ]
     },
     "execution_count": 18,
     "metadata": {},
     "output_type": "execute_result"
    }
   ],
   "source": [
    "tr_ans"
   ]
  },
  {
   "cell_type": "code",
   "execution_count": 19,
   "metadata": {},
   "outputs": [
    {
     "data": {
      "text/plain": [
       "array([1, 1, 1, 1, 1, 1, 1, 1, 3, 3, 3, 3, 3, 3, 3, 5, 5, 5, 5, 5, 5, 5,\n",
       "       5, 4, 4, 4, 4, 4, 2, 2, 2, 2, 2, 2, 2, 2, 0, 0, 0, 0, 0, 0],\n",
       "      dtype=int64)"
      ]
     },
     "execution_count": 19,
     "metadata": {},
     "output_type": "execute_result"
    }
   ],
   "source": [
    "ts_ans"
   ]
  },
  {
   "cell_type": "code",
   "execution_count": 20,
   "metadata": {
    "colab": {},
    "colab_type": "code",
    "id": "F0_cae6XOksE"
   },
   "outputs": [],
   "source": [
    "import tensorflow as tf\n",
    "from sklearn.model_selection import GridSearchCV\n",
    "from sklearn.model_selection import RandomizedSearchCV\n",
    "from sklearn.model_selection import ParameterGrid\n",
    "from sklearn.metrics import precision_score, recall_score, f1_score, accuracy_score\n",
    "from tensorflow.keras.wrappers.scikit_learn import KerasClassifier\n",
    "from tensorflow.keras.models import Sequential\n",
    "from tensorflow.keras.layers import Dense\n",
    "from tensorflow.keras.layers import Activation\n",
    "from tensorflow.keras.layers import BatchNormalization\n",
    "from tensorflow.keras.layers import Dropout\n",
    "from sklearn import metrics\n",
    "from tensorflow.keras.regularizers import l2\n"
   ]
  },
  {
   "cell_type": "code",
   "execution_count": 21,
   "metadata": {
    "colab": {},
    "colab_type": "code",
    "id": "K8FW6kBo7uPs"
   },
   "outputs": [],
   "source": [
    "from sklearn.metrics import precision_recall_fscore_support\n",
    "from sklearn.metrics import confusion_matrix"
   ]
  },
  {
   "cell_type": "code",
   "execution_count": 22,
   "metadata": {
    "colab": {},
    "colab_type": "code",
    "id": "CHrsnp0Tq8CA"
   },
   "outputs": [],
   "source": [
    "# real Version\n",
    "\n",
    "\n",
    "def create_model(hidden_layers = 1, neurons =1, init_mode = 'uniform', \n",
    "                 activation = 'elu', kernel_regularizer=l2(0.001)):\n",
    "  model = Sequential()\n",
    "  model.add(Dense(neurons, input_dim=len(mm_tr_data.T), kernel_initializer=init_mode, activation=activation))\n",
    "  for i in range(hidden_layers):\n",
    "    \n",
    "    model.add(Dense(neurons, kernel_initializer=init_mode, kernel_regularizer=kernel_regularizer))\n",
    "    model.add(BatchNormalization())\n",
    "    model.add(Activation(activation))\n",
    "    model.add(Dropout(0.2))\n",
    "  \n",
    "  if class_count == 2:  \n",
    "    model.add(Dense(1,activation='sigmoid'))\n",
    "    model.compile(loss='binary_crossentropy', optimizer='adam', metrics=['accuracy'])\n",
    "  elif class_count != 2:\n",
    "    model.add(Dense(class_count, activation='softmax'))\n",
    "    model.compile(loss='sparse_categorical_crossentropy', optimizer='adam', metrics=['accuracy'])\n",
    "  return model"
   ]
  },
  {
   "cell_type": "code",
   "execution_count": 23,
   "metadata": {},
   "outputs": [],
   "source": [
    "keras_model = KerasClassifier(build_fn=create_model, epochs=64, batch_size=16)"
   ]
  },
  {
   "cell_type": "code",
   "execution_count": 24,
   "metadata": {},
   "outputs": [],
   "source": [
    "leaky_relu = tf.nn.leaky_relu\n",
    "hidden_layers = [4,8,12]\n",
    "neurons = [32, 64, 128]\n",
    "activation = ['elu', leaky_relu]\n",
    "init_mode = ['glorot_uniform', 'he_normal']"
   ]
  },
  {
   "cell_type": "code",
   "execution_count": 25,
   "metadata": {},
   "outputs": [],
   "source": [
    "param_grid = dict(hidden_layers = hidden_layers, neurons = neurons, init_mode = init_mode, activation = activation)\n",
    "minmax_grid = GridSearchCV(estimator=keras_model, param_grid=param_grid, n_jobs= -1, cv=3)\n",
    "std_grid = GridSearchCV(estimator=keras_model, param_grid=param_grid, n_jobs= -1, cv=3)"
   ]
  },
  {
   "cell_type": "code",
   "execution_count": 26,
   "metadata": {},
   "outputs": [],
   "source": [
    "import warnings\n",
    "warnings.filterwarnings(\"ignore\")"
   ]
  },
  {
   "cell_type": "code",
   "execution_count": 27,
   "metadata": {},
   "outputs": [
    {
     "name": "stdout",
     "output_type": "stream",
     "text": [
      "WARNING:tensorflow:From C:\\Users\\CAU\\Anaconda3\\envs\\tensorflow\\lib\\site-packages\\tensorflow\\python\\ops\\resource_variable_ops.py:435: colocate_with (from tensorflow.python.framework.ops) is deprecated and will be removed in a future version.\n",
      "Instructions for updating:\n",
      "Colocations handled automatically by placer.\n",
      "WARNING:tensorflow:From C:\\Users\\CAU\\Anaconda3\\envs\\tensorflow\\lib\\site-packages\\tensorflow\\python\\keras\\layers\\core.py:143: calling dropout (from tensorflow.python.ops.nn_ops) with keep_prob is deprecated and will be removed in a future version.\n",
      "Instructions for updating:\n",
      "Please use `rate` instead of `keep_prob`. Rate should be set to `rate = 1 - keep_prob`.\n",
      "WARNING:tensorflow:From C:\\Users\\CAU\\Anaconda3\\envs\\tensorflow\\lib\\site-packages\\tensorflow\\python\\ops\\math_ops.py:3066: to_int32 (from tensorflow.python.ops.math_ops) is deprecated and will be removed in a future version.\n",
      "Instructions for updating:\n",
      "Use tf.cast instead.\n",
      "Epoch 1/64\n",
      "64/64 [==============================] - 2s 32ms/sample - loss: 3.1460 - acc: 0.1406\n",
      "Epoch 2/64\n",
      "64/64 [==============================] - 0s 220us/sample - loss: 2.8838 - acc: 0.1250\n",
      "Epoch 3/64\n",
      "64/64 [==============================] - 0s 204us/sample - loss: 2.7855 - acc: 0.1562\n",
      "Epoch 4/64\n",
      "64/64 [==============================] - 0s 219us/sample - loss: 2.3715 - acc: 0.2500\n",
      "Epoch 5/64\n",
      "64/64 [==============================] - 0s 219us/sample - loss: 2.5812 - acc: 0.1875\n",
      "Epoch 6/64\n",
      "64/64 [==============================] - 0s 204us/sample - loss: 2.5340 - acc: 0.2188\n",
      "Epoch 7/64\n",
      "64/64 [==============================] - 0s 204us/sample - loss: 2.6436 - acc: 0.2812\n",
      "Epoch 8/64\n",
      "64/64 [==============================] - 0s 204us/sample - loss: 2.3398 - acc: 0.2500\n",
      "Epoch 9/64\n",
      "64/64 [==============================] - 0s 204us/sample - loss: 2.3356 - acc: 0.3438\n",
      "Epoch 10/64\n",
      "64/64 [==============================] - 0s 204us/sample - loss: 2.2662 - acc: 0.3438\n",
      "Epoch 11/64\n",
      "64/64 [==============================] - 0s 204us/sample - loss: 2.4252 - acc: 0.2656\n",
      "Epoch 12/64\n",
      "64/64 [==============================] - 0s 204us/sample - loss: 2.0852 - acc: 0.2969\n",
      "Epoch 13/64\n",
      "64/64 [==============================] - 0s 219us/sample - loss: 2.3070 - acc: 0.3125\n",
      "Epoch 14/64\n",
      "64/64 [==============================] - 0s 219us/sample - loss: 2.1502 - acc: 0.3281\n",
      "Epoch 15/64\n",
      "64/64 [==============================] - 0s 204us/sample - loss: 2.1259 - acc: 0.4219\n",
      "Epoch 16/64\n",
      "64/64 [==============================] - 0s 204us/sample - loss: 2.0728 - acc: 0.3438\n",
      "Epoch 17/64\n",
      "64/64 [==============================] - 0s 204us/sample - loss: 2.0237 - acc: 0.4062\n",
      "Epoch 18/64\n",
      "64/64 [==============================] - 0s 204us/sample - loss: 1.8798 - acc: 0.5156\n",
      "Epoch 19/64\n",
      "64/64 [==============================] - 0s 204us/sample - loss: 1.9217 - acc: 0.5000\n",
      "Epoch 20/64\n",
      "64/64 [==============================] - 0s 204us/sample - loss: 2.1008 - acc: 0.4062\n",
      "Epoch 21/64\n",
      "64/64 [==============================] - 0s 282us/sample - loss: 1.9864 - acc: 0.4219\n",
      "Epoch 22/64\n",
      "64/64 [==============================] - 0s 329us/sample - loss: 2.0987 - acc: 0.4375\n",
      "Epoch 23/64\n",
      "64/64 [==============================] - 0s 235us/sample - loss: 1.8735 - acc: 0.4062\n",
      "Epoch 24/64\n",
      "64/64 [==============================] - 0s 266us/sample - loss: 1.8508 - acc: 0.5156\n",
      "Epoch 25/64\n",
      "64/64 [==============================] - 0s 266us/sample - loss: 1.9827 - acc: 0.4219\n",
      "Epoch 26/64\n",
      "64/64 [==============================] - 0s 266us/sample - loss: 2.0408 - acc: 0.3594\n",
      "Epoch 27/64\n",
      "64/64 [==============================] - 0s 251us/sample - loss: 1.8620 - acc: 0.4844\n",
      "Epoch 28/64\n",
      "64/64 [==============================] - 0s 266us/sample - loss: 1.7793 - acc: 0.5000\n",
      "Epoch 29/64\n",
      "64/64 [==============================] - 0s 251us/sample - loss: 1.8400 - acc: 0.5156\n",
      "Epoch 30/64\n",
      "64/64 [==============================] - 0s 235us/sample - loss: 1.8334 - acc: 0.4844\n",
      "Epoch 31/64\n",
      "64/64 [==============================] - 0s 235us/sample - loss: 1.7388 - acc: 0.5625\n",
      "Epoch 32/64\n",
      "64/64 [==============================] - 0s 251us/sample - loss: 1.9212 - acc: 0.3906\n",
      "Epoch 33/64\n",
      "64/64 [==============================] - 0s 313us/sample - loss: 1.7776 - acc: 0.4531\n",
      "Epoch 34/64\n",
      "64/64 [==============================] - 0s 219us/sample - loss: 1.8403 - acc: 0.4688\n",
      "Epoch 35/64\n",
      "64/64 [==============================] - 0s 219us/sample - loss: 1.8024 - acc: 0.4375\n",
      "Epoch 36/64\n",
      "64/64 [==============================] - 0s 219us/sample - loss: 1.7673 - acc: 0.4219\n",
      "Epoch 37/64\n",
      "64/64 [==============================] - 0s 219us/sample - loss: 1.6488 - acc: 0.5625\n",
      "Epoch 38/64\n",
      "64/64 [==============================] - 0s 235us/sample - loss: 1.7580 - acc: 0.4531\n",
      "Epoch 39/64\n",
      "64/64 [==============================] - 0s 219us/sample - loss: 1.7470 - acc: 0.5000\n",
      "Epoch 40/64\n",
      "64/64 [==============================] - 0s 219us/sample - loss: 1.6535 - acc: 0.5156\n",
      "Epoch 41/64\n",
      "64/64 [==============================] - 0s 235us/sample - loss: 1.6981 - acc: 0.5312\n",
      "Epoch 42/64\n",
      "64/64 [==============================] - 0s 219us/sample - loss: 2.0059 - acc: 0.4688\n",
      "Epoch 43/64\n",
      "64/64 [==============================] - 0s 235us/sample - loss: 1.7567 - acc: 0.5000\n",
      "Epoch 44/64\n",
      "64/64 [==============================] - 0s 235us/sample - loss: 1.7499 - acc: 0.4844\n",
      "Epoch 45/64\n",
      "64/64 [==============================] - 0s 219us/sample - loss: 1.6435 - acc: 0.5156\n",
      "Epoch 46/64\n",
      "64/64 [==============================] - 0s 219us/sample - loss: 1.8224 - acc: 0.4531\n",
      "Epoch 47/64\n",
      "64/64 [==============================] - 0s 235us/sample - loss: 1.7802 - acc: 0.5156\n",
      "Epoch 48/64\n",
      "64/64 [==============================] - 0s 235us/sample - loss: 1.7028 - acc: 0.5156\n",
      "Epoch 49/64\n",
      "64/64 [==============================] - 0s 219us/sample - loss: 1.8580 - acc: 0.4688\n",
      "Epoch 50/64\n",
      "64/64 [==============================] - 0s 219us/sample - loss: 1.6733 - acc: 0.5312\n",
      "Epoch 51/64\n",
      "64/64 [==============================] - 0s 235us/sample - loss: 1.6870 - acc: 0.4844\n",
      "Epoch 52/64\n",
      "64/64 [==============================] - 0s 219us/sample - loss: 1.6966 - acc: 0.4844\n",
      "Epoch 53/64\n",
      "64/64 [==============================] - 0s 266us/sample - loss: 1.6516 - acc: 0.5625\n",
      "Epoch 54/64\n",
      "64/64 [==============================] - 0s 266us/sample - loss: 1.6385 - acc: 0.5625\n",
      "Epoch 55/64\n",
      "64/64 [==============================] - 0s 266us/sample - loss: 1.5535 - acc: 0.5312\n",
      "Epoch 56/64\n",
      "64/64 [==============================] - 0s 282us/sample - loss: 1.6362 - acc: 0.5625\n",
      "Epoch 57/64\n",
      "64/64 [==============================] - 0s 251us/sample - loss: 1.7330 - acc: 0.5312\n",
      "Epoch 58/64\n",
      "64/64 [==============================] - 0s 282us/sample - loss: 1.5467 - acc: 0.5625\n",
      "Epoch 59/64\n",
      "64/64 [==============================] - 0s 251us/sample - loss: 1.5384 - acc: 0.5625\n",
      "Epoch 60/64\n",
      "64/64 [==============================] - 0s 251us/sample - loss: 1.6224 - acc: 0.5938\n",
      "Epoch 61/64\n",
      "64/64 [==============================] - 0s 251us/sample - loss: 1.5415 - acc: 0.6250\n",
      "Epoch 62/64\n",
      "64/64 [==============================] - 0s 235us/sample - loss: 1.5381 - acc: 0.5781\n",
      "Epoch 63/64\n",
      "64/64 [==============================] - 0s 235us/sample - loss: 1.4629 - acc: 0.5938\n",
      "Epoch 64/64\n",
      "64/64 [==============================] - 0s 219us/sample - loss: 1.5765 - acc: 0.5938\n"
     ]
    }
   ],
   "source": [
    "minmax_grid_result = minmax_grid.fit(mm_tr_data, tr_ans)"
   ]
  },
  {
   "cell_type": "code",
   "execution_count": 28,
   "metadata": {},
   "outputs": [
    {
     "name": "stdout",
     "output_type": "stream",
     "text": [
      "Epoch 1/64\n",
      "64/64 [==============================] - 2s 32ms/sample - loss: 2.8441 - acc: 0.2969\n",
      "Epoch 2/64\n",
      "64/64 [==============================] - 0s 281us/sample - loss: 2.9818 - acc: 0.1875\n",
      "Epoch 3/64\n",
      "64/64 [==============================] - 0s 267us/sample - loss: 3.0240 - acc: 0.2500\n",
      "Epoch 4/64\n",
      "64/64 [==============================] - 0s 266us/sample - loss: 2.8753 - acc: 0.2812\n",
      "Epoch 5/64\n",
      "64/64 [==============================] - 0s 266us/sample - loss: 2.9429 - acc: 0.2656\n",
      "Epoch 6/64\n",
      "64/64 [==============================] - 0s 282us/sample - loss: 2.8087 - acc: 0.2812\n",
      "Epoch 7/64\n",
      "64/64 [==============================] - 0s 251us/sample - loss: 2.5482 - acc: 0.3594\n",
      "Epoch 8/64\n",
      "64/64 [==============================] - 0s 251us/sample - loss: 2.6391 - acc: 0.2812\n",
      "Epoch 9/64\n",
      "64/64 [==============================] - 0s 251us/sample - loss: 2.4793 - acc: 0.3906\n",
      "Epoch 10/64\n",
      "64/64 [==============================] - 0s 251us/sample - loss: 2.5311 - acc: 0.3750\n",
      "Epoch 11/64\n",
      "64/64 [==============================] - 0s 266us/sample - loss: 2.3720 - acc: 0.4688\n",
      "Epoch 12/64\n",
      "64/64 [==============================] - 0s 251us/sample - loss: 2.6492 - acc: 0.2969\n",
      "Epoch 13/64\n",
      "64/64 [==============================] - 0s 282us/sample - loss: 2.4386 - acc: 0.4688\n",
      "Epoch 14/64\n",
      "64/64 [==============================] - 0s 251us/sample - loss: 2.5632 - acc: 0.4219\n",
      "Epoch 15/64\n",
      "64/64 [==============================] - 0s 235us/sample - loss: 2.4710 - acc: 0.3750\n",
      "Epoch 16/64\n",
      "64/64 [==============================] - 0s 235us/sample - loss: 2.4116 - acc: 0.4844\n",
      "Epoch 17/64\n",
      "64/64 [==============================] - 0s 235us/sample - loss: 2.0894 - acc: 0.6562\n",
      "Epoch 18/64\n",
      "64/64 [==============================] - 0s 235us/sample - loss: 2.4750 - acc: 0.3906\n",
      "Epoch 19/64\n",
      "64/64 [==============================] - 0s 235us/sample - loss: 2.2375 - acc: 0.5312\n",
      "Epoch 20/64\n",
      "64/64 [==============================] - 0s 235us/sample - loss: 2.2584 - acc: 0.4219\n",
      "Epoch 21/64\n",
      "64/64 [==============================] - 0s 235us/sample - loss: 2.4736 - acc: 0.4531\n",
      "Epoch 22/64\n",
      "64/64 [==============================] - 0s 235us/sample - loss: 2.1807 - acc: 0.5000\n",
      "Epoch 23/64\n",
      "64/64 [==============================] - 0s 235us/sample - loss: 2.3712 - acc: 0.4375\n",
      "Epoch 24/64\n",
      "64/64 [==============================] - 0s 266us/sample - loss: 2.1871 - acc: 0.5000\n",
      "Epoch 25/64\n",
      "64/64 [==============================] - 0s 235us/sample - loss: 2.3016 - acc: 0.4844\n",
      "Epoch 26/64\n",
      "64/64 [==============================] - 0s 251us/sample - loss: 2.1813 - acc: 0.5156\n",
      "Epoch 27/64\n",
      "64/64 [==============================] - 0s 235us/sample - loss: 2.2765 - acc: 0.5312\n",
      "Epoch 28/64\n",
      "64/64 [==============================] - 0s 251us/sample - loss: 2.1815 - acc: 0.4531\n",
      "Epoch 29/64\n",
      "64/64 [==============================] - 0s 235us/sample - loss: 2.0377 - acc: 0.5781\n",
      "Epoch 30/64\n",
      "64/64 [==============================] - 0s 235us/sample - loss: 2.1241 - acc: 0.4688\n",
      "Epoch 31/64\n",
      "64/64 [==============================] - 0s 251us/sample - loss: 2.0751 - acc: 0.5156\n",
      "Epoch 32/64\n",
      "64/64 [==============================] - 0s 235us/sample - loss: 2.1556 - acc: 0.4531\n",
      "Epoch 33/64\n",
      "64/64 [==============================] - 0s 251us/sample - loss: 2.2275 - acc: 0.5156\n",
      "Epoch 34/64\n",
      "64/64 [==============================] - 0s 235us/sample - loss: 2.3262 - acc: 0.5000\n",
      "Epoch 35/64\n",
      "64/64 [==============================] - 0s 251us/sample - loss: 2.0597 - acc: 0.6250\n",
      "Epoch 36/64\n",
      "64/64 [==============================] - 0s 251us/sample - loss: 2.1834 - acc: 0.5000\n",
      "Epoch 37/64\n",
      "64/64 [==============================] - 0s 266us/sample - loss: 2.1925 - acc: 0.5312\n",
      "Epoch 38/64\n",
      "64/64 [==============================] - 0s 251us/sample - loss: 2.1658 - acc: 0.5469\n",
      "Epoch 39/64\n",
      "64/64 [==============================] - 0s 235us/sample - loss: 2.0111 - acc: 0.5625\n",
      "Epoch 40/64\n",
      "64/64 [==============================] - 0s 266us/sample - loss: 1.9932 - acc: 0.5312\n",
      "Epoch 41/64\n",
      "64/64 [==============================] - 0s 251us/sample - loss: 2.1041 - acc: 0.5312\n",
      "Epoch 42/64\n",
      "64/64 [==============================] - 0s 251us/sample - loss: 1.9997 - acc: 0.6250\n",
      "Epoch 43/64\n",
      "64/64 [==============================] - 0s 251us/sample - loss: 1.9615 - acc: 0.6250\n",
      "Epoch 44/64\n",
      "64/64 [==============================] - 0s 235us/sample - loss: 2.0891 - acc: 0.5781\n",
      "Epoch 45/64\n",
      "64/64 [==============================] - 0s 251us/sample - loss: 2.0584 - acc: 0.5156\n",
      "Epoch 46/64\n",
      "64/64 [==============================] - 0s 235us/sample - loss: 2.3768 - acc: 0.5156\n",
      "Epoch 47/64\n",
      "64/64 [==============================] - 0s 251us/sample - loss: 2.0038 - acc: 0.6250\n",
      "Epoch 48/64\n",
      "64/64 [==============================] - 0s 235us/sample - loss: 2.0313 - acc: 0.5469\n",
      "Epoch 49/64\n",
      "64/64 [==============================] - 0s 251us/sample - loss: 1.9788 - acc: 0.5938\n",
      "Epoch 50/64\n",
      "64/64 [==============================] - 0s 251us/sample - loss: 1.9485 - acc: 0.6406\n",
      "Epoch 51/64\n",
      "64/64 [==============================] - 0s 266us/sample - loss: 1.9694 - acc: 0.5781\n",
      "Epoch 52/64\n",
      "64/64 [==============================] - 0s 251us/sample - loss: 2.0570 - acc: 0.5781\n",
      "Epoch 53/64\n",
      "64/64 [==============================] - 0s 235us/sample - loss: 1.8746 - acc: 0.5781\n",
      "Epoch 54/64\n",
      "64/64 [==============================] - 0s 235us/sample - loss: 2.0471 - acc: 0.5469\n",
      "Epoch 55/64\n",
      "64/64 [==============================] - 0s 251us/sample - loss: 2.0323 - acc: 0.5625\n",
      "Epoch 56/64\n",
      "64/64 [==============================] - 0s 235us/sample - loss: 1.9884 - acc: 0.5625\n",
      "Epoch 57/64\n",
      "64/64 [==============================] - 0s 235us/sample - loss: 1.9199 - acc: 0.5938\n",
      "Epoch 58/64\n",
      "64/64 [==============================] - 0s 235us/sample - loss: 1.9779 - acc: 0.6719\n",
      "Epoch 59/64\n",
      "64/64 [==============================] - 0s 235us/sample - loss: 1.9587 - acc: 0.5312\n",
      "Epoch 60/64\n",
      "64/64 [==============================] - 0s 251us/sample - loss: 2.0601 - acc: 0.6094\n",
      "Epoch 61/64\n",
      "64/64 [==============================] - 0s 266us/sample - loss: 1.9851 - acc: 0.5625\n",
      "Epoch 62/64\n",
      "64/64 [==============================] - 0s 266us/sample - loss: 2.0394 - acc: 0.5156\n",
      "Epoch 63/64\n",
      "64/64 [==============================] - 0s 266us/sample - loss: 1.9578 - acc: 0.6562\n",
      "Epoch 64/64\n",
      "64/64 [==============================] - 0s 235us/sample - loss: 1.9520 - acc: 0.5625\n"
     ]
    }
   ],
   "source": [
    "std_grid_result = std_grid.fit(std_tr_data, tr_ans)"
   ]
  },
  {
   "cell_type": "code",
   "execution_count": 29,
   "metadata": {
    "scrolled": true
   },
   "outputs": [
    {
     "name": "stdout",
     "output_type": "stream",
     "text": [
      "Scaler = minmax\n",
      "Best: 0.375000 using {'activation': 'elu', 'hidden_layers': 8, 'init_mode': 'he_normal', 'neurons': 32}\n",
      "0.312500 (0.295821) with: {'activation': 'elu', 'hidden_layers': 4, 'init_mode': 'glorot_uniform', 'neurons': 32}\n",
      "0.328125 (0.253928) with: {'activation': 'elu', 'hidden_layers': 4, 'init_mode': 'glorot_uniform', 'neurons': 64}\n",
      "0.265625 (0.313542) with: {'activation': 'elu', 'hidden_layers': 4, 'init_mode': 'glorot_uniform', 'neurons': 128}\n",
      "0.312500 (0.286116) with: {'activation': 'elu', 'hidden_layers': 4, 'init_mode': 'he_normal', 'neurons': 32}\n",
      "0.140625 (0.100943) with: {'activation': 'elu', 'hidden_layers': 4, 'init_mode': 'he_normal', 'neurons': 64}\n",
      "0.203125 (0.079106) with: {'activation': 'elu', 'hidden_layers': 4, 'init_mode': 'he_normal', 'neurons': 128}\n",
      "0.359375 (0.289335) with: {'activation': 'elu', 'hidden_layers': 8, 'init_mode': 'glorot_uniform', 'neurons': 32}\n",
      "0.296875 (0.274689) with: {'activation': 'elu', 'hidden_layers': 8, 'init_mode': 'glorot_uniform', 'neurons': 64}\n",
      "0.234375 (0.302675) with: {'activation': 'elu', 'hidden_layers': 8, 'init_mode': 'glorot_uniform', 'neurons': 128}\n",
      "0.375000 (0.308716) with: {'activation': 'elu', 'hidden_layers': 8, 'init_mode': 'he_normal', 'neurons': 32}\n",
      "0.250000 (0.174853) with: {'activation': 'elu', 'hidden_layers': 8, 'init_mode': 'he_normal', 'neurons': 64}\n",
      "0.375000 (0.292227) with: {'activation': 'elu', 'hidden_layers': 8, 'init_mode': 'he_normal', 'neurons': 128}\n",
      "0.359375 (0.289335) with: {'activation': 'elu', 'hidden_layers': 12, 'init_mode': 'glorot_uniform', 'neurons': 32}\n",
      "0.375000 (0.308716) with: {'activation': 'elu', 'hidden_layers': 12, 'init_mode': 'glorot_uniform', 'neurons': 64}\n",
      "0.187500 (0.205157) with: {'activation': 'elu', 'hidden_layers': 12, 'init_mode': 'glorot_uniform', 'neurons': 128}\n",
      "0.375000 (0.308716) with: {'activation': 'elu', 'hidden_layers': 12, 'init_mode': 'he_normal', 'neurons': 32}\n",
      "0.359375 (0.289335) with: {'activation': 'elu', 'hidden_layers': 12, 'init_mode': 'he_normal', 'neurons': 64}\n",
      "0.281250 (0.201885) with: {'activation': 'elu', 'hidden_layers': 12, 'init_mode': 'he_normal', 'neurons': 128}\n",
      "0.203125 (0.290662) with: {'activation': <function leaky_relu at 0x00000265200ED158>, 'hidden_layers': 4, 'init_mode': 'glorot_uniform', 'neurons': 32}\n",
      "0.265625 (0.313542) with: {'activation': <function leaky_relu at 0x00000265200ED158>, 'hidden_layers': 4, 'init_mode': 'glorot_uniform', 'neurons': 64}\n",
      "0.296875 (0.204127) with: {'activation': <function leaky_relu at 0x00000265200ED158>, 'hidden_layers': 4, 'init_mode': 'glorot_uniform', 'neurons': 128}\n",
      "0.343750 (0.289910) with: {'activation': <function leaky_relu at 0x00000265200ED158>, 'hidden_layers': 4, 'init_mode': 'he_normal', 'neurons': 32}\n",
      "0.078125 (0.057138) with: {'activation': <function leaky_relu at 0x00000265200ED158>, 'hidden_layers': 4, 'init_mode': 'he_normal', 'neurons': 64}\n",
      "0.312500 (0.053459) with: {'activation': <function leaky_relu at 0x00000265200ED158>, 'hidden_layers': 4, 'init_mode': 'he_normal', 'neurons': 128}\n",
      "0.109375 (0.124632) with: {'activation': <function leaky_relu at 0x00000265200ED158>, 'hidden_layers': 8, 'init_mode': 'glorot_uniform', 'neurons': 32}\n",
      "0.156250 (0.157033) with: {'activation': <function leaky_relu at 0x00000265200ED158>, 'hidden_layers': 8, 'init_mode': 'glorot_uniform', 'neurons': 64}\n",
      "0.203125 (0.108803) with: {'activation': <function leaky_relu at 0x00000265200ED158>, 'hidden_layers': 8, 'init_mode': 'glorot_uniform', 'neurons': 128}\n",
      "0.281250 (0.201885) with: {'activation': <function leaky_relu at 0x00000265200ED158>, 'hidden_layers': 8, 'init_mode': 'he_normal', 'neurons': 32}\n",
      "0.312500 (0.271561) with: {'activation': <function leaky_relu at 0x00000265200ED158>, 'hidden_layers': 8, 'init_mode': 'he_normal', 'neurons': 64}\n",
      "0.312500 (0.295821) with: {'activation': <function leaky_relu at 0x00000265200ED158>, 'hidden_layers': 8, 'init_mode': 'he_normal', 'neurons': 128}\n",
      "0.125000 (0.172712) with: {'activation': <function leaky_relu at 0x00000265200ED158>, 'hidden_layers': 12, 'init_mode': 'glorot_uniform', 'neurons': 32}\n",
      "0.171875 (0.150366) with: {'activation': <function leaky_relu at 0x00000265200ED158>, 'hidden_layers': 12, 'init_mode': 'glorot_uniform', 'neurons': 64}\n",
      "0.078125 (0.045246) with: {'activation': <function leaky_relu at 0x00000265200ED158>, 'hidden_layers': 12, 'init_mode': 'glorot_uniform', 'neurons': 128}\n",
      "0.375000 (0.308716) with: {'activation': <function leaky_relu at 0x00000265200ED158>, 'hidden_layers': 12, 'init_mode': 'he_normal', 'neurons': 32}\n",
      "0.296875 (0.251351) with: {'activation': <function leaky_relu at 0x00000265200ED158>, 'hidden_layers': 12, 'init_mode': 'he_normal', 'neurons': 64}\n",
      "0.328125 (0.252057) with: {'activation': <function leaky_relu at 0x00000265200ED158>, 'hidden_layers': 12, 'init_mode': 'he_normal', 'neurons': 128}\n"
     ]
    }
   ],
   "source": [
    "print(\"Scaler = minmax\")\n",
    "print(\"Best: %f using %s\" % (minmax_grid_result.best_score_, minmax_grid_result.best_params_))\n",
    "means = minmax_grid_result.cv_results_['mean_test_score']\n",
    "stds = minmax_grid_result.cv_results_['std_test_score']\n",
    "params = minmax_grid_result.cv_results_['params']\n",
    "\n",
    "for mean, stdev, param in zip(means, stds, params):\n",
    "    print(\"%f (%f) with: %r\" % (mean, stdev, param))"
   ]
  },
  {
   "cell_type": "code",
   "execution_count": 30,
   "metadata": {},
   "outputs": [
    {
     "name": "stdout",
     "output_type": "stream",
     "text": [
      "Scaler = standard\n",
      "Best: 0.406250 using {'activation': <function leaky_relu at 0x00000265200ED158>, 'hidden_layers': 8, 'init_mode': 'he_normal', 'neurons': 64}\n",
      "0.250000 (0.174369) with: {'activation': 'elu', 'hidden_layers': 4, 'init_mode': 'glorot_uniform', 'neurons': 32}\n",
      "0.296875 (0.291707) with: {'activation': 'elu', 'hidden_layers': 4, 'init_mode': 'glorot_uniform', 'neurons': 64}\n",
      "0.234375 (0.103670) with: {'activation': 'elu', 'hidden_layers': 4, 'init_mode': 'glorot_uniform', 'neurons': 128}\n",
      "0.281250 (0.192978) with: {'activation': 'elu', 'hidden_layers': 4, 'init_mode': 'he_normal', 'neurons': 32}\n",
      "0.171875 (0.040094) with: {'activation': 'elu', 'hidden_layers': 4, 'init_mode': 'he_normal', 'neurons': 64}\n",
      "0.234375 (0.071883) with: {'activation': 'elu', 'hidden_layers': 4, 'init_mode': 'he_normal', 'neurons': 128}\n",
      "0.359375 (0.289335) with: {'activation': 'elu', 'hidden_layers': 8, 'init_mode': 'glorot_uniform', 'neurons': 32}\n",
      "0.359375 (0.296037) with: {'activation': 'elu', 'hidden_layers': 8, 'init_mode': 'glorot_uniform', 'neurons': 64}\n",
      "0.343750 (0.212973) with: {'activation': 'elu', 'hidden_layers': 8, 'init_mode': 'glorot_uniform', 'neurons': 128}\n",
      "0.343750 (0.289910) with: {'activation': 'elu', 'hidden_layers': 8, 'init_mode': 'he_normal', 'neurons': 32}\n",
      "0.343750 (0.251425) with: {'activation': 'elu', 'hidden_layers': 8, 'init_mode': 'he_normal', 'neurons': 64}\n",
      "0.218750 (0.054902) with: {'activation': 'elu', 'hidden_layers': 8, 'init_mode': 'he_normal', 'neurons': 128}\n",
      "0.359375 (0.289335) with: {'activation': 'elu', 'hidden_layers': 12, 'init_mode': 'glorot_uniform', 'neurons': 32}\n",
      "0.281250 (0.192978) with: {'activation': 'elu', 'hidden_layers': 12, 'init_mode': 'glorot_uniform', 'neurons': 64}\n",
      "0.250000 (0.324994) with: {'activation': 'elu', 'hidden_layers': 12, 'init_mode': 'glorot_uniform', 'neurons': 128}\n",
      "0.343750 (0.270414) with: {'activation': 'elu', 'hidden_layers': 12, 'init_mode': 'he_normal', 'neurons': 32}\n",
      "0.375000 (0.308716) with: {'activation': 'elu', 'hidden_layers': 12, 'init_mode': 'he_normal', 'neurons': 64}\n",
      "0.359375 (0.271672) with: {'activation': 'elu', 'hidden_layers': 12, 'init_mode': 'he_normal', 'neurons': 128}\n",
      "0.375000 (0.270156) with: {'activation': <function leaky_relu at 0x00000265200ED158>, 'hidden_layers': 4, 'init_mode': 'glorot_uniform', 'neurons': 32}\n",
      "0.328125 (0.242692) with: {'activation': <function leaky_relu at 0x00000265200ED158>, 'hidden_layers': 4, 'init_mode': 'glorot_uniform', 'neurons': 64}\n",
      "0.250000 (0.224633) with: {'activation': <function leaky_relu at 0x00000265200ED158>, 'hidden_layers': 4, 'init_mode': 'glorot_uniform', 'neurons': 128}\n",
      "0.343750 (0.301350) with: {'activation': <function leaky_relu at 0x00000265200ED158>, 'hidden_layers': 4, 'init_mode': 'he_normal', 'neurons': 32}\n",
      "0.296875 (0.212886) with: {'activation': <function leaky_relu at 0x00000265200ED158>, 'hidden_layers': 4, 'init_mode': 'he_normal', 'neurons': 64}\n",
      "0.328125 (0.140843) with: {'activation': <function leaky_relu at 0x00000265200ED158>, 'hidden_layers': 4, 'init_mode': 'he_normal', 'neurons': 128}\n",
      "0.312500 (0.234395) with: {'activation': <function leaky_relu at 0x00000265200ED158>, 'hidden_layers': 8, 'init_mode': 'glorot_uniform', 'neurons': 32}\n",
      "0.234375 (0.268825) with: {'activation': <function leaky_relu at 0x00000265200ED158>, 'hidden_layers': 8, 'init_mode': 'glorot_uniform', 'neurons': 64}\n",
      "0.328125 (0.292084) with: {'activation': <function leaky_relu at 0x00000265200ED158>, 'hidden_layers': 8, 'init_mode': 'glorot_uniform', 'neurons': 128}\n",
      "0.296875 (0.217600) with: {'activation': <function leaky_relu at 0x00000265200ED158>, 'hidden_layers': 8, 'init_mode': 'he_normal', 'neurons': 32}\n",
      "0.406250 (0.310144) with: {'activation': <function leaky_relu at 0x00000265200ED158>, 'hidden_layers': 8, 'init_mode': 'he_normal', 'neurons': 64}\n",
      "0.203125 (0.076719) with: {'activation': <function leaky_relu at 0x00000265200ED158>, 'hidden_layers': 8, 'init_mode': 'he_normal', 'neurons': 128}\n",
      "0.015625 (0.021589) with: {'activation': <function leaky_relu at 0x00000265200ED158>, 'hidden_layers': 12, 'init_mode': 'glorot_uniform', 'neurons': 32}\n",
      "0.156250 (0.150095) with: {'activation': <function leaky_relu at 0x00000265200ED158>, 'hidden_layers': 12, 'init_mode': 'glorot_uniform', 'neurons': 64}\n",
      "0.328125 (0.231567) with: {'activation': <function leaky_relu at 0x00000265200ED158>, 'hidden_layers': 12, 'init_mode': 'glorot_uniform', 'neurons': 128}\n",
      "0.312500 (0.234395) with: {'activation': <function leaky_relu at 0x00000265200ED158>, 'hidden_layers': 12, 'init_mode': 'he_normal', 'neurons': 32}\n",
      "0.296875 (0.360189) with: {'activation': <function leaky_relu at 0x00000265200ED158>, 'hidden_layers': 12, 'init_mode': 'he_normal', 'neurons': 64}\n",
      "0.312500 (0.196398) with: {'activation': <function leaky_relu at 0x00000265200ED158>, 'hidden_layers': 12, 'init_mode': 'he_normal', 'neurons': 128}\n"
     ]
    }
   ],
   "source": [
    "print(\"Scaler = standard\")\n",
    "print(\"Best: %f using %s\" % (std_grid_result.best_score_, std_grid_result.best_params_))\n",
    "means = std_grid_result.cv_results_['mean_test_score']\n",
    "stds = std_grid_result.cv_results_['std_test_score']\n",
    "params = std_grid_result.cv_results_['params']\n",
    "\n",
    "for mean, stdev, param in zip(means, stds, params):\n",
    "    print(\"%f (%f) with: %r\" % (mean, stdev, param))"
   ]
  },
  {
   "cell_type": "code",
   "execution_count": 35,
   "metadata": {},
   "outputs": [
    {
     "name": "stdout",
     "output_type": "stream",
     "text": [
      "Accuracy =  0.47619047619047616\n",
      "Confusion Matrix\n",
      "[[6 0 0 0 0 0]\n",
      " [0 8 0 0 0 0]\n",
      " [5 1 1 0 0 1]\n",
      " [0 1 0 0 6 0]\n",
      " [0 0 0 0 5 0]\n",
      " [0 2 0 0 6 0]]\n",
      "\n",
      "Classification Report\n",
      "              precision    recall  f1-score   support\n",
      "\n",
      "         0.0       0.55      1.00      0.71         6\n",
      "         1.0       0.67      1.00      0.80         8\n",
      "         2.0       1.00      0.12      0.22         8\n",
      "         3.0       0.00      0.00      0.00         7\n",
      "         4.0       0.29      1.00      0.45         5\n",
      "         5.0       0.00      0.00      0.00         8\n",
      "\n",
      "    accuracy                           0.48        42\n",
      "   macro avg       0.42      0.52      0.36        42\n",
      "weighted avg       0.43      0.48      0.35        42\n",
      "\n"
     ]
    }
   ],
   "source": [
    "pred = minmax_grid.predict(mm_ts_data)\n",
    "\n",
    "accuracy = accuracy_score(pred, ts_ans)\n",
    "ts_ans = ts_ans.astype(float)\n",
    "precision, recall, fbeta_score, support = precision_recall_fscore_support(ts_ans, pred)\n",
    "conf_mat = confusion_matrix(ts_ans, pred)\n",
    "print(\"Accuracy = \", accuracy)\n",
    "print(\"Confusion Matrix\")\n",
    "print(\"{0}\".format(metrics.confusion_matrix(ts_ans, pred)))\n",
    "print(\"\")\n",
    "print(\"Classification Report\")\n",
    "print(metrics.classification_report(ts_ans, pred))"
   ]
  },
  {
   "cell_type": "code",
   "execution_count": 36,
   "metadata": {},
   "outputs": [
    {
     "data": {
      "text/plain": [
       "array([1, 1, 1, 1, 1, 1, 1, 1, 4, 4, 4, 4, 4, 1, 4, 4, 4, 4, 4, 4, 4, 1,\n",
       "       1, 4, 4, 4, 4, 4, 2, 1, 0, 5, 0, 0, 0, 0, 0, 0, 0, 0, 0, 0],\n",
       "      dtype=int64)"
      ]
     },
     "execution_count": 36,
     "metadata": {},
     "output_type": "execute_result"
    }
   ],
   "source": [
    "pred"
   ]
  },
  {
   "cell_type": "code",
   "execution_count": 37,
   "metadata": {},
   "outputs": [
    {
     "name": "stdout",
     "output_type": "stream",
     "text": [
      "Accuracy =  0.5238095238095238\n",
      "Confusion Matrix\n",
      "[[4 0 2 0 0 0]\n",
      " [0 6 0 0 2 0]\n",
      " [0 0 7 0 1 0]\n",
      " [0 0 0 0 7 0]\n",
      " [0 0 0 0 5 0]\n",
      " [0 1 0 0 7 0]]\n",
      "\n",
      "Classification Report\n",
      "              precision    recall  f1-score   support\n",
      "\n",
      "         0.0       1.00      0.67      0.80         6\n",
      "         1.0       0.86      0.75      0.80         8\n",
      "         2.0       0.78      0.88      0.82         8\n",
      "         3.0       0.00      0.00      0.00         7\n",
      "         4.0       0.23      1.00      0.37         5\n",
      "         5.0       0.00      0.00      0.00         8\n",
      "\n",
      "    accuracy                           0.52        42\n",
      "   macro avg       0.48      0.55      0.47        42\n",
      "weighted avg       0.48      0.52      0.47        42\n",
      "\n"
     ]
    }
   ],
   "source": [
    "pred = std_grid.predict(std_ts_data)\n",
    "\n",
    "accuracy = accuracy_score(pred, ts_ans)\n",
    "ts_ans = ts_ans.astype(float)\n",
    "precision, recall, fbeta_score, support = precision_recall_fscore_support(ts_ans, pred)\n",
    "conf_mat = confusion_matrix(ts_ans, pred)\n",
    "print(\"Accuracy = \", accuracy)\n",
    "print(\"Confusion Matrix\")\n",
    "print(\"{0}\".format(metrics.confusion_matrix(ts_ans, pred)))\n",
    "print(\"\")\n",
    "print(\"Classification Report\")\n",
    "print(metrics.classification_report(ts_ans, pred))"
   ]
  },
  {
   "cell_type": "code",
   "execution_count": 38,
   "metadata": {},
   "outputs": [
    {
     "data": {
      "text/plain": [
       "array([1, 1, 1, 4, 4, 1, 1, 1, 4, 4, 4, 4, 4, 4, 4, 4, 4, 4, 4, 4, 4, 1,\n",
       "       4, 4, 4, 4, 4, 4, 2, 4, 2, 2, 2, 2, 2, 2, 0, 0, 2, 2, 0, 0],\n",
       "      dtype=int64)"
      ]
     },
     "execution_count": 38,
     "metadata": {},
     "output_type": "execute_result"
    }
   ],
   "source": [
    "pred"
   ]
  },
  {
   "cell_type": "code",
   "execution_count": 33,
   "metadata": {
    "colab": {},
    "colab_type": "code",
    "id": "MKmXpPoXdidO"
   },
   "outputs": [],
   "source": [
    "# # testbed Version\n",
    "\n",
    "\n",
    "# def create_model(hidden_layers = 1, neurons =1, init_mode = 'uniform', activation = 'elu'):\n",
    "#     model = Sequential()\n",
    "#     model.add(Dense(neurons, input_dim=len(tr_data.T), kernel_initializer=init_mode, activation=activation))\n",
    "\n",
    "#     for i in range(hidden_layers):\n",
    "        \n",
    "#         model.add(Dense(neurons, kernel_initializer=init_mode))\n",
    "#         model.add(BatchNormalization())\n",
    "#         model.add(Activation(activation))\n",
    "#         model.add(Dropout(0.2))\n",
    "  \n",
    "#     if class_count == 2:  \n",
    "#         model.add(Dense(1,activation='sigmoid'))\n",
    "#         model.compile(loss='binary_crossentropy', optimizer='adam', metrics=['accuracy'])\n",
    "#     elif class_count != 2:\n",
    "#         model.add(Dense(class_count-1, activation='softmax'))\n",
    "#         model.compile(loss='sparse_categorical_crossentropy', optimizer='adam', metrics=['accuracy'])\n",
    "\n",
    "#     return model\n",
    "\n",
    "\n",
    "# hidden_layers = [5, 10]\n",
    "# neurons = [32, 64]\n",
    "# activation = ['elu']\n",
    "# init_mode = ['he_uniform']\n",
    "\n",
    "# keras_model = KerasClassifier(build_fn=create_model, epochs=4, batch_size=4)\n",
    "\n",
    "# param_grid = dict(hidden_layers = hidden_layers, neurons = neurons, init_mode = init_mode, activation = activation)\n",
    "# grid = GridSearchCV(estimator=keras_model, param_grid=param_grid, n_jobs= -1, cv=2)"
   ]
  },
  {
   "cell_type": "code",
   "execution_count": null,
   "metadata": {
    "colab": {},
    "colab_type": "code",
    "id": "1pNmP5gQVTsZ"
   },
   "outputs": [],
   "source": []
  }
 ],
 "metadata": {
  "accelerator": "GPU",
  "colab": {
   "collapsed_sections": [],
   "name": "pima_indian_diabetes.ipynb",
   "provenance": [],
   "version": "0.3.2"
  },
  "kernelspec": {
   "display_name": "Python 3",
   "language": "python",
   "name": "python3"
  },
  "language_info": {
   "codemirror_mode": {
    "name": "ipython",
    "version": 3
   },
   "file_extension": ".py",
   "mimetype": "text/x-python",
   "name": "python",
   "nbconvert_exporter": "python",
   "pygments_lexer": "ipython3",
   "version": "3.6.8"
  }
 },
 "nbformat": 4,
 "nbformat_minor": 1
}
