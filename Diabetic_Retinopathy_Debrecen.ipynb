{
 "cells": [
  {
   "cell_type": "code",
   "execution_count": 1,
   "metadata": {
    "colab": {},
    "colab_type": "code",
    "id": "mL7zvImn9Fbf"
   },
   "outputs": [],
   "source": [
    "import numpy as np\n",
    "import pandas as pd\n",
    "from sklearn.preprocessing import MinMaxScaler\n",
    "from sklearn.preprocessing import StandardScaler"
   ]
  },
  {
   "cell_type": "code",
   "execution_count": 2,
   "metadata": {
    "colab": {
     "base_uri": "https://localhost:8080/",
     "height": 34
    },
    "colab_type": "code",
    "executionInfo": {
     "elapsed": 877,
     "status": "ok",
     "timestamp": 1562058530713,
     "user": {
      "displayName": "이동재",
      "photoUrl": "",
      "userId": "12052501428717228434"
     },
     "user_tz": -540
    },
    "id": "xqpvhmwe3Y5G",
    "outputId": "d82b6fab-132a-484f-e274-7f805be83209"
   },
   "outputs": [],
   "source": [
    "df_train = pd.read_excel('messidor_features.train.xlsx')\n",
    "df_test = pd.read_excel('messidor_features.test.xlsx')"
   ]
  },
  {
   "cell_type": "code",
   "execution_count": 3,
   "metadata": {},
   "outputs": [],
   "source": [
    "train = df_train\n",
    "test = df_test"
   ]
  },
  {
   "cell_type": "code",
   "execution_count": 4,
   "metadata": {},
   "outputs": [
    {
     "data": {
      "text/plain": [
       "(691, 20)"
      ]
     },
     "execution_count": 4,
     "metadata": {},
     "output_type": "execute_result"
    }
   ],
   "source": [
    "train.shape"
   ]
  },
  {
   "cell_type": "code",
   "execution_count": 5,
   "metadata": {
    "colab": {
     "base_uri": "https://localhost:8080/",
     "height": 34
    },
    "colab_type": "code",
    "executionInfo": {
     "elapsed": 516,
     "status": "ok",
     "timestamp": 1562058530714,
     "user": {
      "displayName": "이동재",
      "photoUrl": "",
      "userId": "12052501428717228434"
     },
     "user_tz": -540
    },
    "id": "t8pTzpUVcq9z",
    "outputId": "f6d4f95b-36f9-4a7f-eddf-ef67301f6e4c"
   },
   "outputs": [
    {
     "data": {
      "text/plain": [
       "(460, 20)"
      ]
     },
     "execution_count": 5,
     "metadata": {},
     "output_type": "execute_result"
    }
   ],
   "source": [
    "test.shape"
   ]
  },
  {
   "cell_type": "code",
   "execution_count": 6,
   "metadata": {},
   "outputs": [
    {
     "data": {
      "text/html": [
       "<div>\n",
       "<style scoped>\n",
       "    .dataframe tbody tr th:only-of-type {\n",
       "        vertical-align: middle;\n",
       "    }\n",
       "\n",
       "    .dataframe tbody tr th {\n",
       "        vertical-align: top;\n",
       "    }\n",
       "\n",
       "    .dataframe thead th {\n",
       "        text-align: right;\n",
       "    }\n",
       "</style>\n",
       "<table border=\"1\" class=\"dataframe\">\n",
       "  <thead>\n",
       "    <tr style=\"text-align: right;\">\n",
       "      <th></th>\n",
       "      <th>f1</th>\n",
       "      <th>f2</th>\n",
       "      <th>f3</th>\n",
       "      <th>f4</th>\n",
       "      <th>f5</th>\n",
       "      <th>f6</th>\n",
       "      <th>f7</th>\n",
       "      <th>f8</th>\n",
       "      <th>f9</th>\n",
       "      <th>f10</th>\n",
       "      <th>f11</th>\n",
       "      <th>f12</th>\n",
       "      <th>f13</th>\n",
       "      <th>f14</th>\n",
       "      <th>f15</th>\n",
       "      <th>f16</th>\n",
       "      <th>f17</th>\n",
       "      <th>f18</th>\n",
       "      <th>f19</th>\n",
       "      <th>class</th>\n",
       "    </tr>\n",
       "  </thead>\n",
       "  <tbody>\n",
       "    <tr>\n",
       "      <th>count</th>\n",
       "      <td>691.000000</td>\n",
       "      <td>691.000000</td>\n",
       "      <td>691.000000</td>\n",
       "      <td>691.000000</td>\n",
       "      <td>691.000000</td>\n",
       "      <td>691.000000</td>\n",
       "      <td>691.000000</td>\n",
       "      <td>691.000000</td>\n",
       "      <td>691.000000</td>\n",
       "      <td>691.000000</td>\n",
       "      <td>691.000000</td>\n",
       "      <td>691.000000</td>\n",
       "      <td>691.000000</td>\n",
       "      <td>691.000000</td>\n",
       "      <td>691.000000</td>\n",
       "      <td>691.000000</td>\n",
       "      <td>691.000000</td>\n",
       "      <td>691.000000</td>\n",
       "      <td>691.00000</td>\n",
       "      <td>691.000000</td>\n",
       "    </tr>\n",
       "    <tr>\n",
       "      <th>mean</th>\n",
       "      <td>0.997106</td>\n",
       "      <td>0.918958</td>\n",
       "      <td>38.848046</td>\n",
       "      <td>37.327062</td>\n",
       "      <td>35.548480</td>\n",
       "      <td>32.693198</td>\n",
       "      <td>29.091172</td>\n",
       "      <td>21.455861</td>\n",
       "      <td>61.401189</td>\n",
       "      <td>22.512123</td>\n",
       "      <td>8.259997</td>\n",
       "      <td>1.735647</td>\n",
       "      <td>0.512054</td>\n",
       "      <td>0.197704</td>\n",
       "      <td>0.085826</td>\n",
       "      <td>0.039275</td>\n",
       "      <td>0.522887</td>\n",
       "      <td>0.108830</td>\n",
       "      <td>0.33864</td>\n",
       "      <td>0.513748</td>\n",
       "    </tr>\n",
       "    <tr>\n",
       "      <th>std</th>\n",
       "      <td>0.053760</td>\n",
       "      <td>0.273097</td>\n",
       "      <td>25.810711</td>\n",
       "      <td>24.111459</td>\n",
       "      <td>22.726066</td>\n",
       "      <td>21.023484</td>\n",
       "      <td>19.334705</td>\n",
       "      <td>15.022563</td>\n",
       "      <td>55.799054</td>\n",
       "      <td>20.863280</td>\n",
       "      <td>11.096879</td>\n",
       "      <td>3.461745</td>\n",
       "      <td>1.765507</td>\n",
       "      <td>0.794491</td>\n",
       "      <td>0.381808</td>\n",
       "      <td>0.189818</td>\n",
       "      <td>0.027263</td>\n",
       "      <td>0.018162</td>\n",
       "      <td>0.47359</td>\n",
       "      <td>0.500173</td>\n",
       "    </tr>\n",
       "    <tr>\n",
       "      <th>min</th>\n",
       "      <td>0.000000</td>\n",
       "      <td>0.000000</td>\n",
       "      <td>1.000000</td>\n",
       "      <td>1.000000</td>\n",
       "      <td>1.000000</td>\n",
       "      <td>1.000000</td>\n",
       "      <td>1.000000</td>\n",
       "      <td>1.000000</td>\n",
       "      <td>0.349274</td>\n",
       "      <td>0.000000</td>\n",
       "      <td>0.000000</td>\n",
       "      <td>0.000000</td>\n",
       "      <td>0.000000</td>\n",
       "      <td>0.000000</td>\n",
       "      <td>0.000000</td>\n",
       "      <td>0.000000</td>\n",
       "      <td>0.435035</td>\n",
       "      <td>0.071071</td>\n",
       "      <td>0.00000</td>\n",
       "      <td>0.000000</td>\n",
       "    </tr>\n",
       "    <tr>\n",
       "      <th>25%</th>\n",
       "      <td>1.000000</td>\n",
       "      <td>1.000000</td>\n",
       "      <td>17.000000</td>\n",
       "      <td>16.000000</td>\n",
       "      <td>16.000000</td>\n",
       "      <td>14.000000</td>\n",
       "      <td>12.000000</td>\n",
       "      <td>9.000000</td>\n",
       "      <td>20.572379</td>\n",
       "      <td>7.898627</td>\n",
       "      <td>1.188308</td>\n",
       "      <td>0.081471</td>\n",
       "      <td>0.000000</td>\n",
       "      <td>0.000000</td>\n",
       "      <td>0.000000</td>\n",
       "      <td>0.000000</td>\n",
       "      <td>0.503062</td>\n",
       "      <td>0.096154</td>\n",
       "      <td>0.00000</td>\n",
       "      <td>0.000000</td>\n",
       "    </tr>\n",
       "    <tr>\n",
       "      <th>50%</th>\n",
       "      <td>1.000000</td>\n",
       "      <td>1.000000</td>\n",
       "      <td>36.000000</td>\n",
       "      <td>35.000000</td>\n",
       "      <td>33.000000</td>\n",
       "      <td>30.000000</td>\n",
       "      <td>26.000000</td>\n",
       "      <td>19.000000</td>\n",
       "      <td>43.875057</td>\n",
       "      <td>16.899024</td>\n",
       "      <td>4.385993</td>\n",
       "      <td>0.468778</td>\n",
       "      <td>0.022462</td>\n",
       "      <td>0.002013</td>\n",
       "      <td>0.000000</td>\n",
       "      <td>0.000000</td>\n",
       "      <td>0.522802</td>\n",
       "      <td>0.106655</td>\n",
       "      <td>0.00000</td>\n",
       "      <td>1.000000</td>\n",
       "    </tr>\n",
       "    <tr>\n",
       "      <th>75%</th>\n",
       "      <td>1.000000</td>\n",
       "      <td>1.000000</td>\n",
       "      <td>56.000000</td>\n",
       "      <td>54.000000</td>\n",
       "      <td>51.000000</td>\n",
       "      <td>48.500000</td>\n",
       "      <td>43.000000</td>\n",
       "      <td>32.500000</td>\n",
       "      <td>82.226241</td>\n",
       "      <td>31.324945</td>\n",
       "      <td>11.262884</td>\n",
       "      <td>1.854973</td>\n",
       "      <td>0.196650</td>\n",
       "      <td>0.037103</td>\n",
       "      <td>0.004897</td>\n",
       "      <td>0.003898</td>\n",
       "      <td>0.542711</td>\n",
       "      <td>0.120479</td>\n",
       "      <td>1.00000</td>\n",
       "      <td>1.000000</td>\n",
       "    </tr>\n",
       "    <tr>\n",
       "      <th>max</th>\n",
       "      <td>1.000000</td>\n",
       "      <td>1.000000</td>\n",
       "      <td>151.000000</td>\n",
       "      <td>132.000000</td>\n",
       "      <td>120.000000</td>\n",
       "      <td>105.000000</td>\n",
       "      <td>84.000000</td>\n",
       "      <td>71.000000</td>\n",
       "      <td>403.939108</td>\n",
       "      <td>167.131427</td>\n",
       "      <td>106.070092</td>\n",
       "      <td>33.298200</td>\n",
       "      <td>19.666215</td>\n",
       "      <td>9.182962</td>\n",
       "      <td>5.228413</td>\n",
       "      <td>3.086753</td>\n",
       "      <td>0.592217</td>\n",
       "      <td>0.219199</td>\n",
       "      <td>1.00000</td>\n",
       "      <td>1.000000</td>\n",
       "    </tr>\n",
       "  </tbody>\n",
       "</table>\n",
       "</div>"
      ],
      "text/plain": [
       "               f1          f2          f3          f4          f5          f6  \\\n",
       "count  691.000000  691.000000  691.000000  691.000000  691.000000  691.000000   \n",
       "mean     0.997106    0.918958   38.848046   37.327062   35.548480   32.693198   \n",
       "std      0.053760    0.273097   25.810711   24.111459   22.726066   21.023484   \n",
       "min      0.000000    0.000000    1.000000    1.000000    1.000000    1.000000   \n",
       "25%      1.000000    1.000000   17.000000   16.000000   16.000000   14.000000   \n",
       "50%      1.000000    1.000000   36.000000   35.000000   33.000000   30.000000   \n",
       "75%      1.000000    1.000000   56.000000   54.000000   51.000000   48.500000   \n",
       "max      1.000000    1.000000  151.000000  132.000000  120.000000  105.000000   \n",
       "\n",
       "               f7          f8          f9         f10         f11         f12  \\\n",
       "count  691.000000  691.000000  691.000000  691.000000  691.000000  691.000000   \n",
       "mean    29.091172   21.455861   61.401189   22.512123    8.259997    1.735647   \n",
       "std     19.334705   15.022563   55.799054   20.863280   11.096879    3.461745   \n",
       "min      1.000000    1.000000    0.349274    0.000000    0.000000    0.000000   \n",
       "25%     12.000000    9.000000   20.572379    7.898627    1.188308    0.081471   \n",
       "50%     26.000000   19.000000   43.875057   16.899024    4.385993    0.468778   \n",
       "75%     43.000000   32.500000   82.226241   31.324945   11.262884    1.854973   \n",
       "max     84.000000   71.000000  403.939108  167.131427  106.070092   33.298200   \n",
       "\n",
       "              f13         f14         f15         f16         f17         f18  \\\n",
       "count  691.000000  691.000000  691.000000  691.000000  691.000000  691.000000   \n",
       "mean     0.512054    0.197704    0.085826    0.039275    0.522887    0.108830   \n",
       "std      1.765507    0.794491    0.381808    0.189818    0.027263    0.018162   \n",
       "min      0.000000    0.000000    0.000000    0.000000    0.435035    0.071071   \n",
       "25%      0.000000    0.000000    0.000000    0.000000    0.503062    0.096154   \n",
       "50%      0.022462    0.002013    0.000000    0.000000    0.522802    0.106655   \n",
       "75%      0.196650    0.037103    0.004897    0.003898    0.542711    0.120479   \n",
       "max     19.666215    9.182962    5.228413    3.086753    0.592217    0.219199   \n",
       "\n",
       "             f19       class  \n",
       "count  691.00000  691.000000  \n",
       "mean     0.33864    0.513748  \n",
       "std      0.47359    0.500173  \n",
       "min      0.00000    0.000000  \n",
       "25%      0.00000    0.000000  \n",
       "50%      0.00000    1.000000  \n",
       "75%      1.00000    1.000000  \n",
       "max      1.00000    1.000000  "
      ]
     },
     "execution_count": 6,
     "metadata": {},
     "output_type": "execute_result"
    }
   ],
   "source": [
    "train.describe()"
   ]
  },
  {
   "cell_type": "code",
   "execution_count": 7,
   "metadata": {},
   "outputs": [],
   "source": [
    "import seaborn\n",
    "import matplotlib.pyplot as plt\n",
    "\n",
    "def plot_df(df, name):\n",
    "  corr = df[df.columns].corr()\n",
    "  mask = np.zeros_like(corr, dtype=np.bool)\n",
    "  mask[np.triu_indices_from(mask)] = True\n",
    "  plt.figure(figsize=(20, 15))\n",
    "  seaborn.set(font_scale=1.2)\n",
    "  seaborn.heatmap(corr, mask=mask, center=0, annot=True,\n",
    "    square=True, linewidths=3, alpha=0.7)\n",
    "  plt.title(name)"
   ]
  },
  {
   "cell_type": "code",
   "execution_count": 8,
   "metadata": {},
   "outputs": [
    {
     "data": {
      "image/png": "[encoded data removed]",
      "text/plain": [
       "<Figure size 1440x1080 with 2 Axes>"
      ]
     },
     "metadata": {
      "needs_background": "light"
     },
     "output_type": "display_data"
    }
   ],
   "source": [
    "plot_df(train, 'Train')"
   ]
  },
  {
   "cell_type": "code",
   "execution_count": 9,
   "metadata": {
    "colab": {
     "base_uri": "https://localhost:8080/",
     "height": 140
    },
    "colab_type": "code",
    "executionInfo": {
     "elapsed": 569,
     "status": "ok",
     "timestamp": 1562058531066,
     "user": {
      "displayName": "이동재",
      "photoUrl": "",
      "userId": "12052501428717228434"
     },
     "user_tz": -540
    },
    "id": "NSjRKJko-Dcv",
    "outputId": "0e325a9e-d3d5-47a6-9df5-82990cb06120"
   },
   "outputs": [
    {
     "name": "stdout",
     "output_type": "stream",
     "text": [
      "Index(['f1', 'f2', 'f3', 'f4', 'f5', 'f6', 'f7', 'f8', 'f9', 'f10', 'f11',\n",
      "       'f12', 'f13', 'f14', 'f15', 'f16', 'f17', 'f18', 'f19', 'class'],\n",
      "      dtype='object')\n"
     ]
    }
   ],
   "source": [
    "print(train.columns)"
   ]
  },
  {
   "cell_type": "code",
   "execution_count": 10,
   "metadata": {
    "colab": {
     "base_uri": "https://localhost:8080/",
     "height": 34
    },
    "colab_type": "code",
    "executionInfo": {
     "elapsed": 5744,
     "status": "ok",
     "timestamp": 1562058536952,
     "user": {
      "displayName": "이동재",
      "photoUrl": "",
      "userId": "12052501428717228434"
     },
     "user_tz": -540
    },
    "id": "7VLAjJXm-xpB",
    "outputId": "ec729c6a-a9cb-42d4-f774-0e1567be953f"
   },
   "outputs": [
    {
     "name": "stdout",
     "output_type": "stream",
     "text": [
      "Chooese the class: class\n"
     ]
    }
   ],
   "source": [
    "class_name = input(\"Chooese the class: \")"
   ]
  },
  {
   "cell_type": "code",
   "execution_count": 11,
   "metadata": {
    "colab": {},
    "colab_type": "code",
    "id": "DgUHg4ED3uWO"
   },
   "outputs": [],
   "source": [
    "minmax_scaler = MinMaxScaler()\n",
    "standard_scaler = StandardScaler()"
   ]
  },
  {
   "cell_type": "code",
   "execution_count": 12,
   "metadata": {
    "colab": {
     "base_uri": "https://localhost:8080/",
     "height": 34
    },
    "colab_type": "code",
    "executionInfo": {
     "elapsed": 1164,
     "status": "ok",
     "timestamp": 1562058540201,
     "user": {
      "displayName": "이동재",
      "photoUrl": "",
      "userId": "12052501428717228434"
     },
     "user_tz": -540
    },
    "id": "6x0W2mAC-wgw",
    "outputId": "a933e1c2-64cc-449e-cc01-a66b8b1b4a92"
   },
   "outputs": [
    {
     "name": "stdout",
     "output_type": "stream",
     "text": [
      "2\n"
     ]
    }
   ],
   "source": [
    "tr_ans = train[class_name]\n",
    "ts_ans = test[class_name]\n",
    "class_count = len(tr_ans.unique())\n",
    "print(class_count)"
   ]
  },
  {
   "cell_type": "code",
   "execution_count": 13,
   "metadata": {
    "colab": {},
    "colab_type": "code",
    "id": "WnKjCuCfAguo"
   },
   "outputs": [],
   "source": [
    "tr_data = train.drop([class_name], axis=1)\n",
    "ts_data = test.drop([class_name], axis=1)"
   ]
  },
  {
   "cell_type": "code",
   "execution_count": 14,
   "metadata": {
    "colab": {
     "base_uri": "https://localhost:8080/",
     "height": 72
    },
    "colab_type": "code",
    "executionInfo": {
     "elapsed": 723,
     "status": "ok",
     "timestamp": 1562058547225,
     "user": {
      "displayName": "이동재",
      "photoUrl": "",
      "userId": "12052501428717228434"
     },
     "user_tz": -540
    },
    "id": "lmjXkka1Lucy",
    "outputId": "7edc3aec-a0fa-4a33-d09b-1931e2d1fb27"
   },
   "outputs": [],
   "source": [
    "# #결측치 채우기 if 결측치가 0일 경우\n",
    "\n",
    "# from sklearn.impute import SimpleImputer\n",
    "\n",
    "# rep_0 = SimpleImputer(missing_values=0, strategy=\"mean\")\n",
    "\n",
    "# tr_data = rep_0.fit_transform(tr_data)\n",
    "# ts_data = rep_0.fit_transform(ts_data)"
   ]
  },
  {
   "cell_type": "code",
   "execution_count": 15,
   "metadata": {
    "colab": {},
    "colab_type": "code",
    "id": "Z_Yw0W7eAmgw"
   },
   "outputs": [
    {
     "name": "stderr",
     "output_type": "stream",
     "text": [
      "C:\\Users\\LeeDongJae\\AppData\\Local\\Continuum\\anaconda3\\lib\\site-packages\\sklearn\\preprocessing\\data.py:334: DataConversionWarning: Data with input dtype int64, float64 were all converted to float64 by MinMaxScaler.\n",
      "  return self.partial_fit(X, y)\n",
      "C:\\Users\\LeeDongJae\\AppData\\Local\\Continuum\\anaconda3\\lib\\site-packages\\sklearn\\preprocessing\\data.py:645: DataConversionWarning: Data with input dtype int64, float64 were all converted to float64 by StandardScaler.\n",
      "  return self.partial_fit(X, y)\n",
      "C:\\Users\\LeeDongJae\\AppData\\Local\\Continuum\\anaconda3\\lib\\site-packages\\sklearn\\base.py:464: DataConversionWarning: Data with input dtype int64, float64 were all converted to float64 by StandardScaler.\n",
      "  return self.fit(X, **fit_params).transform(X)\n",
      "C:\\Users\\LeeDongJae\\AppData\\Local\\Continuum\\anaconda3\\lib\\site-packages\\ipykernel_launcher.py:4: DataConversionWarning: Data with input dtype int64, float64 were all converted to float64 by StandardScaler.\n",
      "  after removing the cwd from sys.path.\n"
     ]
    }
   ],
   "source": [
    "mm_tr_data = minmax_scaler.fit_transform(tr_data)\n",
    "mm_ts_data = minmax_scaler.transform(ts_data)\n",
    "std_tr_data = standard_scaler.fit_transform(tr_data)\n",
    "std_ts_data = standard_scaler.transform(ts_data)\n",
    "tr_ans = np.array(tr_ans)\n",
    "ts_ans = np.array(ts_ans)"
   ]
  },
  {
   "cell_type": "code",
   "execution_count": 16,
   "metadata": {
    "colab": {
     "base_uri": "https://localhost:8080/",
     "height": 386
    },
    "colab_type": "code",
    "executionInfo": {
     "elapsed": 712,
     "status": "ok",
     "timestamp": 1562058552746,
     "user": {
      "displayName": "이동재",
      "photoUrl": "",
      "userId": "12052501428717228434"
     },
     "user_tz": -540
    },
    "id": "Rz4XG4MMOHGu",
    "outputId": "70f5c169-28bc-4010-ae83-14209e83d278"
   },
   "outputs": [
    {
     "data": {
      "text/plain": [
       "array([1, 1, 1, 0, 0, 1, 0, 1, 1, 1, 1, 1, 1, 0, 1, 1, 1, 1, 0, 0, 1, 1,\n",
       "       0, 0, 1, 1, 0, 1, 1, 0, 1, 0, 1, 1, 0, 0, 0, 1, 0, 0, 1, 1, 1, 1,\n",
       "       0, 1, 1, 0, 1, 1, 0, 1, 0, 0, 1, 1, 1, 0, 1, 1, 0, 0, 0, 1, 0, 1,\n",
       "       0, 1, 1, 0, 1, 1, 1, 1, 1, 1, 1, 1, 0, 0, 0, 0, 0, 1, 0, 1, 1, 1,\n",
       "       1, 0, 1, 1, 1, 0, 1, 0, 1, 0, 1, 0, 0, 1, 0, 1, 1, 0, 1, 1, 1, 0,\n",
       "       0, 1, 1, 1, 0, 0, 0, 0, 1, 1, 0, 1, 1, 0, 0, 0, 1, 1, 1, 0, 1, 0,\n",
       "       0, 0, 0, 0, 1, 1, 1, 0, 1, 0, 0, 1, 0, 1, 1, 1, 0, 0, 0, 0, 0, 1,\n",
       "       0, 0, 0, 1, 0, 1, 0, 0, 0, 0, 0, 0, 0, 1, 0, 1, 1, 1, 1, 1, 1, 1,\n",
       "       1, 0, 1, 0, 1, 0, 1, 1, 0, 1, 0, 0, 1, 1, 1, 1, 1, 0, 1, 1, 0, 0,\n",
       "       0, 0, 0, 1, 1, 0, 0, 1, 0, 1, 1, 0, 1, 1, 0, 1, 0, 0, 0, 0, 1, 1,\n",
       "       1, 0, 1, 1, 0, 1, 0, 0, 1, 0, 0, 0, 0, 1, 1, 0, 1, 0, 1, 0, 1, 1,\n",
       "       1, 1, 1, 1, 0, 0, 1, 0, 1, 1, 0, 0, 0, 1, 0, 1, 0, 1, 1, 0, 0, 0,\n",
       "       1, 1, 1, 0, 0, 0, 1, 0, 0, 1, 1, 0, 0, 1, 1, 0, 0, 0, 0, 0, 0, 1,\n",
       "       0, 1, 1, 0, 1, 1, 1, 1, 1, 1, 0, 1, 0, 1, 0, 1, 0, 1, 0, 0, 1, 1,\n",
       "       0, 0, 0, 1, 1, 0, 0, 1, 1, 1, 1, 1, 0, 1, 0, 0, 1, 1, 0, 1, 1, 0,\n",
       "       1, 0, 1, 1, 1, 0, 0, 0, 0, 0, 0, 1, 0, 0, 1, 0, 1, 1, 0, 0, 0, 0,\n",
       "       0, 1, 1, 0, 1, 0, 1, 1, 1, 1, 0, 0, 0, 1, 0, 0, 0, 1, 0, 0, 1, 0,\n",
       "       0, 1, 1, 0, 0, 1, 1, 0, 0, 0, 1, 1, 0, 1, 1, 1, 1, 1, 0, 0, 0, 1,\n",
       "       0, 1, 0, 0, 0, 0, 1, 1, 1, 0, 0, 1, 0, 0, 0, 1, 0, 1, 1, 0, 0, 0,\n",
       "       0, 1, 0, 1, 1, 1, 1, 0, 1, 0, 0, 0, 1, 0, 0, 1, 1, 0, 1, 0, 1, 0,\n",
       "       1, 1, 1, 0, 0, 0, 1, 0, 0, 1, 0, 0, 1, 0, 1, 0, 1, 0, 1, 0, 0, 0,\n",
       "       1, 0, 0, 1, 0, 0, 1, 0, 0, 1, 1, 1, 1, 1, 0, 0, 1, 1, 0, 0, 0, 0,\n",
       "       0, 0, 0, 1, 1, 1, 1, 1, 1, 0, 0, 0, 0, 0, 1, 1, 0, 0, 0, 1, 1, 1,\n",
       "       0, 0, 0, 0, 1, 0, 1, 0, 1, 0, 0, 1, 1, 1, 1, 0, 0, 1, 1, 1, 1, 0,\n",
       "       1, 0, 0, 0, 1, 1, 1, 1, 0, 0, 1, 0, 1, 1, 0, 0, 1, 1, 1, 1, 1, 1,\n",
       "       1, 0, 0, 1, 0, 1, 0, 1, 0, 0, 1, 1, 0, 0, 0, 0, 1, 0, 1, 1, 0, 1,\n",
       "       1, 1, 1, 1, 1, 1, 0, 0, 1, 0, 1, 0, 0, 0, 1, 1, 0, 0, 1, 0, 1, 1,\n",
       "       1, 1, 1, 1, 0, 0, 1, 0, 1, 0, 1, 1, 1, 0, 1, 0, 1, 0, 1, 0, 1, 0,\n",
       "       0, 0, 0, 0, 1, 0, 1, 0, 0, 0, 0, 0, 0, 1, 0, 1, 0, 0, 1, 1, 1, 0,\n",
       "       1, 1, 1, 0, 0, 1, 0, 1, 1, 1, 1, 1, 0, 1, 0, 1, 0, 0, 0, 0, 0, 0,\n",
       "       1, 0, 0, 1, 1, 1, 0, 1, 1, 0, 0, 1, 0, 0, 1, 0, 1, 1, 1, 1, 1, 1,\n",
       "       1, 1, 1, 1, 1, 1, 0, 0, 0], dtype=int64)"
      ]
     },
     "execution_count": 16,
     "metadata": {},
     "output_type": "execute_result"
    }
   ],
   "source": [
    "tr_ans"
   ]
  },
  {
   "cell_type": "code",
   "execution_count": 17,
   "metadata": {
    "colab": {},
    "colab_type": "code",
    "id": "F0_cae6XOksE"
   },
   "outputs": [],
   "source": [
    "import tensorflow as tf\n",
    "from sklearn.model_selection import GridSearchCV\n",
    "from sklearn.model_selection import RandomizedSearchCV\n",
    "from sklearn.model_selection import ParameterGrid\n",
    "from sklearn.metrics import precision_score, recall_score, f1_score, accuracy_score\n",
    "from tensorflow.keras.wrappers.scikit_learn import KerasClassifier\n",
    "from tensorflow.keras.models import Sequential\n",
    "from tensorflow.keras.layers import Dense\n",
    "from tensorflow.keras.layers import Activation\n",
    "from tensorflow.keras.layers import BatchNormalization\n",
    "from tensorflow.keras.layers import Dropout\n",
    "from sklearn import metrics\n",
    "from tensorflow.keras.regularizers import l2\n"
   ]
  },
  {
   "cell_type": "code",
   "execution_count": 18,
   "metadata": {
    "colab": {},
    "colab_type": "code",
    "id": "K8FW6kBo7uPs"
   },
   "outputs": [],
   "source": [
    "from sklearn.metrics import precision_recall_fscore_support\n",
    "from sklearn.metrics import confusion_matrix"
   ]
  },
  {
   "cell_type": "code",
   "execution_count": 19,
   "metadata": {
    "colab": {},
    "colab_type": "code",
    "id": "CHrsnp0Tq8CA"
   },
   "outputs": [],
   "source": [
    "# real Version\n",
    "\n",
    "\n",
    "def create_model(hidden_layers = 1, neurons =1, init_mode = 'uniform', \n",
    "                 activation = 'elu', kernel_regularizer=l2(0.001)):\n",
    "  model = Sequential()\n",
    "  model.add(Dense(neurons, input_dim=len(mm_tr_data.T), kernel_initializer=init_mode, activation=activation))\n",
    "  for i in range(hidden_layers):\n",
    "    \n",
    "    model.add(Dense(neurons, kernel_initializer=init_mode, kernel_regularizer=kernel_regularizer))\n",
    "    model.add(BatchNormalization())\n",
    "    model.add(Activation(activation))\n",
    "    model.add(Dropout(0.2))\n",
    "  \n",
    "  if class_count == 2:  \n",
    "    model.add(Dense(1,activation='sigmoid'))\n",
    "    model.compile(loss='binary_crossentropy', optimizer='adam', metrics=['accuracy'])\n",
    "  elif class_count != 2:\n",
    "    model.add(Dense(class_count, activation='softmax'))\n",
    "    model.compile(loss='sparse_categorical_crossentropy', optimizer='adam', metrics=['accuracy'])\n",
    "  return model"
   ]
  },
  {
   "cell_type": "code",
   "execution_count": 20,
   "metadata": {},
   "outputs": [],
   "source": [
    "keras_model = KerasClassifier(build_fn=create_model, epochs=64, batch_size=16)"
   ]
  },
  {
   "cell_type": "code",
   "execution_count": 21,
   "metadata": {},
   "outputs": [],
   "source": [
    "leaky_relu = tf.nn.leaky_relu\n",
    "hidden_layers = [4,8,16]\n",
    "neurons = [32, 64, 128]\n",
    "activation = ['elu', leaky_relu]\n",
    "init_mode = ['glorot_uniform', 'he_normal']"
   ]
  },
  {
   "cell_type": "code",
   "execution_count": 22,
   "metadata": {},
   "outputs": [],
   "source": [
    "param_grid = dict(hidden_layers = hidden_layers, neurons = neurons, init_mode = init_mode, activation = activation)\n",
    "minmax_grid = GridSearchCV(estimator=keras_model, param_grid=param_grid, n_jobs= -1, cv=3)\n",
    "std_grid = GridSearchCV(estimator=keras_model, param_grid=param_grid, n_jobs= -1, cv=3)"
   ]
  },
  {
   "cell_type": "code",
   "execution_count": 23,
   "metadata": {},
   "outputs": [],
   "source": [
    "import warnings\n",
    "warnings.filterwarnings(\"ignore\")"
   ]
  },
  {
   "cell_type": "code",
   "execution_count": 24,
   "metadata": {},
   "outputs": [
    {
     "name": "stdout",
     "output_type": "stream",
     "text": [
      "WARNING:tensorflow:From C:\\Users\\LeeDongJae\\AppData\\Local\\Continuum\\anaconda3\\lib\\site-packages\\tensorflow\\python\\ops\\resource_variable_ops.py:435: colocate_with (from tensorflow.python.framework.ops) is deprecated and will be removed in a future version.\n",
      "Instructions for updating:\n",
      "Colocations handled automatically by placer.\n",
      "WARNING:tensorflow:From C:\\Users\\LeeDongJae\\AppData\\Local\\Continuum\\anaconda3\\lib\\site-packages\\tensorflow\\python\\keras\\layers\\core.py:143: calling dropout (from tensorflow.python.ops.nn_ops) with keep_prob is deprecated and will be removed in a future version.\n",
      "Instructions for updating:\n",
      "Please use `rate` instead of `keep_prob`. Rate should be set to `rate = 1 - keep_prob`.\n",
      "WARNING:tensorflow:From C:\\Users\\LeeDongJae\\AppData\\Local\\Continuum\\anaconda3\\lib\\site-packages\\tensorflow\\python\\ops\\math_ops.py:3066: to_int32 (from tensorflow.python.ops.math_ops) is deprecated and will be removed in a future version.\n",
      "Instructions for updating:\n",
      "Use tf.cast instead.\n",
      "Epoch 1/64\n",
      "691/691 [==============================] - 2s 3ms/sample - loss: 0.9908 - acc: 0.5499\n",
      "Epoch 2/64\n",
      "691/691 [==============================] - 0s 307us/sample - loss: 0.9577 - acc: 0.5818\n",
      "Epoch 3/64\n",
      "691/691 [==============================] - 0s 292us/sample - loss: 0.9021 - acc: 0.6078\n",
      "Epoch 4/64\n",
      "691/691 [==============================] - 0s 294us/sample - loss: 0.9063 - acc: 0.6006\n",
      "Epoch 5/64\n",
      "691/691 [==============================] - 0s 289us/sample - loss: 0.8704 - acc: 0.6411\n",
      "Epoch 6/64\n",
      "691/691 [==============================] - 0s 286us/sample - loss: 0.8375 - acc: 0.6889\n",
      "Epoch 7/64\n",
      "691/691 [==============================] - 0s 294us/sample - loss: 0.8663 - acc: 0.6614\n",
      "Epoch 8/64\n",
      "691/691 [==============================] - 0s 289us/sample - loss: 0.8663 - acc: 0.6310\n",
      "Epoch 9/64\n",
      "691/691 [==============================] - 0s 294us/sample - loss: 0.8385 - acc: 0.6628\n",
      "Epoch 10/64\n",
      "691/691 [==============================] - 0s 305us/sample - loss: 0.8367 - acc: 0.6657\n",
      "Epoch 11/64\n",
      "691/691 [==============================] - 0s 279us/sample - loss: 0.8305 - acc: 0.6512\n",
      "Epoch 12/64\n",
      "691/691 [==============================] - 0s 299us/sample - loss: 0.8153 - acc: 0.6758\n",
      "Epoch 13/64\n",
      "691/691 [==============================] - 0s 302us/sample - loss: 0.7930 - acc: 0.7077\n",
      "Epoch 14/64\n",
      "691/691 [==============================] - 0s 281us/sample - loss: 0.8085 - acc: 0.6802\n",
      "Epoch 15/64\n",
      "691/691 [==============================] - 0s 298us/sample - loss: 0.8076 - acc: 0.6802\n",
      "Epoch 16/64\n",
      "691/691 [==============================] - 0s 289us/sample - loss: 0.8081 - acc: 0.6744\n",
      "Epoch 17/64\n",
      "691/691 [==============================] - 0s 302us/sample - loss: 0.8278 - acc: 0.6425\n",
      "Epoch 18/64\n",
      "691/691 [==============================] - 0s 292us/sample - loss: 0.7997 - acc: 0.6802\n",
      "Epoch 19/64\n",
      "691/691 [==============================] - 0s 278us/sample - loss: 0.7936 - acc: 0.6802\n",
      "Epoch 20/64\n",
      "691/691 [==============================] - 0s 304us/sample - loss: 0.7794 - acc: 0.7048\n",
      "Epoch 21/64\n",
      "691/691 [==============================] - 0s 296us/sample - loss: 0.7763 - acc: 0.7062\n",
      "Epoch 22/64\n",
      "691/691 [==============================] - 0s 292us/sample - loss: 0.7666 - acc: 0.6932\n",
      "Epoch 23/64\n",
      "691/691 [==============================] - 0s 302us/sample - loss: 0.7844 - acc: 0.6932\n",
      "Epoch 24/64\n",
      "691/691 [==============================] - 0s 294us/sample - loss: 0.7552 - acc: 0.6918\n",
      "Epoch 25/64\n",
      "691/691 [==============================] - 0s 288us/sample - loss: 0.7510 - acc: 0.6961\n",
      "Epoch 26/64\n",
      "691/691 [==============================] - 0s 294us/sample - loss: 0.7519 - acc: 0.7048\n",
      "Epoch 27/64\n",
      "691/691 [==============================] - 0s 299us/sample - loss: 0.7460 - acc: 0.7033\n",
      "Epoch 28/64\n",
      "691/691 [==============================] - 0s 292us/sample - loss: 0.7529 - acc: 0.6932\n",
      "Epoch 29/64\n",
      "691/691 [==============================] - 0s 291us/sample - loss: 0.7425 - acc: 0.7048\n",
      "Epoch 30/64\n",
      "691/691 [==============================] - 0s 297us/sample - loss: 0.7205 - acc: 0.7221\n",
      "Epoch 31/64\n",
      "691/691 [==============================] - 0s 278us/sample - loss: 0.7795 - acc: 0.6556\n",
      "Epoch 32/64\n",
      "691/691 [==============================] - 0s 301us/sample - loss: 0.7480 - acc: 0.6961\n",
      "Epoch 33/64\n",
      "691/691 [==============================] - 0s 286us/sample - loss: 0.7252 - acc: 0.6975\n",
      "Epoch 34/64\n",
      "691/691 [==============================] - 0s 292us/sample - loss: 0.7479 - acc: 0.6918\n",
      "Epoch 35/64\n",
      "691/691 [==============================] - 0s 286us/sample - loss: 0.7273 - acc: 0.7236\n",
      "Epoch 36/64\n",
      "691/691 [==============================] - 0s 297us/sample - loss: 0.7275 - acc: 0.6918\n",
      "Epoch 37/64\n",
      "691/691 [==============================] - 0s 288us/sample - loss: 0.7102 - acc: 0.7106\n",
      "Epoch 38/64\n",
      "691/691 [==============================] - 0s 286us/sample - loss: 0.7136 - acc: 0.7149\n",
      "Epoch 39/64\n",
      "691/691 [==============================] - 0s 292us/sample - loss: 0.7011 - acc: 0.7221\n",
      "Epoch 40/64\n",
      "691/691 [==============================] - 0s 286us/sample - loss: 0.7122 - acc: 0.7091\n",
      "Epoch 41/64\n",
      "691/691 [==============================] - 0s 301us/sample - loss: 0.7081 - acc: 0.7091\n",
      "Epoch 42/64\n",
      "691/691 [==============================] - 0s 285us/sample - loss: 0.6988 - acc: 0.7207\n",
      "Epoch 43/64\n",
      "691/691 [==============================] - 0s 295us/sample - loss: 0.6858 - acc: 0.7178\n",
      "Epoch 44/64\n",
      "691/691 [==============================] - 0s 285us/sample - loss: 0.6874 - acc: 0.7178\n",
      "Epoch 45/64\n",
      "691/691 [==============================] - 0s 285us/sample - loss: 0.6756 - acc: 0.7438\n",
      "Epoch 46/64\n",
      "691/691 [==============================] - 0s 292us/sample - loss: 0.6641 - acc: 0.7410\n",
      "Epoch 47/64\n",
      "691/691 [==============================] - 0s 301us/sample - loss: 0.6824 - acc: 0.7149\n",
      "Epoch 48/64\n",
      "691/691 [==============================] - 0s 286us/sample - loss: 0.7062 - acc: 0.6961\n",
      "Epoch 49/64\n",
      "691/691 [==============================] - 0s 289us/sample - loss: 0.6904 - acc: 0.7077\n",
      "Epoch 50/64\n",
      "691/691 [==============================] - 0s 291us/sample - loss: 0.6970 - acc: 0.7164\n",
      "Epoch 51/64\n",
      "691/691 [==============================] - 0s 291us/sample - loss: 0.6707 - acc: 0.7120\n",
      "Epoch 52/64\n",
      "691/691 [==============================] - 0s 292us/sample - loss: 0.6660 - acc: 0.7164\n",
      "Epoch 53/64\n",
      "691/691 [==============================] - 0s 279us/sample - loss: 0.6540 - acc: 0.7381\n",
      "Epoch 54/64\n",
      "691/691 [==============================] - 0s 297us/sample - loss: 0.6610 - acc: 0.7236\n",
      "Epoch 55/64\n",
      "691/691 [==============================] - 0s 282us/sample - loss: 0.6433 - acc: 0.7250\n",
      "Epoch 56/64\n",
      "691/691 [==============================] - 0s 305us/sample - loss: 0.6901 - acc: 0.6932\n",
      "Epoch 57/64\n",
      "691/691 [==============================] - 0s 279us/sample - loss: 0.6602 - acc: 0.7236\n",
      "Epoch 58/64\n",
      "691/691 [==============================] - 0s 286us/sample - loss: 0.6439 - acc: 0.7294\n",
      "Epoch 59/64\n",
      "691/691 [==============================] - 0s 311us/sample - loss: 0.6452 - acc: 0.7221\n",
      "Epoch 60/64\n",
      "691/691 [==============================] - 0s 289us/sample - loss: 0.6379 - acc: 0.7352\n",
      "Epoch 61/64\n",
      "691/691 [==============================] - 0s 291us/sample - loss: 0.6425 - acc: 0.7294\n",
      "Epoch 62/64\n",
      "691/691 [==============================] - 0s 294us/sample - loss: 0.6475 - acc: 0.7106\n",
      "Epoch 63/64\n",
      "691/691 [==============================] - 0s 289us/sample - loss: 0.6293 - acc: 0.7250\n",
      "Epoch 64/64\n",
      "691/691 [==============================] - 0s 289us/sample - loss: 0.6345 - acc: 0.7149\n"
     ]
    }
   ],
   "source": [
    "minmax_grid_result = minmax_grid.fit(mm_tr_data, tr_ans)"
   ]
  },
  {
   "cell_type": "code",
   "execution_count": 25,
   "metadata": {},
   "outputs": [
    {
     "name": "stdout",
     "output_type": "stream",
     "text": [
      "Epoch 1/64\n",
      "691/691 [==============================] - 4s 6ms/sample - loss: 1.7935 - acc: 0.5499\n",
      "Epoch 2/64\n",
      "691/691 [==============================] - 0s 438us/sample - loss: 1.7297 - acc: 0.5745\n",
      "Epoch 3/64\n",
      "691/691 [==============================] - 0s 447us/sample - loss: 1.7084 - acc: 0.6020\n",
      "Epoch 4/64\n",
      "691/691 [==============================] - 0s 505us/sample - loss: 1.7280 - acc: 0.5253\n",
      "Epoch 5/64\n",
      "691/691 [==============================] - 0s 519us/sample - loss: 1.6754 - acc: 0.6035\n",
      "Epoch 6/64\n",
      "691/691 [==============================] - 0s 499us/sample - loss: 1.6762 - acc: 0.5861\n",
      "Epoch 7/64\n",
      "691/691 [==============================] - 0s 499us/sample - loss: 1.6616 - acc: 0.6078\n",
      "Epoch 8/64\n",
      "691/691 [==============================] - 0s 586us/sample - loss: 1.6209 - acc: 0.6368\n",
      "Epoch 9/64\n",
      "691/691 [==============================] - 0s 541us/sample - loss: 1.6119 - acc: 0.6179\n",
      "Epoch 10/64\n",
      "691/691 [==============================] - 0s 603us/sample - loss: 1.6178 - acc: 0.6165\n",
      "Epoch 11/64\n",
      "691/691 [==============================] - 0s 529us/sample - loss: 1.5977 - acc: 0.6252\n",
      "Epoch 12/64\n",
      "691/691 [==============================] - 0s 538us/sample - loss: 1.5782 - acc: 0.6295\n",
      "Epoch 13/64\n",
      "691/691 [==============================] - 0s 597us/sample - loss: 1.5460 - acc: 0.6556\n",
      "Epoch 14/64\n",
      "691/691 [==============================] - 0s 526us/sample - loss: 1.5718 - acc: 0.6339\n",
      "Epoch 15/64\n",
      "691/691 [==============================] - 0s 482us/sample - loss: 1.5453 - acc: 0.6397\n",
      "Epoch 16/64\n",
      "691/691 [==============================] - 0s 441us/sample - loss: 1.5405 - acc: 0.6339\n",
      "Epoch 17/64\n",
      "691/691 [==============================] - 0s 431us/sample - loss: 1.5294 - acc: 0.6368\n",
      "Epoch 18/64\n",
      "691/691 [==============================] - 0s 445us/sample - loss: 1.5193 - acc: 0.6295\n",
      "Epoch 19/64\n",
      "691/691 [==============================] - 0s 521us/sample - loss: 1.5196 - acc: 0.6310\n",
      "Epoch 20/64\n",
      "691/691 [==============================] - 0s 458us/sample - loss: 1.4971 - acc: 0.6411\n",
      "Epoch 21/64\n",
      "691/691 [==============================] - 0s 458us/sample - loss: 1.4935 - acc: 0.6368\n",
      "Epoch 22/64\n",
      "691/691 [==============================] - 0s 445us/sample - loss: 1.4934 - acc: 0.6281\n",
      "Epoch 23/64\n",
      "691/691 [==============================] - 0s 474us/sample - loss: 1.4728 - acc: 0.6556\n",
      "Epoch 24/64\n",
      "691/691 [==============================] - 0s 466us/sample - loss: 1.4558 - acc: 0.6570\n",
      "Epoch 25/64\n",
      "691/691 [==============================] - 0s 445us/sample - loss: 1.4997 - acc: 0.6136\n",
      "Epoch 26/64\n",
      "691/691 [==============================] - 0s 430us/sample - loss: 1.4555 - acc: 0.6599\n",
      "Epoch 27/64\n",
      "691/691 [==============================] - 0s 534us/sample - loss: 1.4429 - acc: 0.6498\n",
      "Epoch 28/64\n",
      "691/691 [==============================] - 0s 526us/sample - loss: 1.4281 - acc: 0.6787\n",
      "Epoch 29/64\n",
      "691/691 [==============================] - 0s 453us/sample - loss: 1.4274 - acc: 0.6686\n",
      "Epoch 30/64\n",
      "691/691 [==============================] - 0s 641us/sample - loss: 1.4243 - acc: 0.6541\n",
      "Epoch 31/64\n",
      "691/691 [==============================] - 0s 500us/sample - loss: 1.4154 - acc: 0.6498\n",
      "Epoch 32/64\n",
      "691/691 [==============================] - 0s 450us/sample - loss: 1.3928 - acc: 0.6758\n",
      "Epoch 33/64\n",
      "691/691 [==============================] - 0s 454us/sample - loss: 1.3847 - acc: 0.6614\n",
      "Epoch 34/64\n",
      "691/691 [==============================] - 0s 521us/sample - loss: 1.3890 - acc: 0.6454\n",
      "Epoch 35/64\n",
      "691/691 [==============================] - 0s 464us/sample - loss: 1.3862 - acc: 0.6483\n",
      "Epoch 36/64\n",
      "691/691 [==============================] - 0s 555us/sample - loss: 1.3766 - acc: 0.6773\n",
      "Epoch 37/64\n",
      "691/691 [==============================] - 0s 460us/sample - loss: 1.3686 - acc: 0.6541\n",
      "Epoch 38/64\n",
      "691/691 [==============================] - 0s 511us/sample - loss: 1.3558 - acc: 0.6657\n",
      "Epoch 39/64\n",
      "691/691 [==============================] - 0s 456us/sample - loss: 1.3607 - acc: 0.6585\n",
      "Epoch 40/64\n",
      "691/691 [==============================] - 0s 434us/sample - loss: 1.3452 - acc: 0.6787\n",
      "Epoch 41/64\n",
      "691/691 [==============================] - 0s 629us/sample - loss: 1.3302 - acc: 0.6845\n",
      "Epoch 42/64\n",
      "691/691 [==============================] - 0s 474us/sample - loss: 1.3324 - acc: 0.6715\n",
      "Epoch 43/64\n",
      "691/691 [==============================] - 0s 447us/sample - loss: 1.3052 - acc: 0.6874\n",
      "Epoch 44/64\n",
      "691/691 [==============================] - 0s 463us/sample - loss: 1.3019 - acc: 0.6758\n",
      "Epoch 45/64\n",
      "691/691 [==============================] - 0s 577us/sample - loss: 1.2797 - acc: 0.6860\n",
      "Epoch 46/64\n",
      "691/691 [==============================] - 0s 576us/sample - loss: 1.2887 - acc: 0.6643\n",
      "Epoch 47/64\n",
      "691/691 [==============================] - 0s 473us/sample - loss: 1.2949 - acc: 0.6831\n",
      "Epoch 48/64\n",
      "691/691 [==============================] - 0s 574us/sample - loss: 1.2736 - acc: 0.6903\n",
      "Epoch 49/64\n",
      "691/691 [==============================] - 0s 453us/sample - loss: 1.2777 - acc: 0.6512\n",
      "Epoch 50/64\n",
      "691/691 [==============================] - 0s 448us/sample - loss: 1.2718 - acc: 0.6773\n",
      "Epoch 51/64\n",
      "691/691 [==============================] - 0s 479us/sample - loss: 1.2663 - acc: 0.6585\n",
      "Epoch 52/64\n",
      "691/691 [==============================] - 0s 528us/sample - loss: 1.2496 - acc: 0.6700\n",
      "Epoch 53/64\n",
      "691/691 [==============================] - 0s 709us/sample - loss: 1.2175 - acc: 0.7048s - loss: 1.2010 - acc: \n",
      "Epoch 54/64\n",
      "691/691 [==============================] - 0s 524us/sample - loss: 1.2364 - acc: 0.6831\n",
      "Epoch 55/64\n",
      "691/691 [==============================] - 0s 457us/sample - loss: 1.2201 - acc: 0.6758\n",
      "Epoch 56/64\n",
      "691/691 [==============================] - 0s 441us/sample - loss: 1.2317 - acc: 0.6657\n",
      "Epoch 57/64\n",
      "691/691 [==============================] - 1s 917us/sample - loss: 1.2146 - acc: 0.6903\n",
      "Epoch 58/64\n",
      "691/691 [==============================] - 0s 592us/sample - loss: 1.1983 - acc: 0.6990\n",
      "Epoch 59/64\n",
      "691/691 [==============================] - 0s 506us/sample - loss: 1.1855 - acc: 0.6932\n",
      "Epoch 60/64\n",
      "691/691 [==============================] - 0s 430us/sample - loss: 1.1842 - acc: 0.6975\n",
      "Epoch 61/64\n",
      "691/691 [==============================] - 0s 440us/sample - loss: 1.1777 - acc: 0.7048\n",
      "Epoch 62/64\n",
      "691/691 [==============================] - 0s 441us/sample - loss: 1.1734 - acc: 0.7033\n",
      "Epoch 63/64\n",
      "691/691 [==============================] - 0s 428us/sample - loss: 1.1787 - acc: 0.6845\n",
      "Epoch 64/64\n",
      "691/691 [==============================] - 0s 513us/sample - loss: 1.1901 - acc: 0.6657\n"
     ]
    }
   ],
   "source": [
    "std_grid_result = std_grid.fit(std_tr_data, tr_ans)"
   ]
  },
  {
   "cell_type": "code",
   "execution_count": 26,
   "metadata": {
    "scrolled": true
   },
   "outputs": [
    {
     "name": "stdout",
     "output_type": "stream",
     "text": [
      "Scaler = minmax\n",
      "Best: 0.722142 using {'activation': 'elu', 'hidden_layers': 4, 'init_mode': 'glorot_uniform', 'neurons': 64}\n",
      "0.704776 (0.025057) with: {'activation': 'elu', 'hidden_layers': 4, 'init_mode': 'glorot_uniform', 'neurons': 32}\n",
      "0.722142 (0.006601) with: {'activation': 'elu', 'hidden_layers': 4, 'init_mode': 'glorot_uniform', 'neurons': 64}\n",
      "0.691751 (0.036770) with: {'activation': 'elu', 'hidden_layers': 4, 'init_mode': 'glorot_uniform', 'neurons': 128}\n",
      "0.674385 (0.027002) with: {'activation': 'elu', 'hidden_layers': 4, 'init_mode': 'he_normal', 'neurons': 32}\n",
      "0.710564 (0.023025) with: {'activation': 'elu', 'hidden_layers': 4, 'init_mode': 'he_normal', 'neurons': 64}\n",
      "0.687410 (0.033221) with: {'activation': 'elu', 'hidden_layers': 4, 'init_mode': 'he_normal', 'neurons': 128}\n",
      "0.675832 (0.050978) with: {'activation': 'elu', 'hidden_layers': 8, 'init_mode': 'glorot_uniform', 'neurons': 32}\n",
      "0.613603 (0.079129) with: {'activation': 'elu', 'hidden_layers': 8, 'init_mode': 'glorot_uniform', 'neurons': 64}\n",
      "0.694645 (0.036164) with: {'activation': 'elu', 'hidden_layers': 8, 'init_mode': 'glorot_uniform', 'neurons': 128}\n",
      "0.684515 (0.038267) with: {'activation': 'elu', 'hidden_layers': 8, 'init_mode': 'he_normal', 'neurons': 32}\n",
      "0.670043 (0.034442) with: {'activation': 'elu', 'hidden_layers': 8, 'init_mode': 'he_normal', 'neurons': 64}\n",
      "0.681621 (0.018432) with: {'activation': 'elu', 'hidden_layers': 8, 'init_mode': 'he_normal', 'neurons': 128}\n",
      "0.612156 (0.039524) with: {'activation': 'elu', 'hidden_layers': 16, 'init_mode': 'glorot_uniform', 'neurons': 32}\n",
      "0.687410 (0.016731) with: {'activation': 'elu', 'hidden_layers': 16, 'init_mode': 'glorot_uniform', 'neurons': 64}\n",
      "0.710564 (0.029931) with: {'activation': 'elu', 'hidden_layers': 16, 'init_mode': 'glorot_uniform', 'neurons': 128}\n",
      "0.652677 (0.037924) with: {'activation': 'elu', 'hidden_layers': 16, 'init_mode': 'he_normal', 'neurons': 32}\n",
      "0.670043 (0.025425) with: {'activation': 'elu', 'hidden_layers': 16, 'init_mode': 'he_normal', 'neurons': 64}\n",
      "0.652677 (0.015043) with: {'activation': 'elu', 'hidden_layers': 16, 'init_mode': 'he_normal', 'neurons': 128}\n",
      "0.690304 (0.023593) with: {'activation': <function leaky_relu at 0x0000020997E4A950>, 'hidden_layers': 4, 'init_mode': 'glorot_uniform', 'neurons': 32}\n",
      "0.688857 (0.038635) with: {'activation': <function leaky_relu at 0x0000020997E4A950>, 'hidden_layers': 4, 'init_mode': 'glorot_uniform', 'neurons': 64}\n",
      "0.678726 (0.017152) with: {'activation': <function leaky_relu at 0x0000020997E4A950>, 'hidden_layers': 4, 'init_mode': 'glorot_uniform', 'neurons': 128}\n",
      "0.701881 (0.005337) with: {'activation': <function leaky_relu at 0x0000020997E4A950>, 'hidden_layers': 4, 'init_mode': 'he_normal', 'neurons': 32}\n",
      "0.710564 (0.021043) with: {'activation': <function leaky_relu at 0x0000020997E4A950>, 'hidden_layers': 4, 'init_mode': 'he_normal', 'neurons': 64}\n",
      "0.698987 (0.026052) with: {'activation': <function leaky_relu at 0x0000020997E4A950>, 'hidden_layers': 4, 'init_mode': 'he_normal', 'neurons': 128}\n",
      "0.658466 (0.020358) with: {'activation': <function leaky_relu at 0x0000020997E4A950>, 'hidden_layers': 8, 'init_mode': 'glorot_uniform', 'neurons': 32}\n",
      "0.694645 (0.029471) with: {'activation': <function leaky_relu at 0x0000020997E4A950>, 'hidden_layers': 8, 'init_mode': 'glorot_uniform', 'neurons': 64}\n",
      "0.670043 (0.008953) with: {'activation': <function leaky_relu at 0x0000020997E4A950>, 'hidden_layers': 8, 'init_mode': 'glorot_uniform', 'neurons': 128}\n",
      "0.636758 (0.029183) with: {'activation': <function leaky_relu at 0x0000020997E4A950>, 'hidden_layers': 8, 'init_mode': 'he_normal', 'neurons': 32}\n",
      "0.706223 (0.012423) with: {'activation': <function leaky_relu at 0x0000020997E4A950>, 'hidden_layers': 8, 'init_mode': 'he_normal', 'neurons': 64}\n",
      "0.701881 (0.014610) with: {'activation': <function leaky_relu at 0x0000020997E4A950>, 'hidden_layers': 8, 'init_mode': 'he_normal', 'neurons': 128}\n",
      "0.547033 (0.011613) with: {'activation': <function leaky_relu at 0x0000020997E4A950>, 'hidden_layers': 16, 'init_mode': 'glorot_uniform', 'neurons': 32}\n",
      "0.658466 (0.038181) with: {'activation': <function leaky_relu at 0x0000020997E4A950>, 'hidden_layers': 16, 'init_mode': 'glorot_uniform', 'neurons': 64}\n",
      "0.706223 (0.038451) with: {'activation': <function leaky_relu at 0x0000020997E4A950>, 'hidden_layers': 16, 'init_mode': 'glorot_uniform', 'neurons': 128}\n",
      "0.560058 (0.019871) with: {'activation': <function leaky_relu at 0x0000020997E4A950>, 'hidden_layers': 16, 'init_mode': 'he_normal', 'neurons': 32}\n",
      "0.604920 (0.026860) with: {'activation': <function leaky_relu at 0x0000020997E4A950>, 'hidden_layers': 16, 'init_mode': 'he_normal', 'neurons': 64}\n",
      "0.680174 (0.020345) with: {'activation': <function leaky_relu at 0x0000020997E4A950>, 'hidden_layers': 16, 'init_mode': 'he_normal', 'neurons': 128}\n"
     ]
    }
   ],
   "source": [
    "print(\"Scaler = minmax\")\n",
    "print(\"Best: %f using %s\" % (minmax_grid_result.best_score_, minmax_grid_result.best_params_))\n",
    "means = minmax_grid_result.cv_results_['mean_test_score']\n",
    "stds = minmax_grid_result.cv_results_['std_test_score']\n",
    "params = minmax_grid_result.cv_results_['params']\n",
    "\n",
    "for mean, stdev, param in zip(means, stds, params):\n",
    "    print(\"%f (%f) with: %r\" % (mean, stdev, param))"
   ]
  },
  {
   "cell_type": "code",
   "execution_count": 27,
   "metadata": {},
   "outputs": [
    {
     "name": "stdout",
     "output_type": "stream",
     "text": [
      "Scaler = standard\n",
      "Best: 0.733719 using {'activation': 'elu', 'hidden_layers': 8, 'init_mode': 'he_normal', 'neurons': 64}\n",
      "0.727931 (0.010526) with: {'activation': 'elu', 'hidden_layers': 4, 'init_mode': 'glorot_uniform', 'neurons': 32}\n",
      "0.713459 (0.012857) with: {'activation': 'elu', 'hidden_layers': 4, 'init_mode': 'glorot_uniform', 'neurons': 64}\n",
      "0.703329 (0.024396) with: {'activation': 'elu', 'hidden_layers': 4, 'init_mode': 'glorot_uniform', 'neurons': 128}\n",
      "0.716353 (0.010397) with: {'activation': 'elu', 'hidden_layers': 4, 'init_mode': 'he_normal', 'neurons': 32}\n",
      "0.713459 (0.019850) with: {'activation': 'elu', 'hidden_layers': 4, 'init_mode': 'he_normal', 'neurons': 64}\n",
      "0.701881 (0.020580) with: {'activation': 'elu', 'hidden_layers': 4, 'init_mode': 'he_normal', 'neurons': 128}\n",
      "0.709117 (0.014692) with: {'activation': 'elu', 'hidden_layers': 8, 'init_mode': 'glorot_uniform', 'neurons': 32}\n",
      "0.730825 (0.025342) with: {'activation': 'elu', 'hidden_layers': 8, 'init_mode': 'glorot_uniform', 'neurons': 64}\n",
      "0.710564 (0.011035) with: {'activation': 'elu', 'hidden_layers': 8, 'init_mode': 'glorot_uniform', 'neurons': 128}\n",
      "0.701881 (0.016526) with: {'activation': 'elu', 'hidden_layers': 8, 'init_mode': 'he_normal', 'neurons': 32}\n",
      "0.733719 (0.014611) with: {'activation': 'elu', 'hidden_layers': 8, 'init_mode': 'he_normal', 'neurons': 64}\n",
      "0.674385 (0.028366) with: {'activation': 'elu', 'hidden_layers': 8, 'init_mode': 'he_normal', 'neurons': 128}\n",
      "0.684515 (0.018116) with: {'activation': 'elu', 'hidden_layers': 16, 'init_mode': 'glorot_uniform', 'neurons': 32}\n",
      "0.694645 (0.021179) with: {'activation': 'elu', 'hidden_layers': 16, 'init_mode': 'glorot_uniform', 'neurons': 64}\n",
      "0.707670 (0.033301) with: {'activation': 'elu', 'hidden_layers': 16, 'init_mode': 'glorot_uniform', 'neurons': 128}\n",
      "0.659913 (0.021816) with: {'activation': 'elu', 'hidden_layers': 16, 'init_mode': 'he_normal', 'neurons': 32}\n",
      "0.698987 (0.016496) with: {'activation': 'elu', 'hidden_layers': 16, 'init_mode': 'he_normal', 'neurons': 64}\n",
      "0.693198 (0.022531) with: {'activation': 'elu', 'hidden_layers': 16, 'init_mode': 'he_normal', 'neurons': 128}\n",
      "0.690304 (0.001412) with: {'activation': <function leaky_relu at 0x0000020997E4A950>, 'hidden_layers': 4, 'init_mode': 'glorot_uniform', 'neurons': 32}\n",
      "0.693198 (0.015734) with: {'activation': <function leaky_relu at 0x0000020997E4A950>, 'hidden_layers': 4, 'init_mode': 'glorot_uniform', 'neurons': 64}\n",
      "0.704776 (0.023189) with: {'activation': <function leaky_relu at 0x0000020997E4A950>, 'hidden_layers': 4, 'init_mode': 'glorot_uniform', 'neurons': 128}\n",
      "0.710564 (0.016682) with: {'activation': <function leaky_relu at 0x0000020997E4A950>, 'hidden_layers': 4, 'init_mode': 'he_normal', 'neurons': 32}\n",
      "0.703329 (0.026060) with: {'activation': <function leaky_relu at 0x0000020997E4A950>, 'hidden_layers': 4, 'init_mode': 'he_normal', 'neurons': 64}\n",
      "0.716353 (0.001465) with: {'activation': <function leaky_relu at 0x0000020997E4A950>, 'hidden_layers': 4, 'init_mode': 'he_normal', 'neurons': 128}\n",
      "0.701881 (0.021861) with: {'activation': <function leaky_relu at 0x0000020997E4A950>, 'hidden_layers': 8, 'init_mode': 'glorot_uniform', 'neurons': 32}\n",
      "0.694645 (0.009428) with: {'activation': <function leaky_relu at 0x0000020997E4A950>, 'hidden_layers': 8, 'init_mode': 'glorot_uniform', 'neurons': 64}\n",
      "0.716353 (0.014859) with: {'activation': <function leaky_relu at 0x0000020997E4A950>, 'hidden_layers': 8, 'init_mode': 'glorot_uniform', 'neurons': 128}\n",
      "0.674385 (0.018092) with: {'activation': <function leaky_relu at 0x0000020997E4A950>, 'hidden_layers': 8, 'init_mode': 'he_normal', 'neurons': 32}\n",
      "0.706223 (0.001823) with: {'activation': <function leaky_relu at 0x0000020997E4A950>, 'hidden_layers': 8, 'init_mode': 'he_normal', 'neurons': 64}\n",
      "0.684515 (0.035161) with: {'activation': <function leaky_relu at 0x0000020997E4A950>, 'hidden_layers': 8, 'init_mode': 'he_normal', 'neurons': 128}\n",
      "0.551375 (0.022077) with: {'activation': <function leaky_relu at 0x0000020997E4A950>, 'hidden_layers': 16, 'init_mode': 'glorot_uniform', 'neurons': 32}\n",
      "0.641100 (0.028227) with: {'activation': <function leaky_relu at 0x0000020997E4A950>, 'hidden_layers': 16, 'init_mode': 'glorot_uniform', 'neurons': 64}\n",
      "0.684515 (0.001813) with: {'activation': <function leaky_relu at 0x0000020997E4A950>, 'hidden_layers': 16, 'init_mode': 'glorot_uniform', 'neurons': 128}\n",
      "0.513748 (0.012084) with: {'activation': <function leaky_relu at 0x0000020997E4A950>, 'hidden_layers': 16, 'init_mode': 'he_normal', 'neurons': 32}\n",
      "0.600579 (0.031298) with: {'activation': <function leaky_relu at 0x0000020997E4A950>, 'hidden_layers': 16, 'init_mode': 'he_normal', 'neurons': 64}\n",
      "0.684515 (0.017940) with: {'activation': <function leaky_relu at 0x0000020997E4A950>, 'hidden_layers': 16, 'init_mode': 'he_normal', 'neurons': 128}\n"
     ]
    }
   ],
   "source": [
    "print(\"Scaler = standard\")\n",
    "print(\"Best: %f using %s\" % (std_grid_result.best_score_, std_grid_result.best_params_))\n",
    "means = std_grid_result.cv_results_['mean_test_score']\n",
    "stds = std_grid_result.cv_results_['std_test_score']\n",
    "params = std_grid_result.cv_results_['params']\n",
    "\n",
    "for mean, stdev, param in zip(means, stds, params):\n",
    "    print(\"%f (%f) with: %r\" % (mean, stdev, param))"
   ]
  },
  {
   "cell_type": "code",
   "execution_count": 28,
   "metadata": {},
   "outputs": [
    {
     "name": "stdout",
     "output_type": "stream",
     "text": [
      "Accuracy =  0.7130434782608696\n",
      "Confusion Matrix\n",
      "[[179  25]\n",
      " [107 149]]\n",
      "\n",
      "Classification Report\n",
      "              precision    recall  f1-score   support\n",
      "\n",
      "         0.0       0.63      0.88      0.73       204\n",
      "         1.0       0.86      0.58      0.69       256\n",
      "\n",
      "   micro avg       0.71      0.71      0.71       460\n",
      "   macro avg       0.74      0.73      0.71       460\n",
      "weighted avg       0.75      0.71      0.71       460\n",
      "\n"
     ]
    }
   ],
   "source": [
    "pred = minmax_grid.predict(mm_ts_data)\n",
    "\n",
    "accuracy = accuracy_score(pred, ts_ans)\n",
    "ts_ans = ts_ans.astype(float)\n",
    "precision, recall, fbeta_score, support = precision_recall_fscore_support(ts_ans, pred)\n",
    "conf_mat = confusion_matrix(ts_ans, pred)\n",
    "print(\"Accuracy = \", accuracy)\n",
    "print(\"Confusion Matrix\")\n",
    "print(\"{0}\".format(metrics.confusion_matrix(ts_ans, pred)))\n",
    "print(\"\")\n",
    "print(\"Classification Report\")\n",
    "print(metrics.classification_report(ts_ans, pred))"
   ]
  },
  {
   "cell_type": "code",
   "execution_count": 29,
   "metadata": {},
   "outputs": [
    {
     "name": "stdout",
     "output_type": "stream",
     "text": [
      "Accuracy =  0.6978260869565217\n",
      "Confusion Matrix\n",
      "[[176  28]\n",
      " [111 145]]\n",
      "\n",
      "Classification Report\n",
      "              precision    recall  f1-score   support\n",
      "\n",
      "         0.0       0.61      0.86      0.72       204\n",
      "         1.0       0.84      0.57      0.68       256\n",
      "\n",
      "   micro avg       0.70      0.70      0.70       460\n",
      "   macro avg       0.73      0.71      0.70       460\n",
      "weighted avg       0.74      0.70      0.69       460\n",
      "\n"
     ]
    }
   ],
   "source": [
    "pred = std_grid.predict(std_ts_data)\n",
    "\n",
    "accuracy = accuracy_score(pred, ts_ans)\n",
    "ts_ans = ts_ans.astype(float)\n",
    "precision, recall, fbeta_score, support = precision_recall_fscore_support(ts_ans, pred)\n",
    "conf_mat = confusion_matrix(ts_ans, pred)\n",
    "print(\"Accuracy = \", accuracy)\n",
    "print(\"Confusion Matrix\")\n",
    "print(\"{0}\".format(metrics.confusion_matrix(ts_ans, pred)))\n",
    "print(\"\")\n",
    "print(\"Classification Report\")\n",
    "print(metrics.classification_report(ts_ans, pred))"
   ]
  },
  {
   "cell_type": "code",
   "execution_count": 30,
   "metadata": {
    "colab": {},
    "colab_type": "code",
    "id": "MKmXpPoXdidO"
   },
   "outputs": [],
   "source": [
    "# # testbed Version\n",
    "\n",
    "\n",
    "# def create_model(hidden_layers = 1, neurons =1, init_mode = 'uniform', activation = 'elu'):\n",
    "#     model = Sequential()\n",
    "#     model.add(Dense(neurons, input_dim=len(tr_data.T), kernel_initializer=init_mode, activation=activation))\n",
    "\n",
    "#     for i in range(hidden_layers):\n",
    "        \n",
    "#         model.add(Dense(neurons, kernel_initializer=init_mode))\n",
    "#         model.add(BatchNormalization())\n",
    "#         model.add(Activation(activation))\n",
    "#         model.add(Dropout(0.2))\n",
    "  \n",
    "#     if class_count == 2:  \n",
    "#         model.add(Dense(1,activation='sigmoid'))\n",
    "#         model.compile(loss='binary_crossentropy', optimizer='adam', metrics=['accuracy'])\n",
    "#     elif class_count != 2:\n",
    "#         model.add(Dense(class_count-1, activation='softmax'))\n",
    "#         model.compile(loss='sparse_categorical_crossentropy', optimizer='adam', metrics=['accuracy'])\n",
    "\n",
    "#     return model\n",
    "\n",
    "\n",
    "# hidden_layers = [5, 10]\n",
    "# neurons = [32, 64]\n",
    "# activation = ['elu']\n",
    "# init_mode = ['he_uniform']\n",
    "\n",
    "# keras_model = KerasClassifier(build_fn=create_model, epochs=4, batch_size=4)\n",
    "\n",
    "# param_grid = dict(hidden_layers = hidden_layers, neurons = neurons, init_mode = init_mode, activation = activation)\n",
    "# grid = GridSearchCV(estimator=keras_model, param_grid=param_grid, n_jobs= -1, cv=2)"
   ]
  },
  {
   "cell_type": "code",
   "execution_count": null,
   "metadata": {
    "colab": {},
    "colab_type": "code",
    "id": "1pNmP5gQVTsZ"
   },
   "outputs": [],
   "source": []
  }
 ],
 "metadata": {
  "accelerator": "GPU",
  "colab": {
   "collapsed_sections": [],
   "name": "pima_indian_diabetes.ipynb",
   "provenance": [],
   "version": "0.3.2"
  },
  "kernelspec": {
   "display_name": "Python 3",
   "language": "python",
   "name": "python3"
  },
  "language_info": {
   "codemirror_mode": {
    "name": "ipython",
    "version": 3
   },
   "file_extension": ".py",
   "mimetype": "text/x-python",
   "name": "python",
   "nbconvert_exporter": "python",
   "pygments_lexer": "ipython3",
   "version": "3.7.3"
  }
 },
 "nbformat": 4,
 "nbformat_minor": 1
}
