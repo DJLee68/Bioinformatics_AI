{
 "cells": [
  {
   "cell_type": "code",
   "execution_count": 1,
   "metadata": {
    "colab": {},
    "colab_type": "code",
    "id": "mL7zvImn9Fbf"
   },
   "outputs": [],
   "source": [
    "import numpy as np\n",
    "import pandas as pd\n",
    "from sklearn.preprocessing import MinMaxScaler\n",
    "from sklearn.preprocessing import StandardScaler\n",
    "from sklearn.model_selection import train_test_split"
   ]
  },
  {
   "cell_type": "code",
   "execution_count": 2,
   "metadata": {},
   "outputs": [],
   "source": [
    "data = pd.read_excel('ILPD.data.xlsx')"
   ]
  },
  {
   "cell_type": "code",
   "execution_count": 3,
   "metadata": {},
   "outputs": [],
   "source": [
    "df_train, df_test = train_test_split(data, test_size=0.3, random_state=42)"
   ]
  },
  {
   "cell_type": "code",
   "execution_count": 4,
   "metadata": {},
   "outputs": [],
   "source": [
    "train = df_train\n",
    "test = df_test"
   ]
  },
  {
   "cell_type": "code",
   "execution_count": 5,
   "metadata": {},
   "outputs": [
    {
     "data": {
      "text/plain": [
       "(408, 11)"
      ]
     },
     "execution_count": 5,
     "metadata": {},
     "output_type": "execute_result"
    }
   ],
   "source": [
    "train.shape"
   ]
  },
  {
   "cell_type": "code",
   "execution_count": 6,
   "metadata": {
    "colab": {
     "base_uri": "https://localhost:8080/",
     "height": 34
    },
    "colab_type": "code",
    "executionInfo": {
     "elapsed": 516,
     "status": "ok",
     "timestamp": 1562058530714,
     "user": {
      "displayName": "이동재",
      "photoUrl": "",
      "userId": "12052501428717228434"
     },
     "user_tz": -540
    },
    "id": "t8pTzpUVcq9z",
    "outputId": "f6d4f95b-36f9-4a7f-eddf-ef67301f6e4c"
   },
   "outputs": [
    {
     "data": {
      "text/plain": [
       "(175, 11)"
      ]
     },
     "execution_count": 6,
     "metadata": {},
     "output_type": "execute_result"
    }
   ],
   "source": [
    "test.shape"
   ]
  },
  {
   "cell_type": "code",
   "execution_count": 7,
   "metadata": {
    "scrolled": true
   },
   "outputs": [
    {
     "data": {
      "text/html": [
       "<div>\n",
       "<style scoped>\n",
       "    .dataframe tbody tr th:only-of-type {\n",
       "        vertical-align: middle;\n",
       "    }\n",
       "\n",
       "    .dataframe tbody tr th {\n",
       "        vertical-align: top;\n",
       "    }\n",
       "\n",
       "    .dataframe thead th {\n",
       "        text-align: right;\n",
       "    }\n",
       "</style>\n",
       "<table border=\"1\" class=\"dataframe\">\n",
       "  <thead>\n",
       "    <tr style=\"text-align: right;\">\n",
       "      <th></th>\n",
       "      <th>Age</th>\n",
       "      <th>Gender</th>\n",
       "      <th>Total Bilirubin</th>\n",
       "      <th>Direct Bilirubin</th>\n",
       "      <th>Alkphos</th>\n",
       "      <th>Sgpt</th>\n",
       "      <th>Sgot</th>\n",
       "      <th>TP</th>\n",
       "      <th>ALB</th>\n",
       "      <th>Ratio Albumin and Globulin</th>\n",
       "      <th>labeled by the experts</th>\n",
       "    </tr>\n",
       "  </thead>\n",
       "  <tbody>\n",
       "    <tr>\n",
       "      <th>count</th>\n",
       "      <td>408.000000</td>\n",
       "      <td>408.000000</td>\n",
       "      <td>408.000000</td>\n",
       "      <td>408.000000</td>\n",
       "      <td>408.000000</td>\n",
       "      <td>408.000000</td>\n",
       "      <td>408.000000</td>\n",
       "      <td>408.000000</td>\n",
       "      <td>408.000000</td>\n",
       "      <td>406.00000</td>\n",
       "      <td>408.000000</td>\n",
       "    </tr>\n",
       "    <tr>\n",
       "      <th>mean</th>\n",
       "      <td>44.360294</td>\n",
       "      <td>0.774510</td>\n",
       "      <td>3.390196</td>\n",
       "      <td>1.502451</td>\n",
       "      <td>282.345588</td>\n",
       "      <td>77.664216</td>\n",
       "      <td>107.960784</td>\n",
       "      <td>6.518382</td>\n",
       "      <td>3.162745</td>\n",
       "      <td>0.95931</td>\n",
       "      <td>1.294118</td>\n",
       "    </tr>\n",
       "    <tr>\n",
       "      <th>std</th>\n",
       "      <td>15.570718</td>\n",
       "      <td>0.418418</td>\n",
       "      <td>6.628247</td>\n",
       "      <td>2.879657</td>\n",
       "      <td>229.397642</td>\n",
       "      <td>172.565260</td>\n",
       "      <td>290.960341</td>\n",
       "      <td>1.103927</td>\n",
       "      <td>0.804126</td>\n",
       "      <td>0.33420</td>\n",
       "      <td>0.456205</td>\n",
       "    </tr>\n",
       "    <tr>\n",
       "      <th>min</th>\n",
       "      <td>8.000000</td>\n",
       "      <td>0.000000</td>\n",
       "      <td>0.400000</td>\n",
       "      <td>0.100000</td>\n",
       "      <td>63.000000</td>\n",
       "      <td>10.000000</td>\n",
       "      <td>11.000000</td>\n",
       "      <td>2.700000</td>\n",
       "      <td>0.900000</td>\n",
       "      <td>0.30000</td>\n",
       "      <td>1.000000</td>\n",
       "    </tr>\n",
       "    <tr>\n",
       "      <th>25%</th>\n",
       "      <td>32.750000</td>\n",
       "      <td>1.000000</td>\n",
       "      <td>0.800000</td>\n",
       "      <td>0.200000</td>\n",
       "      <td>173.000000</td>\n",
       "      <td>24.000000</td>\n",
       "      <td>25.750000</td>\n",
       "      <td>5.800000</td>\n",
       "      <td>2.600000</td>\n",
       "      <td>0.71000</td>\n",
       "      <td>1.000000</td>\n",
       "    </tr>\n",
       "    <tr>\n",
       "      <th>50%</th>\n",
       "      <td>45.000000</td>\n",
       "      <td>1.000000</td>\n",
       "      <td>1.000000</td>\n",
       "      <td>0.300000</td>\n",
       "      <td>206.000000</td>\n",
       "      <td>36.000000</td>\n",
       "      <td>42.500000</td>\n",
       "      <td>6.600000</td>\n",
       "      <td>3.100000</td>\n",
       "      <td>1.00000</td>\n",
       "      <td>1.000000</td>\n",
       "    </tr>\n",
       "    <tr>\n",
       "      <th>75%</th>\n",
       "      <td>56.000000</td>\n",
       "      <td>1.000000</td>\n",
       "      <td>2.600000</td>\n",
       "      <td>1.300000</td>\n",
       "      <td>298.000000</td>\n",
       "      <td>60.000000</td>\n",
       "      <td>88.000000</td>\n",
       "      <td>7.200000</td>\n",
       "      <td>3.800000</td>\n",
       "      <td>1.10000</td>\n",
       "      <td>2.000000</td>\n",
       "    </tr>\n",
       "    <tr>\n",
       "      <th>max</th>\n",
       "      <td>85.000000</td>\n",
       "      <td>1.000000</td>\n",
       "      <td>75.000000</td>\n",
       "      <td>19.700000</td>\n",
       "      <td>2110.000000</td>\n",
       "      <td>1680.000000</td>\n",
       "      <td>4929.000000</td>\n",
       "      <td>9.600000</td>\n",
       "      <td>5.500000</td>\n",
       "      <td>2.80000</td>\n",
       "      <td>2.000000</td>\n",
       "    </tr>\n",
       "  </tbody>\n",
       "</table>\n",
       "</div>"
      ],
      "text/plain": [
       "              Age      Gender  Total Bilirubin  Direct Bilirubin      Alkphos  \\\n",
       "count  408.000000  408.000000       408.000000        408.000000   408.000000   \n",
       "mean    44.360294    0.774510         3.390196          1.502451   282.345588   \n",
       "std     15.570718    0.418418         6.628247          2.879657   229.397642   \n",
       "min      8.000000    0.000000         0.400000          0.100000    63.000000   \n",
       "25%     32.750000    1.000000         0.800000          0.200000   173.000000   \n",
       "50%     45.000000    1.000000         1.000000          0.300000   206.000000   \n",
       "75%     56.000000    1.000000         2.600000          1.300000   298.000000   \n",
       "max     85.000000    1.000000        75.000000         19.700000  2110.000000   \n",
       "\n",
       "              Sgpt         Sgot          TP         ALB  \\\n",
       "count   408.000000   408.000000  408.000000  408.000000   \n",
       "mean     77.664216   107.960784    6.518382    3.162745   \n",
       "std     172.565260   290.960341    1.103927    0.804126   \n",
       "min      10.000000    11.000000    2.700000    0.900000   \n",
       "25%      24.000000    25.750000    5.800000    2.600000   \n",
       "50%      36.000000    42.500000    6.600000    3.100000   \n",
       "75%      60.000000    88.000000    7.200000    3.800000   \n",
       "max    1680.000000  4929.000000    9.600000    5.500000   \n",
       "\n",
       "       Ratio Albumin and Globulin  labeled by the experts  \n",
       "count                   406.00000              408.000000  \n",
       "mean                      0.95931                1.294118  \n",
       "std                       0.33420                0.456205  \n",
       "min                       0.30000                1.000000  \n",
       "25%                       0.71000                1.000000  \n",
       "50%                       1.00000                1.000000  \n",
       "75%                       1.10000                2.000000  \n",
       "max                       2.80000                2.000000  "
      ]
     },
     "execution_count": 7,
     "metadata": {},
     "output_type": "execute_result"
    }
   ],
   "source": [
    "train.describe()"
   ]
  },
  {
   "cell_type": "code",
   "execution_count": 8,
   "metadata": {},
   "outputs": [],
   "source": [
    "import seaborn\n",
    "import matplotlib.pyplot as plt\n",
    "\n",
    "def plot_df(df, name):\n",
    "  corr = df[df.columns].corr()\n",
    "  mask = np.zeros_like(corr, dtype=np.bool)\n",
    "  mask[np.triu_indices_from(mask)] = True\n",
    "  plt.figure(figsize=(20, 15))\n",
    "  seaborn.set(font_scale=1.2)\n",
    "  seaborn.heatmap(corr, mask=mask, center=0, annot=True,\n",
    "    square=True, linewidths=3, alpha=0.7)\n",
    "  plt.title(name)"
   ]
  },
  {
   "cell_type": "code",
   "execution_count": 9,
   "metadata": {},
   "outputs": [
    {
     "data": {
      "image/png": "[encoded data removed]",
      "text/plain": [
       "<Figure size 1440x1080 with 2 Axes>"
      ]
     },
     "metadata": {
      "needs_background": "light"
     },
     "output_type": "display_data"
    }
   ],
   "source": [
    "plot_df(train, 'Train')"
   ]
  },
  {
   "cell_type": "code",
   "execution_count": 10,
   "metadata": {
    "colab": {
     "base_uri": "https://localhost:8080/",
     "height": 140
    },
    "colab_type": "code",
    "executionInfo": {
     "elapsed": 569,
     "status": "ok",
     "timestamp": 1562058531066,
     "user": {
      "displayName": "이동재",
      "photoUrl": "",
      "userId": "12052501428717228434"
     },
     "user_tz": -540
    },
    "id": "NSjRKJko-Dcv",
    "outputId": "0e325a9e-d3d5-47a6-9df5-82990cb06120"
   },
   "outputs": [
    {
     "name": "stdout",
     "output_type": "stream",
     "text": [
      "Index(['Age', 'Gender', 'Total Bilirubin', 'Direct Bilirubin', 'Alkphos',\n",
      "       'Sgpt', 'Sgot', 'TP', 'ALB', 'Ratio Albumin and Globulin',\n",
      "       'labeled by the experts'],\n",
      "      dtype='object')\n"
     ]
    }
   ],
   "source": [
    "print(train.columns)"
   ]
  },
  {
   "cell_type": "code",
   "execution_count": 11,
   "metadata": {
    "colab": {
     "base_uri": "https://localhost:8080/",
     "height": 34
    },
    "colab_type": "code",
    "executionInfo": {
     "elapsed": 5744,
     "status": "ok",
     "timestamp": 1562058536952,
     "user": {
      "displayName": "이동재",
      "photoUrl": "",
      "userId": "12052501428717228434"
     },
     "user_tz": -540
    },
    "id": "7VLAjJXm-xpB",
    "outputId": "ec729c6a-a9cb-42d4-f774-0e1567be953f"
   },
   "outputs": [
    {
     "name": "stdout",
     "output_type": "stream",
     "text": [
      "Chooese the class: labeled by the experts\n"
     ]
    }
   ],
   "source": [
    "class_name = input(\"Chooese the class: \")"
   ]
  },
  {
   "cell_type": "code",
   "execution_count": 12,
   "metadata": {
    "colab": {},
    "colab_type": "code",
    "id": "DgUHg4ED3uWO"
   },
   "outputs": [],
   "source": [
    "minmax_scaler = MinMaxScaler()\n",
    "standard_scaler = StandardScaler()"
   ]
  },
  {
   "cell_type": "code",
   "execution_count": 13,
   "metadata": {
    "colab": {
     "base_uri": "https://localhost:8080/",
     "height": 34
    },
    "colab_type": "code",
    "executionInfo": {
     "elapsed": 1164,
     "status": "ok",
     "timestamp": 1562058540201,
     "user": {
      "displayName": "이동재",
      "photoUrl": "",
      "userId": "12052501428717228434"
     },
     "user_tz": -540
    },
    "id": "6x0W2mAC-wgw",
    "outputId": "a933e1c2-64cc-449e-cc01-a66b8b1b4a92"
   },
   "outputs": [
    {
     "name": "stdout",
     "output_type": "stream",
     "text": [
      "2\n"
     ]
    }
   ],
   "source": [
    "tr_ans = train[class_name]\n",
    "ts_ans = test[class_name]\n",
    "class_count = len(tr_ans.unique())\n",
    "print(class_count)"
   ]
  },
  {
   "cell_type": "code",
   "execution_count": 14,
   "metadata": {
    "colab": {},
    "colab_type": "code",
    "id": "WnKjCuCfAguo"
   },
   "outputs": [],
   "source": [
    "tr_data = train.drop([class_name], axis=1)\n",
    "ts_data = test.drop([class_name], axis=1)"
   ]
  },
  {
   "cell_type": "code",
   "execution_count": 15,
   "metadata": {
    "colab": {
     "base_uri": "https://localhost:8080/",
     "height": 72
    },
    "colab_type": "code",
    "executionInfo": {
     "elapsed": 723,
     "status": "ok",
     "timestamp": 1562058547225,
     "user": {
      "displayName": "이동재",
      "photoUrl": "",
      "userId": "12052501428717228434"
     },
     "user_tz": -540
    },
    "id": "lmjXkka1Lucy",
    "outputId": "7edc3aec-a0fa-4a33-d09b-1931e2d1fb27"
   },
   "outputs": [],
   "source": [
    "# #결측치 채우기 if 결측치가 0일 경우\n",
    "\n",
    "# from sklearn.impute import SimpleImputer\n",
    "\n",
    "# rep_0 = SimpleImputer(missing_values=0, strategy=\"mean\")\n",
    "\n",
    "# tr_data = rep_0.fit_transform(tr_data)\n",
    "# ts_data = rep_0.fit_transform(ts_data)"
   ]
  },
  {
   "cell_type": "code",
   "execution_count": 16,
   "metadata": {
    "colab": {},
    "colab_type": "code",
    "id": "Z_Yw0W7eAmgw"
   },
   "outputs": [
    {
     "name": "stderr",
     "output_type": "stream",
     "text": [
      "C:\\Users\\LeeDongJae\\AppData\\Local\\Continuum\\anaconda3\\lib\\site-packages\\sklearn\\preprocessing\\data.py:334: DataConversionWarning: Data with input dtype int64, float64 were all converted to float64 by MinMaxScaler.\n",
      "  return self.partial_fit(X, y)\n",
      "C:\\Users\\LeeDongJae\\AppData\\Local\\Continuum\\anaconda3\\lib\\site-packages\\sklearn\\preprocessing\\data.py:645: DataConversionWarning: Data with input dtype int64, float64 were all converted to float64 by StandardScaler.\n",
      "  return self.partial_fit(X, y)\n",
      "C:\\Users\\LeeDongJae\\AppData\\Local\\Continuum\\anaconda3\\lib\\site-packages\\sklearn\\base.py:464: DataConversionWarning: Data with input dtype int64, float64 were all converted to float64 by StandardScaler.\n",
      "  return self.fit(X, **fit_params).transform(X)\n",
      "C:\\Users\\LeeDongJae\\AppData\\Local\\Continuum\\anaconda3\\lib\\site-packages\\ipykernel_launcher.py:4: DataConversionWarning: Data with input dtype int64, float64 were all converted to float64 by StandardScaler.\n",
      "  after removing the cwd from sys.path.\n"
     ]
    }
   ],
   "source": [
    "mm_tr_data = minmax_scaler.fit_transform(tr_data)\n",
    "mm_ts_data = minmax_scaler.transform(ts_data)\n",
    "std_tr_data = standard_scaler.fit_transform(tr_data)\n",
    "std_ts_data = standard_scaler.transform(ts_data)\n",
    "tr_ans = np.array(tr_ans)\n",
    "ts_ans = np.array(ts_ans)"
   ]
  },
  {
   "cell_type": "code",
   "execution_count": 17,
   "metadata": {
    "colab": {
     "base_uri": "https://localhost:8080/",
     "height": 386
    },
    "colab_type": "code",
    "executionInfo": {
     "elapsed": 712,
     "status": "ok",
     "timestamp": 1562058552746,
     "user": {
      "displayName": "이동재",
      "photoUrl": "",
      "userId": "12052501428717228434"
     },
     "user_tz": -540
    },
    "id": "Rz4XG4MMOHGu",
    "outputId": "70f5c169-28bc-4010-ae83-14209e83d278"
   },
   "outputs": [
    {
     "data": {
      "text/plain": [
       "array([1, 1, 1, 1, 1, 1, 2, 2, 1, 1, 1, 1, 1, 1, 2, 2, 1, 2, 1, 1, 1, 1,\n",
       "       1, 2, 1, 1, 1, 2, 1, 1, 1, 1, 1, 1, 2, 2, 1, 1, 2, 1, 2, 1, 1, 1,\n",
       "       1, 1, 1, 1, 2, 2, 1, 2, 1, 2, 2, 1, 1, 1, 1, 2, 1, 1, 1, 1, 1, 1,\n",
       "       1, 2, 1, 1, 2, 2, 2, 1, 1, 1, 1, 2, 2, 1, 1, 1, 2, 1, 1, 1, 1, 1,\n",
       "       1, 1, 2, 2, 2, 2, 1, 1, 1, 1, 1, 2, 1, 2, 1, 1, 1, 1, 1, 1, 1, 1,\n",
       "       1, 1, 1, 1, 2, 1, 1, 1, 1, 1, 1, 1, 1, 2, 1, 2, 2, 2, 1, 2, 1, 1,\n",
       "       1, 1, 1, 1, 1, 1, 1, 1, 1, 1, 1, 1, 2, 2, 1, 2, 2, 1, 2, 1, 2, 1,\n",
       "       1, 2, 2, 2, 1, 1, 1, 2, 1, 2, 2, 1, 1, 1, 2, 2, 2, 1, 2, 1, 1, 1,\n",
       "       2, 1, 1, 1, 2, 1, 2, 1, 2, 2, 1, 2, 1, 1, 1, 1, 2, 2, 1, 2, 2, 1,\n",
       "       1, 1, 1, 1, 2, 1, 1, 1, 2, 1, 1, 2, 1, 2, 1, 1, 1, 1, 2, 1, 1, 2,\n",
       "       1, 1, 1, 1, 1, 1, 1, 2, 2, 1, 2, 1, 2, 1, 1, 1, 2, 1, 1, 1, 1, 1,\n",
       "       1, 1, 2, 1, 2, 1, 2, 2, 1, 1, 2, 1, 1, 1, 1, 1, 2, 1, 2, 1, 1, 2,\n",
       "       1, 1, 1, 1, 1, 1, 2, 1, 1, 1, 1, 1, 2, 2, 1, 1, 1, 1, 1, 1, 2, 1,\n",
       "       1, 1, 1, 1, 1, 2, 1, 1, 2, 1, 2, 1, 1, 1, 2, 1, 2, 1, 2, 2, 1, 2,\n",
       "       1, 1, 1, 1, 2, 1, 1, 1, 1, 1, 1, 2, 1, 1, 2, 1, 1, 1, 2, 2, 2, 2,\n",
       "       1, 2, 1, 1, 1, 1, 2, 1, 2, 1, 1, 1, 1, 1, 1, 1, 1, 1, 1, 1, 1, 2,\n",
       "       1, 1, 1, 1, 1, 2, 1, 1, 2, 2, 1, 1, 1, 1, 1, 2, 1, 1, 1, 1, 1, 1,\n",
       "       1, 1, 2, 2, 2, 1, 2, 2, 1, 2, 1, 1, 2, 1, 1, 2, 2, 1, 1, 1, 1, 1,\n",
       "       1, 1, 1, 1, 2, 1, 1, 1, 2, 1, 2, 1], dtype=int64)"
      ]
     },
     "execution_count": 17,
     "metadata": {},
     "output_type": "execute_result"
    }
   ],
   "source": [
    "tr_ans"
   ]
  },
  {
   "cell_type": "code",
   "execution_count": 18,
   "metadata": {
    "colab": {},
    "colab_type": "code",
    "id": "F0_cae6XOksE"
   },
   "outputs": [],
   "source": [
    "import tensorflow as tf\n",
    "from sklearn.model_selection import GridSearchCV\n",
    "from sklearn.model_selection import RandomizedSearchCV\n",
    "from sklearn.model_selection import ParameterGrid\n",
    "from sklearn.metrics import precision_score, recall_score, f1_score, accuracy_score\n",
    "from tensorflow.keras.wrappers.scikit_learn import KerasClassifier\n",
    "from tensorflow.keras.models import Sequential\n",
    "from tensorflow.keras.layers import Dense\n",
    "from tensorflow.keras.layers import Activation\n",
    "from tensorflow.keras.layers import BatchNormalization\n",
    "from tensorflow.keras.layers import Dropout\n",
    "from sklearn import metrics\n",
    "from tensorflow.keras.regularizers import l2\n"
   ]
  },
  {
   "cell_type": "code",
   "execution_count": 19,
   "metadata": {
    "colab": {},
    "colab_type": "code",
    "id": "K8FW6kBo7uPs"
   },
   "outputs": [],
   "source": [
    "from sklearn.metrics import precision_recall_fscore_support\n",
    "from sklearn.metrics import confusion_matrix"
   ]
  },
  {
   "cell_type": "code",
   "execution_count": 20,
   "metadata": {
    "colab": {},
    "colab_type": "code",
    "id": "CHrsnp0Tq8CA"
   },
   "outputs": [],
   "source": [
    "# real Version\n",
    "\n",
    "\n",
    "def create_model(hidden_layers = 1, neurons =1, init_mode = 'uniform', \n",
    "                 activation = 'elu', kernel_regularizer=l2(0.001)):\n",
    "  model = Sequential()\n",
    "  model.add(Dense(neurons, input_dim=len(mm_tr_data.T), kernel_initializer=init_mode, activation=activation))\n",
    "  for i in range(hidden_layers):\n",
    "    \n",
    "    model.add(Dense(neurons, kernel_initializer=init_mode, kernel_regularizer=kernel_regularizer))\n",
    "    model.add(BatchNormalization())\n",
    "    model.add(Activation(activation))\n",
    "    model.add(Dropout(0.2))\n",
    "  \n",
    "  if class_count == 2:  \n",
    "    model.add(Dense(1,activation='sigmoid'))\n",
    "    model.compile(loss='binary_crossentropy', optimizer='adam', metrics=['accuracy'])\n",
    "  elif class_count != 2:\n",
    "    model.add(Dense(class_count, activation='softmax'))\n",
    "    model.compile(loss='sparse_categorical_crossentropy', optimizer='adam', metrics=['accuracy'])\n",
    "  return model"
   ]
  },
  {
   "cell_type": "code",
   "execution_count": 21,
   "metadata": {},
   "outputs": [],
   "source": [
    "keras_model = KerasClassifier(build_fn=create_model, epochs=64, batch_size=16)"
   ]
  },
  {
   "cell_type": "code",
   "execution_count": 22,
   "metadata": {},
   "outputs": [],
   "source": [
    "leaky_relu = tf.nn.leaky_relu\n",
    "hidden_layers = [4,8,16]\n",
    "neurons = [32, 64, 128]\n",
    "activation = ['elu', leaky_relu]\n",
    "init_mode = ['glorot_uniform', 'he_normal']"
   ]
  },
  {
   "cell_type": "code",
   "execution_count": 23,
   "metadata": {},
   "outputs": [],
   "source": [
    "param_grid = dict(hidden_layers = hidden_layers, neurons = neurons, init_mode = init_mode, activation = activation)\n",
    "minmax_grid = GridSearchCV(estimator=keras_model, param_grid=param_grid, n_jobs= -1, cv=3)\n",
    "std_grid = GridSearchCV(estimator=keras_model, param_grid=param_grid, n_jobs= -1, cv=3)"
   ]
  },
  {
   "cell_type": "code",
   "execution_count": null,
   "metadata": {},
   "outputs": [],
   "source": [
    "import warnings\n",
    "warnings.filterwarnings(\"ignore\")"
   ]
  },
  {
   "cell_type": "code",
   "execution_count": null,
   "metadata": {},
   "outputs": [],
   "source": [
    "minmax_grid_result = minmax_grid.fit(mm_tr_data, tr_ans)"
   ]
  },
  {
   "cell_type": "code",
   "execution_count": null,
   "metadata": {},
   "outputs": [],
   "source": [
    "std_grid_result = std_grid.fit(std_tr_data, tr_ans)"
   ]
  },
  {
   "cell_type": "code",
   "execution_count": null,
   "metadata": {
    "scrolled": true
   },
   "outputs": [],
   "source": [
    "print(\"Scaler = minmax\")\n",
    "print(\"Best: %f using %s\" % (minmax_grid_result.best_score_, minmax_grid_result.best_params_))\n",
    "means = minmax_grid_result.cv_results_['mean_test_score']\n",
    "stds = minmax_grid_result.cv_results_['std_test_score']\n",
    "params = minmax_grid_result.cv_results_['params']\n",
    "\n",
    "for mean, stdev, param in zip(means, stds, params):\n",
    "    print(\"%f (%f) with: %r\" % (mean, stdev, param))"
   ]
  },
  {
   "cell_type": "code",
   "execution_count": null,
   "metadata": {},
   "outputs": [],
   "source": [
    "print(\"Scaler = standard\")\n",
    "print(\"Best: %f using %s\" % (std_grid_result.best_score_, std_grid_result.best_params_))\n",
    "means = std_grid_result.cv_results_['mean_test_score']\n",
    "stds = std_grid_result.cv_results_['std_test_score']\n",
    "params = std_grid_result.cv_results_['params']\n",
    "\n",
    "for mean, stdev, param in zip(means, stds, params):\n",
    "    print(\"%f (%f) with: %r\" % (mean, stdev, param))"
   ]
  },
  {
   "cell_type": "code",
   "execution_count": null,
   "metadata": {},
   "outputs": [],
   "source": [
    "pred = minmax_grid.predict(mm_ts_data)\n",
    "\n",
    "accuracy = accuracy_score(pred, ts_ans)\n",
    "ts_ans = ts_ans.astype(float)\n",
    "precision, recall, fbeta_score, support = precision_recall_fscore_support(ts_ans, pred)\n",
    "conf_mat = confusion_matrix(ts_ans, pred)\n",
    "print(\"Accuracy = \", accuracy)\n",
    "print(\"Confusion Matrix\")\n",
    "print(\"{0}\".format(metrics.confusion_matrix(ts_ans, pred)))\n",
    "print(\"\")\n",
    "print(\"Classification Report\")\n",
    "print(metrics.classification_report(ts_ans, pred))"
   ]
  },
  {
   "cell_type": "code",
   "execution_count": null,
   "metadata": {},
   "outputs": [],
   "source": [
    "pred"
   ]
  },
  {
   "cell_type": "code",
   "execution_count": null,
   "metadata": {},
   "outputs": [],
   "source": [
    "pred = std_grid.predict(std_ts_data)\n",
    "\n",
    "accuracy = accuracy_score(pred, ts_ans)\n",
    "ts_ans = ts_ans.astype(float)\n",
    "precision, recall, fbeta_score, support = precision_recall_fscore_support(ts_ans, pred)\n",
    "conf_mat = confusion_matrix(ts_ans, pred)\n",
    "print(\"Accuracy = \", accuracy)\n",
    "print(\"Confusion Matrix\")\n",
    "print(\"{0}\".format(metrics.confusion_matrix(ts_ans, pred)))\n",
    "print(\"\")\n",
    "print(\"Classification Report\")\n",
    "print(metrics.classification_report(ts_ans, pred))"
   ]
  },
  {
   "cell_type": "code",
   "execution_count": null,
   "metadata": {},
   "outputs": [],
   "source": [
    "pred"
   ]
  },
  {
   "cell_type": "code",
   "execution_count": null,
   "metadata": {
    "colab": {},
    "colab_type": "code",
    "id": "MKmXpPoXdidO"
   },
   "outputs": [],
   "source": [
    "# # testbed Version\n",
    "\n",
    "\n",
    "# def create_model(hidden_layers = 1, neurons =1, init_mode = 'uniform', activation = 'elu'):\n",
    "#     model = Sequential()\n",
    "#     model.add(Dense(neurons, input_dim=len(tr_data.T), kernel_initializer=init_mode, activation=activation))\n",
    "\n",
    "#     for i in range(hidden_layers):\n",
    "        \n",
    "#         model.add(Dense(neurons, kernel_initializer=init_mode))\n",
    "#         model.add(BatchNormalization())\n",
    "#         model.add(Activation(activation))\n",
    "#         model.add(Dropout(0.2))\n",
    "  \n",
    "#     if class_count == 2:  \n",
    "#         model.add(Dense(1,activation='sigmoid'))\n",
    "#         model.compile(loss='binary_crossentropy', optimizer='adam', metrics=['accuracy'])\n",
    "#     elif class_count != 2:\n",
    "#         model.add(Dense(class_count-1, activation='softmax'))\n",
    "#         model.compile(loss='sparse_categorical_crossentropy', optimizer='adam', metrics=['accuracy'])\n",
    "\n",
    "#     return model\n",
    "\n",
    "\n",
    "# hidden_layers = [5, 10]\n",
    "# neurons = [32, 64]\n",
    "# activation = ['elu']\n",
    "# init_mode = ['he_uniform']\n",
    "\n",
    "# keras_model = KerasClassifier(build_fn=create_model, epochs=4, batch_size=4)\n",
    "\n",
    "# param_grid = dict(hidden_layers = hidden_layers, neurons = neurons, init_mode = init_mode, activation = activation)\n",
    "# grid = GridSearchCV(estimator=keras_model, param_grid=param_grid, n_jobs= -1, cv=2)"
   ]
  },
  {
   "cell_type": "code",
   "execution_count": null,
   "metadata": {
    "colab": {},
    "colab_type": "code",
    "id": "1pNmP5gQVTsZ"
   },
   "outputs": [],
   "source": []
  }
 ],
 "metadata": {
  "accelerator": "GPU",
  "colab": {
   "collapsed_sections": [],
   "name": "pima_indian_diabetes.ipynb",
   "provenance": [],
   "version": "0.3.2"
  },
  "kernelspec": {
   "display_name": "Python 3",
   "language": "python",
   "name": "python3"
  },
  "language_info": {
   "codemirror_mode": {
    "name": "ipython",
    "version": 3
   },
   "file_extension": ".py",
   "mimetype": "text/x-python",
   "name": "python",
   "nbconvert_exporter": "python",
   "pygments_lexer": "ipython3",
   "version": "3.7.3"
  }
 },
 "nbformat": 4,
 "nbformat_minor": 1
}
